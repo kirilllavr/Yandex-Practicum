{
 "cells": [
  {
   "cell_type": "markdown",
   "metadata": {},
   "source": [
    "# Проект \"Принятие решений в бизнесе\""
   ]
  },
  {
   "cell_type": "markdown",
   "metadata": {},
   "source": [
    "# Введение\n",
    "\n",
    "Мы получили данные интренет-магазина о посетителях и покупателях. Основной задачей является повышение выручки интернет-магазина. Для этого будет проведена приоритизация гипотез и А/В тест."
   ]
  },
  {
   "cell_type": "markdown",
   "metadata": {},
   "source": [
    "<a id=\"ogl\"></a>\n",
    "## Оглавление\n",
    "\n",
    "* [Оглавление](#ogl)\n",
    "* [Загрузка данных и подготовка их к анализу](#setup)\n",
    "* [Приоритизация гипотез](#analisys_data)\n",
    "    * [Применяем фреймворк ICE для приоритизации гипотез](#analisys_data1)\n",
    "    * [Применяем фреймворк RICE для приоритизации гипотез](#analisys_data2)\n",
    "* [Анализ А/В теста](#ab)\n",
    "    * [График кумулятивной выручки по группам](#ab1)\n",
    "    * [График кумулятивного среднего чека по группам](#ab2)\n",
    "    * [График относительного изменения кумулятивного среднего чека группы В к группе А](#ab3)\n",
    "    * [График кумулятивного среднего количества заказов на посетителя по группам](#ab4)\n",
    "    * [График относительного изменения кумулятивного среднего количества заказов на посетителя группы В к группе А](#ab5)\n",
    "    * [Точечный график количества заказов на пользователя](#ab6)\n",
    "    * [95-й и 99-й перцентили количества заказов на пользователя](#ab7)\n",
    "    * [Точечный график стоимостей заказов](#ab8)\n",
    "    * [95-й и 99-й перцентили стоимости заказов](#ab9)\n",
    "    * [Статистическая значимость различий в среднем количестве заказов на посетителя между группами по \"сырым\" данным](#ab10)\n",
    "    * [Статистическая значимость различий в среднем чеке заказа между группами по \"сырым\" данным](#ab11)\n",
    "    * [Статистическая значимость различий в среднем количестве заказов на посетителя между группами по \"очищенным\" данным](#ab12)\n",
    "    * [Статистическая значимость различий в среднем чеке заказа между группами по \"очищенным\" данным](#ab13)\n",
    "* [Заключение](#vivod)"
   ]
  },
  {
   "cell_type": "markdown",
   "metadata": {},
   "source": [
    "<a id=\"setup\"></a>\n",
    "## Загрузка данных и подготовка их к анализу"
   ]
  },
  {
   "cell_type": "code",
   "execution_count": 1,
   "metadata": {},
   "outputs": [],
   "source": [
    "import pandas as pd\n",
    "import matplotlib.pyplot as plt\n",
    "import seaborn as sns\n",
    "import scipy.stats as stats\n",
    "from scipy import stats as st\n",
    "import numpy as np\n",
    "import datetime as dt\n",
    "pd.options.display.max_colwidth = 200\n",
    "import warnings\n",
    "warnings.simplefilter('ignore')"
   ]
  },
  {
   "cell_type": "code",
   "execution_count": 2,
   "metadata": {},
   "outputs": [],
   "source": [
    "hypothesis = pd.read_csv('D:/Datasets/6. Принятие решений в бизнесе/hypothesis.csv')\n",
    "orders = pd.read_csv('D:/Datasets/6. Принятие решений в бизнесе/orders.csv')\n",
    "visitors = pd.read_csv('D:/Datasets/6. Принятие решений в бизнесе/visitors.csv')"
   ]
  },
  {
   "cell_type": "code",
   "execution_count": 3,
   "metadata": {},
   "outputs": [
    {
     "name": "stdout",
     "output_type": "stream",
     "text": [
      "<class 'pandas.core.frame.DataFrame'>\n",
      "RangeIndex: 9 entries, 0 to 8\n",
      "Data columns (total 5 columns):\n",
      " #   Column      Non-Null Count  Dtype \n",
      "---  ------      --------------  ----- \n",
      " 0   Hypothesis  9 non-null      object\n",
      " 1   Reach       9 non-null      int64 \n",
      " 2   Impact      9 non-null      int64 \n",
      " 3   Confidence  9 non-null      int64 \n",
      " 4   Efforts     9 non-null      int64 \n",
      "dtypes: int64(4), object(1)\n",
      "memory usage: 492.0+ bytes\n"
     ]
    }
   ],
   "source": [
    "hypothesis.info()"
   ]
  },
  {
   "cell_type": "code",
   "execution_count": 4,
   "metadata": {},
   "outputs": [
    {
     "data": {
      "text/html": [
       "<div>\n",
       "<style scoped>\n",
       "    .dataframe tbody tr th:only-of-type {\n",
       "        vertical-align: middle;\n",
       "    }\n",
       "\n",
       "    .dataframe tbody tr th {\n",
       "        vertical-align: top;\n",
       "    }\n",
       "\n",
       "    .dataframe thead th {\n",
       "        text-align: right;\n",
       "    }\n",
       "</style>\n",
       "<table border=\"1\" class=\"dataframe\">\n",
       "  <thead>\n",
       "    <tr style=\"text-align: right;\">\n",
       "      <th></th>\n",
       "      <th>Hypothesis</th>\n",
       "      <th>Reach</th>\n",
       "      <th>Impact</th>\n",
       "      <th>Confidence</th>\n",
       "      <th>Efforts</th>\n",
       "    </tr>\n",
       "  </thead>\n",
       "  <tbody>\n",
       "    <tr>\n",
       "      <th>0</th>\n",
       "      <td>Добавить два новых канала привлечения трафика, что позволит привлекать на 30% больше пользователей</td>\n",
       "      <td>3</td>\n",
       "      <td>10</td>\n",
       "      <td>8</td>\n",
       "      <td>6</td>\n",
       "    </tr>\n",
       "    <tr>\n",
       "      <th>1</th>\n",
       "      <td>Запустить собственную службу доставки, что сократит срок доставки заказов</td>\n",
       "      <td>2</td>\n",
       "      <td>5</td>\n",
       "      <td>4</td>\n",
       "      <td>10</td>\n",
       "    </tr>\n",
       "    <tr>\n",
       "      <th>2</th>\n",
       "      <td>Добавить блоки рекомендаций товаров на сайт интернет магазина, чтобы повысить конверсию и средний чек заказа</td>\n",
       "      <td>8</td>\n",
       "      <td>3</td>\n",
       "      <td>7</td>\n",
       "      <td>3</td>\n",
       "    </tr>\n",
       "    <tr>\n",
       "      <th>3</th>\n",
       "      <td>Изменить структура категорий, что увеличит конверсию, т.к. пользователи быстрее найдут нужный товар</td>\n",
       "      <td>8</td>\n",
       "      <td>3</td>\n",
       "      <td>3</td>\n",
       "      <td>8</td>\n",
       "    </tr>\n",
       "    <tr>\n",
       "      <th>4</th>\n",
       "      <td>Изменить цвет фона главной страницы, чтобы увеличить вовлеченность пользователей</td>\n",
       "      <td>3</td>\n",
       "      <td>1</td>\n",
       "      <td>1</td>\n",
       "      <td>1</td>\n",
       "    </tr>\n",
       "    <tr>\n",
       "      <th>5</th>\n",
       "      <td>Добавить страницу отзывов клиентов о магазине, что позволит увеличить количество заказов</td>\n",
       "      <td>3</td>\n",
       "      <td>2</td>\n",
       "      <td>2</td>\n",
       "      <td>3</td>\n",
       "    </tr>\n",
       "    <tr>\n",
       "      <th>6</th>\n",
       "      <td>Показать на главной странице баннеры с актуальными акциями и распродажами, чтобы увеличить конверсию</td>\n",
       "      <td>5</td>\n",
       "      <td>3</td>\n",
       "      <td>8</td>\n",
       "      <td>3</td>\n",
       "    </tr>\n",
       "    <tr>\n",
       "      <th>7</th>\n",
       "      <td>Добавить форму подписки на все основные страницы, чтобы собрать базу клиентов для email-рассылок</td>\n",
       "      <td>10</td>\n",
       "      <td>7</td>\n",
       "      <td>8</td>\n",
       "      <td>5</td>\n",
       "    </tr>\n",
       "    <tr>\n",
       "      <th>8</th>\n",
       "      <td>Запустить акцию, дающую скидку на товар в день рождения</td>\n",
       "      <td>1</td>\n",
       "      <td>9</td>\n",
       "      <td>9</td>\n",
       "      <td>5</td>\n",
       "    </tr>\n",
       "  </tbody>\n",
       "</table>\n",
       "</div>"
      ],
      "text/plain": [
       "                                                                                                     Hypothesis  \\\n",
       "0            Добавить два новых канала привлечения трафика, что позволит привлекать на 30% больше пользователей   \n",
       "1                                     Запустить собственную службу доставки, что сократит срок доставки заказов   \n",
       "2  Добавить блоки рекомендаций товаров на сайт интернет магазина, чтобы повысить конверсию и средний чек заказа   \n",
       "3           Изменить структура категорий, что увеличит конверсию, т.к. пользователи быстрее найдут нужный товар   \n",
       "4                              Изменить цвет фона главной страницы, чтобы увеличить вовлеченность пользователей   \n",
       "5                      Добавить страницу отзывов клиентов о магазине, что позволит увеличить количество заказов   \n",
       "6          Показать на главной странице баннеры с актуальными акциями и распродажами, чтобы увеличить конверсию   \n",
       "7              Добавить форму подписки на все основные страницы, чтобы собрать базу клиентов для email-рассылок   \n",
       "8                                                       Запустить акцию, дающую скидку на товар в день рождения   \n",
       "\n",
       "   Reach  Impact  Confidence  Efforts  \n",
       "0      3      10           8        6  \n",
       "1      2       5           4       10  \n",
       "2      8       3           7        3  \n",
       "3      8       3           3        8  \n",
       "4      3       1           1        1  \n",
       "5      3       2           2        3  \n",
       "6      5       3           8        3  \n",
       "7     10       7           8        5  \n",
       "8      1       9           9        5  "
      ]
     },
     "execution_count": 4,
     "metadata": {},
     "output_type": "execute_result"
    }
   ],
   "source": [
    "hypothesis.head(10)"
   ]
  },
  {
   "cell_type": "code",
   "execution_count": 5,
   "metadata": {},
   "outputs": [],
   "source": [
    "# переименуем столбцы\n",
    "hypothesis = hypothesis.rename(columns={\n",
    "    'Hypothesis': 'hypothesis', \n",
    "    'Reach': 'reach', \n",
    "    'Impact': 'impact',\n",
    "    'Confidence': 'confidence',\n",
    "    'Efforts': 'efforts'\n",
    "})"
   ]
  },
  {
   "cell_type": "code",
   "execution_count": 6,
   "metadata": {},
   "outputs": [
    {
     "name": "stdout",
     "output_type": "stream",
     "text": [
      "Количество пропусков:\n",
      "hypothesis    0\n",
      "reach         0\n",
      "impact        0\n",
      "confidence    0\n",
      "efforts       0\n",
      "dtype: int64\n",
      "Количество дубликатов:\n",
      "0\n"
     ]
    }
   ],
   "source": [
    "print('Количество пропусков:', hypothesis.isna().sum(), 'Количество дубликатов:', hypothesis.duplicated().sum(), sep='\\n')"
   ]
  },
  {
   "cell_type": "code",
   "execution_count": 7,
   "metadata": {},
   "outputs": [
    {
     "name": "stdout",
     "output_type": "stream",
     "text": [
      "<class 'pandas.core.frame.DataFrame'>\n",
      "RangeIndex: 1197 entries, 0 to 1196\n",
      "Data columns (total 5 columns):\n",
      " #   Column         Non-Null Count  Dtype \n",
      "---  ------         --------------  ----- \n",
      " 0   transactionId  1197 non-null   int64 \n",
      " 1   visitorId      1197 non-null   int64 \n",
      " 2   date           1197 non-null   object\n",
      " 3   revenue        1197 non-null   int64 \n",
      " 4   group          1197 non-null   object\n",
      "dtypes: int64(3), object(2)\n",
      "memory usage: 46.9+ KB\n"
     ]
    }
   ],
   "source": [
    "orders.info()"
   ]
  },
  {
   "cell_type": "code",
   "execution_count": 8,
   "metadata": {},
   "outputs": [
    {
     "data": {
      "text/html": [
       "<div>\n",
       "<style scoped>\n",
       "    .dataframe tbody tr th:only-of-type {\n",
       "        vertical-align: middle;\n",
       "    }\n",
       "\n",
       "    .dataframe tbody tr th {\n",
       "        vertical-align: top;\n",
       "    }\n",
       "\n",
       "    .dataframe thead th {\n",
       "        text-align: right;\n",
       "    }\n",
       "</style>\n",
       "<table border=\"1\" class=\"dataframe\">\n",
       "  <thead>\n",
       "    <tr style=\"text-align: right;\">\n",
       "      <th></th>\n",
       "      <th>transactionId</th>\n",
       "      <th>visitorId</th>\n",
       "      <th>date</th>\n",
       "      <th>revenue</th>\n",
       "      <th>group</th>\n",
       "    </tr>\n",
       "  </thead>\n",
       "  <tbody>\n",
       "    <tr>\n",
       "      <th>0</th>\n",
       "      <td>3667963787</td>\n",
       "      <td>3312258926</td>\n",
       "      <td>2019-08-15</td>\n",
       "      <td>1650</td>\n",
       "      <td>B</td>\n",
       "    </tr>\n",
       "    <tr>\n",
       "      <th>1</th>\n",
       "      <td>2804400009</td>\n",
       "      <td>3642806036</td>\n",
       "      <td>2019-08-15</td>\n",
       "      <td>730</td>\n",
       "      <td>B</td>\n",
       "    </tr>\n",
       "    <tr>\n",
       "      <th>2</th>\n",
       "      <td>2961555356</td>\n",
       "      <td>4069496402</td>\n",
       "      <td>2019-08-15</td>\n",
       "      <td>400</td>\n",
       "      <td>A</td>\n",
       "    </tr>\n",
       "    <tr>\n",
       "      <th>3</th>\n",
       "      <td>3797467345</td>\n",
       "      <td>1196621759</td>\n",
       "      <td>2019-08-15</td>\n",
       "      <td>9759</td>\n",
       "      <td>B</td>\n",
       "    </tr>\n",
       "    <tr>\n",
       "      <th>4</th>\n",
       "      <td>2282983706</td>\n",
       "      <td>2322279887</td>\n",
       "      <td>2019-08-15</td>\n",
       "      <td>2308</td>\n",
       "      <td>B</td>\n",
       "    </tr>\n",
       "    <tr>\n",
       "      <th>5</th>\n",
       "      <td>182168103</td>\n",
       "      <td>935554773</td>\n",
       "      <td>2019-08-15</td>\n",
       "      <td>2210</td>\n",
       "      <td>B</td>\n",
       "    </tr>\n",
       "    <tr>\n",
       "      <th>6</th>\n",
       "      <td>398296753</td>\n",
       "      <td>2900797465</td>\n",
       "      <td>2019-08-15</td>\n",
       "      <td>1860</td>\n",
       "      <td>B</td>\n",
       "    </tr>\n",
       "    <tr>\n",
       "      <th>7</th>\n",
       "      <td>2626614568</td>\n",
       "      <td>78758296</td>\n",
       "      <td>2019-08-15</td>\n",
       "      <td>1044</td>\n",
       "      <td>A</td>\n",
       "    </tr>\n",
       "    <tr>\n",
       "      <th>8</th>\n",
       "      <td>1576988021</td>\n",
       "      <td>295230930</td>\n",
       "      <td>2019-08-15</td>\n",
       "      <td>13710</td>\n",
       "      <td>A</td>\n",
       "    </tr>\n",
       "    <tr>\n",
       "      <th>9</th>\n",
       "      <td>1506739906</td>\n",
       "      <td>1882260405</td>\n",
       "      <td>2019-08-15</td>\n",
       "      <td>1855</td>\n",
       "      <td>B</td>\n",
       "    </tr>\n",
       "  </tbody>\n",
       "</table>\n",
       "</div>"
      ],
      "text/plain": [
       "   transactionId   visitorId        date  revenue group\n",
       "0     3667963787  3312258926  2019-08-15     1650     B\n",
       "1     2804400009  3642806036  2019-08-15      730     B\n",
       "2     2961555356  4069496402  2019-08-15      400     A\n",
       "3     3797467345  1196621759  2019-08-15     9759     B\n",
       "4     2282983706  2322279887  2019-08-15     2308     B\n",
       "5      182168103   935554773  2019-08-15     2210     B\n",
       "6      398296753  2900797465  2019-08-15     1860     B\n",
       "7     2626614568    78758296  2019-08-15     1044     A\n",
       "8     1576988021   295230930  2019-08-15    13710     A\n",
       "9     1506739906  1882260405  2019-08-15     1855     B"
      ]
     },
     "execution_count": 8,
     "metadata": {},
     "output_type": "execute_result"
    }
   ],
   "source": [
    "orders.head(10)"
   ]
  },
  {
   "cell_type": "code",
   "execution_count": 9,
   "metadata": {},
   "outputs": [
    {
     "name": "stdout",
     "output_type": "stream",
     "text": [
      "Количество пропусков:\n",
      "transactionId    0\n",
      "visitorId        0\n",
      "date             0\n",
      "revenue          0\n",
      "group            0\n",
      "dtype: int64\n",
      "Количество дубликатов:\n",
      "0\n"
     ]
    }
   ],
   "source": [
    "print('Количество пропусков:', orders.isna().sum(), 'Количество дубликатов:', orders.duplicated().sum(), sep='\\n')"
   ]
  },
  {
   "cell_type": "code",
   "execution_count": 10,
   "metadata": {},
   "outputs": [
    {
     "name": "stdout",
     "output_type": "stream",
     "text": [
      "<class 'pandas.core.frame.DataFrame'>\n",
      "RangeIndex: 62 entries, 0 to 61\n",
      "Data columns (total 3 columns):\n",
      " #   Column    Non-Null Count  Dtype \n",
      "---  ------    --------------  ----- \n",
      " 0   date      62 non-null     object\n",
      " 1   group     62 non-null     object\n",
      " 2   visitors  62 non-null     int64 \n",
      "dtypes: int64(1), object(2)\n",
      "memory usage: 1.6+ KB\n"
     ]
    }
   ],
   "source": [
    "visitors.info()"
   ]
  },
  {
   "cell_type": "code",
   "execution_count": 11,
   "metadata": {},
   "outputs": [
    {
     "data": {
      "text/html": [
       "<div>\n",
       "<style scoped>\n",
       "    .dataframe tbody tr th:only-of-type {\n",
       "        vertical-align: middle;\n",
       "    }\n",
       "\n",
       "    .dataframe tbody tr th {\n",
       "        vertical-align: top;\n",
       "    }\n",
       "\n",
       "    .dataframe thead th {\n",
       "        text-align: right;\n",
       "    }\n",
       "</style>\n",
       "<table border=\"1\" class=\"dataframe\">\n",
       "  <thead>\n",
       "    <tr style=\"text-align: right;\">\n",
       "      <th></th>\n",
       "      <th>date</th>\n",
       "      <th>group</th>\n",
       "      <th>visitors</th>\n",
       "    </tr>\n",
       "  </thead>\n",
       "  <tbody>\n",
       "    <tr>\n",
       "      <th>0</th>\n",
       "      <td>2019-08-01</td>\n",
       "      <td>A</td>\n",
       "      <td>719</td>\n",
       "    </tr>\n",
       "    <tr>\n",
       "      <th>1</th>\n",
       "      <td>2019-08-02</td>\n",
       "      <td>A</td>\n",
       "      <td>619</td>\n",
       "    </tr>\n",
       "    <tr>\n",
       "      <th>2</th>\n",
       "      <td>2019-08-03</td>\n",
       "      <td>A</td>\n",
       "      <td>507</td>\n",
       "    </tr>\n",
       "    <tr>\n",
       "      <th>3</th>\n",
       "      <td>2019-08-04</td>\n",
       "      <td>A</td>\n",
       "      <td>717</td>\n",
       "    </tr>\n",
       "    <tr>\n",
       "      <th>4</th>\n",
       "      <td>2019-08-05</td>\n",
       "      <td>A</td>\n",
       "      <td>756</td>\n",
       "    </tr>\n",
       "    <tr>\n",
       "      <th>5</th>\n",
       "      <td>2019-08-06</td>\n",
       "      <td>A</td>\n",
       "      <td>667</td>\n",
       "    </tr>\n",
       "    <tr>\n",
       "      <th>6</th>\n",
       "      <td>2019-08-07</td>\n",
       "      <td>A</td>\n",
       "      <td>644</td>\n",
       "    </tr>\n",
       "    <tr>\n",
       "      <th>7</th>\n",
       "      <td>2019-08-08</td>\n",
       "      <td>A</td>\n",
       "      <td>610</td>\n",
       "    </tr>\n",
       "    <tr>\n",
       "      <th>8</th>\n",
       "      <td>2019-08-09</td>\n",
       "      <td>A</td>\n",
       "      <td>617</td>\n",
       "    </tr>\n",
       "    <tr>\n",
       "      <th>9</th>\n",
       "      <td>2019-08-10</td>\n",
       "      <td>A</td>\n",
       "      <td>406</td>\n",
       "    </tr>\n",
       "  </tbody>\n",
       "</table>\n",
       "</div>"
      ],
      "text/plain": [
       "         date group  visitors\n",
       "0  2019-08-01     A       719\n",
       "1  2019-08-02     A       619\n",
       "2  2019-08-03     A       507\n",
       "3  2019-08-04     A       717\n",
       "4  2019-08-05     A       756\n",
       "5  2019-08-06     A       667\n",
       "6  2019-08-07     A       644\n",
       "7  2019-08-08     A       610\n",
       "8  2019-08-09     A       617\n",
       "9  2019-08-10     A       406"
      ]
     },
     "execution_count": 11,
     "metadata": {},
     "output_type": "execute_result"
    }
   ],
   "source": [
    "visitors.head(10)"
   ]
  },
  {
   "cell_type": "code",
   "execution_count": 12,
   "metadata": {},
   "outputs": [
    {
     "name": "stdout",
     "output_type": "stream",
     "text": [
      "Количество пропусков:\n",
      "date        0\n",
      "group       0\n",
      "visitors    0\n",
      "dtype: int64\n",
      "Количество дубликатов:\n",
      "0\n"
     ]
    }
   ],
   "source": [
    "print('Количество пропусков:', visitors.isna().sum(), 'Количество дубликатов:', visitors.duplicated().sum(), sep='\\n')"
   ]
  },
  {
   "cell_type": "markdown",
   "metadata": {},
   "source": [
    "Вывод:\n",
    "\n",
    "В нашем распоряжении три таблицы: hypothesis с гипотезами, orders и visitors с данными о заказах и количестве пользователей. Проведена предобработка данных. Пропусков и дубликатов не найдено."
   ]
  },
  {
   "cell_type": "markdown",
   "metadata": {},
   "source": [
    "<a id=\"analisys_data\"></a>\n",
    "##  Приоритизация гипотез"
   ]
  },
  {
   "cell_type": "markdown",
   "metadata": {},
   "source": [
    "<a id=\"analisys_data1\"></a>\n",
    "### Применяем фреймворк ICE для приоритизации гипотез"
   ]
  },
  {
   "cell_type": "code",
   "execution_count": 13,
   "metadata": {},
   "outputs": [
    {
     "data": {
      "text/html": [
       "<div>\n",
       "<style scoped>\n",
       "    .dataframe tbody tr th:only-of-type {\n",
       "        vertical-align: middle;\n",
       "    }\n",
       "\n",
       "    .dataframe tbody tr th {\n",
       "        vertical-align: top;\n",
       "    }\n",
       "\n",
       "    .dataframe thead th {\n",
       "        text-align: right;\n",
       "    }\n",
       "</style>\n",
       "<table border=\"1\" class=\"dataframe\">\n",
       "  <thead>\n",
       "    <tr style=\"text-align: right;\">\n",
       "      <th></th>\n",
       "      <th>hypothesis</th>\n",
       "      <th>reach</th>\n",
       "      <th>impact</th>\n",
       "      <th>confidence</th>\n",
       "      <th>efforts</th>\n",
       "    </tr>\n",
       "  </thead>\n",
       "  <tbody>\n",
       "    <tr>\n",
       "      <th>0</th>\n",
       "      <td>Добавить два новых канала привлечения трафика, что позволит привлекать на 30% больше пользователей</td>\n",
       "      <td>3</td>\n",
       "      <td>10</td>\n",
       "      <td>8</td>\n",
       "      <td>6</td>\n",
       "    </tr>\n",
       "    <tr>\n",
       "      <th>1</th>\n",
       "      <td>Запустить собственную службу доставки, что сократит срок доставки заказов</td>\n",
       "      <td>2</td>\n",
       "      <td>5</td>\n",
       "      <td>4</td>\n",
       "      <td>10</td>\n",
       "    </tr>\n",
       "    <tr>\n",
       "      <th>2</th>\n",
       "      <td>Добавить блоки рекомендаций товаров на сайт интернет магазина, чтобы повысить конверсию и средний чек заказа</td>\n",
       "      <td>8</td>\n",
       "      <td>3</td>\n",
       "      <td>7</td>\n",
       "      <td>3</td>\n",
       "    </tr>\n",
       "    <tr>\n",
       "      <th>3</th>\n",
       "      <td>Изменить структура категорий, что увеличит конверсию, т.к. пользователи быстрее найдут нужный товар</td>\n",
       "      <td>8</td>\n",
       "      <td>3</td>\n",
       "      <td>3</td>\n",
       "      <td>8</td>\n",
       "    </tr>\n",
       "    <tr>\n",
       "      <th>4</th>\n",
       "      <td>Изменить цвет фона главной страницы, чтобы увеличить вовлеченность пользователей</td>\n",
       "      <td>3</td>\n",
       "      <td>1</td>\n",
       "      <td>1</td>\n",
       "      <td>1</td>\n",
       "    </tr>\n",
       "    <tr>\n",
       "      <th>5</th>\n",
       "      <td>Добавить страницу отзывов клиентов о магазине, что позволит увеличить количество заказов</td>\n",
       "      <td>3</td>\n",
       "      <td>2</td>\n",
       "      <td>2</td>\n",
       "      <td>3</td>\n",
       "    </tr>\n",
       "    <tr>\n",
       "      <th>6</th>\n",
       "      <td>Показать на главной странице баннеры с актуальными акциями и распродажами, чтобы увеличить конверсию</td>\n",
       "      <td>5</td>\n",
       "      <td>3</td>\n",
       "      <td>8</td>\n",
       "      <td>3</td>\n",
       "    </tr>\n",
       "    <tr>\n",
       "      <th>7</th>\n",
       "      <td>Добавить форму подписки на все основные страницы, чтобы собрать базу клиентов для email-рассылок</td>\n",
       "      <td>10</td>\n",
       "      <td>7</td>\n",
       "      <td>8</td>\n",
       "      <td>5</td>\n",
       "    </tr>\n",
       "    <tr>\n",
       "      <th>8</th>\n",
       "      <td>Запустить акцию, дающую скидку на товар в день рождения</td>\n",
       "      <td>1</td>\n",
       "      <td>9</td>\n",
       "      <td>9</td>\n",
       "      <td>5</td>\n",
       "    </tr>\n",
       "  </tbody>\n",
       "</table>\n",
       "</div>"
      ],
      "text/plain": [
       "                                                                                                     hypothesis  \\\n",
       "0            Добавить два новых канала привлечения трафика, что позволит привлекать на 30% больше пользователей   \n",
       "1                                     Запустить собственную службу доставки, что сократит срок доставки заказов   \n",
       "2  Добавить блоки рекомендаций товаров на сайт интернет магазина, чтобы повысить конверсию и средний чек заказа   \n",
       "3           Изменить структура категорий, что увеличит конверсию, т.к. пользователи быстрее найдут нужный товар   \n",
       "4                              Изменить цвет фона главной страницы, чтобы увеличить вовлеченность пользователей   \n",
       "5                      Добавить страницу отзывов клиентов о магазине, что позволит увеличить количество заказов   \n",
       "6          Показать на главной странице баннеры с актуальными акциями и распродажами, чтобы увеличить конверсию   \n",
       "7              Добавить форму подписки на все основные страницы, чтобы собрать базу клиентов для email-рассылок   \n",
       "8                                                       Запустить акцию, дающую скидку на товар в день рождения   \n",
       "\n",
       "   reach  impact  confidence  efforts  \n",
       "0      3      10           8        6  \n",
       "1      2       5           4       10  \n",
       "2      8       3           7        3  \n",
       "3      8       3           3        8  \n",
       "4      3       1           1        1  \n",
       "5      3       2           2        3  \n",
       "6      5       3           8        3  \n",
       "7     10       7           8        5  \n",
       "8      1       9           9        5  "
      ]
     },
     "execution_count": 13,
     "metadata": {},
     "output_type": "execute_result"
    }
   ],
   "source": [
    "hypothesis.head(10)"
   ]
  },
  {
   "attachments": {
    "Image%20%281%29.png": {
     "image/png": "[encoded data removed]"
    }
   },
   "cell_type": "markdown",
   "metadata": {},
   "source": [
    "Фреймворк ICE рассчитывается по формуле:\n",
    "![Image%20%281%29.png](attachment:Image%20%281%29.png)"
   ]
  },
  {
   "cell_type": "code",
   "execution_count": 14,
   "metadata": {},
   "outputs": [
    {
     "name": "stdout",
     "output_type": "stream",
     "text": [
      "                                                                                                     hypothesis  \\\n",
      "8                                                       Запустить акцию, дающую скидку на товар в день рождения   \n",
      "0            Добавить два новых канала привлечения трафика, что позволит привлекать на 30% больше пользователей   \n",
      "7              Добавить форму подписки на все основные страницы, чтобы собрать базу клиентов для email-рассылок   \n",
      "6          Показать на главной странице баннеры с актуальными акциями и распродажами, чтобы увеличить конверсию   \n",
      "2  Добавить блоки рекомендаций товаров на сайт интернет магазина, чтобы повысить конверсию и средний чек заказа   \n",
      "1                                     Запустить собственную службу доставки, что сократит срок доставки заказов   \n",
      "5                      Добавить страницу отзывов клиентов о магазине, что позволит увеличить количество заказов   \n",
      "3           Изменить структура категорий, что увеличит конверсию, т.к. пользователи быстрее найдут нужный товар   \n",
      "4                              Изменить цвет фона главной страницы, чтобы увеличить вовлеченность пользователей   \n",
      "\n",
      "         ICE  \n",
      "8  16.200000  \n",
      "0  13.333333  \n",
      "7  11.200000  \n",
      "6   8.000000  \n",
      "2   7.000000  \n",
      "1   2.000000  \n",
      "5   1.333333  \n",
      "3   1.125000  \n",
      "4   1.000000  \n"
     ]
    }
   ],
   "source": [
    "hypothesis['ICE'] = (hypothesis['impact'] * hypothesis['confidence']) / hypothesis['efforts']\n",
    "print(hypothesis[['hypothesis','ICE']].sort_values(by='ICE', ascending=False))"
   ]
  },
  {
   "cell_type": "code",
   "execution_count": 15,
   "metadata": {},
   "outputs": [
    {
     "data": {
      "image/png": "[encoded data removed]",
      "text/plain": [
       "<Figure size 640x480 with 1 Axes>"
      ]
     },
     "metadata": {},
     "output_type": "display_data"
    }
   ],
   "source": [
    "ax = hypothesis[['hypothesis', 'ICE']].set_index('hypothesis').sort_values('ICE', ascending=True).plot(kind='barh')\n",
    "ax.set_xlabel('Приоритет')\n",
    "ax.set_ylabel('Гипотеза')\n",
    "ax.set_title('ICE')\n",
    "plt.show()"
   ]
  },
  {
   "cell_type": "markdown",
   "metadata": {},
   "source": [
    "<a id=\"analisys_data2\"></a>\n",
    "### Применяем фреймворк RICE для приоритизации гипотез"
   ]
  },
  {
   "attachments": {
    "Image%20%282%29.png": {
     "image/png": "[encoded data removed]"
    }
   },
   "cell_type": "markdown",
   "metadata": {},
   "source": [
    "Фреймворк RICE рассчитывается по формуле:\n",
    "![Image%20%282%29.png](attachment:Image%20%282%29.png)"
   ]
  },
  {
   "cell_type": "code",
   "execution_count": 16,
   "metadata": {},
   "outputs": [
    {
     "name": "stdout",
     "output_type": "stream",
     "text": [
      "                                                                                                     hypothesis  \\\n",
      "7              Добавить форму подписки на все основные страницы, чтобы собрать базу клиентов для email-рассылок   \n",
      "2  Добавить блоки рекомендаций товаров на сайт интернет магазина, чтобы повысить конверсию и средний чек заказа   \n",
      "0            Добавить два новых канала привлечения трафика, что позволит привлекать на 30% больше пользователей   \n",
      "6          Показать на главной странице баннеры с актуальными акциями и распродажами, чтобы увеличить конверсию   \n",
      "8                                                       Запустить акцию, дающую скидку на товар в день рождения   \n",
      "3           Изменить структура категорий, что увеличит конверсию, т.к. пользователи быстрее найдут нужный товар   \n",
      "1                                     Запустить собственную службу доставки, что сократит срок доставки заказов   \n",
      "5                      Добавить страницу отзывов клиентов о магазине, что позволит увеличить количество заказов   \n",
      "4                              Изменить цвет фона главной страницы, чтобы увеличить вовлеченность пользователей   \n",
      "\n",
      "    RICE  \n",
      "7  112.0  \n",
      "2   56.0  \n",
      "0   40.0  \n",
      "6   40.0  \n",
      "8   16.2  \n",
      "3    9.0  \n",
      "1    4.0  \n",
      "5    4.0  \n",
      "4    3.0  \n"
     ]
    }
   ],
   "source": [
    "hypothesis['RICE'] = (hypothesis['reach'] * hypothesis['impact'] * hypothesis['confidence']) / hypothesis['efforts']\n",
    "\n",
    "print(hypothesis[['hypothesis','RICE']].sort_values(by='RICE', ascending=False))"
   ]
  },
  {
   "cell_type": "code",
   "execution_count": 17,
   "metadata": {},
   "outputs": [
    {
     "data": {
      "image/png": "[encoded data removed]",
      "text/plain": [
       "<Figure size 640x480 with 1 Axes>"
      ]
     },
     "metadata": {},
     "output_type": "display_data"
    }
   ],
   "source": [
    "ax = hypothesis[['hypothesis', 'RICE']].set_index('hypothesis').sort_values('RICE', ascending=True).plot(kind='barh')\n",
    "ax.set_xlabel('Приоритет')\n",
    "ax.set_ylabel('Гипотеза')\n",
    "ax.set_title('RICE')\n",
    "plt.show()"
   ]
  },
  {
   "cell_type": "markdown",
   "metadata": {},
   "source": [
    "Вывод:\n",
    "при применении фреймворка RICE изменился топ перспективных гипотез, так как метод RICE учитывает охват аудитории. То есть выявились гипотезы, которые охватят больше аудитории."
   ]
  },
  {
   "cell_type": "markdown",
   "metadata": {},
   "source": [
    "<a id=\"ab\"></a>\n",
    "## Анализ A/B-теста"
   ]
  },
  {
   "cell_type": "code",
   "execution_count": 18,
   "metadata": {},
   "outputs": [],
   "source": [
    "visitorsA = orders[orders['group']=='A']['visitorId']\n",
    "visitorsB = orders[orders['group']=='B']['visitorId']"
   ]
  },
  {
   "cell_type": "code",
   "execution_count": 19,
   "metadata": {},
   "outputs": [],
   "source": [
    "# выделям пользователей, которые попали в обе группы\n",
    "visitorsAB = orders.loc[orders['visitorId'].isin(visitorsA) & orders['visitorId'].isin(visitorsB),'visitorId'].unique()"
   ]
  },
  {
   "cell_type": "code",
   "execution_count": 20,
   "metadata": {},
   "outputs": [],
   "source": [
    "allusers = orders['visitorId'].unique()"
   ]
  },
  {
   "cell_type": "code",
   "execution_count": 21,
   "metadata": {},
   "outputs": [
    {
     "data": {
      "text/plain": [
       "1031"
      ]
     },
     "execution_count": 21,
     "metadata": {},
     "output_type": "execute_result"
    }
   ],
   "source": [
    "len(allusers)"
   ]
  },
  {
   "cell_type": "code",
   "execution_count": 22,
   "metadata": {},
   "outputs": [
    {
     "name": "stdout",
     "output_type": "stream",
     "text": [
      "Процент удаленных пользователей: 5.63%\n"
     ]
    }
   ],
   "source": [
    "# смотрим какой будет процент удаленных пользователей\n",
    "print('Процент удаленных пользователей:', \"{0:.2%}\".format(len(visitorsAB) / len(allusers)))"
   ]
  },
  {
   "cell_type": "code",
   "execution_count": 23,
   "metadata": {},
   "outputs": [],
   "source": [
    "# удаляем заказы пользователей, которые оказались в обеих группах\n",
    "filteredorders = orders[~orders['visitorId'].isin(visitorsAB)]"
   ]
  },
  {
   "cell_type": "code",
   "execution_count": 24,
   "metadata": {},
   "outputs": [
    {
     "name": "stdout",
     "output_type": "stream",
     "text": [
      "Процент удаленных заказов: 15.12%\n"
     ]
    }
   ],
   "source": [
    "# смотрим какой будет процент удаленных заказов\n",
    "print('Процент удаленных заказов:', \"{0:.2%}\".format((len(orders) - len(filteredorders)) / len(orders)))"
   ]
  },
  {
   "cell_type": "code",
   "execution_count": 25,
   "metadata": {},
   "outputs": [],
   "source": [
    "# Переводим столбцы с датами в нужный формат\n",
    "orders['date'] = orders['date'].map(\n",
    "   lambda x: dt.datetime.strptime(x, '%Y-%m-%d')\n",
    ")\n",
    "\n",
    "visitors['date'] = visitors['date'].map(\n",
    "    lambda x: dt.datetime.strptime(x, '%Y-%m-%d')\n",
    ")\n",
    "\n",
    "filteredorders['date'] = filteredorders['date'].map(\n",
    "   lambda x: dt.datetime.strptime(x, '%Y-%m-%d')\n",
    ")"
   ]
  },
  {
   "cell_type": "code",
   "execution_count": 26,
   "metadata": {},
   "outputs": [],
   "source": [
    "# создаем массив уникальных пар значений дат и групп теста\n",
    "datesGroups = filteredorders[['date','group']].drop_duplicates() "
   ]
  },
  {
   "cell_type": "code",
   "execution_count": 27,
   "metadata": {},
   "outputs": [],
   "source": [
    "# получаем агрегированные кумулятивные по дням данные о заказах \n",
    "ordersAggregated = datesGroups.apply(\n",
    "    lambda x: filteredorders[np.logical_and(filteredorders['date'] <= x['date'], filteredorders['group'] == x['group'])]\\\n",
    "    .agg({'date' : 'max', 'group' : 'max', 'transactionId' : 'nunique', 'visitorId' : 'nunique', 'revenue' : 'sum'}), \n",
    "    axis=1).sort_values(by=['date','group'])"
   ]
  },
  {
   "cell_type": "code",
   "execution_count": 28,
   "metadata": {},
   "outputs": [
    {
     "data": {
      "text/html": [
       "<div>\n",
       "<style scoped>\n",
       "    .dataframe tbody tr th:only-of-type {\n",
       "        vertical-align: middle;\n",
       "    }\n",
       "\n",
       "    .dataframe tbody tr th {\n",
       "        vertical-align: top;\n",
       "    }\n",
       "\n",
       "    .dataframe thead th {\n",
       "        text-align: right;\n",
       "    }\n",
       "</style>\n",
       "<table border=\"1\" class=\"dataframe\">\n",
       "  <thead>\n",
       "    <tr style=\"text-align: right;\">\n",
       "      <th></th>\n",
       "      <th>date</th>\n",
       "      <th>group</th>\n",
       "      <th>transactionId</th>\n",
       "      <th>visitorId</th>\n",
       "      <th>revenue</th>\n",
       "    </tr>\n",
       "  </thead>\n",
       "  <tbody>\n",
       "    <tr>\n",
       "      <th>55</th>\n",
       "      <td>2019-08-01</td>\n",
       "      <td>A</td>\n",
       "      <td>23</td>\n",
       "      <td>19</td>\n",
       "      <td>142779</td>\n",
       "    </tr>\n",
       "    <tr>\n",
       "      <th>66</th>\n",
       "      <td>2019-08-01</td>\n",
       "      <td>B</td>\n",
       "      <td>17</td>\n",
       "      <td>17</td>\n",
       "      <td>59758</td>\n",
       "    </tr>\n",
       "    <tr>\n",
       "      <th>175</th>\n",
       "      <td>2019-08-02</td>\n",
       "      <td>A</td>\n",
       "      <td>42</td>\n",
       "      <td>36</td>\n",
       "      <td>234381</td>\n",
       "    </tr>\n",
       "    <tr>\n",
       "      <th>173</th>\n",
       "      <td>2019-08-02</td>\n",
       "      <td>B</td>\n",
       "      <td>40</td>\n",
       "      <td>39</td>\n",
       "      <td>221801</td>\n",
       "    </tr>\n",
       "    <tr>\n",
       "      <th>291</th>\n",
       "      <td>2019-08-03</td>\n",
       "      <td>A</td>\n",
       "      <td>66</td>\n",
       "      <td>60</td>\n",
       "      <td>346854</td>\n",
       "    </tr>\n",
       "  </tbody>\n",
       "</table>\n",
       "</div>"
      ],
      "text/plain": [
       "          date group  transactionId  visitorId  revenue\n",
       "55  2019-08-01     A             23         19   142779\n",
       "66  2019-08-01     B             17         17    59758\n",
       "175 2019-08-02     A             42         36   234381\n",
       "173 2019-08-02     B             40         39   221801\n",
       "291 2019-08-03     A             66         60   346854"
      ]
     },
     "execution_count": 28,
     "metadata": {},
     "output_type": "execute_result"
    }
   ],
   "source": [
    "ordersAggregated.head(5)"
   ]
  },
  {
   "cell_type": "code",
   "execution_count": 29,
   "metadata": {},
   "outputs": [],
   "source": [
    "# получаем агрегированные кумулятивные по дням данные о посетителях интернет-магазина \n",
    "visitorsAggregated = datesGroups.apply(\n",
    "    lambda x: visitors[np.logical_and(visitors['date'] <= x['date'], visitors['group'] == x['group'])]\n",
    "    .agg({'date' : 'max', 'group' : 'max', 'visitors' : 'sum'}), axis=1).sort_values(by=['date','group'])"
   ]
  },
  {
   "cell_type": "code",
   "execution_count": 30,
   "metadata": {},
   "outputs": [
    {
     "data": {
      "text/html": [
       "<div>\n",
       "<style scoped>\n",
       "    .dataframe tbody tr th:only-of-type {\n",
       "        vertical-align: middle;\n",
       "    }\n",
       "\n",
       "    .dataframe tbody tr th {\n",
       "        vertical-align: top;\n",
       "    }\n",
       "\n",
       "    .dataframe thead th {\n",
       "        text-align: right;\n",
       "    }\n",
       "</style>\n",
       "<table border=\"1\" class=\"dataframe\">\n",
       "  <thead>\n",
       "    <tr style=\"text-align: right;\">\n",
       "      <th></th>\n",
       "      <th>date</th>\n",
       "      <th>group</th>\n",
       "      <th>visitors</th>\n",
       "    </tr>\n",
       "  </thead>\n",
       "  <tbody>\n",
       "    <tr>\n",
       "      <th>55</th>\n",
       "      <td>2019-08-01</td>\n",
       "      <td>A</td>\n",
       "      <td>719</td>\n",
       "    </tr>\n",
       "    <tr>\n",
       "      <th>66</th>\n",
       "      <td>2019-08-01</td>\n",
       "      <td>B</td>\n",
       "      <td>713</td>\n",
       "    </tr>\n",
       "    <tr>\n",
       "      <th>175</th>\n",
       "      <td>2019-08-02</td>\n",
       "      <td>A</td>\n",
       "      <td>1338</td>\n",
       "    </tr>\n",
       "    <tr>\n",
       "      <th>173</th>\n",
       "      <td>2019-08-02</td>\n",
       "      <td>B</td>\n",
       "      <td>1294</td>\n",
       "    </tr>\n",
       "    <tr>\n",
       "      <th>291</th>\n",
       "      <td>2019-08-03</td>\n",
       "      <td>A</td>\n",
       "      <td>1845</td>\n",
       "    </tr>\n",
       "  </tbody>\n",
       "</table>\n",
       "</div>"
      ],
      "text/plain": [
       "          date group  visitors\n",
       "55  2019-08-01     A       719\n",
       "66  2019-08-01     B       713\n",
       "175 2019-08-02     A      1338\n",
       "173 2019-08-02     B      1294\n",
       "291 2019-08-03     A      1845"
      ]
     },
     "execution_count": 30,
     "metadata": {},
     "output_type": "execute_result"
    }
   ],
   "source": [
    "visitorsAggregated.head(5)"
   ]
  },
  {
   "cell_type": "code",
   "execution_count": 31,
   "metadata": {},
   "outputs": [],
   "source": [
    "# объединяем кумулятивные данные в одной таблице и переименовываем столбцы\n",
    "cumulativeData = ordersAggregated.merge(visitorsAggregated, left_on=['date', 'group'], right_on=['date', 'group'])\n",
    "cumulativeData.columns = ['date', 'group', 'orders', 'buyers', 'revenue', 'visitors']"
   ]
  },
  {
   "cell_type": "code",
   "execution_count": 32,
   "metadata": {},
   "outputs": [
    {
     "data": {
      "text/html": [
       "<div>\n",
       "<style scoped>\n",
       "    .dataframe tbody tr th:only-of-type {\n",
       "        vertical-align: middle;\n",
       "    }\n",
       "\n",
       "    .dataframe tbody tr th {\n",
       "        vertical-align: top;\n",
       "    }\n",
       "\n",
       "    .dataframe thead th {\n",
       "        text-align: right;\n",
       "    }\n",
       "</style>\n",
       "<table border=\"1\" class=\"dataframe\">\n",
       "  <thead>\n",
       "    <tr style=\"text-align: right;\">\n",
       "      <th></th>\n",
       "      <th>date</th>\n",
       "      <th>group</th>\n",
       "      <th>orders</th>\n",
       "      <th>buyers</th>\n",
       "      <th>revenue</th>\n",
       "      <th>visitors</th>\n",
       "    </tr>\n",
       "  </thead>\n",
       "  <tbody>\n",
       "    <tr>\n",
       "      <th>0</th>\n",
       "      <td>2019-08-01</td>\n",
       "      <td>A</td>\n",
       "      <td>23</td>\n",
       "      <td>19</td>\n",
       "      <td>142779</td>\n",
       "      <td>719</td>\n",
       "    </tr>\n",
       "    <tr>\n",
       "      <th>1</th>\n",
       "      <td>2019-08-01</td>\n",
       "      <td>B</td>\n",
       "      <td>17</td>\n",
       "      <td>17</td>\n",
       "      <td>59758</td>\n",
       "      <td>713</td>\n",
       "    </tr>\n",
       "    <tr>\n",
       "      <th>2</th>\n",
       "      <td>2019-08-02</td>\n",
       "      <td>A</td>\n",
       "      <td>42</td>\n",
       "      <td>36</td>\n",
       "      <td>234381</td>\n",
       "      <td>1338</td>\n",
       "    </tr>\n",
       "    <tr>\n",
       "      <th>3</th>\n",
       "      <td>2019-08-02</td>\n",
       "      <td>B</td>\n",
       "      <td>40</td>\n",
       "      <td>39</td>\n",
       "      <td>221801</td>\n",
       "      <td>1294</td>\n",
       "    </tr>\n",
       "    <tr>\n",
       "      <th>4</th>\n",
       "      <td>2019-08-03</td>\n",
       "      <td>A</td>\n",
       "      <td>66</td>\n",
       "      <td>60</td>\n",
       "      <td>346854</td>\n",
       "      <td>1845</td>\n",
       "    </tr>\n",
       "  </tbody>\n",
       "</table>\n",
       "</div>"
      ],
      "text/plain": [
       "        date group  orders  buyers  revenue  visitors\n",
       "0 2019-08-01     A      23      19   142779       719\n",
       "1 2019-08-01     B      17      17    59758       713\n",
       "2 2019-08-02     A      42      36   234381      1338\n",
       "3 2019-08-02     B      40      39   221801      1294\n",
       "4 2019-08-03     A      66      60   346854      1845"
      ]
     },
     "execution_count": 32,
     "metadata": {},
     "output_type": "execute_result"
    }
   ],
   "source": [
    "cumulativeData.head(5)"
   ]
  },
  {
   "cell_type": "markdown",
   "metadata": {},
   "source": [
    "<a id=\"ab1\"></a>\n",
    "### График кумулятивной выручки по группам"
   ]
  },
  {
   "cell_type": "code",
   "execution_count": 33,
   "metadata": {},
   "outputs": [
    {
     "data": {
      "image/png": "[encoded data removed]",
      "text/plain": [
       "<Figure size 1200x500 with 1 Axes>"
      ]
     },
     "metadata": {},
     "output_type": "display_data"
    }
   ],
   "source": [
    "# датафрейм с кумулятивным количеством заказов и кумулятивной выручкой по дням в группе А\n",
    "cumulativeRevenueA = cumulativeData[cumulativeData['group']=='A'][['date','revenue', 'orders']]\n",
    "\n",
    "# датафрейм с кумулятивным количеством заказов и кумулятивной выручкой по дням в группе B\n",
    "cumulativeRevenueB = cumulativeData[cumulativeData['group']=='B'][['date','revenue', 'orders']]\n",
    "\n",
    "plt.figure(figsize=(12, 5))\n",
    "plt.grid(True)\n",
    "plt.title('График кумулятивной выручки по группам', fontsize=12)\n",
    "plt.xlabel('Дата')\n",
    "plt.xticks(rotation=30)\n",
    "plt.ylabel('Выручка, млн')\n",
    "# Строим график выручки группы А\n",
    "plt.plot(cumulativeRevenueA['date'], cumulativeRevenueA['revenue'], label='A')\n",
    "\n",
    "# Строим график выручки группы B\n",
    "plt.plot(cumulativeRevenueB['date'], cumulativeRevenueB['revenue'], label='B')\n",
    "\n",
    "plt.legend(['Группа А', 'Группа B']);"
   ]
  },
  {
   "cell_type": "markdown",
   "metadata": {},
   "source": [
    "Вывод: Группа А растет линейно. В группе B наблюдается резкий скачек."
   ]
  },
  {
   "cell_type": "markdown",
   "metadata": {},
   "source": [
    "<a id=\"ab2\"></a>\n",
    "### График кумулятивного среднего чека по группам"
   ]
  },
  {
   "cell_type": "code",
   "execution_count": 34,
   "metadata": {},
   "outputs": [
    {
     "data": {
      "image/png": "[encoded data removed]",
      "text/plain": [
       "<Figure size 1200x500 with 1 Axes>"
      ]
     },
     "metadata": {},
     "output_type": "display_data"
    }
   ],
   "source": [
    "plt.figure(figsize=(12, 5))\n",
    "plt.grid(True)\n",
    "plt.title('График кумулятивного среднего чека по группам', fontsize=12)\n",
    "plt.xlabel('Дата')\n",
    "plt.xticks(rotation=30)\n",
    "plt.ylabel('Средний чек')\n",
    "plt.plot(cumulativeRevenueA['date'], cumulativeRevenueA['revenue'] / cumulativeRevenueA['orders'], label='A')\n",
    "plt.plot(cumulativeRevenueB['date'], cumulativeRevenueB['revenue'] / cumulativeRevenueB['orders'], label='B')\n",
    "plt.legend(['Группа А', 'Группа B']); "
   ]
  },
  {
   "cell_type": "markdown",
   "metadata": {},
   "source": [
    "Вывод: Видим аналогичную картину. Группа B делает резкий взлет."
   ]
  },
  {
   "cell_type": "markdown",
   "metadata": {},
   "source": [
    "<a id=\"ab3\"></a>\n",
    "### График относительного изменения кумулятивного среднего чека группы B к группе A"
   ]
  },
  {
   "cell_type": "code",
   "execution_count": 35,
   "metadata": {},
   "outputs": [
    {
     "data": {
      "image/png": "[encoded data removed]",
      "text/plain": [
       "<Figure size 1200x500 with 1 Axes>"
      ]
     },
     "metadata": {},
     "output_type": "display_data"
    }
   ],
   "source": [
    "# собираем данные в одном датафрейме\n",
    "mergedCumulativeRevenue = cumulativeRevenueA.merge(cumulativeRevenueB, left_on='date', right_on='date', \n",
    "                                                   how='left', suffixes=['A', 'B'])\n",
    "\n",
    "# cтроим отношение средних чеков\n",
    "plt.figure(figsize=(12, 5))\n",
    "plt.grid(True)\n",
    "plt.title('График относительного изменения кумулятивного среднего чека группы B к группе A', fontsize=12)\n",
    "plt.xlabel('Дата')\n",
    "plt.xticks(rotation=30)\n",
    "plt.plot(mergedCumulativeRevenue['date'], \n",
    "         (mergedCumulativeRevenue['revenueB'] / mergedCumulativeRevenue['ordersB']) / \n",
    "         (mergedCumulativeRevenue['revenueA'] / mergedCumulativeRevenue['ordersA'])-1)\n",
    "\n",
    "# добавляем ось X\n",
    "plt.axhline(y=0, color='orange', linestyle='-');"
   ]
  },
  {
   "cell_type": "markdown",
   "metadata": {},
   "source": [
    "Вывод: относительное изменение кумулятивного среднего чека группы В по отношению к группе А так же сильно расчет во второй половине августа."
   ]
  },
  {
   "cell_type": "markdown",
   "metadata": {},
   "source": [
    "<a id=\"ab4\"></a>\n",
    "### График кумулятивного среднего количества заказов на посетителя по группам"
   ]
  },
  {
   "cell_type": "code",
   "execution_count": 36,
   "metadata": {},
   "outputs": [
    {
     "data": {
      "image/png": "[encoded data removed]",
      "text/plain": [
       "<Figure size 1200x500 with 1 Axes>"
      ]
     },
     "metadata": {},
     "output_type": "display_data"
    }
   ],
   "source": [
    "# считаем среднее количество заказов на посетителя\n",
    "cumulativeData['conversion'] = cumulativeData['orders'] / cumulativeData['visitors']\n",
    "\n",
    "# отделяем данные по группе A\n",
    "cumulativeDataA = cumulativeData[cumulativeData['group']=='A']\n",
    "\n",
    "# отделяем данные по группе B\n",
    "cumulativeDataB = cumulativeData[cumulativeData['group']=='B']\n",
    "\n",
    "# строим графики\n",
    "plt.figure(figsize=(12, 5))\n",
    "plt.grid(True)\n",
    "plt.title('График кумулятивного среднего количества заказов на посетителя по группам', fontsize=12)\n",
    "plt.xlabel('Дата')\n",
    "plt.xticks(rotation=30)\n",
    "plt.ylabel('Среднее количество заказов на посетителя')\n",
    "plt.plot(cumulativeDataA['date'], cumulativeDataA['conversion'], label='A')\n",
    "plt.plot(cumulativeDataB['date'], cumulativeDataB['conversion'], label='B')\n",
    "plt.legend(['Группа А', 'Группа B']);"
   ]
  },
  {
   "cell_type": "markdown",
   "metadata": {},
   "source": [
    "Вывод:\n",
    "\n",
    "На графике видно, что в начале периода среднее количество заказов на посетителя в группе А было выше, чем в группе В. Однако далее картина меняется. Среднее количество заказов в группе В стало выше, чем в группе А."
   ]
  },
  {
   "cell_type": "markdown",
   "metadata": {},
   "source": [
    "<a id=\"ab5\"></a>\n",
    "### График относительного изменения кумулятивного среднего количества заказов на посетителя группы B к группе A"
   ]
  },
  {
   "cell_type": "code",
   "execution_count": 37,
   "metadata": {},
   "outputs": [
    {
     "data": {
      "image/png": "[encoded data removed]",
      "text/plain": [
       "<Figure size 1200x500 with 1 Axes>"
      ]
     },
     "metadata": {},
     "output_type": "display_data"
    }
   ],
   "source": [
    "mergedCumulativeConversions = cumulativeDataA[['date','conversion']].merge(cumulativeDataB[['date','conversion']], \n",
    "                                                                           left_on='date', right_on='date', \n",
    "                                                                           how='left', suffixes=['A', 'B'])\n",
    "\n",
    "plt.figure(figsize=(12, 5))\n",
    "plt.grid(True)\n",
    "plt.title('График относительного изменения кумулятивного среднего количества заказов на посетителя группы B к группе A', \n",
    "          fontsize=12)\n",
    "plt.xlabel('Дата')\n",
    "plt.xticks(rotation=30)\n",
    "plt.plot(mergedCumulativeConversions['date'], \n",
    "         mergedCumulativeConversions['conversionB']/mergedCumulativeConversions['conversionA']-1, \n",
    "         label=\"Относительный прирост кумулятивного среднего количества заказов на посетителя группы B относительно группы A\")\n",
    "plt.legend()\n",
    "\n",
    "\n",
    "plt.axhline(y=0, color='black', linestyle='--')\n",
    "plt.axhline(y=0.13, color='grey', linestyle='--');"
   ]
  },
  {
   "cell_type": "markdown",
   "metadata": {},
   "source": [
    "Вывод: относительное изменение кумулятивного среднего количества заказов группы B начинает расти и к концу периода стабилизируется на отметке +13% по отношению к группе А."
   ]
  },
  {
   "cell_type": "markdown",
   "metadata": {},
   "source": [
    "<a id=\"ab6\"></a>\n",
    "### Точечный график количества заказов по пользователям"
   ]
  },
  {
   "cell_type": "code",
   "execution_count": 38,
   "metadata": {},
   "outputs": [],
   "source": [
    "ordersByUsers = (\n",
    "    filteredorders.groupby('visitorId', as_index=False)\n",
    "    .agg({'transactionId': 'nunique'})\n",
    ")"
   ]
  },
  {
   "cell_type": "code",
   "execution_count": 39,
   "metadata": {},
   "outputs": [
    {
     "name": "stdout",
     "output_type": "stream",
     "text": [
      "      visitorId  transactionId\n",
      "908  3967698036              3\n",
      "55    249864742              3\n",
      "478  2108163459              3\n",
      "687  2988190573              3\n",
      "890  3908431265              3\n",
      "138   611059232              3\n",
      "632  2742574263              3\n",
      "157   678354126              2\n",
      "323  1404560065              2\n",
      "452  1985475298              2\n"
     ]
    }
   ],
   "source": [
    "print(ordersByUsers.sort_values(by='transactionId', ascending=False).head(10))"
   ]
  },
  {
   "cell_type": "code",
   "execution_count": 40,
   "metadata": {},
   "outputs": [
    {
     "data": {
      "image/png": "[encoded data removed]",
      "text/plain": [
       "<Figure size 1200x500 with 1 Axes>"
      ]
     },
     "metadata": {},
     "output_type": "display_data"
    }
   ],
   "source": [
    "x_values = pd.Series(range(0, len(ordersByUsers)))\n",
    "\n",
    "plt.figure(figsize=(12, 5))\n",
    "plt.grid(True)\n",
    "plt.title('График распределения количества заказов', fontsize=12)\n",
    "plt.scatter(x_values, ordersByUsers['transactionId']);"
   ]
  },
  {
   "cell_type": "markdown",
   "metadata": {},
   "source": [
    "Вывод: \n",
    "\n",
    "Чаще всего пользователи делают 1 заказ, так же есть довольно большая группа пользователей, совершающих по 2 заказа. Те кто совершают 4 заказа и более являются аномальными."
   ]
  },
  {
   "cell_type": "markdown",
   "metadata": {},
   "source": [
    "<a id=\"ab7\"></a>\n",
    "### 95-й и 99-й перцентили количества заказов на пользователя"
   ]
  },
  {
   "cell_type": "code",
   "execution_count": 41,
   "metadata": {},
   "outputs": [
    {
     "name": "stdout",
     "output_type": "stream",
     "text": [
      "95-й перцентиль: 1.00\n",
      "99-й перцентиль: 2.00\n"
     ]
    }
   ],
   "source": [
    "print('95-й перцентиль: %.2f' % (np.percentile(ordersByUsers['transactionId'], [95])))\n",
    "print('99-й перцентиль: %.2f' % (np.percentile(ordersByUsers['transactionId'], [99])))"
   ]
  },
  {
   "cell_type": "markdown",
   "metadata": {},
   "source": [
    "Вывод: не более 5% пользователей оформляли больше чем 1 заказ и 1% пользователей оформляли больше 2 заказов. Пользователей, которые делали 3 заказа будем считать аномальными."
   ]
  },
  {
   "cell_type": "markdown",
   "metadata": {},
   "source": [
    "<a id=\"ab8\"></a>\n",
    "### Точечный график стоимостей заказов"
   ]
  },
  {
   "cell_type": "code",
   "execution_count": 42,
   "metadata": {},
   "outputs": [
    {
     "data": {
      "image/png": "[encoded data removed]",
      "text/plain": [
       "<Figure size 1200x500 with 1 Axes>"
      ]
     },
     "metadata": {},
     "output_type": "display_data"
    }
   ],
   "source": [
    "x_values = pd.Series(range(0, len(filteredorders['revenue'])))\n",
    "\n",
    "plt.figure(figsize=(12, 5))\n",
    "plt.grid(True)\n",
    "plt.title('График распределения cтоимости заказов', fontsize=12)\n",
    "plt.scatter(x_values, filteredorders['revenue']);"
   ]
  },
  {
   "cell_type": "markdown",
   "metadata": {},
   "source": [
    "Вывод: на графике видно 2 выброса."
   ]
  },
  {
   "cell_type": "markdown",
   "metadata": {},
   "source": [
    "<a id=\"ab9\"></a>\n",
    "### 95-й и 99-й перцентили стоимости заказов"
   ]
  },
  {
   "cell_type": "code",
   "execution_count": 43,
   "metadata": {},
   "outputs": [
    {
     "name": "stdout",
     "output_type": "stream",
     "text": [
      "95 перцентиль: 26785.00\n",
      "99 перцентиль: 53904.00\n"
     ]
    }
   ],
   "source": [
    "print('95 перцентиль: %.2f' % (np.percentile(filteredorders['revenue'], [95])))\n",
    "print('99 перцентиль: %.2f' % (np.percentile(filteredorders['revenue'], [99])))"
   ]
  },
  {
   "cell_type": "markdown",
   "metadata": {},
   "source": [
    "Вывод: Не более 5% заказов дороже 26 785 рублей и не более 1% дороже 53 904 рублей. Все заказы дороже 58 000 рублей будем считать аномальными."
   ]
  },
  {
   "cell_type": "markdown",
   "metadata": {},
   "source": [
    "<a id=\"ab10\"></a>\n",
    "### Cтатистическая значимость различий в среднем количестве заказов на посетителя между группами по «сырым» данным"
   ]
  },
  {
   "cell_type": "code",
   "execution_count": 44,
   "metadata": {},
   "outputs": [],
   "source": [
    "# Посетители группы А по дням\n",
    "visitorsADaily = visitors[visitors['group'] == 'A'][['date', 'visitors']]\n",
    "visitorsADaily.columns = ['date', 'visitorsPerDateA']\n",
    "\n",
    "# Создаем таблицу с кумулятивным накоплением посетителей группы А по дням\n",
    "visitorsACummulative = visitorsADaily.apply(\n",
    "    lambda x: visitorsADaily[visitorsADaily['date'] <= x['date']].agg(\n",
    "        {'date': 'max', 'visitorsPerDateA': 'sum'}\n",
    "    ),\n",
    "    axis=1,\n",
    ")\n",
    "visitorsACummulative.columns = ['date', 'visitorsCummulativeA']\n",
    "\n",
    "# Посетители группы В по дням\n",
    "visitorsBDaily = visitors[visitors['group'] == 'B'][['date', 'visitors']]\n",
    "visitorsBDaily.columns = ['date', 'visitorsPerDateB']\n",
    "\n",
    "# Создаем таблицу с кумулятивным накоплением посетителей группы В по дням\n",
    "visitorsBCummulative = visitorsBDaily.apply(\n",
    "    lambda x: visitorsBDaily[visitorsBDaily['date'] <= x['date']].agg(\n",
    "        {'date': 'max', 'visitorsPerDateB': 'sum'}\n",
    "    ),\n",
    "    axis=1,\n",
    ")\n",
    "visitorsBCummulative.columns = ['date', 'visitorsCummulativeB']"
   ]
  },
  {
   "cell_type": "code",
   "execution_count": 45,
   "metadata": {},
   "outputs": [],
   "source": [
    "# Заказы группы А по дням\n",
    "ordersADaily = (\n",
    "    filteredorders[filteredorders['group'] == 'A'][['date', 'transactionId', 'visitorId', 'revenue']]\n",
    "    .groupby('date', as_index=False)\n",
    "    .agg({'transactionId': pd.Series.nunique, 'revenue': 'sum'})\n",
    ")\n",
    "ordersADaily.columns = ['date', 'ordersPerDateA', 'revenuePerDateA']\n",
    "\n",
    "# Создаем таблицу с кумулятивным накоплением суммы заказов группы А по дням\n",
    "ordersACummulative = ordersADaily.apply(\n",
    "    lambda x: ordersADaily[ordersADaily['date'] <= x['date']].agg(\n",
    "        {'date': 'max', 'ordersPerDateA': 'sum', 'revenuePerDateA': 'sum'}\n",
    "    ),\n",
    "    axis=1,\n",
    ").sort_values(by=['date'])\n",
    "ordersACummulative.columns = [\n",
    "    'date',\n",
    "    'ordersCummulativeA',\n",
    "    'revenueCummulativeA',\n",
    "]\n",
    "\n",
    "# Заказы группы В по дням\n",
    "ordersBDaily = (\n",
    "    filteredorders[filteredorders['group'] == 'B'][['date', 'transactionId', 'visitorId', 'revenue']]\n",
    "    .groupby('date', as_index=False)\n",
    "    .agg({'transactionId': pd.Series.nunique, 'revenue': 'sum'})\n",
    ")\n",
    "ordersBDaily.columns = ['date', 'ordersPerDateB', 'revenuePerDateB']\n",
    "\n",
    "# Создаем таблицу с кумулятивным накоплением суммы заказов группы В по дням\n",
    "ordersBCummulative = ordersBDaily.apply(\n",
    "    lambda x: ordersBDaily[ordersBDaily['date'] <= x['date']].agg(\n",
    "        {'date': 'max', 'ordersPerDateB': 'sum', 'revenuePerDateB': 'sum'}\n",
    "    ),\n",
    "    axis=1,\n",
    ").sort_values(by=['date'])\n",
    "ordersBCummulative.columns = [\n",
    "    'date',\n",
    "    'ordersCummulativeB',\n",
    "    'revenueCummulativeB',\n",
    "]"
   ]
  },
  {
   "cell_type": "code",
   "execution_count": 46,
   "metadata": {},
   "outputs": [
    {
     "data": {
      "text/html": [
       "<div>\n",
       "<style scoped>\n",
       "    .dataframe tbody tr th:only-of-type {\n",
       "        vertical-align: middle;\n",
       "    }\n",
       "\n",
       "    .dataframe tbody tr th {\n",
       "        vertical-align: top;\n",
       "    }\n",
       "\n",
       "    .dataframe thead th {\n",
       "        text-align: right;\n",
       "    }\n",
       "</style>\n",
       "<table border=\"1\" class=\"dataframe\">\n",
       "  <thead>\n",
       "    <tr style=\"text-align: right;\">\n",
       "      <th></th>\n",
       "      <th>date</th>\n",
       "      <th>ordersPerDateA</th>\n",
       "      <th>revenuePerDateA</th>\n",
       "      <th>ordersPerDateB</th>\n",
       "      <th>revenuePerDateB</th>\n",
       "      <th>ordersCummulativeA</th>\n",
       "      <th>revenueCummulativeA</th>\n",
       "      <th>ordersCummulativeB</th>\n",
       "      <th>revenueCummulativeB</th>\n",
       "      <th>visitorsPerDateA</th>\n",
       "      <th>visitorsPerDateB</th>\n",
       "      <th>visitorsCummulativeA</th>\n",
       "      <th>visitorsCummulativeB</th>\n",
       "    </tr>\n",
       "  </thead>\n",
       "  <tbody>\n",
       "    <tr>\n",
       "      <th>0</th>\n",
       "      <td>2019-08-01</td>\n",
       "      <td>23</td>\n",
       "      <td>142779</td>\n",
       "      <td>17</td>\n",
       "      <td>59758</td>\n",
       "      <td>23</td>\n",
       "      <td>142779</td>\n",
       "      <td>17</td>\n",
       "      <td>59758</td>\n",
       "      <td>719</td>\n",
       "      <td>713</td>\n",
       "      <td>719</td>\n",
       "      <td>713</td>\n",
       "    </tr>\n",
       "    <tr>\n",
       "      <th>1</th>\n",
       "      <td>2019-08-02</td>\n",
       "      <td>19</td>\n",
       "      <td>91602</td>\n",
       "      <td>23</td>\n",
       "      <td>162043</td>\n",
       "      <td>42</td>\n",
       "      <td>234381</td>\n",
       "      <td>40</td>\n",
       "      <td>221801</td>\n",
       "      <td>619</td>\n",
       "      <td>581</td>\n",
       "      <td>1338</td>\n",
       "      <td>1294</td>\n",
       "    </tr>\n",
       "    <tr>\n",
       "      <th>2</th>\n",
       "      <td>2019-08-03</td>\n",
       "      <td>24</td>\n",
       "      <td>112473</td>\n",
       "      <td>14</td>\n",
       "      <td>67049</td>\n",
       "      <td>66</td>\n",
       "      <td>346854</td>\n",
       "      <td>54</td>\n",
       "      <td>288850</td>\n",
       "      <td>507</td>\n",
       "      <td>509</td>\n",
       "      <td>1845</td>\n",
       "      <td>1803</td>\n",
       "    </tr>\n",
       "    <tr>\n",
       "      <th>3</th>\n",
       "      <td>2019-08-04</td>\n",
       "      <td>11</td>\n",
       "      <td>41176</td>\n",
       "      <td>14</td>\n",
       "      <td>96890</td>\n",
       "      <td>77</td>\n",
       "      <td>388030</td>\n",
       "      <td>68</td>\n",
       "      <td>385740</td>\n",
       "      <td>717</td>\n",
       "      <td>770</td>\n",
       "      <td>2562</td>\n",
       "      <td>2573</td>\n",
       "    </tr>\n",
       "    <tr>\n",
       "      <th>4</th>\n",
       "      <td>2019-08-05</td>\n",
       "      <td>22</td>\n",
       "      <td>86383</td>\n",
       "      <td>21</td>\n",
       "      <td>89908</td>\n",
       "      <td>99</td>\n",
       "      <td>474413</td>\n",
       "      <td>89</td>\n",
       "      <td>475648</td>\n",
       "      <td>756</td>\n",
       "      <td>707</td>\n",
       "      <td>3318</td>\n",
       "      <td>3280</td>\n",
       "    </tr>\n",
       "  </tbody>\n",
       "</table>\n",
       "</div>"
      ],
      "text/plain": [
       "        date  ordersPerDateA  revenuePerDateA  ordersPerDateB  \\\n",
       "0 2019-08-01              23           142779              17   \n",
       "1 2019-08-02              19            91602              23   \n",
       "2 2019-08-03              24           112473              14   \n",
       "3 2019-08-04              11            41176              14   \n",
       "4 2019-08-05              22            86383              21   \n",
       "\n",
       "   revenuePerDateB  ordersCummulativeA  revenueCummulativeA  \\\n",
       "0            59758                  23               142779   \n",
       "1           162043                  42               234381   \n",
       "2            67049                  66               346854   \n",
       "3            96890                  77               388030   \n",
       "4            89908                  99               474413   \n",
       "\n",
       "   ordersCummulativeB  revenueCummulativeB  visitorsPerDateA  \\\n",
       "0                  17                59758               719   \n",
       "1                  40               221801               619   \n",
       "2                  54               288850               507   \n",
       "3                  68               385740               717   \n",
       "4                  89               475648               756   \n",
       "\n",
       "   visitorsPerDateB  visitorsCummulativeA  visitorsCummulativeB  \n",
       "0               713                   719                   713  \n",
       "1               581                  1338                  1294  \n",
       "2               509                  1845                  1803  \n",
       "3               770                  2562                  2573  \n",
       "4               707                  3318                  3280  "
      ]
     },
     "metadata": {},
     "output_type": "display_data"
    }
   ],
   "source": [
    "# Собираем все данные в одной таблице\n",
    "data = (\n",
    "    ordersADaily.merge(\n",
    "        ordersBDaily, left_on='date', right_on='date', how='left'\n",
    "    )\n",
    "    .merge(ordersACummulative, left_on='date', right_on='date', how='left')\n",
    "    .merge(ordersBCummulative, left_on='date', right_on='date', how='left')\n",
    "    .merge(visitorsADaily, left_on='date', right_on='date', how='left')\n",
    "    .merge(visitorsBDaily, left_on='date', right_on='date', how='left')\n",
    "    .merge(visitorsACummulative, left_on='date', right_on='date', how='left')\n",
    "    .merge(visitorsBCummulative, left_on='date', right_on='date', how='left')\n",
    ")\n",
    "\n",
    "display(data.head(5))"
   ]
  },
  {
   "cell_type": "code",
   "execution_count": 47,
   "metadata": {},
   "outputs": [],
   "source": [
    "# Таблица пользователей группы А с количеством заказов\n",
    "ordersByUsersA = (\n",
    "    filteredorders[filteredorders['group'] == 'A']\n",
    "    .groupby('visitorId', as_index=False)\n",
    "    .agg({'transactionId': pd.Series.nunique})\n",
    ")\n",
    "ordersByUsersA.columns = ['userId', 'orders']\n",
    "\n",
    "# Таблица пользователей группы В с количеством заказов\n",
    "ordersByUsersB = (\n",
    "    filteredorders[filteredorders['group'] == 'B']\n",
    "    .groupby('visitorId', as_index=False)\n",
    "    .agg({'transactionId': pd.Series.nunique})\n",
    ")\n",
    "ordersByUsersB.columns = ['userId', 'orders'] "
   ]
  },
  {
   "cell_type": "code",
   "execution_count": 48,
   "metadata": {},
   "outputs": [
    {
     "data": {
      "text/plain": [
       "array([1, 2, 3], dtype=int64)"
      ]
     },
     "execution_count": 48,
     "metadata": {},
     "output_type": "execute_result"
    }
   ],
   "source": [
    "ordersByUsersA['orders'].unique()"
   ]
  },
  {
   "cell_type": "code",
   "execution_count": 49,
   "metadata": {},
   "outputs": [
    {
     "data": {
      "text/plain": [
       "0      1\n",
       "1      1\n",
       "2      1\n",
       "3      1\n",
       "4      1\n",
       "      ..\n",
       "440    1\n",
       "441    1\n",
       "442    1\n",
       "443    1\n",
       "444    1\n",
       "Name: orders, Length: 445, dtype: int64"
      ]
     },
     "execution_count": 49,
     "metadata": {},
     "output_type": "execute_result"
    }
   ],
   "source": [
    "ordersByUsersA['orders']"
   ]
  },
  {
   "cell_type": "code",
   "execution_count": 50,
   "metadata": {},
   "outputs": [],
   "source": [
    "sampleA = pd.concat([ordersByUsersA['orders'],\n",
    "                     pd.Series(0, index=np.arange(data['visitorsPerDateA'].sum() - len(ordersByUsersA['orders'])), \n",
    "                               name='orders')],axis=0)\n",
    "\n",
    "sampleB = pd.concat([ordersByUsersB['orders'],\n",
    "                     pd.Series(0, index=np.arange(data['visitorsPerDateB'].sum() - len(ordersByUsersB['orders'])), \n",
    "                               name='orders')],axis=0) "
   ]
  },
  {
   "cell_type": "code",
   "execution_count": 51,
   "metadata": {},
   "outputs": [
    {
     "data": {
      "text/plain": [
       "0        1\n",
       "1        1\n",
       "2        1\n",
       "3        1\n",
       "4        1\n",
       "        ..\n",
       "18383    0\n",
       "18384    0\n",
       "18385    0\n",
       "18386    0\n",
       "18387    0\n",
       "Name: orders, Length: 18916, dtype: int64"
      ]
     },
     "execution_count": 51,
     "metadata": {},
     "output_type": "execute_result"
    }
   ],
   "source": [
    "sampleB"
   ]
  },
  {
   "cell_type": "markdown",
   "metadata": {},
   "source": [
    "Сформулируем гипотезы.\n",
    "\n",
    "Нулевая: различий в среднем количестве заказов между группами нет. \n",
    "\n",
    "Альтернативная: различия в среднем количестве между группами есть."
   ]
  },
  {
   "cell_type": "code",
   "execution_count": 52,
   "metadata": {},
   "outputs": [
    {
     "name": "stdout",
     "output_type": "stream",
     "text": [
      "0.011\n",
      "Отвергаем нулевую гипотезу: разница статистически значима\n",
      "Прирост среднего количества заказов группы В по отношению к группе А: 15.98%\n"
     ]
    }
   ],
   "source": [
    "alpha = 0.05\n",
    "\n",
    "results1 = stats.mannwhitneyu(sampleA, sampleB)[1]\n",
    "\n",
    "print(round(results1, 3))\n",
    "\n",
    "if results1 < alpha:\n",
    "    print('Отвергаем нулевую гипотезу: разница статистически значима')\n",
    "else:\n",
    "    print(\n",
    "        'Не получилось отвергнуть нулевую гипотезу, вывод о различии сделать нельзя'\n",
    "    ) \n",
    "print('Прирост среднего количества заказов группы В по отношению к группе А:', \n",
    "      \"{0:.2%}\".format(sampleB.mean() / sampleA.mean() - 1))"
   ]
  },
  {
   "cell_type": "markdown",
   "metadata": {},
   "source": [
    "Вывод: \n",
    "\n",
    "Отвергаем нулевую гипотезу. По \"сырым\" данным различия в количестве заказов между группами А и В есть. Количество заказов в группе В на 16% больше чем в группе А."
   ]
  },
  {
   "cell_type": "markdown",
   "metadata": {},
   "source": [
    "<a id=\"ab11\"></a>\n",
    "### Статистическая значимость различий в среднем чеке заказа между группами по «сырым» данным"
   ]
  },
  {
   "cell_type": "markdown",
   "metadata": {},
   "source": [
    "Сформулируем гипотезы.\n",
    "\n",
    "Нулевая: различий в среднем чеке заказа между группами нет. \n",
    "\n",
    "Альтернативная: различия в среднем чеке между группами есть."
   ]
  },
  {
   "cell_type": "code",
   "execution_count": 53,
   "metadata": {},
   "outputs": [
    {
     "name": "stdout",
     "output_type": "stream",
     "text": [
      "0.829\n",
      "Не получилось отвергнуть нулевую гипотезу, вывод о различии сделать нельзя\n",
      "Прирост среднего чека заказов группы В по отношению к группе А: 28.66%\n"
     ]
    }
   ],
   "source": [
    "alpha = 0.05\n",
    "\n",
    "results2 = stats.mannwhitneyu(filteredorders[filteredorders['group']=='A']['revenue'], \n",
    "                              filteredorders[filteredorders['group']=='B']['revenue'])[1]\n",
    "\n",
    "print(round(results2, 3))\n",
    "\n",
    "if results2 < alpha:\n",
    "    print('Отвергаем нулевую гипотезу: разница статистически значима')\n",
    "else:\n",
    "    print(\n",
    "        'Не получилось отвергнуть нулевую гипотезу, вывод о различии сделать нельзя'\n",
    "    ) \n",
    "print('Прирост среднего чека заказов группы В по отношению к группе А:', \n",
    "      '{0:.2%}'.format(filteredorders[filteredorders['group']=='B']['revenue'].mean() / \n",
    "                       filteredorders[filteredorders['group']=='A']['revenue'].mean()-1)) "
   ]
  },
  {
   "cell_type": "markdown",
   "metadata": {},
   "source": [
    "Вывод: \n",
    "\n",
    "Отвергнуть нулевую гипотезу не получилось. Средние чеки в группах А и В не отличаются. Несмотря на то, что средний чек группы В на 28,7% выше среднего чека группы А, наблюдаемое различие не является статистически значимым."
   ]
  },
  {
   "cell_type": "markdown",
   "metadata": {},
   "source": [
    "<a id=\"ab12\"></a>\n",
    "### Статистическая значимость различий в среднем количестве заказов на посетителя между группами по «очищенным» данным"
   ]
  },
  {
   "cell_type": "code",
   "execution_count": 54,
   "metadata": {},
   "outputs": [
    {
     "name": "stdout",
     "output_type": "stream",
     "text": [
      "568     113298937\n",
      "1099    148427295\n",
      "928     204675465\n",
      "33      249864742\n",
      "684     358944393\n",
      "dtype: int64\n",
      "Аномальные пользователи: 58\n"
     ]
    }
   ],
   "source": [
    "revenue_lim = np.percentile(filteredorders['revenue'], 95)\n",
    "\n",
    "# Определяем количество аномальных пользователей\n",
    "usersWithManyOrders = pd.concat(\n",
    "    [\n",
    "        ordersByUsersA[ordersByUsersA['orders'] > 2]['userId'],\n",
    "        ordersByUsersB[ordersByUsersB['orders'] > 2]['userId'],\n",
    "    ],\n",
    "    axis=0,\n",
    ")\n",
    "usersWithExpensiveOrders = filteredorders[filteredorders['revenue'] > revenue_lim]['visitorId']\n",
    "abnormalUsers = (\n",
    "    pd.concat([usersWithManyOrders, usersWithExpensiveOrders], axis=0)\n",
    "    .drop_duplicates()\n",
    "    .sort_values()\n",
    ")\n",
    "print(abnormalUsers.head(5))\n",
    "print('Аномальные пользователи:', abnormalUsers.shape[0]) "
   ]
  },
  {
   "cell_type": "markdown",
   "metadata": {},
   "source": [
    "Всего 58 аномальных пользователей"
   ]
  },
  {
   "cell_type": "code",
   "execution_count": 55,
   "metadata": {},
   "outputs": [],
   "source": [
    "sampleAFiltered = pd.concat(\n",
    "    [\n",
    "        ordersByUsersA[\n",
    "            np.logical_not(ordersByUsersA['userId'].isin(abnormalUsers))\n",
    "        ]['orders'],\n",
    "        pd.Series(\n",
    "            0,\n",
    "            index=np.arange(\n",
    "                data['visitorsPerDateA'].sum() - len(ordersByUsersA['orders'])\n",
    "            ),\n",
    "            name='orders',\n",
    "        ),\n",
    "    ],\n",
    "    axis=0,\n",
    ")\n",
    "\n",
    "sampleBFiltered = pd.concat(\n",
    "    [\n",
    "        ordersByUsersB[\n",
    "            np.logical_not(ordersByUsersB['userId'].isin(abnormalUsers))\n",
    "        ]['orders'],\n",
    "        pd.Series(\n",
    "            0,\n",
    "            index=np.arange(\n",
    "                data['visitorsPerDateB'].sum() - len(ordersByUsersB['orders'])\n",
    "            ),\n",
    "            name='orders',\n",
    "        ),\n",
    "    ],\n",
    "    axis=0,\n",
    ") "
   ]
  },
  {
   "cell_type": "code",
   "execution_count": 56,
   "metadata": {},
   "outputs": [
    {
     "data": {
      "text/plain": [
       "0        1\n",
       "1        1\n",
       "2        1\n",
       "3        1\n",
       "4        1\n",
       "        ..\n",
       "18286    0\n",
       "18287    0\n",
       "18288    0\n",
       "18289    0\n",
       "18290    0\n",
       "Name: orders, Length: 18709, dtype: int64"
      ]
     },
     "execution_count": 56,
     "metadata": {},
     "output_type": "execute_result"
    }
   ],
   "source": [
    "sampleAFiltered"
   ]
  },
  {
   "cell_type": "markdown",
   "metadata": {},
   "source": [
    "Сформулируем гипотезы для \"очищенных\" данных.\n",
    "\n",
    "Нулевая: различий в среднем количестве заказов между группами нет. \n",
    "\n",
    "Альтернативная: различия в среднем количестве между группами есть."
   ]
  },
  {
   "cell_type": "code",
   "execution_count": 57,
   "metadata": {},
   "outputs": [
    {
     "name": "stdout",
     "output_type": "stream",
     "text": [
      "0.012\n",
      "Отвергаем нулевую гипотезу: разница статистически значима\n",
      "Прирост среднего количества заказов на посетителя группы В по отношению к группе А по «очищенным» данным: 18.19%\n"
     ]
    }
   ],
   "source": [
    "alpha = 0.05\n",
    "\n",
    "results3 = stats.mannwhitneyu(sampleAFiltered, sampleBFiltered)[1]\n",
    "print(round(results3, 3))\n",
    "\n",
    "if results3 < alpha:\n",
    "    print('Отвергаем нулевую гипотезу: разница статистически значима')\n",
    "else:\n",
    "    print(\n",
    "        'Не получилось отвергнуть нулевую гипотезу, вывод о различии сделать нельзя'\n",
    "    ) \n",
    "    \n",
    "print('Прирост среднего количества заказов на посетителя группы В по отношению к группе А по «очищенным» данным:', \n",
    "      '{0:.2%}'.format(sampleBFiltered.mean()/sampleAFiltered.mean()-1)) "
   ]
  },
  {
   "cell_type": "markdown",
   "metadata": {},
   "source": [
    "Вывод: Результаты по сравнению с \"сырыми\" данными практически не изменились. По \"очищенным\" данным различия в количестве заказов между группами А и В так же есть. Количество заказов в группе В стало больше на 18,2% по сравнению с группой А."
   ]
  },
  {
   "cell_type": "markdown",
   "metadata": {},
   "source": [
    "<a id=\"ab13\"></a>\n",
    "### Cтатистическая значимость различий в среднем чеке заказа между группами по «очищенным» данным"
   ]
  },
  {
   "cell_type": "markdown",
   "metadata": {},
   "source": [
    "Сформулируем гипотезы для \"очищенных\" данных.\n",
    "\n",
    "Нулевая: различий в среднем чеке заказа между группами нет. \n",
    "\n",
    "Альтернативная: различия в среднем чеке между группами есть."
   ]
  },
  {
   "cell_type": "code",
   "execution_count": 58,
   "metadata": {},
   "outputs": [
    {
     "name": "stdout",
     "output_type": "stream",
     "text": [
      "0.646\n",
      "Не получилось отвергнуть нулевую гипотезу, вывод о различии сделать нельзя\n",
      "Прирост среднего чека заказов группы В по отношению к группе А по «очищенным» данным: -4.85%\n"
     ]
    }
   ],
   "source": [
    "alpha = 0.05\n",
    "\n",
    "results4 = stats.mannwhitneyu(\n",
    "    filteredorders[np.logical_and(filteredorders['group'] == 'A', \n",
    "                                  np.logical_not(filteredorders['visitorId'].isin(abnormalUsers)))]['revenue'], \n",
    "    filteredorders[np.logical_and(filteredorders['group'] == 'B', \n",
    "                                  np.logical_not(filteredorders['visitorId'].isin(abnormalUsers)))]['revenue'])[1]\n",
    "print(round(results4, 3))\n",
    "\n",
    "if results4 < alpha:\n",
    "    print('Отвергаем нулевую гипотезу: разница статистически значима')\n",
    "else:\n",
    "    print(\n",
    "        'Не получилось отвергнуть нулевую гипотезу, вывод о различии сделать нельзя'\n",
    "    ) \n",
    "    \n",
    "print('Прирост среднего чека заказов группы В по отношению к группе А по «очищенным» данным:', \n",
    "      \"{0:.2%}\".format(\n",
    "filteredorders[np.logical_and(filteredorders['group'] == 'B', \n",
    "                              np.logical_not(filteredorders['visitorId'].isin(abnormalUsers)))]['revenue'].mean() \n",
    "/ filteredorders[np.logical_and(filteredorders['group'] == 'A', \n",
    "                                np.logical_not(filteredorders['visitorId'].isin(abnormalUsers)))]['revenue'].mean() - 1)) "
   ]
  },
  {
   "cell_type": "markdown",
   "metadata": {},
   "source": [
    "Вывод: \n",
    "\n",
    "P-value увеличился. Различий в среднем чеке заказа между группами по-прежнему нет. В очищенных данных мы видим, что средняя цена чека в группе В стала ниже на 4,85% по сравнению с группой А. Снижение произошло с 25,9% до -4,85%."
   ]
  },
  {
   "cell_type": "markdown",
   "metadata": {},
   "source": [
    "<a id=\"vivod\"></a>\n",
    "## Заключение"
   ]
  },
  {
   "cell_type": "markdown",
   "metadata": {},
   "source": [
    "В начале мы провели приоритезацию гипотез, чтобы определить самую наилучшую Приоритизацию провели с помозью фреймворков ICE и RICE. Данные методики сформировали разные списки гипотез, так как фреймворки учитывают разные параметры. RICE дополнительно учитывает параметр Reach — скольких пользователей затронет изменение, которое вы хотите внести.\n",
    "\n",
    "По результатам А/В теста были сделаны следующие выводы:\n",
    "\n",
    "    - кумулятивная выручка и средний чек группы В выше чем в группе А;\n",
    "    - кумулятивное среднее количество заказов на человека в группе В выше чем в группе А;\n",
    "    - среднее количество заказов в группе В выше на ≈15% чем в группе А.\n",
    "\n",
    "Проведя статистический анализ результатов теста мы пришли к выводам:\n",
    "\n",
    "    Статистические значимые различия в среднем количестве заказов между группами А и В есть, как на \"сырых\", так и на \"очищенных \"данных.\n",
    "    Статистических значимых различий в среднем чеке заказа между группами А и В нет, как на \"сырых\", так и на \"очищенных\" данных.\n",
    "\n",
    "Таким образом мы можем остановить тест и зафиксировать победу группы В"
   ]
  }
 ],
 "metadata": {
  "ExecuteTimeLog": [
   {
    "duration": 1398,
    "start_time": "2024-12-20T08:12:20.632Z"
   },
   {
    "duration": 240,
    "start_time": "2024-12-20T08:12:41.265Z"
   },
   {
    "duration": 12,
    "start_time": "2024-12-20T08:13:15.706Z"
   },
   {
    "duration": 11,
    "start_time": "2024-12-20T08:13:31.025Z"
   },
   {
    "duration": 6,
    "start_time": "2024-12-20T08:14:03.865Z"
   },
   {
    "duration": 6,
    "start_time": "2024-12-20T08:14:16.849Z"
   },
   {
    "duration": 88,
    "start_time": "2024-12-20T08:15:46.243Z"
   },
   {
    "duration": 6,
    "start_time": "2024-12-20T08:15:55.738Z"
   },
   {
    "duration": 6,
    "start_time": "2024-12-20T08:16:14.692Z"
   },
   {
    "duration": 85,
    "start_time": "2024-12-20T08:16:21.330Z"
   },
   {
    "duration": 6,
    "start_time": "2024-12-20T08:16:31.321Z"
   },
   {
    "duration": 7,
    "start_time": "2024-12-20T08:16:38.346Z"
   },
   {
    "duration": 97,
    "start_time": "2024-12-20T08:17:09.370Z"
   },
   {
    "duration": 6,
    "start_time": "2024-12-20T08:17:15.865Z"
   },
   {
    "duration": 7,
    "start_time": "2024-12-20T08:17:19.594Z"
   },
   {
    "duration": 11,
    "start_time": "2024-12-20T08:24:40.260Z"
   },
   {
    "duration": 16,
    "start_time": "2024-12-20T08:24:48.211Z"
   },
   {
    "duration": 9,
    "start_time": "2024-12-20T08:24:51.619Z"
   },
   {
    "duration": 9,
    "start_time": "2024-12-20T08:24:57.060Z"
   },
   {
    "duration": 7,
    "start_time": "2024-12-20T08:25:44.269Z"
   },
   {
    "duration": 6,
    "start_time": "2024-12-20T08:25:58.605Z"
   },
   {
    "duration": 85,
    "start_time": "2024-12-20T08:26:30.069Z"
   },
   {
    "duration": 80,
    "start_time": "2024-12-20T08:26:34.245Z"
   },
   {
    "duration": 93,
    "start_time": "2024-12-20T08:26:48.509Z"
   },
   {
    "duration": 7,
    "start_time": "2024-12-20T08:27:00.501Z"
   },
   {
    "duration": 91,
    "start_time": "2024-12-20T08:27:30.863Z"
   },
   {
    "duration": 93,
    "start_time": "2024-12-20T08:28:06.932Z"
   },
   {
    "duration": 82,
    "start_time": "2024-12-20T08:28:17.764Z"
   },
   {
    "duration": 112,
    "start_time": "2024-12-20T08:28:26.678Z"
   },
   {
    "duration": 6,
    "start_time": "2024-12-20T08:29:38.054Z"
   },
   {
    "duration": 7,
    "start_time": "2024-12-20T08:31:15.510Z"
   },
   {
    "duration": 89,
    "start_time": "2024-12-20T08:31:39.775Z"
   },
   {
    "duration": 6,
    "start_time": "2024-12-20T08:31:46.457Z"
   },
   {
    "duration": 7,
    "start_time": "2024-12-20T08:32:25.103Z"
   },
   {
    "duration": 7,
    "start_time": "2024-12-20T08:32:53.647Z"
   },
   {
    "duration": 11,
    "start_time": "2024-12-20T08:37:06.664Z"
   },
   {
    "duration": 7,
    "start_time": "2024-12-20T08:37:07.497Z"
   },
   {
    "duration": 6,
    "start_time": "2024-12-20T08:37:15.584Z"
   },
   {
    "duration": 10,
    "start_time": "2024-12-20T08:37:21.200Z"
   },
   {
    "duration": 7,
    "start_time": "2024-12-20T08:37:30.089Z"
   },
   {
    "duration": 6,
    "start_time": "2024-12-20T08:37:57.208Z"
   },
   {
    "duration": 1646,
    "start_time": "2024-12-20T10:58:13.210Z"
   },
   {
    "duration": 8,
    "start_time": "2024-12-20T10:58:32.418Z"
   },
   {
    "duration": 4,
    "start_time": "2024-12-20T11:01:07.763Z"
   },
   {
    "duration": 8,
    "start_time": "2024-12-20T11:01:16.764Z"
   },
   {
    "duration": 10,
    "start_time": "2024-12-20T11:01:22.107Z"
   },
   {
    "duration": 331,
    "start_time": "2024-12-20T11:02:06.859Z"
   },
   {
    "duration": 14,
    "start_time": "2024-12-20T11:04:34.228Z"
   },
   {
    "duration": 9,
    "start_time": "2024-12-20T11:04:38.125Z"
   },
   {
    "duration": 289,
    "start_time": "2024-12-20T11:08:04.917Z"
   },
   {
    "duration": 275,
    "start_time": "2024-12-20T11:08:23.629Z"
   },
   {
    "duration": 429,
    "start_time": "2024-12-20T11:34:49.374Z"
   },
   {
    "duration": 3,
    "start_time": "2024-12-20T11:35:07.990Z"
   },
   {
    "duration": 2,
    "start_time": "2024-12-20T11:35:26.686Z"
   },
   {
    "duration": 1196,
    "start_time": "2024-12-20T11:35:40.366Z"
   },
   {
    "duration": 80,
    "start_time": "2024-12-20T11:35:41.565Z"
   },
   {
    "duration": 14,
    "start_time": "2024-12-20T11:35:41.647Z"
   },
   {
    "duration": 31,
    "start_time": "2024-12-20T11:35:41.663Z"
   },
   {
    "duration": 14,
    "start_time": "2024-12-20T11:35:41.696Z"
   },
   {
    "duration": 18,
    "start_time": "2024-12-20T11:35:41.712Z"
   },
   {
    "duration": 29,
    "start_time": "2024-12-20T11:35:41.731Z"
   },
   {
    "duration": 8,
    "start_time": "2024-12-20T11:35:41.763Z"
   },
   {
    "duration": 13,
    "start_time": "2024-12-20T11:35:41.773Z"
   },
   {
    "duration": 12,
    "start_time": "2024-12-20T11:35:41.787Z"
   },
   {
    "duration": 13,
    "start_time": "2024-12-20T11:35:41.801Z"
   },
   {
    "duration": 8,
    "start_time": "2024-12-20T11:35:41.815Z"
   },
   {
    "duration": 13,
    "start_time": "2024-12-20T11:35:41.824Z"
   },
   {
    "duration": 10,
    "start_time": "2024-12-20T11:35:41.840Z"
   },
   {
    "duration": 13,
    "start_time": "2024-12-20T11:35:41.852Z"
   },
   {
    "duration": 321,
    "start_time": "2024-12-20T11:35:41.867Z"
   },
   {
    "duration": 8,
    "start_time": "2024-12-20T11:35:42.190Z"
   },
   {
    "duration": 296,
    "start_time": "2024-12-20T11:35:42.200Z"
   },
   {
    "duration": 2,
    "start_time": "2024-12-20T11:35:42.498Z"
   },
   {
    "duration": 11,
    "start_time": "2024-12-20T11:37:29.366Z"
   },
   {
    "duration": 12,
    "start_time": "2024-12-20T11:37:42.311Z"
   },
   {
    "duration": 1234,
    "start_time": "2024-12-20T11:38:25.029Z"
   },
   {
    "duration": 80,
    "start_time": "2024-12-20T11:38:26.265Z"
   },
   {
    "duration": 12,
    "start_time": "2024-12-20T11:38:26.347Z"
   },
   {
    "duration": 29,
    "start_time": "2024-12-20T11:38:26.361Z"
   },
   {
    "duration": 3,
    "start_time": "2024-12-20T11:38:26.393Z"
   },
   {
    "duration": 34,
    "start_time": "2024-12-20T11:38:26.398Z"
   },
   {
    "duration": 13,
    "start_time": "2024-12-20T11:38:26.434Z"
   },
   {
    "duration": 22,
    "start_time": "2024-12-20T11:38:26.449Z"
   },
   {
    "duration": 15,
    "start_time": "2024-12-20T11:38:26.473Z"
   },
   {
    "duration": 10,
    "start_time": "2024-12-20T11:38:26.490Z"
   },
   {
    "duration": 11,
    "start_time": "2024-12-20T11:38:26.501Z"
   },
   {
    "duration": 7,
    "start_time": "2024-12-20T11:38:26.513Z"
   },
   {
    "duration": 17,
    "start_time": "2024-12-20T11:38:26.521Z"
   },
   {
    "duration": 10,
    "start_time": "2024-12-20T11:38:26.540Z"
   },
   {
    "duration": 10,
    "start_time": "2024-12-20T11:38:26.551Z"
   },
   {
    "duration": 315,
    "start_time": "2024-12-20T11:38:26.563Z"
   },
   {
    "duration": 9,
    "start_time": "2024-12-20T11:38:26.880Z"
   },
   {
    "duration": 274,
    "start_time": "2024-12-20T11:38:26.891Z"
   },
   {
    "duration": 11,
    "start_time": "2024-12-20T11:38:27.167Z"
   },
   {
    "duration": 23,
    "start_time": "2024-12-20T11:38:27.180Z"
   },
   {
    "duration": 14,
    "start_time": "2024-12-20T11:38:34.239Z"
   },
   {
    "duration": 11,
    "start_time": "2024-12-20T11:38:37.118Z"
   },
   {
    "duration": 467,
    "start_time": "2024-12-20T11:39:47.697Z"
   },
   {
    "duration": 1269,
    "start_time": "2024-12-20T11:40:18.700Z"
   },
   {
    "duration": 80,
    "start_time": "2024-12-20T11:40:19.971Z"
   },
   {
    "duration": 12,
    "start_time": "2024-12-20T11:40:20.053Z"
   },
   {
    "duration": 22,
    "start_time": "2024-12-20T11:40:20.066Z"
   },
   {
    "duration": 33,
    "start_time": "2024-12-20T11:40:20.090Z"
   },
   {
    "duration": 20,
    "start_time": "2024-12-20T11:40:20.125Z"
   },
   {
    "duration": 18,
    "start_time": "2024-12-20T11:40:20.147Z"
   },
   {
    "duration": 40,
    "start_time": "2024-12-20T11:40:20.166Z"
   },
   {
    "duration": 16,
    "start_time": "2024-12-20T11:40:20.207Z"
   },
   {
    "duration": 14,
    "start_time": "2024-12-20T11:40:20.225Z"
   },
   {
    "duration": 21,
    "start_time": "2024-12-20T11:40:20.241Z"
   },
   {
    "duration": 9,
    "start_time": "2024-12-20T11:40:20.264Z"
   },
   {
    "duration": 6,
    "start_time": "2024-12-20T11:40:20.275Z"
   },
   {
    "duration": 25,
    "start_time": "2024-12-20T11:40:20.283Z"
   },
   {
    "duration": 13,
    "start_time": "2024-12-20T11:40:20.310Z"
   },
   {
    "duration": 297,
    "start_time": "2024-12-20T11:40:20.325Z"
   },
   {
    "duration": 17,
    "start_time": "2024-12-20T11:40:20.624Z"
   },
   {
    "duration": 282,
    "start_time": "2024-12-20T11:40:20.642Z"
   },
   {
    "duration": 513,
    "start_time": "2024-12-20T11:40:20.925Z"
   },
   {
    "duration": 0,
    "start_time": "2024-12-20T11:40:21.440Z"
   },
   {
    "duration": 0,
    "start_time": "2024-12-20T11:40:21.442Z"
   },
   {
    "duration": 8,
    "start_time": "2024-12-20T11:40:47.147Z"
   },
   {
    "duration": 9,
    "start_time": "2024-12-20T11:40:49.668Z"
   },
   {
    "duration": 382,
    "start_time": "2024-12-20T11:41:06.628Z"
   },
   {
    "duration": 1178,
    "start_time": "2024-12-20T11:41:30.195Z"
   },
   {
    "duration": 80,
    "start_time": "2024-12-20T11:41:31.375Z"
   },
   {
    "duration": 13,
    "start_time": "2024-12-20T11:41:31.457Z"
   },
   {
    "duration": 26,
    "start_time": "2024-12-20T11:41:31.472Z"
   },
   {
    "duration": 30,
    "start_time": "2024-12-20T11:41:31.501Z"
   },
   {
    "duration": 31,
    "start_time": "2024-12-20T11:41:31.533Z"
   },
   {
    "duration": 33,
    "start_time": "2024-12-20T11:41:31.566Z"
   },
   {
    "duration": 66,
    "start_time": "2024-12-20T11:41:31.600Z"
   },
   {
    "duration": 25,
    "start_time": "2024-12-20T11:41:31.667Z"
   },
   {
    "duration": 31,
    "start_time": "2024-12-20T11:41:31.694Z"
   },
   {
    "duration": 9,
    "start_time": "2024-12-20T11:41:31.727Z"
   },
   {
    "duration": 30,
    "start_time": "2024-12-20T11:41:31.738Z"
   },
   {
    "duration": 7,
    "start_time": "2024-12-20T11:41:31.770Z"
   },
   {
    "duration": 20,
    "start_time": "2024-12-20T11:41:31.779Z"
   },
   {
    "duration": 19,
    "start_time": "2024-12-20T11:41:31.800Z"
   },
   {
    "duration": 294,
    "start_time": "2024-12-20T11:41:31.822Z"
   },
   {
    "duration": 20,
    "start_time": "2024-12-20T11:41:32.118Z"
   },
   {
    "duration": 280,
    "start_time": "2024-12-20T11:41:32.139Z"
   },
   {
    "duration": 24,
    "start_time": "2024-12-20T11:41:32.420Z"
   },
   {
    "duration": 28,
    "start_time": "2024-12-20T11:41:32.445Z"
   },
   {
    "duration": 30,
    "start_time": "2024-12-20T11:41:32.474Z"
   },
   {
    "duration": 5,
    "start_time": "2024-12-20T11:42:35.746Z"
   },
   {
    "duration": 11,
    "start_time": "2024-12-20T11:42:41.232Z"
   },
   {
    "duration": 8,
    "start_time": "2024-12-20T11:43:23.769Z"
   },
   {
    "duration": 50,
    "start_time": "2024-12-20T11:43:26.440Z"
   },
   {
    "duration": 11,
    "start_time": "2024-12-20T11:43:40.121Z"
   },
   {
    "duration": 46,
    "start_time": "2024-12-20T11:43:41.769Z"
   },
   {
    "duration": 7,
    "start_time": "2024-12-20T11:43:47.523Z"
   },
   {
    "duration": 20,
    "start_time": "2024-12-20T11:45:16.938Z"
   },
   {
    "duration": 4,
    "start_time": "2024-12-20T11:46:09.946Z"
   },
   {
    "duration": 23,
    "start_time": "2024-12-20T11:46:16.138Z"
   },
   {
    "duration": 1265,
    "start_time": "2024-12-20T11:46:21.644Z"
   },
   {
    "duration": 82,
    "start_time": "2024-12-20T11:46:22.911Z"
   },
   {
    "duration": 13,
    "start_time": "2024-12-20T11:46:22.994Z"
   },
   {
    "duration": 22,
    "start_time": "2024-12-20T11:46:23.008Z"
   },
   {
    "duration": 8,
    "start_time": "2024-12-20T11:46:23.033Z"
   },
   {
    "duration": 24,
    "start_time": "2024-12-20T11:46:23.043Z"
   },
   {
    "duration": 42,
    "start_time": "2024-12-20T11:46:23.069Z"
   },
   {
    "duration": 35,
    "start_time": "2024-12-20T11:46:23.113Z"
   },
   {
    "duration": 34,
    "start_time": "2024-12-20T11:46:23.150Z"
   },
   {
    "duration": 10,
    "start_time": "2024-12-20T11:46:23.186Z"
   },
   {
    "duration": 21,
    "start_time": "2024-12-20T11:46:23.198Z"
   },
   {
    "duration": 33,
    "start_time": "2024-12-20T11:46:23.220Z"
   },
   {
    "duration": 29,
    "start_time": "2024-12-20T11:46:23.256Z"
   },
   {
    "duration": 25,
    "start_time": "2024-12-20T11:46:23.289Z"
   },
   {
    "duration": 38,
    "start_time": "2024-12-20T11:46:23.316Z"
   },
   {
    "duration": 29,
    "start_time": "2024-12-20T11:46:23.355Z"
   },
   {
    "duration": 347,
    "start_time": "2024-12-20T11:46:23.386Z"
   },
   {
    "duration": 14,
    "start_time": "2024-12-20T11:46:23.734Z"
   },
   {
    "duration": 331,
    "start_time": "2024-12-20T11:46:23.751Z"
   },
   {
    "duration": 15,
    "start_time": "2024-12-20T11:46:24.083Z"
   },
   {
    "duration": 35,
    "start_time": "2024-12-20T11:46:24.099Z"
   },
   {
    "duration": 21,
    "start_time": "2024-12-20T11:46:24.135Z"
   },
   {
    "duration": 80,
    "start_time": "2024-12-20T11:46:24.158Z"
   },
   {
    "duration": 25,
    "start_time": "2024-12-20T11:46:24.240Z"
   },
   {
    "duration": 35,
    "start_time": "2024-12-20T11:46:24.267Z"
   },
   {
    "duration": 4,
    "start_time": "2024-12-20T11:47:07.802Z"
   },
   {
    "duration": 1288,
    "start_time": "2024-12-20T11:47:12.190Z"
   },
   {
    "duration": 80,
    "start_time": "2024-12-20T11:47:13.480Z"
   },
   {
    "duration": 12,
    "start_time": "2024-12-20T11:47:13.562Z"
   },
   {
    "duration": 16,
    "start_time": "2024-12-20T11:47:13.576Z"
   },
   {
    "duration": 4,
    "start_time": "2024-12-20T11:47:13.595Z"
   },
   {
    "duration": 9,
    "start_time": "2024-12-20T11:47:13.600Z"
   },
   {
    "duration": 10,
    "start_time": "2024-12-20T11:47:13.610Z"
   },
   {
    "duration": 27,
    "start_time": "2024-12-20T11:47:13.637Z"
   },
   {
    "duration": 6,
    "start_time": "2024-12-20T11:47:13.666Z"
   },
   {
    "duration": 11,
    "start_time": "2024-12-20T11:47:13.674Z"
   },
   {
    "duration": 13,
    "start_time": "2024-12-20T11:47:13.687Z"
   },
   {
    "duration": 9,
    "start_time": "2024-12-20T11:47:13.702Z"
   },
   {
    "duration": 7,
    "start_time": "2024-12-20T11:47:13.712Z"
   },
   {
    "duration": 17,
    "start_time": "2024-12-20T11:47:13.722Z"
   },
   {
    "duration": 25,
    "start_time": "2024-12-20T11:47:13.741Z"
   },
   {
    "duration": 12,
    "start_time": "2024-12-20T11:47:13.768Z"
   },
   {
    "duration": 344,
    "start_time": "2024-12-20T11:47:13.782Z"
   },
   {
    "duration": 22,
    "start_time": "2024-12-20T11:47:14.127Z"
   },
   {
    "duration": 277,
    "start_time": "2024-12-20T11:47:14.151Z"
   },
   {
    "duration": 23,
    "start_time": "2024-12-20T11:47:14.442Z"
   },
   {
    "duration": 5,
    "start_time": "2024-12-20T11:47:14.467Z"
   },
   {
    "duration": 20,
    "start_time": "2024-12-20T11:47:14.474Z"
   },
   {
    "duration": 60,
    "start_time": "2024-12-20T11:47:14.496Z"
   },
   {
    "duration": 57,
    "start_time": "2024-12-20T11:47:14.559Z"
   },
   {
    "duration": 26,
    "start_time": "2024-12-20T11:47:14.618Z"
   },
   {
    "duration": 5,
    "start_time": "2024-12-20T12:00:47.199Z"
   },
   {
    "duration": 122,
    "start_time": "2024-12-20T12:02:08.752Z"
   },
   {
    "duration": 12,
    "start_time": "2024-12-20T12:02:35.183Z"
   },
   {
    "duration": 155,
    "start_time": "2024-12-20T12:03:43.058Z"
   },
   {
    "duration": 11,
    "start_time": "2024-12-20T12:03:47.696Z"
   },
   {
    "duration": 162,
    "start_time": "2024-12-20T12:04:15.928Z"
   },
   {
    "duration": 13,
    "start_time": "2024-12-20T12:04:18.025Z"
   },
   {
    "duration": 1263,
    "start_time": "2024-12-20T12:05:08.609Z"
   },
   {
    "duration": 79,
    "start_time": "2024-12-20T12:05:09.874Z"
   },
   {
    "duration": 12,
    "start_time": "2024-12-20T12:05:09.955Z"
   },
   {
    "duration": 39,
    "start_time": "2024-12-20T12:05:09.970Z"
   },
   {
    "duration": 72,
    "start_time": "2024-12-20T12:05:10.010Z"
   },
   {
    "duration": 17,
    "start_time": "2024-12-20T12:05:10.084Z"
   },
   {
    "duration": 27,
    "start_time": "2024-12-20T12:05:10.103Z"
   },
   {
    "duration": 24,
    "start_time": "2024-12-20T12:05:10.132Z"
   },
   {
    "duration": 32,
    "start_time": "2024-12-20T12:05:10.158Z"
   },
   {
    "duration": 17,
    "start_time": "2024-12-20T12:05:10.193Z"
   },
   {
    "duration": 20,
    "start_time": "2024-12-20T12:05:10.212Z"
   },
   {
    "duration": 26,
    "start_time": "2024-12-20T12:05:10.233Z"
   },
   {
    "duration": 19,
    "start_time": "2024-12-20T12:05:10.261Z"
   },
   {
    "duration": 19,
    "start_time": "2024-12-20T12:05:10.281Z"
   },
   {
    "duration": 21,
    "start_time": "2024-12-20T12:05:10.302Z"
   },
   {
    "duration": 285,
    "start_time": "2024-12-20T12:05:10.324Z"
   },
   {
    "duration": 9,
    "start_time": "2024-12-20T12:05:10.611Z"
   },
   {
    "duration": 266,
    "start_time": "2024-12-20T12:05:10.637Z"
   },
   {
    "duration": 12,
    "start_time": "2024-12-20T12:05:10.905Z"
   },
   {
    "duration": 29,
    "start_time": "2024-12-20T12:05:10.918Z"
   },
   {
    "duration": 9,
    "start_time": "2024-12-20T12:05:10.948Z"
   },
   {
    "duration": 179,
    "start_time": "2024-12-20T12:05:10.958Z"
   },
   {
    "duration": 12,
    "start_time": "2024-12-20T12:05:11.138Z"
   },
   {
    "duration": 173,
    "start_time": "2024-12-20T12:06:07.234Z"
   },
   {
    "duration": 12,
    "start_time": "2024-12-20T12:06:08.833Z"
   },
   {
    "duration": 167,
    "start_time": "2024-12-20T12:06:15.929Z"
   },
   {
    "duration": 101,
    "start_time": "2024-12-20T12:06:23.137Z"
   },
   {
    "duration": 122,
    "start_time": "2024-12-20T12:06:25.569Z"
   },
   {
    "duration": 12,
    "start_time": "2024-12-20T12:06:29.689Z"
   },
   {
    "duration": 11,
    "start_time": "2024-12-20T12:06:36.808Z"
   },
   {
    "duration": 8,
    "start_time": "2024-12-20T12:16:07.332Z"
   },
   {
    "duration": 8,
    "start_time": "2024-12-20T12:16:09.564Z"
   },
   {
    "duration": 7,
    "start_time": "2024-12-20T12:16:14.100Z"
   },
   {
    "duration": 12,
    "start_time": "2024-12-20T12:16:23.316Z"
   },
   {
    "duration": 7,
    "start_time": "2024-12-20T12:16:44.693Z"
   },
   {
    "duration": 10,
    "start_time": "2024-12-20T12:16:45.644Z"
   },
   {
    "duration": 6,
    "start_time": "2024-12-20T12:17:34.413Z"
   },
   {
    "duration": 10,
    "start_time": "2024-12-20T12:17:36.116Z"
   },
   {
    "duration": 3,
    "start_time": "2024-12-20T12:17:50.333Z"
   },
   {
    "duration": 8,
    "start_time": "2024-12-20T12:17:51.796Z"
   },
   {
    "duration": 6,
    "start_time": "2024-12-20T12:18:39.430Z"
   },
   {
    "duration": 9,
    "start_time": "2024-12-20T12:18:39.733Z"
   },
   {
    "duration": 268,
    "start_time": "2024-12-20T12:19:06.342Z"
   },
   {
    "duration": 3,
    "start_time": "2024-12-20T12:20:21.078Z"
   },
   {
    "duration": 296,
    "start_time": "2024-12-20T12:20:22.628Z"
   },
   {
    "duration": 304,
    "start_time": "2024-12-20T12:20:31.582Z"
   },
   {
    "duration": 1212,
    "start_time": "2024-12-20T12:20:38.247Z"
   },
   {
    "duration": 78,
    "start_time": "2024-12-20T12:20:39.462Z"
   },
   {
    "duration": 11,
    "start_time": "2024-12-20T12:20:39.542Z"
   },
   {
    "duration": 18,
    "start_time": "2024-12-20T12:20:39.555Z"
   },
   {
    "duration": 4,
    "start_time": "2024-12-20T12:20:39.575Z"
   },
   {
    "duration": 8,
    "start_time": "2024-12-20T12:20:39.580Z"
   },
   {
    "duration": 11,
    "start_time": "2024-12-20T12:20:39.590Z"
   },
   {
    "duration": 35,
    "start_time": "2024-12-20T12:20:39.603Z"
   },
   {
    "duration": 7,
    "start_time": "2024-12-20T12:20:39.640Z"
   },
   {
    "duration": 12,
    "start_time": "2024-12-20T12:20:39.649Z"
   },
   {
    "duration": 16,
    "start_time": "2024-12-20T12:20:39.663Z"
   },
   {
    "duration": 18,
    "start_time": "2024-12-20T12:20:39.681Z"
   },
   {
    "duration": 6,
    "start_time": "2024-12-20T12:20:39.701Z"
   },
   {
    "duration": 20,
    "start_time": "2024-12-20T12:20:39.710Z"
   },
   {
    "duration": 31,
    "start_time": "2024-12-20T12:20:39.731Z"
   },
   {
    "duration": 293,
    "start_time": "2024-12-20T12:20:39.764Z"
   },
   {
    "duration": 9,
    "start_time": "2024-12-20T12:20:40.058Z"
   },
   {
    "duration": 339,
    "start_time": "2024-12-20T12:20:40.068Z"
   },
   {
    "duration": 13,
    "start_time": "2024-12-20T12:20:40.409Z"
   },
   {
    "duration": 45,
    "start_time": "2024-12-20T12:20:40.423Z"
   },
   {
    "duration": 36,
    "start_time": "2024-12-20T12:20:40.470Z"
   },
   {
    "duration": 169,
    "start_time": "2024-12-20T12:20:40.508Z"
   },
   {
    "duration": 8,
    "start_time": "2024-12-20T12:20:40.679Z"
   },
   {
    "duration": 138,
    "start_time": "2024-12-20T12:20:40.688Z"
   },
   {
    "duration": 14,
    "start_time": "2024-12-20T12:20:40.827Z"
   },
   {
    "duration": 8,
    "start_time": "2024-12-20T12:20:40.842Z"
   },
   {
    "duration": 15,
    "start_time": "2024-12-20T12:20:40.851Z"
   },
   {
    "duration": 276,
    "start_time": "2024-12-20T12:20:40.868Z"
   },
   {
    "duration": 181,
    "start_time": "2024-12-20T12:21:10.502Z"
   },
   {
    "duration": 175,
    "start_time": "2024-12-20T12:21:59.406Z"
   },
   {
    "duration": 191,
    "start_time": "2024-12-20T12:22:03.637Z"
   },
   {
    "duration": 185,
    "start_time": "2024-12-20T12:22:08.309Z"
   },
   {
    "duration": 263,
    "start_time": "2024-12-20T12:22:26.957Z"
   },
   {
    "duration": 245,
    "start_time": "2024-12-20T12:22:39.406Z"
   },
   {
    "duration": 174,
    "start_time": "2024-12-20T12:22:49.798Z"
   },
   {
    "duration": 290,
    "start_time": "2024-12-20T12:26:05.910Z"
   },
   {
    "duration": 288,
    "start_time": "2024-12-20T12:26:15.871Z"
   },
   {
    "duration": 212,
    "start_time": "2024-12-20T12:26:34.846Z"
   },
   {
    "duration": 201,
    "start_time": "2024-12-20T12:26:53.623Z"
   },
   {
    "duration": 214,
    "start_time": "2024-12-20T12:26:57.958Z"
   },
   {
    "duration": 17,
    "start_time": "2024-12-20T12:27:10.758Z"
   },
   {
    "duration": 95,
    "start_time": "2024-12-20T12:27:47.623Z"
   },
   {
    "duration": 173,
    "start_time": "2024-12-20T12:27:52.677Z"
   },
   {
    "duration": 142,
    "start_time": "2024-12-20T12:29:25.968Z"
   },
   {
    "duration": 212,
    "start_time": "2024-12-20T12:30:14.897Z"
   },
   {
    "duration": 211,
    "start_time": "2024-12-20T12:30:25.216Z"
   },
   {
    "duration": 297,
    "start_time": "2024-12-20T12:30:40.329Z"
   },
   {
    "duration": 216,
    "start_time": "2024-12-20T12:31:17.577Z"
   },
   {
    "duration": 208,
    "start_time": "2024-12-20T12:31:26.000Z"
   },
   {
    "duration": 214,
    "start_time": "2024-12-20T12:31:35.249Z"
   },
   {
    "duration": 210,
    "start_time": "2024-12-20T12:31:58.745Z"
   },
   {
    "duration": 219,
    "start_time": "2024-12-20T12:32:19.911Z"
   },
   {
    "duration": 221,
    "start_time": "2024-12-20T12:32:40.472Z"
   },
   {
    "duration": 216,
    "start_time": "2024-12-20T12:33:17.465Z"
   },
   {
    "duration": 216,
    "start_time": "2024-12-20T12:33:25.391Z"
   },
   {
    "duration": 234,
    "start_time": "2024-12-20T12:33:48.248Z"
   },
   {
    "duration": 225,
    "start_time": "2024-12-20T12:34:50.937Z"
   },
   {
    "duration": 313,
    "start_time": "2024-12-20T12:34:57.850Z"
   },
   {
    "duration": 1359,
    "start_time": "2024-12-21T12:26:22.538Z"
   },
   {
    "duration": 218,
    "start_time": "2024-12-21T12:26:23.900Z"
   },
   {
    "duration": 13,
    "start_time": "2024-12-21T12:26:24.120Z"
   },
   {
    "duration": 25,
    "start_time": "2024-12-21T12:26:24.136Z"
   },
   {
    "duration": 5,
    "start_time": "2024-12-21T12:26:24.163Z"
   },
   {
    "duration": 10,
    "start_time": "2024-12-21T12:26:24.170Z"
   },
   {
    "duration": 15,
    "start_time": "2024-12-21T12:26:24.182Z"
   },
   {
    "duration": 11,
    "start_time": "2024-12-21T12:26:24.199Z"
   },
   {
    "duration": 9,
    "start_time": "2024-12-21T12:26:24.212Z"
   },
   {
    "duration": 16,
    "start_time": "2024-12-21T12:26:24.236Z"
   },
   {
    "duration": 9,
    "start_time": "2024-12-21T12:26:24.253Z"
   },
   {
    "duration": 14,
    "start_time": "2024-12-21T12:26:24.264Z"
   },
   {
    "duration": 5,
    "start_time": "2024-12-21T12:26:24.280Z"
   },
   {
    "duration": 15,
    "start_time": "2024-12-21T12:26:24.286Z"
   },
   {
    "duration": 13,
    "start_time": "2024-12-21T12:26:24.303Z"
   },
   {
    "duration": 310,
    "start_time": "2024-12-21T12:26:24.318Z"
   },
   {
    "duration": 8,
    "start_time": "2024-12-21T12:26:24.637Z"
   },
   {
    "duration": 265,
    "start_time": "2024-12-21T12:26:24.647Z"
   },
   {
    "duration": 12,
    "start_time": "2024-12-21T12:26:24.914Z"
   },
   {
    "duration": 22,
    "start_time": "2024-12-21T12:26:24.937Z"
   },
   {
    "duration": 22,
    "start_time": "2024-12-21T12:26:24.961Z"
   },
   {
    "duration": 175,
    "start_time": "2024-12-21T12:26:24.985Z"
   },
   {
    "duration": 9,
    "start_time": "2024-12-21T12:26:25.162Z"
   },
   {
    "duration": 136,
    "start_time": "2024-12-21T12:26:25.172Z"
   },
   {
    "duration": 8,
    "start_time": "2024-12-21T12:26:25.309Z"
   },
   {
    "duration": 25,
    "start_time": "2024-12-21T12:26:25.319Z"
   },
   {
    "duration": 10,
    "start_time": "2024-12-21T12:26:25.345Z"
   },
   {
    "duration": 325,
    "start_time": "2024-12-21T12:26:25.359Z"
   },
   {
    "duration": 183,
    "start_time": "2024-12-21T12:28:26.988Z"
   },
   {
    "duration": 217,
    "start_time": "2024-12-21T12:28:50.597Z"
   },
   {
    "duration": 224,
    "start_time": "2024-12-21T12:30:55.870Z"
   },
   {
    "duration": 230,
    "start_time": "2024-12-21T12:31:18.586Z"
   },
   {
    "duration": 437,
    "start_time": "2024-12-21T12:33:27.946Z"
   },
   {
    "duration": 280,
    "start_time": "2024-12-21T12:34:00.502Z"
   },
   {
    "duration": 272,
    "start_time": "2024-12-21T12:34:17.789Z"
   },
   {
    "duration": 376,
    "start_time": "2024-12-21T12:34:42.696Z"
   },
   {
    "duration": 296,
    "start_time": "2024-12-21T12:34:57.299Z"
   },
   {
    "duration": 331,
    "start_time": "2024-12-21T12:35:11.128Z"
   },
   {
    "duration": 300,
    "start_time": "2024-12-21T12:35:47.273Z"
   },
   {
    "duration": 323,
    "start_time": "2024-12-21T12:36:40.787Z"
   },
   {
    "duration": 339,
    "start_time": "2024-12-21T12:37:35.909Z"
   },
   {
    "duration": 341,
    "start_time": "2024-12-21T12:37:42.421Z"
   },
   {
    "duration": 317,
    "start_time": "2024-12-21T12:37:52.152Z"
   },
   {
    "duration": 279,
    "start_time": "2024-12-21T12:38:28.703Z"
   },
   {
    "duration": 270,
    "start_time": "2024-12-21T12:38:59.755Z"
   },
   {
    "duration": 183,
    "start_time": "2024-12-21T12:39:06.063Z"
   },
   {
    "duration": 235,
    "start_time": "2024-12-21T12:40:30.651Z"
   },
   {
    "duration": 240,
    "start_time": "2024-12-21T12:40:51.949Z"
   },
   {
    "duration": 230,
    "start_time": "2024-12-21T12:41:28.253Z"
   },
   {
    "duration": 317,
    "start_time": "2024-12-21T12:42:17.350Z"
   },
   {
    "duration": 252,
    "start_time": "2024-12-21T12:42:46.603Z"
   },
   {
    "duration": 238,
    "start_time": "2024-12-21T12:44:13.998Z"
   },
   {
    "duration": 346,
    "start_time": "2024-12-21T12:45:05.822Z"
   },
   {
    "duration": 334,
    "start_time": "2024-12-21T12:45:15.297Z"
   },
   {
    "duration": 387,
    "start_time": "2024-12-21T12:46:27.545Z"
   },
   {
    "duration": 503,
    "start_time": "2024-12-21T12:46:33.329Z"
   },
   {
    "duration": 91,
    "start_time": "2024-12-21T12:46:40.288Z"
   },
   {
    "duration": 340,
    "start_time": "2024-12-21T12:46:46.287Z"
   },
   {
    "duration": 371,
    "start_time": "2024-12-21T12:47:38.929Z"
   },
   {
    "duration": 359,
    "start_time": "2024-12-21T12:47:48.057Z"
   },
   {
    "duration": 104,
    "start_time": "2024-12-21T12:48:09.535Z"
   },
   {
    "duration": 81,
    "start_time": "2024-12-21T12:48:18.569Z"
   },
   {
    "duration": 351,
    "start_time": "2024-12-21T12:48:33.855Z"
   },
   {
    "duration": 375,
    "start_time": "2024-12-21T12:49:03.192Z"
   },
   {
    "duration": 338,
    "start_time": "2024-12-21T12:50:18.576Z"
   },
   {
    "duration": 381,
    "start_time": "2024-12-21T12:50:27.087Z"
   },
   {
    "duration": 369,
    "start_time": "2024-12-21T12:50:38.457Z"
   },
   {
    "duration": 9,
    "start_time": "2024-12-21T12:54:38.962Z"
   },
   {
    "duration": 9,
    "start_time": "2024-12-21T12:55:18.614Z"
   },
   {
    "duration": 15,
    "start_time": "2024-12-21T12:55:29.700Z"
   },
   {
    "duration": 13,
    "start_time": "2024-12-21T12:55:39.698Z"
   },
   {
    "duration": 20,
    "start_time": "2024-12-21T12:55:55.650Z"
   },
   {
    "duration": 12,
    "start_time": "2024-12-21T12:56:11.681Z"
   },
   {
    "duration": 19,
    "start_time": "2024-12-21T12:56:15.097Z"
   },
   {
    "duration": 18,
    "start_time": "2024-12-21T12:56:27.278Z"
   },
   {
    "duration": 8,
    "start_time": "2024-12-21T12:56:34.988Z"
   },
   {
    "duration": 7,
    "start_time": "2024-12-21T12:56:41.684Z"
   },
   {
    "duration": 6,
    "start_time": "2024-12-21T12:56:58.022Z"
   },
   {
    "duration": 7,
    "start_time": "2024-12-21T12:57:00.570Z"
   },
   {
    "duration": 7,
    "start_time": "2024-12-21T12:57:09.086Z"
   },
   {
    "duration": 9,
    "start_time": "2024-12-21T12:57:10.580Z"
   },
   {
    "duration": 7,
    "start_time": "2024-12-21T12:57:48.165Z"
   },
   {
    "duration": 1357,
    "start_time": "2024-12-21T12:58:03.786Z"
   },
   {
    "duration": 124,
    "start_time": "2024-12-21T12:58:15.429Z"
   },
   {
    "duration": 120,
    "start_time": "2024-12-21T12:58:21.979Z"
   },
   {
    "duration": 116,
    "start_time": "2024-12-21T12:58:29.966Z"
   },
   {
    "duration": 151,
    "start_time": "2024-12-21T12:58:43.791Z"
   },
   {
    "duration": 244,
    "start_time": "2024-12-21T12:59:23.635Z"
   },
   {
    "duration": 138,
    "start_time": "2024-12-21T12:59:40.810Z"
   },
   {
    "duration": 149,
    "start_time": "2024-12-21T13:00:08.570Z"
   },
   {
    "duration": 5,
    "start_time": "2024-12-21T13:02:17.902Z"
   },
   {
    "duration": 9,
    "start_time": "2024-12-21T13:02:52.139Z"
   },
   {
    "duration": 5,
    "start_time": "2024-12-21T13:03:06.014Z"
   },
   {
    "duration": 127,
    "start_time": "2024-12-21T13:09:42.472Z"
   },
   {
    "duration": 151,
    "start_time": "2024-12-21T13:10:11.659Z"
   },
   {
    "duration": 153,
    "start_time": "2024-12-21T13:10:24.973Z"
   },
   {
    "duration": 163,
    "start_time": "2024-12-21T13:11:02.090Z"
   },
   {
    "duration": 145,
    "start_time": "2024-12-21T13:11:13.193Z"
   },
   {
    "duration": 148,
    "start_time": "2024-12-21T13:11:19.313Z"
   },
   {
    "duration": 6,
    "start_time": "2024-12-21T13:13:09.857Z"
   },
   {
    "duration": 16,
    "start_time": "2024-12-21T14:13:32.382Z"
   },
   {
    "duration": 16,
    "start_time": "2024-12-21T14:13:48.550Z"
   },
   {
    "duration": 79,
    "start_time": "2024-12-21T14:14:04.292Z"
   },
   {
    "duration": 139,
    "start_time": "2024-12-21T14:14:19.928Z"
   },
   {
    "duration": 10,
    "start_time": "2024-12-21T14:14:32.482Z"
   },
   {
    "duration": 106,
    "start_time": "2024-12-21T14:17:30.909Z"
   },
   {
    "duration": 52,
    "start_time": "2024-12-21T14:18:13.265Z"
   },
   {
    "duration": 8,
    "start_time": "2024-12-21T14:18:27.711Z"
   },
   {
    "duration": 12,
    "start_time": "2024-12-21T14:18:52.326Z"
   },
   {
    "duration": 49,
    "start_time": "2024-12-21T14:19:02.859Z"
   },
   {
    "duration": 11,
    "start_time": "2024-12-21T14:19:04.681Z"
   },
   {
    "duration": 8,
    "start_time": "2024-12-21T14:19:51.179Z"
   },
   {
    "duration": 92,
    "start_time": "2024-12-21T14:20:08.914Z"
   },
   {
    "duration": 9,
    "start_time": "2024-12-21T14:20:14.331Z"
   },
   {
    "duration": 15,
    "start_time": "2024-12-21T14:20:34.569Z"
   },
   {
    "duration": 13,
    "start_time": "2024-12-21T14:20:49.540Z"
   },
   {
    "duration": 17,
    "start_time": "2024-12-21T14:21:04.719Z"
   },
   {
    "duration": 58,
    "start_time": "2024-12-21T14:21:19.448Z"
   },
   {
    "duration": 9,
    "start_time": "2024-12-21T14:21:35.406Z"
   },
   {
    "duration": 30,
    "start_time": "2024-12-21T14:22:27.299Z"
   },
   {
    "duration": 9,
    "start_time": "2024-12-21T14:22:36.044Z"
   },
   {
    "duration": 59,
    "start_time": "2024-12-21T14:22:42.368Z"
   },
   {
    "duration": 9,
    "start_time": "2024-12-21T14:22:44.001Z"
   },
   {
    "duration": 68,
    "start_time": "2024-12-21T14:23:41.021Z"
   },
   {
    "duration": 105,
    "start_time": "2024-12-21T14:23:58.265Z"
   },
   {
    "duration": 9,
    "start_time": "2024-12-21T14:24:04.309Z"
   },
   {
    "duration": 25,
    "start_time": "2024-12-21T14:24:21.848Z"
   },
   {
    "duration": 14,
    "start_time": "2024-12-21T14:24:59.476Z"
   },
   {
    "duration": 148,
    "start_time": "2024-12-21T14:25:58.216Z"
   },
   {
    "duration": 6,
    "start_time": "2024-12-21T14:26:17.647Z"
   },
   {
    "duration": 6,
    "start_time": "2024-12-21T14:26:27.007Z"
   },
   {
    "duration": 6,
    "start_time": "2024-12-21T14:26:36.777Z"
   },
   {
    "duration": 28,
    "start_time": "2024-12-21T14:27:12.490Z"
   },
   {
    "duration": 32,
    "start_time": "2024-12-21T14:35:13.572Z"
   },
   {
    "duration": 25,
    "start_time": "2024-12-21T14:36:53.901Z"
   },
   {
    "duration": 29,
    "start_time": "2024-12-21T14:37:37.213Z"
   },
   {
    "duration": 30,
    "start_time": "2024-12-21T14:37:57.968Z"
   },
   {
    "duration": 78,
    "start_time": "2024-12-21T14:38:22.522Z"
   },
   {
    "duration": 80,
    "start_time": "2024-12-21T14:38:29.455Z"
   },
   {
    "duration": 31,
    "start_time": "2024-12-21T14:38:41.109Z"
   },
   {
    "duration": 33,
    "start_time": "2024-12-21T14:38:51.610Z"
   },
   {
    "duration": 26,
    "start_time": "2024-12-21T14:39:08.121Z"
   },
   {
    "duration": 31,
    "start_time": "2024-12-21T14:39:25.185Z"
   },
   {
    "duration": 34,
    "start_time": "2024-12-21T14:39:28.821Z"
   },
   {
    "duration": 25,
    "start_time": "2024-12-21T14:39:32.205Z"
   },
   {
    "duration": 26,
    "start_time": "2024-12-21T14:40:13.524Z"
   },
   {
    "duration": 25,
    "start_time": "2024-12-21T14:40:17.944Z"
   },
   {
    "duration": 113,
    "start_time": "2024-12-21T14:40:34.087Z"
   },
   {
    "duration": 26,
    "start_time": "2024-12-21T14:40:41.156Z"
   },
   {
    "duration": 26,
    "start_time": "2024-12-21T14:40:45.820Z"
   },
   {
    "duration": 35,
    "start_time": "2024-12-21T14:40:48.869Z"
   },
   {
    "duration": 26,
    "start_time": "2024-12-21T14:42:34.070Z"
   },
   {
    "duration": 26,
    "start_time": "2024-12-21T14:47:06.045Z"
   },
   {
    "duration": 10,
    "start_time": "2024-12-21T14:47:29.237Z"
   },
   {
    "duration": 11,
    "start_time": "2024-12-21T14:48:02.785Z"
   },
   {
    "duration": 12,
    "start_time": "2024-12-21T14:48:13.488Z"
   },
   {
    "duration": 1369,
    "start_time": "2024-12-21T14:52:43.337Z"
   },
   {
    "duration": 8,
    "start_time": "2024-12-21T14:52:58.793Z"
   },
   {
    "duration": 13,
    "start_time": "2024-12-21T14:53:24.243Z"
   },
   {
    "duration": 9,
    "start_time": "2024-12-21T14:53:31.233Z"
   },
   {
    "duration": 9,
    "start_time": "2024-12-21T14:54:06.237Z"
   },
   {
    "duration": 11,
    "start_time": "2024-12-21T14:54:20.067Z"
   },
   {
    "duration": 8,
    "start_time": "2024-12-21T14:54:27.961Z"
   },
   {
    "duration": 10,
    "start_time": "2024-12-21T14:55:39.282Z"
   },
   {
    "duration": 7,
    "start_time": "2024-12-21T14:55:57.537Z"
   },
   {
    "duration": 9,
    "start_time": "2024-12-21T14:56:07.485Z"
   },
   {
    "duration": 26,
    "start_time": "2024-12-21T14:56:18.677Z"
   },
   {
    "duration": 27,
    "start_time": "2024-12-21T14:58:22.384Z"
   },
   {
    "duration": 51,
    "start_time": "2024-12-21T14:59:29.044Z"
   },
   {
    "duration": 26,
    "start_time": "2024-12-21T14:59:38.017Z"
   },
   {
    "duration": 26,
    "start_time": "2024-12-21T14:59:46.386Z"
   },
   {
    "duration": 123,
    "start_time": "2024-12-21T15:03:56.239Z"
   },
   {
    "duration": 4,
    "start_time": "2024-12-21T15:06:15.237Z"
   },
   {
    "duration": 5,
    "start_time": "2024-12-21T15:07:24.884Z"
   },
   {
    "duration": 1504,
    "start_time": "2024-12-21T15:07:36.357Z"
   },
   {
    "duration": 13,
    "start_time": "2024-12-21T15:07:58.397Z"
   },
   {
    "duration": 9,
    "start_time": "2024-12-21T15:08:12.145Z"
   },
   {
    "duration": 9,
    "start_time": "2024-12-21T15:08:27.914Z"
   },
   {
    "duration": 1490,
    "start_time": "2024-12-21T15:09:11.053Z"
   },
   {
    "duration": 8,
    "start_time": "2024-12-21T15:11:21.443Z"
   },
   {
    "duration": 13,
    "start_time": "2024-12-21T15:11:49.959Z"
   },
   {
    "duration": 13,
    "start_time": "2024-12-21T15:12:17.269Z"
   },
   {
    "duration": 13,
    "start_time": "2024-12-21T15:12:30.751Z"
   },
   {
    "duration": 13,
    "start_time": "2024-12-21T15:13:34.603Z"
   },
   {
    "duration": 11,
    "start_time": "2024-12-21T15:14:06.209Z"
   },
   {
    "duration": 15,
    "start_time": "2024-12-21T15:14:38.129Z"
   },
   {
    "duration": 25,
    "start_time": "2024-12-21T15:14:56.701Z"
   },
   {
    "duration": 13,
    "start_time": "2024-12-21T15:15:12.093Z"
   },
   {
    "duration": 1264,
    "start_time": "2024-12-22T09:48:43.234Z"
   },
   {
    "duration": 213,
    "start_time": "2024-12-22T09:48:44.500Z"
   },
   {
    "duration": 10,
    "start_time": "2024-12-22T09:48:44.715Z"
   },
   {
    "duration": 41,
    "start_time": "2024-12-22T09:48:44.727Z"
   },
   {
    "duration": 3,
    "start_time": "2024-12-22T09:48:44.770Z"
   },
   {
    "duration": 15,
    "start_time": "2024-12-22T09:48:44.774Z"
   },
   {
    "duration": 10,
    "start_time": "2024-12-22T09:48:44.790Z"
   },
   {
    "duration": 16,
    "start_time": "2024-12-22T09:48:44.801Z"
   },
   {
    "duration": 6,
    "start_time": "2024-12-22T09:48:44.819Z"
   },
   {
    "duration": 9,
    "start_time": "2024-12-22T09:48:44.827Z"
   },
   {
    "duration": 29,
    "start_time": "2024-12-22T09:48:44.837Z"
   },
   {
    "duration": 10,
    "start_time": "2024-12-22T09:48:44.867Z"
   },
   {
    "duration": 7,
    "start_time": "2024-12-22T09:48:44.878Z"
   },
   {
    "duration": 14,
    "start_time": "2024-12-22T09:48:44.886Z"
   },
   {
    "duration": 9,
    "start_time": "2024-12-22T09:48:44.901Z"
   },
   {
    "duration": 272,
    "start_time": "2024-12-22T09:48:44.911Z"
   },
   {
    "duration": 7,
    "start_time": "2024-12-22T09:48:45.185Z"
   },
   {
    "duration": 252,
    "start_time": "2024-12-22T09:48:45.194Z"
   },
   {
    "duration": 10,
    "start_time": "2024-12-22T09:48:45.448Z"
   },
   {
    "duration": 37,
    "start_time": "2024-12-22T09:48:45.459Z"
   },
   {
    "duration": 5,
    "start_time": "2024-12-22T09:48:45.497Z"
   },
   {
    "duration": 173,
    "start_time": "2024-12-22T09:48:45.503Z"
   },
   {
    "duration": 7,
    "start_time": "2024-12-22T09:48:45.677Z"
   },
   {
    "duration": 113,
    "start_time": "2024-12-22T09:48:45.685Z"
   },
   {
    "duration": 12,
    "start_time": "2024-12-22T09:48:45.800Z"
   },
   {
    "duration": 7,
    "start_time": "2024-12-22T09:48:45.813Z"
   },
   {
    "duration": 8,
    "start_time": "2024-12-22T09:48:45.822Z"
   },
   {
    "duration": 281,
    "start_time": "2024-12-22T09:48:45.833Z"
   },
   {
    "duration": 202,
    "start_time": "2024-12-22T09:48:46.115Z"
   },
   {
    "duration": 339,
    "start_time": "2024-12-22T09:48:46.319Z"
   },
   {
    "duration": 225,
    "start_time": "2024-12-22T09:48:46.659Z"
   },
   {
    "duration": 348,
    "start_time": "2024-12-22T09:48:46.885Z"
   },
   {
    "duration": 5,
    "start_time": "2024-12-22T09:48:47.235Z"
   },
   {
    "duration": 5,
    "start_time": "2024-12-22T09:48:47.242Z"
   },
   {
    "duration": 197,
    "start_time": "2024-12-22T09:48:47.248Z"
   },
   {
    "duration": 4,
    "start_time": "2024-12-22T09:48:47.447Z"
   },
   {
    "duration": 148,
    "start_time": "2024-12-22T09:48:47.453Z"
   },
   {
    "duration": 10,
    "start_time": "2024-12-22T09:48:47.603Z"
   },
   {
    "duration": 98,
    "start_time": "2024-12-22T09:48:47.615Z"
   },
   {
    "duration": 105,
    "start_time": "2024-12-22T09:48:47.715Z"
   },
   {
    "duration": 23,
    "start_time": "2024-12-22T09:48:47.822Z"
   },
   {
    "duration": 174,
    "start_time": "2024-12-22T09:48:47.847Z"
   },
   {
    "duration": 5,
    "start_time": "2024-12-22T09:48:48.023Z"
   },
   {
    "duration": 21,
    "start_time": "2024-12-22T09:48:48.029Z"
   },
   {
    "duration": 24,
    "start_time": "2024-12-22T09:48:48.051Z"
   },
   {
    "duration": 10,
    "start_time": "2024-12-22T09:48:48.076Z"
   },
   {
    "duration": 8,
    "start_time": "2024-12-22T09:48:48.087Z"
   },
   {
    "duration": 40,
    "start_time": "2024-12-22T09:48:48.096Z"
   },
   {
    "duration": 32,
    "start_time": "2024-12-22T09:48:48.138Z"
   },
   {
    "duration": 12,
    "start_time": "2024-12-22T09:48:48.172Z"
   },
   {
    "duration": 315,
    "start_time": "2024-12-22T10:00:15.933Z"
   },
   {
    "duration": 365,
    "start_time": "2024-12-22T10:02:11.176Z"
   },
   {
    "duration": 21,
    "start_time": "2024-12-22T10:06:28.484Z"
   },
   {
    "duration": 23,
    "start_time": "2024-12-22T10:06:32.534Z"
   },
   {
    "duration": 22,
    "start_time": "2024-12-22T10:06:41.997Z"
   },
   {
    "duration": 10,
    "start_time": "2024-12-22T10:06:48.762Z"
   },
   {
    "duration": 11,
    "start_time": "2024-12-22T10:07:03.200Z"
   },
   {
    "duration": 21,
    "start_time": "2024-12-22T10:07:14.323Z"
   },
   {
    "duration": 12,
    "start_time": "2024-12-22T10:07:21.397Z"
   },
   {
    "duration": 21,
    "start_time": "2024-12-22T10:08:28.322Z"
   },
   {
    "duration": 22,
    "start_time": "2024-12-22T10:08:38.948Z"
   },
   {
    "duration": 10,
    "start_time": "2024-12-22T10:09:02.299Z"
   },
   {
    "duration": 10,
    "start_time": "2024-12-22T10:09:18.877Z"
   },
   {
    "duration": 22,
    "start_time": "2024-12-22T10:09:38.576Z"
   },
   {
    "duration": 55,
    "start_time": "2024-12-22T10:10:32.691Z"
   },
   {
    "duration": 23,
    "start_time": "2024-12-22T10:10:35.957Z"
   },
   {
    "duration": 21,
    "start_time": "2024-12-22T10:11:18.667Z"
   },
   {
    "duration": 13,
    "start_time": "2024-12-22T10:11:34.467Z"
   },
   {
    "duration": 15,
    "start_time": "2024-12-22T10:12:04.535Z"
   },
   {
    "duration": 13,
    "start_time": "2024-12-22T10:12:10.727Z"
   },
   {
    "duration": 13,
    "start_time": "2024-12-22T10:12:17.719Z"
   },
   {
    "duration": 1327,
    "start_time": "2024-12-22T10:55:35.226Z"
   },
   {
    "duration": 215,
    "start_time": "2024-12-22T10:55:36.555Z"
   },
   {
    "duration": 11,
    "start_time": "2024-12-22T10:55:36.772Z"
   },
   {
    "duration": 69,
    "start_time": "2024-12-22T10:55:36.785Z"
   },
   {
    "duration": 4,
    "start_time": "2024-12-22T10:55:36.856Z"
   },
   {
    "duration": 39,
    "start_time": "2024-12-22T10:55:36.862Z"
   },
   {
    "duration": 62,
    "start_time": "2024-12-22T10:55:36.903Z"
   },
   {
    "duration": 87,
    "start_time": "2024-12-22T10:55:36.967Z"
   },
   {
    "duration": 15,
    "start_time": "2024-12-22T10:55:37.056Z"
   },
   {
    "duration": 10,
    "start_time": "2024-12-22T10:55:37.074Z"
   },
   {
    "duration": 70,
    "start_time": "2024-12-22T10:55:37.085Z"
   },
   {
    "duration": 13,
    "start_time": "2024-12-22T10:55:37.158Z"
   },
   {
    "duration": 10,
    "start_time": "2024-12-22T10:55:37.173Z"
   },
   {
    "duration": 78,
    "start_time": "2024-12-22T10:55:37.185Z"
   },
   {
    "duration": 464,
    "start_time": "2024-12-22T10:55:37.265Z"
   },
   {
    "duration": 8,
    "start_time": "2024-12-22T10:55:37.731Z"
   },
   {
    "duration": 252,
    "start_time": "2024-12-22T10:55:37.752Z"
   },
   {
    "duration": 14,
    "start_time": "2024-12-22T10:55:38.005Z"
   },
   {
    "duration": 22,
    "start_time": "2024-12-22T10:55:38.020Z"
   },
   {
    "duration": 151,
    "start_time": "2024-12-22T10:55:38.043Z"
   },
   {
    "duration": 8,
    "start_time": "2024-12-22T10:55:38.196Z"
   },
   {
    "duration": 133,
    "start_time": "2024-12-22T10:55:38.205Z"
   },
   {
    "duration": 7,
    "start_time": "2024-12-22T10:55:38.340Z"
   },
   {
    "duration": 15,
    "start_time": "2024-12-22T10:55:38.348Z"
   },
   {
    "duration": 9,
    "start_time": "2024-12-22T10:55:38.365Z"
   },
   {
    "duration": 281,
    "start_time": "2024-12-22T10:55:38.375Z"
   },
   {
    "duration": 204,
    "start_time": "2024-12-22T10:55:38.658Z"
   },
   {
    "duration": 327,
    "start_time": "2024-12-22T10:55:38.866Z"
   },
   {
    "duration": 230,
    "start_time": "2024-12-22T10:55:39.195Z"
   },
   {
    "duration": 351,
    "start_time": "2024-12-22T10:55:39.426Z"
   },
   {
    "duration": 5,
    "start_time": "2024-12-22T10:55:39.779Z"
   },
   {
    "duration": 16,
    "start_time": "2024-12-22T10:55:39.786Z"
   },
   {
    "duration": 239,
    "start_time": "2024-12-22T10:55:39.803Z"
   },
   {
    "duration": 9,
    "start_time": "2024-12-22T10:55:40.044Z"
   },
   {
    "duration": 152,
    "start_time": "2024-12-22T10:55:40.054Z"
   },
   {
    "duration": 7,
    "start_time": "2024-12-22T10:55:40.207Z"
   },
   {
    "duration": 96,
    "start_time": "2024-12-22T10:55:40.215Z"
   },
   {
    "duration": 120,
    "start_time": "2024-12-22T10:55:40.313Z"
   },
   {
    "duration": 29,
    "start_time": "2024-12-22T10:55:40.435Z"
   },
   {
    "duration": 146,
    "start_time": "2024-12-22T10:55:40.465Z"
   },
   {
    "duration": 7,
    "start_time": "2024-12-22T10:55:40.612Z"
   },
   {
    "duration": 41,
    "start_time": "2024-12-22T10:55:40.620Z"
   },
   {
    "duration": 18,
    "start_time": "2024-12-22T10:55:40.663Z"
   },
   {
    "duration": 14,
    "start_time": "2024-12-22T10:55:40.683Z"
   },
   {
    "duration": 9,
    "start_time": "2024-12-22T10:55:40.699Z"
   },
   {
    "duration": 24,
    "start_time": "2024-12-22T10:55:40.709Z"
   },
   {
    "duration": 18,
    "start_time": "2024-12-22T10:55:40.735Z"
   },
   {
    "duration": 52,
    "start_time": "2024-12-22T10:58:49.538Z"
   },
   {
    "duration": 51,
    "start_time": "2024-12-23T06:44:37.132Z"
   },
   {
    "duration": 1231,
    "start_time": "2024-12-23T06:44:43.092Z"
   },
   {
    "duration": 203,
    "start_time": "2024-12-23T06:44:44.325Z"
   },
   {
    "duration": 11,
    "start_time": "2024-12-23T06:44:44.529Z"
   },
   {
    "duration": 26,
    "start_time": "2024-12-23T06:44:44.542Z"
   },
   {
    "duration": 4,
    "start_time": "2024-12-23T06:44:44.570Z"
   },
   {
    "duration": 14,
    "start_time": "2024-12-23T06:44:44.575Z"
   },
   {
    "duration": 10,
    "start_time": "2024-12-23T06:44:44.590Z"
   },
   {
    "duration": 9,
    "start_time": "2024-12-23T06:44:44.601Z"
   },
   {
    "duration": 7,
    "start_time": "2024-12-23T06:44:44.611Z"
   },
   {
    "duration": 17,
    "start_time": "2024-12-23T06:44:44.621Z"
   },
   {
    "duration": 20,
    "start_time": "2024-12-23T06:44:44.639Z"
   },
   {
    "duration": 13,
    "start_time": "2024-12-23T06:44:44.661Z"
   },
   {
    "duration": 8,
    "start_time": "2024-12-23T06:44:44.675Z"
   },
   {
    "duration": 8,
    "start_time": "2024-12-23T06:44:44.684Z"
   },
   {
    "duration": 283,
    "start_time": "2024-12-23T06:44:44.693Z"
   },
   {
    "duration": 8,
    "start_time": "2024-12-23T06:44:44.977Z"
   },
   {
    "duration": 257,
    "start_time": "2024-12-23T06:44:44.986Z"
   },
   {
    "duration": 14,
    "start_time": "2024-12-23T06:44:45.244Z"
   },
   {
    "duration": 61,
    "start_time": "2024-12-23T06:44:45.260Z"
   },
   {
    "duration": 35,
    "start_time": "2024-12-23T06:44:45.323Z"
   },
   {
    "duration": 160,
    "start_time": "2024-12-23T06:44:45.360Z"
   },
   {
    "duration": 8,
    "start_time": "2024-12-23T06:44:45.522Z"
   },
   {
    "duration": 165,
    "start_time": "2024-12-23T06:44:45.532Z"
   },
   {
    "duration": 9,
    "start_time": "2024-12-23T06:44:45.699Z"
   },
   {
    "duration": 10,
    "start_time": "2024-12-23T06:44:45.709Z"
   },
   {
    "duration": 20,
    "start_time": "2024-12-23T06:44:45.720Z"
   },
   {
    "duration": 377,
    "start_time": "2024-12-23T06:44:45.741Z"
   },
   {
    "duration": 242,
    "start_time": "2024-12-23T06:44:46.121Z"
   },
   {
    "duration": 340,
    "start_time": "2024-12-23T06:44:46.365Z"
   },
   {
    "duration": 253,
    "start_time": "2024-12-23T06:44:46.707Z"
   },
   {
    "duration": 325,
    "start_time": "2024-12-23T06:44:46.962Z"
   },
   {
    "duration": 5,
    "start_time": "2024-12-23T06:44:47.288Z"
   },
   {
    "duration": 10,
    "start_time": "2024-12-23T06:44:47.295Z"
   },
   {
    "duration": 213,
    "start_time": "2024-12-23T06:44:47.306Z"
   },
   {
    "duration": 5,
    "start_time": "2024-12-23T06:44:47.521Z"
   },
   {
    "duration": 164,
    "start_time": "2024-12-23T06:44:47.528Z"
   },
   {
    "duration": 4,
    "start_time": "2024-12-23T06:44:47.694Z"
   },
   {
    "duration": 85,
    "start_time": "2024-12-23T06:44:47.700Z"
   },
   {
    "duration": 155,
    "start_time": "2024-12-23T06:44:47.787Z"
   },
   {
    "duration": 26,
    "start_time": "2024-12-23T06:44:47.943Z"
   },
   {
    "duration": 130,
    "start_time": "2024-12-23T06:44:47.970Z"
   },
   {
    "duration": 5,
    "start_time": "2024-12-23T06:44:48.102Z"
   },
   {
    "duration": 21,
    "start_time": "2024-12-23T06:44:48.108Z"
   },
   {
    "duration": 31,
    "start_time": "2024-12-23T06:44:48.130Z"
   },
   {
    "duration": 8,
    "start_time": "2024-12-23T06:44:48.163Z"
   },
   {
    "duration": 12,
    "start_time": "2024-12-23T06:44:48.172Z"
   },
   {
    "duration": 20,
    "start_time": "2024-12-23T06:44:48.185Z"
   },
   {
    "duration": 13,
    "start_time": "2024-12-23T06:44:48.206Z"
   },
   {
    "duration": 5,
    "start_time": "2024-12-23T06:45:05.977Z"
   },
   {
    "duration": 4,
    "start_time": "2024-12-23T06:45:16.985Z"
   },
   {
    "duration": 4,
    "start_time": "2024-12-23T06:45:53.688Z"
   },
   {
    "duration": 4,
    "start_time": "2024-12-23T06:45:58.713Z"
   },
   {
    "duration": 116,
    "start_time": "2024-12-23T06:46:42.922Z"
   },
   {
    "duration": 4,
    "start_time": "2024-12-23T06:46:47.897Z"
   },
   {
    "duration": 8,
    "start_time": "2024-12-23T06:47:55.395Z"
   },
   {
    "duration": 4,
    "start_time": "2024-12-23T06:48:54.627Z"
   },
   {
    "duration": 4,
    "start_time": "2024-12-23T06:49:02.642Z"
   },
   {
    "duration": 7,
    "start_time": "2024-12-23T06:53:09.563Z"
   },
   {
    "duration": 4,
    "start_time": "2024-12-23T06:53:11.547Z"
   },
   {
    "duration": 4,
    "start_time": "2024-12-23T06:53:13.131Z"
   },
   {
    "duration": 3,
    "start_time": "2024-12-23T06:53:13.611Z"
   },
   {
    "duration": 3,
    "start_time": "2024-12-23T06:54:20.483Z"
   },
   {
    "duration": 4,
    "start_time": "2024-12-23T06:54:24.292Z"
   },
   {
    "duration": 4,
    "start_time": "2024-12-23T06:54:34.043Z"
   },
   {
    "duration": 10,
    "start_time": "2024-12-23T06:55:28.030Z"
   },
   {
    "duration": 4,
    "start_time": "2024-12-23T06:57:07.868Z"
   },
   {
    "duration": 54,
    "start_time": "2024-12-23T06:57:36.968Z"
   },
   {
    "duration": 3,
    "start_time": "2024-12-23T06:57:43.925Z"
   },
   {
    "duration": 3,
    "start_time": "2024-12-23T06:57:52.797Z"
   },
   {
    "duration": 62,
    "start_time": "2024-12-23T07:02:40.062Z"
   },
   {
    "duration": 13,
    "start_time": "2024-12-23T07:03:41.489Z"
   },
   {
    "duration": 11,
    "start_time": "2024-12-23T07:04:13.215Z"
   },
   {
    "duration": 11,
    "start_time": "2024-12-23T07:04:16.718Z"
   },
   {
    "duration": 71,
    "start_time": "2024-12-23T07:57:59.462Z"
   },
   {
    "duration": 686,
    "start_time": "2024-12-23T07:58:09.669Z"
   },
   {
    "duration": 52,
    "start_time": "2024-12-23T07:59:38.526Z"
   },
   {
    "duration": 10,
    "start_time": "2024-12-23T07:59:44.677Z"
   },
   {
    "duration": 4,
    "start_time": "2024-12-23T08:03:07.342Z"
   },
   {
    "duration": 11,
    "start_time": "2024-12-23T08:03:11.054Z"
   },
   {
    "duration": 15,
    "start_time": "2024-12-23T08:03:18.319Z"
   },
   {
    "duration": 5,
    "start_time": "2024-12-23T08:06:38.127Z"
   },
   {
    "duration": 5,
    "start_time": "2024-12-23T08:06:42.488Z"
   },
   {
    "duration": 5,
    "start_time": "2024-12-23T08:30:17.235Z"
   },
   {
    "duration": 5,
    "start_time": "2024-12-23T08:30:32.645Z"
   },
   {
    "duration": 5,
    "start_time": "2024-12-23T08:31:22.260Z"
   },
   {
    "duration": 9,
    "start_time": "2024-12-23T08:31:53.305Z"
   },
   {
    "duration": 3,
    "start_time": "2024-12-23T08:31:57.620Z"
   },
   {
    "duration": 3,
    "start_time": "2024-12-23T08:32:22.988Z"
   },
   {
    "duration": 4,
    "start_time": "2024-12-23T08:32:28.843Z"
   },
   {
    "duration": 3,
    "start_time": "2024-12-23T08:32:47.661Z"
   },
   {
    "duration": 3,
    "start_time": "2024-12-23T08:40:19.830Z"
   },
   {
    "duration": 4,
    "start_time": "2024-12-23T11:17:04.665Z"
   },
   {
    "duration": 8,
    "start_time": "2024-12-23T11:20:11.178Z"
   },
   {
    "duration": 7,
    "start_time": "2024-12-23T11:20:19.083Z"
   },
   {
    "duration": 8,
    "start_time": "2024-12-23T11:20:22.370Z"
   },
   {
    "duration": 8,
    "start_time": "2024-12-23T11:20:25.818Z"
   },
   {
    "duration": 7,
    "start_time": "2024-12-23T11:20:30.010Z"
   },
   {
    "duration": 7,
    "start_time": "2024-12-23T11:20:51.857Z"
   },
   {
    "duration": 10,
    "start_time": "2024-12-23T11:22:19.226Z"
   },
   {
    "duration": 9,
    "start_time": "2024-12-23T11:22:27.018Z"
   },
   {
    "duration": 3,
    "start_time": "2024-12-23T11:22:35.971Z"
   },
   {
    "duration": 10,
    "start_time": "2024-12-23T11:26:18.772Z"
   },
   {
    "duration": 11,
    "start_time": "2024-12-23T11:26:25.595Z"
   },
   {
    "duration": 1060,
    "start_time": "2024-12-23T11:27:04.882Z"
   },
   {
    "duration": 71,
    "start_time": "2024-12-23T11:27:05.945Z"
   },
   {
    "duration": 11,
    "start_time": "2024-12-23T11:27:06.018Z"
   },
   {
    "duration": 68,
    "start_time": "2024-12-23T11:27:06.031Z"
   },
   {
    "duration": 11,
    "start_time": "2024-12-23T11:27:06.101Z"
   },
   {
    "duration": 22,
    "start_time": "2024-12-23T11:27:06.113Z"
   },
   {
    "duration": 24,
    "start_time": "2024-12-23T11:27:06.137Z"
   },
   {
    "duration": 34,
    "start_time": "2024-12-23T11:27:06.163Z"
   },
   {
    "duration": 16,
    "start_time": "2024-12-23T11:27:06.198Z"
   },
   {
    "duration": 30,
    "start_time": "2024-12-23T11:27:06.217Z"
   },
   {
    "duration": 21,
    "start_time": "2024-12-23T11:27:06.248Z"
   },
   {
    "duration": 7,
    "start_time": "2024-12-23T11:27:06.271Z"
   },
   {
    "duration": 8,
    "start_time": "2024-12-23T11:27:06.279Z"
   },
   {
    "duration": 61,
    "start_time": "2024-12-23T11:27:06.289Z"
   },
   {
    "duration": 348,
    "start_time": "2024-12-23T11:27:06.351Z"
   },
   {
    "duration": 9,
    "start_time": "2024-12-23T11:27:06.701Z"
   },
   {
    "duration": 262,
    "start_time": "2024-12-23T11:27:06.711Z"
   },
   {
    "duration": 5,
    "start_time": "2024-12-23T11:27:06.975Z"
   },
   {
    "duration": 16,
    "start_time": "2024-12-23T11:27:06.981Z"
   },
   {
    "duration": 4,
    "start_time": "2024-12-23T11:27:06.999Z"
   },
   {
    "duration": 5,
    "start_time": "2024-12-23T11:27:07.005Z"
   },
   {
    "duration": 6,
    "start_time": "2024-12-23T11:27:07.011Z"
   },
   {
    "duration": 27,
    "start_time": "2024-12-23T11:27:07.019Z"
   },
   {
    "duration": 3,
    "start_time": "2024-12-23T11:27:07.048Z"
   },
   {
    "duration": 17,
    "start_time": "2024-12-23T11:27:07.053Z"
   },
   {
    "duration": 32,
    "start_time": "2024-12-23T11:27:07.071Z"
   },
   {
    "duration": 154,
    "start_time": "2024-12-23T11:27:07.104Z"
   },
   {
    "duration": 7,
    "start_time": "2024-12-23T11:27:07.262Z"
   },
   {
    "duration": 161,
    "start_time": "2024-12-23T11:27:07.270Z"
   },
   {
    "duration": 15,
    "start_time": "2024-12-23T11:27:07.433Z"
   },
   {
    "duration": 7,
    "start_time": "2024-12-23T11:27:07.449Z"
   },
   {
    "duration": 23,
    "start_time": "2024-12-23T11:27:07.458Z"
   },
   {
    "duration": 270,
    "start_time": "2024-12-23T11:27:07.483Z"
   },
   {
    "duration": 200,
    "start_time": "2024-12-23T11:27:07.754Z"
   },
   {
    "duration": 293,
    "start_time": "2024-12-23T11:27:07.955Z"
   },
   {
    "duration": 217,
    "start_time": "2024-12-23T11:27:08.249Z"
   },
   {
    "duration": 324,
    "start_time": "2024-12-23T11:27:08.467Z"
   },
   {
    "duration": 6,
    "start_time": "2024-12-23T11:27:08.793Z"
   },
   {
    "duration": 6,
    "start_time": "2024-12-23T11:27:08.800Z"
   },
   {
    "duration": 200,
    "start_time": "2024-12-23T11:27:08.807Z"
   },
   {
    "duration": 5,
    "start_time": "2024-12-23T11:27:09.009Z"
   },
   {
    "duration": 158,
    "start_time": "2024-12-23T11:27:09.015Z"
   },
   {
    "duration": 4,
    "start_time": "2024-12-23T11:27:09.174Z"
   },
   {
    "duration": 93,
    "start_time": "2024-12-23T11:27:09.180Z"
   },
   {
    "duration": 159,
    "start_time": "2024-12-23T11:27:09.274Z"
   },
   {
    "duration": 29,
    "start_time": "2024-12-23T11:27:09.435Z"
   },
   {
    "duration": 139,
    "start_time": "2024-12-23T11:27:09.466Z"
   },
   {
    "duration": 7,
    "start_time": "2024-12-23T11:27:09.607Z"
   },
   {
    "duration": 38,
    "start_time": "2024-12-23T11:27:09.615Z"
   },
   {
    "duration": 12,
    "start_time": "2024-12-23T11:27:09.654Z"
   },
   {
    "duration": 9,
    "start_time": "2024-12-23T11:27:09.667Z"
   },
   {
    "duration": 9,
    "start_time": "2024-12-23T11:27:09.677Z"
   },
   {
    "duration": 25,
    "start_time": "2024-12-23T11:27:09.687Z"
   },
   {
    "duration": 38,
    "start_time": "2024-12-23T11:27:09.713Z"
   },
   {
    "duration": 10,
    "start_time": "2024-12-23T11:27:23.069Z"
   },
   {
    "duration": 9,
    "start_time": "2024-12-23T11:27:28.453Z"
   },
   {
    "duration": 10,
    "start_time": "2024-12-23T11:27:38.356Z"
   },
   {
    "duration": 627,
    "start_time": "2024-12-23T11:27:57.540Z"
   },
   {
    "duration": 17,
    "start_time": "2024-12-23T11:28:05.490Z"
   },
   {
    "duration": 308,
    "start_time": "2024-12-23T11:28:18.357Z"
   },
   {
    "duration": 7,
    "start_time": "2024-12-23T11:28:27.717Z"
   },
   {
    "duration": 9,
    "start_time": "2024-12-23T11:28:36.701Z"
   },
   {
    "duration": 305,
    "start_time": "2024-12-23T11:28:42.813Z"
   },
   {
    "duration": 346,
    "start_time": "2024-12-23T11:28:48.109Z"
   },
   {
    "duration": 1100,
    "start_time": "2024-12-23T11:28:55.733Z"
   },
   {
    "duration": 70,
    "start_time": "2024-12-23T11:28:56.834Z"
   },
   {
    "duration": 11,
    "start_time": "2024-12-23T11:28:56.906Z"
   },
   {
    "duration": 13,
    "start_time": "2024-12-23T11:28:56.918Z"
   },
   {
    "duration": 6,
    "start_time": "2024-12-23T11:28:56.932Z"
   },
   {
    "duration": 22,
    "start_time": "2024-12-23T11:28:56.939Z"
   },
   {
    "duration": 12,
    "start_time": "2024-12-23T11:28:56.963Z"
   },
   {
    "duration": 9,
    "start_time": "2024-12-23T11:28:56.977Z"
   },
   {
    "duration": 6,
    "start_time": "2024-12-23T11:28:56.988Z"
   },
   {
    "duration": 15,
    "start_time": "2024-12-23T11:28:56.996Z"
   },
   {
    "duration": 7,
    "start_time": "2024-12-23T11:28:57.012Z"
   },
   {
    "duration": 17,
    "start_time": "2024-12-23T11:28:57.020Z"
   },
   {
    "duration": 15,
    "start_time": "2024-12-23T11:28:57.038Z"
   },
   {
    "duration": 9,
    "start_time": "2024-12-23T11:28:57.055Z"
   },
   {
    "duration": 283,
    "start_time": "2024-12-23T11:28:57.065Z"
   },
   {
    "duration": 8,
    "start_time": "2024-12-23T11:28:57.349Z"
   },
   {
    "duration": 262,
    "start_time": "2024-12-23T11:28:57.359Z"
   },
   {
    "duration": 5,
    "start_time": "2024-12-23T11:28:57.623Z"
   },
   {
    "duration": 17,
    "start_time": "2024-12-23T11:28:57.629Z"
   },
   {
    "duration": 4,
    "start_time": "2024-12-23T11:28:57.647Z"
   },
   {
    "duration": 6,
    "start_time": "2024-12-23T11:28:57.652Z"
   },
   {
    "duration": 5,
    "start_time": "2024-12-23T11:28:57.659Z"
   },
   {
    "duration": 5,
    "start_time": "2024-12-23T11:28:57.665Z"
   },
   {
    "duration": 4,
    "start_time": "2024-12-23T11:28:57.671Z"
   },
   {
    "duration": 15,
    "start_time": "2024-12-23T11:28:57.676Z"
   },
   {
    "duration": 15,
    "start_time": "2024-12-23T11:28:57.692Z"
   },
   {
    "duration": 40,
    "start_time": "2024-12-23T11:28:57.709Z"
   },
   {
    "duration": 178,
    "start_time": "2024-12-23T11:28:57.753Z"
   },
   {
    "duration": 7,
    "start_time": "2024-12-23T11:28:57.932Z"
   },
   {
    "duration": 121,
    "start_time": "2024-12-23T11:28:57.946Z"
   },
   {
    "duration": 8,
    "start_time": "2024-12-23T11:28:58.069Z"
   },
   {
    "duration": 7,
    "start_time": "2024-12-23T11:28:58.078Z"
   },
   {
    "duration": 8,
    "start_time": "2024-12-23T11:28:58.086Z"
   },
   {
    "duration": 284,
    "start_time": "2024-12-23T11:28:58.096Z"
   },
   {
    "duration": 211,
    "start_time": "2024-12-23T11:28:58.382Z"
   },
   {
    "duration": 303,
    "start_time": "2024-12-23T11:28:58.594Z"
   },
   {
    "duration": 230,
    "start_time": "2024-12-23T11:28:58.899Z"
   },
   {
    "duration": 353,
    "start_time": "2024-12-23T11:28:59.130Z"
   },
   {
    "duration": 7,
    "start_time": "2024-12-23T11:28:59.484Z"
   },
   {
    "duration": 6,
    "start_time": "2024-12-23T11:28:59.492Z"
   },
   {
    "duration": 197,
    "start_time": "2024-12-23T11:28:59.499Z"
   },
   {
    "duration": 5,
    "start_time": "2024-12-23T11:28:59.697Z"
   },
   {
    "duration": 155,
    "start_time": "2024-12-23T11:28:59.703Z"
   },
   {
    "duration": 4,
    "start_time": "2024-12-23T11:28:59.860Z"
   },
   {
    "duration": 103,
    "start_time": "2024-12-23T11:28:59.865Z"
   },
   {
    "duration": 109,
    "start_time": "2024-12-23T11:28:59.970Z"
   },
   {
    "duration": 22,
    "start_time": "2024-12-23T11:29:00.081Z"
   },
   {
    "duration": 142,
    "start_time": "2024-12-23T11:29:00.104Z"
   },
   {
    "duration": 6,
    "start_time": "2024-12-23T11:29:00.247Z"
   },
   {
    "duration": 54,
    "start_time": "2024-12-23T11:29:00.254Z"
   },
   {
    "duration": 17,
    "start_time": "2024-12-23T11:29:00.310Z"
   },
   {
    "duration": 8,
    "start_time": "2024-12-23T11:29:00.329Z"
   },
   {
    "duration": 118,
    "start_time": "2024-12-23T11:29:00.338Z"
   },
   {
    "duration": 41,
    "start_time": "2024-12-23T11:29:00.458Z"
   },
   {
    "duration": 12,
    "start_time": "2024-12-23T11:29:00.501Z"
   },
   {
    "duration": 9,
    "start_time": "2024-12-23T11:29:27.476Z"
   },
   {
    "duration": 412,
    "start_time": "2024-12-23T11:29:44.723Z"
   },
   {
    "duration": 296,
    "start_time": "2024-12-23T11:29:52.325Z"
   },
   {
    "duration": 1157,
    "start_time": "2024-12-23T11:30:05.306Z"
   },
   {
    "duration": 72,
    "start_time": "2024-12-23T11:30:06.465Z"
   },
   {
    "duration": 11,
    "start_time": "2024-12-23T11:30:06.539Z"
   },
   {
    "duration": 22,
    "start_time": "2024-12-23T11:30:06.552Z"
   },
   {
    "duration": 4,
    "start_time": "2024-12-23T11:30:06.575Z"
   },
   {
    "duration": 21,
    "start_time": "2024-12-23T11:30:06.580Z"
   },
   {
    "duration": 19,
    "start_time": "2024-12-23T11:30:06.603Z"
   },
   {
    "duration": 59,
    "start_time": "2024-12-23T11:30:06.623Z"
   },
   {
    "duration": 21,
    "start_time": "2024-12-23T11:30:06.684Z"
   },
   {
    "duration": 54,
    "start_time": "2024-12-23T11:30:06.708Z"
   },
   {
    "duration": 37,
    "start_time": "2024-12-23T11:30:06.763Z"
   },
   {
    "duration": 54,
    "start_time": "2024-12-23T11:30:06.802Z"
   },
   {
    "duration": 34,
    "start_time": "2024-12-23T11:30:06.858Z"
   },
   {
    "duration": 22,
    "start_time": "2024-12-23T11:30:06.893Z"
   },
   {
    "duration": 281,
    "start_time": "2024-12-23T11:30:06.917Z"
   },
   {
    "duration": 8,
    "start_time": "2024-12-23T11:30:07.199Z"
   },
   {
    "duration": 257,
    "start_time": "2024-12-23T11:30:07.209Z"
   },
   {
    "duration": 5,
    "start_time": "2024-12-23T11:30:07.468Z"
   },
   {
    "duration": 21,
    "start_time": "2024-12-23T11:30:07.474Z"
   },
   {
    "duration": 9,
    "start_time": "2024-12-23T11:30:07.497Z"
   },
   {
    "duration": 7,
    "start_time": "2024-12-23T11:30:07.507Z"
   },
   {
    "duration": 14,
    "start_time": "2024-12-23T11:30:07.515Z"
   },
   {
    "duration": 5,
    "start_time": "2024-12-23T11:30:07.530Z"
   },
   {
    "duration": 6,
    "start_time": "2024-12-23T11:30:07.536Z"
   },
   {
    "duration": 20,
    "start_time": "2024-12-23T11:30:07.544Z"
   },
   {
    "duration": 25,
    "start_time": "2024-12-23T11:30:07.566Z"
   },
   {
    "duration": 41,
    "start_time": "2024-12-23T11:30:07.592Z"
   },
   {
    "duration": 158,
    "start_time": "2024-12-23T11:30:07.637Z"
   },
   {
    "duration": 7,
    "start_time": "2024-12-23T11:30:07.797Z"
   },
   {
    "duration": 115,
    "start_time": "2024-12-23T11:30:07.806Z"
   },
   {
    "duration": 7,
    "start_time": "2024-12-23T11:30:07.923Z"
   },
   {
    "duration": 25,
    "start_time": "2024-12-23T11:30:07.931Z"
   },
   {
    "duration": 15,
    "start_time": "2024-12-23T11:30:07.957Z"
   },
   {
    "duration": 275,
    "start_time": "2024-12-23T11:30:07.974Z"
   },
   {
    "duration": 201,
    "start_time": "2024-12-23T11:30:08.251Z"
   },
   {
    "duration": 309,
    "start_time": "2024-12-23T11:30:08.453Z"
   },
   {
    "duration": 253,
    "start_time": "2024-12-23T11:30:08.764Z"
   },
   {
    "duration": 361,
    "start_time": "2024-12-23T11:30:09.019Z"
   },
   {
    "duration": 6,
    "start_time": "2024-12-23T11:30:09.382Z"
   },
   {
    "duration": 82,
    "start_time": "2024-12-23T11:30:09.390Z"
   },
   {
    "duration": 176,
    "start_time": "2024-12-23T11:30:09.474Z"
   },
   {
    "duration": 5,
    "start_time": "2024-12-23T11:30:09.652Z"
   },
   {
    "duration": 154,
    "start_time": "2024-12-23T11:30:09.658Z"
   },
   {
    "duration": 4,
    "start_time": "2024-12-23T11:30:09.813Z"
   },
   {
    "duration": 86,
    "start_time": "2024-12-23T11:30:09.819Z"
   },
   {
    "duration": 118,
    "start_time": "2024-12-23T11:30:09.907Z"
   },
   {
    "duration": 26,
    "start_time": "2024-12-23T11:30:10.027Z"
   },
   {
    "duration": 201,
    "start_time": "2024-12-23T11:30:10.055Z"
   },
   {
    "duration": 6,
    "start_time": "2024-12-23T11:30:10.257Z"
   },
   {
    "duration": 43,
    "start_time": "2024-12-23T11:30:10.264Z"
   },
   {
    "duration": 12,
    "start_time": "2024-12-23T11:30:10.308Z"
   },
   {
    "duration": 24,
    "start_time": "2024-12-23T11:30:10.321Z"
   },
   {
    "duration": 64,
    "start_time": "2024-12-23T11:30:10.346Z"
   },
   {
    "duration": 48,
    "start_time": "2024-12-23T11:30:10.412Z"
   },
   {
    "duration": 22,
    "start_time": "2024-12-23T11:30:10.462Z"
   },
   {
    "duration": 9,
    "start_time": "2024-12-23T11:30:25.773Z"
   },
   {
    "duration": 6,
    "start_time": "2024-12-23T11:30:47.734Z"
   },
   {
    "duration": 155,
    "start_time": "2024-12-23T11:31:06.541Z"
   },
   {
    "duration": 198,
    "start_time": "2024-12-23T11:31:36.837Z"
   },
   {
    "duration": 187,
    "start_time": "2024-12-23T11:31:41.228Z"
   },
   {
    "duration": 291,
    "start_time": "2024-12-23T11:31:50.957Z"
   },
   {
    "duration": 230,
    "start_time": "2024-12-23T11:31:58.846Z"
   },
   {
    "duration": 298,
    "start_time": "2024-12-23T11:32:15.382Z"
   },
   {
    "duration": 6,
    "start_time": "2024-12-23T11:32:36.118Z"
   },
   {
    "duration": 6,
    "start_time": "2024-12-23T11:32:38.390Z"
   },
   {
    "duration": 138,
    "start_time": "2024-12-23T11:32:51.831Z"
   },
   {
    "duration": 11,
    "start_time": "2024-12-23T11:33:05.645Z"
   },
   {
    "duration": 135,
    "start_time": "2024-12-23T11:35:06.991Z"
   },
   {
    "duration": 5,
    "start_time": "2024-12-23T11:35:28.901Z"
   },
   {
    "duration": 8,
    "start_time": "2024-12-23T11:39:39.376Z"
   },
   {
    "duration": 8,
    "start_time": "2024-12-23T11:40:04.480Z"
   },
   {
    "duration": 85,
    "start_time": "2024-12-23T11:43:43.425Z"
   },
   {
    "duration": 119,
    "start_time": "2024-12-23T11:44:20.938Z"
   },
   {
    "duration": 29,
    "start_time": "2024-12-23T11:44:24.546Z"
   },
   {
    "duration": 32,
    "start_time": "2024-12-23T11:44:40.664Z"
   },
   {
    "duration": 38,
    "start_time": "2024-12-23T11:49:32.019Z"
   },
   {
    "duration": 116,
    "start_time": "2024-12-23T11:50:05.263Z"
   },
   {
    "duration": 6,
    "start_time": "2024-12-23T11:50:10.513Z"
   },
   {
    "duration": 23,
    "start_time": "2024-12-23T11:50:21.171Z"
   },
   {
    "duration": 10,
    "start_time": "2024-12-23T11:50:54.530Z"
   },
   {
    "duration": 4,
    "start_time": "2024-12-23T11:51:24.730Z"
   },
   {
    "duration": 139,
    "start_time": "2024-12-23T11:52:12.604Z"
   },
   {
    "duration": 23,
    "start_time": "2024-12-23T11:52:21.459Z"
   },
   {
    "duration": 12,
    "start_time": "2024-12-23T11:53:03.054Z"
   },
   {
    "duration": 12,
    "start_time": "2024-12-23T11:53:25.756Z"
   },
   {
    "duration": 11,
    "start_time": "2024-12-23T11:53:34.154Z"
   },
   {
    "duration": 10,
    "start_time": "2024-12-23T11:55:16.868Z"
   },
   {
    "duration": 8,
    "start_time": "2024-12-23T11:55:55.867Z"
   },
   {
    "duration": 3,
    "start_time": "2024-12-23T11:57:59.117Z"
   },
   {
    "duration": 4,
    "start_time": "2024-12-23T11:58:14.837Z"
   },
   {
    "duration": 4,
    "start_time": "2024-12-23T11:58:30.612Z"
   },
   {
    "duration": 10,
    "start_time": "2024-12-23T11:59:22.954Z"
   },
   {
    "duration": 20,
    "start_time": "2024-12-23T12:00:15.637Z"
   },
   {
    "duration": 10,
    "start_time": "2024-12-23T12:01:11.468Z"
   },
   {
    "duration": 25,
    "start_time": "2024-12-23T12:01:59.324Z"
   },
   {
    "duration": 7,
    "start_time": "2024-12-23T12:02:01.789Z"
   },
   {
    "duration": 26,
    "start_time": "2024-12-23T12:02:03.448Z"
   },
   {
    "duration": 20,
    "start_time": "2024-12-23T12:02:32.390Z"
   },
   {
    "duration": 13,
    "start_time": "2024-12-23T12:03:23.958Z"
   },
   {
    "duration": 13,
    "start_time": "2024-12-23T12:04:07.252Z"
   },
   {
    "duration": 13,
    "start_time": "2024-12-23T12:04:16.543Z"
   },
   {
    "duration": 14,
    "start_time": "2024-12-23T12:04:19.078Z"
   },
   {
    "duration": 1109,
    "start_time": "2024-12-23T12:05:11.374Z"
   },
   {
    "duration": 71,
    "start_time": "2024-12-23T12:05:12.485Z"
   },
   {
    "duration": 25,
    "start_time": "2024-12-23T12:05:12.558Z"
   },
   {
    "duration": 28,
    "start_time": "2024-12-23T12:05:12.584Z"
   },
   {
    "duration": 27,
    "start_time": "2024-12-23T12:05:12.613Z"
   },
   {
    "duration": 15,
    "start_time": "2024-12-23T12:05:12.641Z"
   },
   {
    "duration": 10,
    "start_time": "2024-12-23T12:05:12.657Z"
   },
   {
    "duration": 14,
    "start_time": "2024-12-23T12:05:12.668Z"
   },
   {
    "duration": 10,
    "start_time": "2024-12-23T12:05:12.684Z"
   },
   {
    "duration": 12,
    "start_time": "2024-12-23T12:05:12.698Z"
   },
   {
    "duration": 34,
    "start_time": "2024-12-23T12:05:12.713Z"
   },
   {
    "duration": 121,
    "start_time": "2024-12-23T12:05:12.748Z"
   },
   {
    "duration": 9,
    "start_time": "2024-12-23T12:05:12.870Z"
   },
   {
    "duration": 9,
    "start_time": "2024-12-23T12:05:12.880Z"
   },
   {
    "duration": 278,
    "start_time": "2024-12-23T12:05:12.890Z"
   },
   {
    "duration": 8,
    "start_time": "2024-12-23T12:05:13.170Z"
   },
   {
    "duration": 252,
    "start_time": "2024-12-23T12:05:13.179Z"
   },
   {
    "duration": 5,
    "start_time": "2024-12-23T12:05:13.433Z"
   },
   {
    "duration": 4,
    "start_time": "2024-12-23T12:05:13.446Z"
   },
   {
    "duration": 9,
    "start_time": "2024-12-23T12:05:13.451Z"
   },
   {
    "duration": 6,
    "start_time": "2024-12-23T12:05:13.461Z"
   },
   {
    "duration": 5,
    "start_time": "2024-12-23T12:05:13.469Z"
   },
   {
    "duration": 7,
    "start_time": "2024-12-23T12:05:13.475Z"
   },
   {
    "duration": 7,
    "start_time": "2024-12-23T12:05:13.483Z"
   },
   {
    "duration": 24,
    "start_time": "2024-12-23T12:05:13.491Z"
   },
   {
    "duration": 24,
    "start_time": "2024-12-23T12:05:13.517Z"
   },
   {
    "duration": 154,
    "start_time": "2024-12-23T12:05:13.543Z"
   },
   {
    "duration": 7,
    "start_time": "2024-12-23T12:05:13.700Z"
   },
   {
    "duration": 111,
    "start_time": "2024-12-23T12:05:13.709Z"
   },
   {
    "duration": 7,
    "start_time": "2024-12-23T12:05:13.822Z"
   },
   {
    "duration": 18,
    "start_time": "2024-12-23T12:05:13.830Z"
   },
   {
    "duration": 8,
    "start_time": "2024-12-23T12:05:13.850Z"
   },
   {
    "duration": 275,
    "start_time": "2024-12-23T12:05:13.859Z"
   },
   {
    "duration": 206,
    "start_time": "2024-12-23T12:05:14.135Z"
   },
   {
    "duration": 285,
    "start_time": "2024-12-23T12:05:14.342Z"
   },
   {
    "duration": 214,
    "start_time": "2024-12-23T12:05:14.629Z"
   },
   {
    "duration": 323,
    "start_time": "2024-12-23T12:05:14.846Z"
   },
   {
    "duration": 7,
    "start_time": "2024-12-23T12:05:15.171Z"
   },
   {
    "duration": 16,
    "start_time": "2024-12-23T12:05:15.179Z"
   },
   {
    "duration": 226,
    "start_time": "2024-12-23T12:05:15.196Z"
   },
   {
    "duration": 5,
    "start_time": "2024-12-23T12:05:15.424Z"
   },
   {
    "duration": 144,
    "start_time": "2024-12-23T12:05:15.430Z"
   },
   {
    "duration": 4,
    "start_time": "2024-12-23T12:05:15.576Z"
   },
   {
    "duration": 228,
    "start_time": "2024-12-23T12:05:15.582Z"
   },
   {
    "duration": 101,
    "start_time": "2024-12-23T12:05:15.812Z"
   },
   {
    "duration": 35,
    "start_time": "2024-12-23T12:05:15.914Z"
   },
   {
    "duration": 127,
    "start_time": "2024-12-23T12:05:15.950Z"
   },
   {
    "duration": 6,
    "start_time": "2024-12-23T12:05:16.078Z"
   },
   {
    "duration": 22,
    "start_time": "2024-12-23T12:05:16.085Z"
   },
   {
    "duration": 38,
    "start_time": "2024-12-23T12:05:16.108Z"
   },
   {
    "duration": 9,
    "start_time": "2024-12-23T12:05:16.148Z"
   },
   {
    "duration": 89,
    "start_time": "2024-12-23T12:05:16.159Z"
   },
   {
    "duration": 37,
    "start_time": "2024-12-23T12:05:16.250Z"
   },
   {
    "duration": 25,
    "start_time": "2024-12-23T12:05:16.288Z"
   },
   {
    "duration": 301,
    "start_time": "2024-12-23T12:06:29.325Z"
   },
   {
    "duration": 314,
    "start_time": "2024-12-23T12:06:42.815Z"
   },
   {
    "duration": 269,
    "start_time": "2024-12-23T12:07:15.199Z"
   },
   {
    "duration": 10,
    "start_time": "2024-12-23T12:07:35.000Z"
   },
   {
    "duration": 140,
    "start_time": "2024-12-23T12:07:43.310Z"
   },
   {
    "duration": 131,
    "start_time": "2024-12-23T12:07:54.335Z"
   },
   {
    "duration": 131,
    "start_time": "2024-12-23T12:08:08.375Z"
   },
   {
    "duration": 11,
    "start_time": "2024-12-23T12:09:17.032Z"
   },
   {
    "duration": 1052,
    "start_time": "2024-12-23T12:10:07.984Z"
   },
   {
    "duration": 71,
    "start_time": "2024-12-23T12:10:09.039Z"
   },
   {
    "duration": 11,
    "start_time": "2024-12-23T12:10:09.111Z"
   },
   {
    "duration": 12,
    "start_time": "2024-12-23T12:10:09.123Z"
   },
   {
    "duration": 3,
    "start_time": "2024-12-23T12:10:09.137Z"
   },
   {
    "duration": 6,
    "start_time": "2024-12-23T12:10:09.142Z"
   },
   {
    "duration": 9,
    "start_time": "2024-12-23T12:10:09.149Z"
   },
   {
    "duration": 14,
    "start_time": "2024-12-23T12:10:09.159Z"
   },
   {
    "duration": 6,
    "start_time": "2024-12-23T12:10:09.175Z"
   },
   {
    "duration": 9,
    "start_time": "2024-12-23T12:10:09.182Z"
   },
   {
    "duration": 11,
    "start_time": "2024-12-23T12:10:09.192Z"
   },
   {
    "duration": 22,
    "start_time": "2024-12-23T12:10:09.204Z"
   },
   {
    "duration": 19,
    "start_time": "2024-12-23T12:10:09.228Z"
   },
   {
    "duration": 19,
    "start_time": "2024-12-23T12:10:09.249Z"
   },
   {
    "duration": 286,
    "start_time": "2024-12-23T12:10:09.269Z"
   },
   {
    "duration": 9,
    "start_time": "2024-12-23T12:10:09.556Z"
   },
   {
    "duration": 282,
    "start_time": "2024-12-23T12:10:09.566Z"
   },
   {
    "duration": 6,
    "start_time": "2024-12-23T12:10:09.849Z"
   },
   {
    "duration": 13,
    "start_time": "2024-12-23T12:10:09.856Z"
   },
   {
    "duration": 7,
    "start_time": "2024-12-23T12:10:09.871Z"
   },
   {
    "duration": 7,
    "start_time": "2024-12-23T12:10:09.879Z"
   },
   {
    "duration": 3,
    "start_time": "2024-12-23T12:10:09.888Z"
   },
   {
    "duration": 4,
    "start_time": "2024-12-23T12:10:09.893Z"
   },
   {
    "duration": 5,
    "start_time": "2024-12-23T12:10:09.898Z"
   },
   {
    "duration": 46,
    "start_time": "2024-12-23T12:10:09.905Z"
   },
   {
    "duration": 9,
    "start_time": "2024-12-23T12:10:09.952Z"
   },
   {
    "duration": 175,
    "start_time": "2024-12-23T12:10:09.962Z"
   },
   {
    "duration": 9,
    "start_time": "2024-12-23T12:10:10.138Z"
   },
   {
    "duration": 125,
    "start_time": "2024-12-23T12:10:10.148Z"
   },
   {
    "duration": 7,
    "start_time": "2024-12-23T12:10:10.274Z"
   },
   {
    "duration": 9,
    "start_time": "2024-12-23T12:10:10.283Z"
   },
   {
    "duration": 12,
    "start_time": "2024-12-23T12:10:10.293Z"
   },
   {
    "duration": 302,
    "start_time": "2024-12-23T12:10:10.307Z"
   },
   {
    "duration": 203,
    "start_time": "2024-12-23T12:10:10.611Z"
   },
   {
    "duration": 309,
    "start_time": "2024-12-23T12:10:10.815Z"
   },
   {
    "duration": 220,
    "start_time": "2024-12-23T12:10:11.126Z"
   },
   {
    "duration": 332,
    "start_time": "2024-12-23T12:10:11.347Z"
   },
   {
    "duration": 6,
    "start_time": "2024-12-23T12:10:11.680Z"
   },
   {
    "duration": 17,
    "start_time": "2024-12-23T12:10:11.688Z"
   },
   {
    "duration": 196,
    "start_time": "2024-12-23T12:10:11.706Z"
   },
   {
    "duration": 4,
    "start_time": "2024-12-23T12:10:11.906Z"
   },
   {
    "duration": 139,
    "start_time": "2024-12-23T12:10:11.912Z"
   },
   {
    "duration": 4,
    "start_time": "2024-12-23T12:10:12.053Z"
   },
   {
    "duration": 98,
    "start_time": "2024-12-23T12:10:12.059Z"
   },
   {
    "duration": 108,
    "start_time": "2024-12-23T12:10:12.159Z"
   },
   {
    "duration": 26,
    "start_time": "2024-12-23T12:10:12.268Z"
   },
   {
    "duration": 131,
    "start_time": "2024-12-23T12:10:12.296Z"
   },
   {
    "duration": 6,
    "start_time": "2024-12-23T12:10:12.429Z"
   },
   {
    "duration": 34,
    "start_time": "2024-12-23T12:10:12.446Z"
   },
   {
    "duration": 11,
    "start_time": "2024-12-23T12:10:12.481Z"
   },
   {
    "duration": 9,
    "start_time": "2024-12-23T12:10:12.493Z"
   },
   {
    "duration": 54,
    "start_time": "2024-12-23T12:10:12.504Z"
   },
   {
    "duration": 70,
    "start_time": "2024-12-23T12:10:12.560Z"
   },
   {
    "duration": 13,
    "start_time": "2024-12-23T12:10:12.631Z"
   },
   {
    "duration": 267,
    "start_time": "2024-12-23T13:04:41.659Z"
   },
   {
    "duration": 299,
    "start_time": "2024-12-23T13:04:52.314Z"
   },
   {
    "duration": 205,
    "start_time": "2024-12-23T13:05:00.658Z"
   },
   {
    "duration": 326,
    "start_time": "2024-12-23T13:05:20.946Z"
   },
   {
    "duration": 139,
    "start_time": "2024-12-23T13:06:02.121Z"
   },
   {
    "duration": 1117,
    "start_time": "2024-12-23T13:08:55.920Z"
   },
   {
    "duration": 70,
    "start_time": "2024-12-23T13:08:57.039Z"
   },
   {
    "duration": 11,
    "start_time": "2024-12-23T13:08:57.110Z"
   },
   {
    "duration": 11,
    "start_time": "2024-12-23T13:08:57.123Z"
   },
   {
    "duration": 3,
    "start_time": "2024-12-23T13:08:57.135Z"
   },
   {
    "duration": 8,
    "start_time": "2024-12-23T13:08:57.140Z"
   },
   {
    "duration": 40,
    "start_time": "2024-12-23T13:08:57.150Z"
   },
   {
    "duration": 9,
    "start_time": "2024-12-23T13:08:57.192Z"
   },
   {
    "duration": 6,
    "start_time": "2024-12-23T13:08:57.203Z"
   },
   {
    "duration": 9,
    "start_time": "2024-12-23T13:08:57.211Z"
   },
   {
    "duration": 6,
    "start_time": "2024-12-23T13:08:57.222Z"
   },
   {
    "duration": 5,
    "start_time": "2024-12-23T13:08:57.230Z"
   },
   {
    "duration": 10,
    "start_time": "2024-12-23T13:08:57.237Z"
   },
   {
    "duration": 19,
    "start_time": "2024-12-23T13:08:57.248Z"
   },
   {
    "duration": 265,
    "start_time": "2024-12-23T13:08:57.268Z"
   },
   {
    "duration": 15,
    "start_time": "2024-12-23T13:08:57.534Z"
   },
   {
    "duration": 252,
    "start_time": "2024-12-23T13:08:57.551Z"
   },
   {
    "duration": 6,
    "start_time": "2024-12-23T13:08:57.805Z"
   },
   {
    "duration": 4,
    "start_time": "2024-12-23T13:08:57.812Z"
   },
   {
    "duration": 3,
    "start_time": "2024-12-23T13:08:57.818Z"
   },
   {
    "duration": 24,
    "start_time": "2024-12-23T13:08:57.822Z"
   },
   {
    "duration": 4,
    "start_time": "2024-12-23T13:08:57.847Z"
   },
   {
    "duration": 15,
    "start_time": "2024-12-23T13:08:57.852Z"
   },
   {
    "duration": 8,
    "start_time": "2024-12-23T13:08:57.869Z"
   },
   {
    "duration": 20,
    "start_time": "2024-12-23T13:08:57.879Z"
   },
   {
    "duration": 13,
    "start_time": "2024-12-23T13:08:57.901Z"
   },
   {
    "duration": 146,
    "start_time": "2024-12-23T13:08:57.916Z"
   },
   {
    "duration": 8,
    "start_time": "2024-12-23T13:08:58.066Z"
   },
   {
    "duration": 116,
    "start_time": "2024-12-23T13:08:58.075Z"
   },
   {
    "duration": 6,
    "start_time": "2024-12-23T13:08:58.193Z"
   },
   {
    "duration": 6,
    "start_time": "2024-12-23T13:08:58.201Z"
   },
   {
    "duration": 8,
    "start_time": "2024-12-23T13:08:58.209Z"
   },
   {
    "duration": 283,
    "start_time": "2024-12-23T13:08:58.219Z"
   },
   {
    "duration": 205,
    "start_time": "2024-12-23T13:08:58.503Z"
   },
   {
    "duration": 316,
    "start_time": "2024-12-23T13:08:58.710Z"
   },
   {
    "duration": 212,
    "start_time": "2024-12-23T13:08:59.028Z"
   },
   {
    "duration": 334,
    "start_time": "2024-12-23T13:08:59.245Z"
   },
   {
    "duration": 5,
    "start_time": "2024-12-23T13:08:59.581Z"
   },
   {
    "duration": 63,
    "start_time": "2024-12-23T13:08:59.587Z"
   },
   {
    "duration": 215,
    "start_time": "2024-12-23T13:08:59.651Z"
   },
   {
    "duration": 4,
    "start_time": "2024-12-23T13:08:59.867Z"
   },
   {
    "duration": 141,
    "start_time": "2024-12-23T13:08:59.872Z"
   },
   {
    "duration": 6,
    "start_time": "2024-12-23T13:09:00.015Z"
   },
   {
    "duration": 132,
    "start_time": "2024-12-23T13:09:00.023Z"
   },
   {
    "duration": 133,
    "start_time": "2024-12-23T13:09:00.157Z"
   },
   {
    "duration": 25,
    "start_time": "2024-12-23T13:09:00.292Z"
   },
   {
    "duration": 124,
    "start_time": "2024-12-23T13:09:00.318Z"
   },
   {
    "duration": 7,
    "start_time": "2024-12-23T13:09:00.444Z"
   },
   {
    "duration": 105,
    "start_time": "2024-12-23T13:09:00.452Z"
   },
   {
    "duration": 52,
    "start_time": "2024-12-23T13:09:00.559Z"
   },
   {
    "duration": 16,
    "start_time": "2024-12-23T13:09:00.612Z"
   },
   {
    "duration": 40,
    "start_time": "2024-12-23T13:09:00.630Z"
   },
   {
    "duration": 26,
    "start_time": "2024-12-23T13:09:00.671Z"
   },
   {
    "duration": 12,
    "start_time": "2024-12-23T13:09:00.699Z"
   },
   {
    "duration": 1250,
    "start_time": "2024-12-24T06:10:10.265Z"
   },
   {
    "duration": 236,
    "start_time": "2024-12-24T06:10:11.521Z"
   },
   {
    "duration": 10,
    "start_time": "2024-12-24T06:10:11.762Z"
   },
   {
    "duration": 18,
    "start_time": "2024-12-24T06:10:11.774Z"
   },
   {
    "duration": 3,
    "start_time": "2024-12-24T06:10:11.794Z"
   },
   {
    "duration": 10,
    "start_time": "2024-12-24T06:10:11.798Z"
   },
   {
    "duration": 12,
    "start_time": "2024-12-24T06:10:11.810Z"
   },
   {
    "duration": 25,
    "start_time": "2024-12-24T06:10:11.823Z"
   },
   {
    "duration": 5,
    "start_time": "2024-12-24T06:10:11.851Z"
   },
   {
    "duration": 11,
    "start_time": "2024-12-24T06:10:11.858Z"
   },
   {
    "duration": 19,
    "start_time": "2024-12-24T06:10:11.871Z"
   },
   {
    "duration": 22,
    "start_time": "2024-12-24T06:10:11.891Z"
   },
   {
    "duration": 85,
    "start_time": "2024-12-24T06:10:11.915Z"
   },
   {
    "duration": 20,
    "start_time": "2024-12-24T06:10:12.002Z"
   },
   {
    "duration": 257,
    "start_time": "2024-12-24T06:10:12.023Z"
   },
   {
    "duration": 8,
    "start_time": "2024-12-24T06:10:12.281Z"
   },
   {
    "duration": 276,
    "start_time": "2024-12-24T06:10:12.290Z"
   },
   {
    "duration": 6,
    "start_time": "2024-12-24T06:10:12.568Z"
   },
   {
    "duration": 13,
    "start_time": "2024-12-24T06:10:12.576Z"
   },
   {
    "duration": 12,
    "start_time": "2024-12-24T06:10:12.590Z"
   },
   {
    "duration": 11,
    "start_time": "2024-12-24T06:10:12.604Z"
   },
   {
    "duration": 4,
    "start_time": "2024-12-24T06:10:12.617Z"
   },
   {
    "duration": 4,
    "start_time": "2024-12-24T06:10:12.623Z"
   },
   {
    "duration": 20,
    "start_time": "2024-12-24T06:10:12.628Z"
   },
   {
    "duration": 21,
    "start_time": "2024-12-24T06:10:12.649Z"
   },
   {
    "duration": 8,
    "start_time": "2024-12-24T06:10:12.671Z"
   },
   {
    "duration": 162,
    "start_time": "2024-12-24T06:10:12.683Z"
   },
   {
    "duration": 7,
    "start_time": "2024-12-24T06:10:12.847Z"
   },
   {
    "duration": 125,
    "start_time": "2024-12-24T06:10:12.856Z"
   },
   {
    "duration": 11,
    "start_time": "2024-12-24T06:10:12.982Z"
   },
   {
    "duration": 6,
    "start_time": "2024-12-24T06:10:12.995Z"
   },
   {
    "duration": 20,
    "start_time": "2024-12-24T06:10:13.003Z"
   },
   {
    "duration": 263,
    "start_time": "2024-12-24T06:10:13.025Z"
   },
   {
    "duration": 203,
    "start_time": "2024-12-24T06:10:13.290Z"
   },
   {
    "duration": 358,
    "start_time": "2024-12-24T06:10:13.495Z"
   },
   {
    "duration": 203,
    "start_time": "2024-12-24T06:10:13.855Z"
   },
   {
    "duration": 392,
    "start_time": "2024-12-24T06:10:14.059Z"
   },
   {
    "duration": 6,
    "start_time": "2024-12-24T06:10:14.452Z"
   },
   {
    "duration": 16,
    "start_time": "2024-12-24T06:10:14.460Z"
   },
   {
    "duration": 141,
    "start_time": "2024-12-24T06:10:14.477Z"
   },
   {
    "duration": 4,
    "start_time": "2024-12-24T06:10:14.622Z"
   },
   {
    "duration": 142,
    "start_time": "2024-12-24T06:10:14.627Z"
   },
   {
    "duration": 4,
    "start_time": "2024-12-24T06:10:14.771Z"
   },
   {
    "duration": 92,
    "start_time": "2024-12-24T06:10:14.777Z"
   },
   {
    "duration": 110,
    "start_time": "2024-12-24T06:10:14.870Z"
   },
   {
    "duration": 27,
    "start_time": "2024-12-24T06:10:14.981Z"
   },
   {
    "duration": 151,
    "start_time": "2024-12-24T06:10:15.009Z"
   },
   {
    "duration": 6,
    "start_time": "2024-12-24T06:10:15.161Z"
   },
   {
    "duration": 82,
    "start_time": "2024-12-24T06:10:15.168Z"
   },
   {
    "duration": 71,
    "start_time": "2024-12-24T06:10:15.252Z"
   },
   {
    "duration": 29,
    "start_time": "2024-12-24T06:10:15.324Z"
   },
   {
    "duration": 48,
    "start_time": "2024-12-24T06:10:15.354Z"
   },
   {
    "duration": 52,
    "start_time": "2024-12-24T06:10:15.403Z"
   },
   {
    "duration": 25,
    "start_time": "2024-12-24T06:10:15.456Z"
   },
   {
    "duration": 1060,
    "start_time": "2024-12-24T06:14:48.254Z"
   },
   {
    "duration": 77,
    "start_time": "2024-12-24T06:14:49.315Z"
   },
   {
    "duration": 10,
    "start_time": "2024-12-24T06:14:49.394Z"
   },
   {
    "duration": 17,
    "start_time": "2024-12-24T06:14:49.406Z"
   },
   {
    "duration": 5,
    "start_time": "2024-12-24T06:14:49.425Z"
   },
   {
    "duration": 8,
    "start_time": "2024-12-24T06:14:49.431Z"
   },
   {
    "duration": 8,
    "start_time": "2024-12-24T06:14:49.440Z"
   },
   {
    "duration": 9,
    "start_time": "2024-12-24T06:14:49.450Z"
   },
   {
    "duration": 8,
    "start_time": "2024-12-24T06:14:49.460Z"
   },
   {
    "duration": 21,
    "start_time": "2024-12-24T06:14:49.470Z"
   },
   {
    "duration": 9,
    "start_time": "2024-12-24T06:14:49.492Z"
   },
   {
    "duration": 21,
    "start_time": "2024-12-24T06:14:49.502Z"
   },
   {
    "duration": 36,
    "start_time": "2024-12-24T06:14:49.524Z"
   },
   {
    "duration": 76,
    "start_time": "2024-12-24T06:14:49.561Z"
   },
   {
    "duration": 249,
    "start_time": "2024-12-24T06:14:49.639Z"
   },
   {
    "duration": 7,
    "start_time": "2024-12-24T06:14:49.890Z"
   },
   {
    "duration": 234,
    "start_time": "2024-12-24T06:14:49.899Z"
   },
   {
    "duration": 5,
    "start_time": "2024-12-24T06:14:50.135Z"
   },
   {
    "duration": 27,
    "start_time": "2024-12-24T06:14:50.141Z"
   },
   {
    "duration": 34,
    "start_time": "2024-12-24T06:14:50.169Z"
   },
   {
    "duration": 42,
    "start_time": "2024-12-24T06:14:50.205Z"
   },
   {
    "duration": 22,
    "start_time": "2024-12-24T06:14:50.248Z"
   },
   {
    "duration": 32,
    "start_time": "2024-12-24T06:14:50.272Z"
   },
   {
    "duration": 15,
    "start_time": "2024-12-24T06:14:50.306Z"
   },
   {
    "duration": 110,
    "start_time": "2024-12-24T06:14:50.323Z"
   },
   {
    "duration": 27,
    "start_time": "2024-12-24T06:14:50.434Z"
   },
   {
    "duration": 152,
    "start_time": "2024-12-24T06:14:50.462Z"
   },
   {
    "duration": 11,
    "start_time": "2024-12-24T06:14:50.617Z"
   },
   {
    "duration": 112,
    "start_time": "2024-12-24T06:14:50.630Z"
   },
   {
    "duration": 7,
    "start_time": "2024-12-24T06:14:50.744Z"
   },
   {
    "duration": 13,
    "start_time": "2024-12-24T06:14:50.752Z"
   },
   {
    "duration": 63,
    "start_time": "2024-12-24T06:14:50.767Z"
   },
   {
    "duration": 262,
    "start_time": "2024-12-24T06:14:50.832Z"
   },
   {
    "duration": 193,
    "start_time": "2024-12-24T06:14:51.095Z"
   },
   {
    "duration": 304,
    "start_time": "2024-12-24T06:14:51.290Z"
   },
   {
    "duration": 210,
    "start_time": "2024-12-24T06:14:51.595Z"
   },
   {
    "duration": 336,
    "start_time": "2024-12-24T06:14:51.806Z"
   },
   {
    "duration": 7,
    "start_time": "2024-12-24T06:14:52.143Z"
   },
   {
    "duration": 27,
    "start_time": "2024-12-24T06:14:52.152Z"
   },
   {
    "duration": 230,
    "start_time": "2024-12-24T06:14:52.181Z"
   },
   {
    "duration": 12,
    "start_time": "2024-12-24T06:14:52.413Z"
   },
   {
    "duration": 145,
    "start_time": "2024-12-24T06:14:52.426Z"
   },
   {
    "duration": 4,
    "start_time": "2024-12-24T06:14:52.573Z"
   },
   {
    "duration": 117,
    "start_time": "2024-12-24T06:14:52.579Z"
   },
   {
    "duration": 104,
    "start_time": "2024-12-24T06:14:52.698Z"
   },
   {
    "duration": 30,
    "start_time": "2024-12-24T06:14:52.803Z"
   },
   {
    "duration": 108,
    "start_time": "2024-12-24T06:14:52.834Z"
   },
   {
    "duration": 5,
    "start_time": "2024-12-24T06:14:52.944Z"
   },
   {
    "duration": 55,
    "start_time": "2024-12-24T06:14:52.951Z"
   },
   {
    "duration": 48,
    "start_time": "2024-12-24T06:14:53.008Z"
   },
   {
    "duration": 28,
    "start_time": "2024-12-24T06:14:53.057Z"
   },
   {
    "duration": 48,
    "start_time": "2024-12-24T06:14:53.086Z"
   },
   {
    "duration": 36,
    "start_time": "2024-12-24T06:14:53.136Z"
   },
   {
    "duration": 41,
    "start_time": "2024-12-24T06:14:53.173Z"
   },
   {
    "duration": 1270,
    "start_time": "2025-01-04T12:12:08.109Z"
   },
   {
    "duration": 234,
    "start_time": "2025-01-04T12:12:09.381Z"
   },
   {
    "duration": 12,
    "start_time": "2025-01-04T12:12:09.617Z"
   },
   {
    "duration": 65,
    "start_time": "2025-01-04T12:12:09.631Z"
   },
   {
    "duration": 4,
    "start_time": "2025-01-04T12:12:09.698Z"
   },
   {
    "duration": 8,
    "start_time": "2025-01-04T12:12:09.703Z"
   },
   {
    "duration": 39,
    "start_time": "2025-01-04T12:12:09.712Z"
   },
   {
    "duration": 13,
    "start_time": "2025-01-04T12:12:09.753Z"
   },
   {
    "duration": 8,
    "start_time": "2025-01-04T12:12:09.768Z"
   },
   {
    "duration": 110,
    "start_time": "2025-01-04T12:12:09.779Z"
   },
   {
    "duration": 9,
    "start_time": "2025-01-04T12:12:09.891Z"
   },
   {
    "duration": 6,
    "start_time": "2025-01-04T12:12:09.902Z"
   },
   {
    "duration": 17,
    "start_time": "2025-01-04T12:12:09.909Z"
   },
   {
    "duration": 29,
    "start_time": "2025-01-04T12:12:09.927Z"
   },
   {
    "duration": 338,
    "start_time": "2025-01-04T12:12:09.958Z"
   },
   {
    "duration": 8,
    "start_time": "2025-01-04T12:12:10.298Z"
   },
   {
    "duration": 287,
    "start_time": "2025-01-04T12:12:10.308Z"
   },
   {
    "duration": 6,
    "start_time": "2025-01-04T12:12:10.597Z"
   },
   {
    "duration": 7,
    "start_time": "2025-01-04T12:12:10.604Z"
   },
   {
    "duration": 22,
    "start_time": "2025-01-04T12:12:10.612Z"
   },
   {
    "duration": 19,
    "start_time": "2025-01-04T12:12:10.636Z"
   },
   {
    "duration": 4,
    "start_time": "2025-01-04T12:12:10.659Z"
   },
   {
    "duration": 6,
    "start_time": "2025-01-04T12:12:10.665Z"
   },
   {
    "duration": 5,
    "start_time": "2025-01-04T12:12:10.672Z"
   },
   {
    "duration": 21,
    "start_time": "2025-01-04T12:12:10.679Z"
   },
   {
    "duration": 8,
    "start_time": "2025-01-04T12:12:10.702Z"
   },
   {
    "duration": 206,
    "start_time": "2025-01-04T12:12:10.712Z"
   },
   {
    "duration": 18,
    "start_time": "2025-01-04T12:12:10.922Z"
   },
   {
    "duration": 315,
    "start_time": "2025-01-04T12:12:10.942Z"
   },
   {
    "duration": 9,
    "start_time": "2025-01-04T12:12:11.262Z"
   },
   {
    "duration": 7,
    "start_time": "2025-01-04T12:12:11.272Z"
   },
   {
    "duration": 12,
    "start_time": "2025-01-04T12:12:11.281Z"
   },
   {
    "duration": 336,
    "start_time": "2025-01-04T12:12:11.295Z"
   },
   {
    "duration": 266,
    "start_time": "2025-01-04T12:12:11.633Z"
   },
   {
    "duration": 367,
    "start_time": "2025-01-04T12:12:11.901Z"
   },
   {
    "duration": 252,
    "start_time": "2025-01-04T12:12:12.270Z"
   },
   {
    "duration": 380,
    "start_time": "2025-01-04T12:12:12.524Z"
   },
   {
    "duration": 6,
    "start_time": "2025-01-04T12:12:12.906Z"
   },
   {
    "duration": 26,
    "start_time": "2025-01-04T12:12:12.914Z"
   },
   {
    "duration": 418,
    "start_time": "2025-01-04T12:12:12.944Z"
   },
   {
    "duration": 7,
    "start_time": "2025-01-04T12:12:13.363Z"
   },
   {
    "duration": 201,
    "start_time": "2025-01-04T12:12:13.372Z"
   },
   {
    "duration": 6,
    "start_time": "2025-01-04T12:12:13.575Z"
   },
   {
    "duration": 173,
    "start_time": "2025-01-04T12:12:13.582Z"
   },
   {
    "duration": 122,
    "start_time": "2025-01-04T12:12:13.758Z"
   },
   {
    "duration": 90,
    "start_time": "2025-01-04T12:12:13.881Z"
   },
   {
    "duration": 210,
    "start_time": "2025-01-04T12:12:13.974Z"
   },
   {
    "duration": 14,
    "start_time": "2025-01-04T12:12:14.185Z"
   },
   {
    "duration": 44,
    "start_time": "2025-01-04T12:12:14.200Z"
   },
   {
    "duration": 19,
    "start_time": "2025-01-04T12:12:14.247Z"
   },
   {
    "duration": 28,
    "start_time": "2025-01-04T12:12:14.268Z"
   },
   {
    "duration": 39,
    "start_time": "2025-01-04T12:12:14.298Z"
   },
   {
    "duration": 42,
    "start_time": "2025-01-04T12:12:14.339Z"
   },
   {
    "duration": 21,
    "start_time": "2025-01-04T12:12:14.383Z"
   },
   {
    "duration": 10,
    "start_time": "2025-01-04T12:13:33.827Z"
   },
   {
    "duration": 1160,
    "start_time": "2025-02-20T14:52:38.653Z"
   },
   {
    "duration": 172,
    "start_time": "2025-02-20T14:52:39.814Z"
   },
   {
    "duration": 11,
    "start_time": "2025-02-20T14:52:39.987Z"
   },
   {
    "duration": 11,
    "start_time": "2025-02-20T14:52:40.000Z"
   },
   {
    "duration": 3,
    "start_time": "2025-02-20T14:52:40.012Z"
   },
   {
    "duration": 15,
    "start_time": "2025-02-20T14:52:40.016Z"
   },
   {
    "duration": 18,
    "start_time": "2025-02-20T14:52:40.032Z"
   },
   {
    "duration": 9,
    "start_time": "2025-02-20T14:52:40.051Z"
   },
   {
    "duration": 7,
    "start_time": "2025-02-20T14:52:40.061Z"
   },
   {
    "duration": 16,
    "start_time": "2025-02-20T14:52:40.070Z"
   },
   {
    "duration": 8,
    "start_time": "2025-02-20T14:52:40.087Z"
   },
   {
    "duration": 16,
    "start_time": "2025-02-20T14:52:40.096Z"
   },
   {
    "duration": 12,
    "start_time": "2025-02-20T14:52:40.113Z"
   },
   {
    "duration": 18,
    "start_time": "2025-02-20T14:52:40.126Z"
   },
   {
    "duration": 274,
    "start_time": "2025-02-20T14:52:40.146Z"
   },
   {
    "duration": 9,
    "start_time": "2025-02-20T14:52:40.421Z"
   },
   {
    "duration": 259,
    "start_time": "2025-02-20T14:52:40.432Z"
   },
   {
    "duration": 16,
    "start_time": "2025-02-20T14:52:40.693Z"
   },
   {
    "duration": 3,
    "start_time": "2025-02-20T14:52:40.711Z"
   },
   {
    "duration": 4,
    "start_time": "2025-02-20T14:52:40.716Z"
   },
   {
    "duration": 4,
    "start_time": "2025-02-20T14:52:40.721Z"
   },
   {
    "duration": 6,
    "start_time": "2025-02-20T14:52:40.727Z"
   },
   {
    "duration": 4,
    "start_time": "2025-02-20T14:52:40.734Z"
   },
   {
    "duration": 5,
    "start_time": "2025-02-20T14:52:40.740Z"
   },
   {
    "duration": 21,
    "start_time": "2025-02-20T14:52:40.746Z"
   },
   {
    "duration": 6,
    "start_time": "2025-02-20T14:52:40.769Z"
   },
   {
    "duration": 190,
    "start_time": "2025-02-20T14:52:40.776Z"
   },
   {
    "duration": 9,
    "start_time": "2025-02-20T14:52:40.969Z"
   },
   {
    "duration": 124,
    "start_time": "2025-02-20T14:52:40.979Z"
   },
   {
    "duration": 8,
    "start_time": "2025-02-20T14:52:41.108Z"
   },
   {
    "duration": 15,
    "start_time": "2025-02-20T14:52:41.118Z"
   },
   {
    "duration": 16,
    "start_time": "2025-02-20T14:52:41.134Z"
   },
   {
    "duration": 299,
    "start_time": "2025-02-20T14:52:41.152Z"
   },
   {
    "duration": 215,
    "start_time": "2025-02-20T14:52:41.453Z"
   },
   {
    "duration": 325,
    "start_time": "2025-02-20T14:52:41.670Z"
   },
   {
    "duration": 226,
    "start_time": "2025-02-20T14:52:41.997Z"
   },
   {
    "duration": 337,
    "start_time": "2025-02-20T14:52:42.225Z"
   },
   {
    "duration": 6,
    "start_time": "2025-02-20T14:52:42.563Z"
   },
   {
    "duration": 5,
    "start_time": "2025-02-20T14:52:42.571Z"
   },
   {
    "duration": 242,
    "start_time": "2025-02-20T14:52:42.578Z"
   },
   {
    "duration": 5,
    "start_time": "2025-02-20T14:52:42.822Z"
   },
   {
    "duration": 156,
    "start_time": "2025-02-20T14:52:42.828Z"
   },
   {
    "duration": 4,
    "start_time": "2025-02-20T14:52:42.986Z"
   },
   {
    "duration": 96,
    "start_time": "2025-02-20T14:52:42.991Z"
   },
   {
    "duration": 120,
    "start_time": "2025-02-20T14:52:43.089Z"
   },
   {
    "duration": 27,
    "start_time": "2025-02-20T14:52:43.211Z"
   },
   {
    "duration": 136,
    "start_time": "2025-02-20T14:52:43.239Z"
   },
   {
    "duration": 6,
    "start_time": "2025-02-20T14:52:43.376Z"
   },
   {
    "duration": 39,
    "start_time": "2025-02-20T14:52:43.383Z"
   },
   {
    "duration": 11,
    "start_time": "2025-02-20T14:52:43.423Z"
   },
   {
    "duration": 10,
    "start_time": "2025-02-20T14:52:43.435Z"
   },
   {
    "duration": 7,
    "start_time": "2025-02-20T14:52:43.446Z"
   },
   {
    "duration": 4,
    "start_time": "2025-02-20T14:52:43.455Z"
   },
   {
    "duration": 57,
    "start_time": "2025-02-20T14:52:43.461Z"
   },
   {
    "duration": 12,
    "start_time": "2025-02-20T14:52:43.520Z"
   },
   {
    "duration": 1239,
    "start_time": "2025-02-21T13:05:35.387Z"
   },
   {
    "duration": 78,
    "start_time": "2025-02-21T13:05:36.628Z"
   },
   {
    "duration": 13,
    "start_time": "2025-02-21T13:05:36.708Z"
   },
   {
    "duration": 56,
    "start_time": "2025-02-21T13:05:36.723Z"
   },
   {
    "duration": 4,
    "start_time": "2025-02-21T13:05:36.781Z"
   },
   {
    "duration": 49,
    "start_time": "2025-02-21T13:05:36.787Z"
   },
   {
    "duration": 25,
    "start_time": "2025-02-21T13:05:36.838Z"
   },
   {
    "duration": 20,
    "start_time": "2025-02-21T13:05:36.865Z"
   },
   {
    "duration": 32,
    "start_time": "2025-02-21T13:05:36.887Z"
   },
   {
    "duration": 26,
    "start_time": "2025-02-21T13:05:36.922Z"
   },
   {
    "duration": 49,
    "start_time": "2025-02-21T13:05:36.950Z"
   },
   {
    "duration": 36,
    "start_time": "2025-02-21T13:05:37.002Z"
   },
   {
    "duration": 14,
    "start_time": "2025-02-21T13:05:37.040Z"
   },
   {
    "duration": 39,
    "start_time": "2025-02-21T13:05:37.057Z"
   },
   {
    "duration": 316,
    "start_time": "2025-02-21T13:05:37.098Z"
   },
   {
    "duration": 9,
    "start_time": "2025-02-21T13:05:37.415Z"
   },
   {
    "duration": 321,
    "start_time": "2025-02-21T13:05:37.433Z"
   },
   {
    "duration": 9,
    "start_time": "2025-02-21T13:05:37.756Z"
   },
   {
    "duration": 17,
    "start_time": "2025-02-21T13:05:37.766Z"
   },
   {
    "duration": 8,
    "start_time": "2025-02-21T13:05:37.786Z"
   },
   {
    "duration": 7,
    "start_time": "2025-02-21T13:05:37.796Z"
   },
   {
    "duration": 4,
    "start_time": "2025-02-21T13:05:37.805Z"
   },
   {
    "duration": 28,
    "start_time": "2025-02-21T13:05:37.811Z"
   },
   {
    "duration": 5,
    "start_time": "2025-02-21T13:05:37.841Z"
   },
   {
    "duration": 33,
    "start_time": "2025-02-21T13:05:37.848Z"
   },
   {
    "duration": 26,
    "start_time": "2025-02-21T13:05:37.883Z"
   },
   {
    "duration": 168,
    "start_time": "2025-02-21T13:05:37.910Z"
   },
   {
    "duration": 9,
    "start_time": "2025-02-21T13:05:38.082Z"
   },
   {
    "duration": 153,
    "start_time": "2025-02-21T13:05:38.092Z"
   },
   {
    "duration": 9,
    "start_time": "2025-02-21T13:05:38.246Z"
   },
   {
    "duration": 30,
    "start_time": "2025-02-21T13:05:38.257Z"
   },
   {
    "duration": 36,
    "start_time": "2025-02-21T13:05:38.289Z"
   },
   {
    "duration": 341,
    "start_time": "2025-02-21T13:05:38.327Z"
   },
   {
    "duration": 251,
    "start_time": "2025-02-21T13:05:38.670Z"
   },
   {
    "duration": 370,
    "start_time": "2025-02-21T13:05:38.923Z"
   },
   {
    "duration": 270,
    "start_time": "2025-02-21T13:05:39.295Z"
   },
   {
    "duration": 370,
    "start_time": "2025-02-21T13:05:39.568Z"
   },
   {
    "duration": 7,
    "start_time": "2025-02-21T13:05:39.940Z"
   },
   {
    "duration": 7,
    "start_time": "2025-02-21T13:05:39.949Z"
   },
   {
    "duration": 286,
    "start_time": "2025-02-21T13:05:39.958Z"
   },
   {
    "duration": 6,
    "start_time": "2025-02-21T13:05:40.246Z"
   },
   {
    "duration": 181,
    "start_time": "2025-02-21T13:05:40.254Z"
   },
   {
    "duration": 5,
    "start_time": "2025-02-21T13:05:40.437Z"
   },
   {
    "duration": 126,
    "start_time": "2025-02-21T13:05:40.444Z"
   },
   {
    "duration": 135,
    "start_time": "2025-02-21T13:05:40.572Z"
   },
   {
    "duration": 44,
    "start_time": "2025-02-21T13:05:40.708Z"
   },
   {
    "duration": 144,
    "start_time": "2025-02-21T13:05:40.753Z"
   },
   {
    "duration": 8,
    "start_time": "2025-02-21T13:05:40.898Z"
   },
   {
    "duration": 42,
    "start_time": "2025-02-21T13:05:40.908Z"
   },
   {
    "duration": 13,
    "start_time": "2025-02-21T13:05:40.952Z"
   },
   {
    "duration": 23,
    "start_time": "2025-02-21T13:05:40.967Z"
   },
   {
    "duration": 18,
    "start_time": "2025-02-21T13:05:40.992Z"
   },
   {
    "duration": 27,
    "start_time": "2025-02-21T13:05:41.012Z"
   },
   {
    "duration": 41,
    "start_time": "2025-02-21T13:05:41.041Z"
   },
   {
    "duration": 17,
    "start_time": "2025-02-21T13:05:41.084Z"
   },
   {
    "duration": 6,
    "start_time": "2025-02-21T13:06:02.539Z"
   },
   {
    "duration": 10,
    "start_time": "2025-02-21T13:07:00.254Z"
   },
   {
    "duration": 9,
    "start_time": "2025-02-21T14:26:40.819Z"
   },
   {
    "duration": 5,
    "start_time": "2025-02-21T14:35:03.954Z"
   },
   {
    "duration": 4,
    "start_time": "2025-02-21T14:35:09.059Z"
   },
   {
    "duration": 5,
    "start_time": "2025-02-21T14:38:36.260Z"
   },
   {
    "duration": 5,
    "start_time": "2025-02-21T14:38:43.353Z"
   },
   {
    "duration": 5,
    "start_time": "2025-02-21T14:39:54.817Z"
   },
   {
    "duration": 5,
    "start_time": "2025-02-21T14:40:17.037Z"
   },
   {
    "duration": 6,
    "start_time": "2025-02-21T14:40:31.150Z"
   },
   {
    "duration": 1120,
    "start_time": "2025-02-22T07:23:18.689Z"
   },
   {
    "duration": 63,
    "start_time": "2025-02-22T07:23:19.811Z"
   },
   {
    "duration": 11,
    "start_time": "2025-02-22T07:23:19.875Z"
   },
   {
    "duration": 14,
    "start_time": "2025-02-22T07:23:19.887Z"
   },
   {
    "duration": 3,
    "start_time": "2025-02-22T07:23:19.903Z"
   },
   {
    "duration": 12,
    "start_time": "2025-02-22T07:23:19.908Z"
   },
   {
    "duration": 10,
    "start_time": "2025-02-22T07:23:19.922Z"
   },
   {
    "duration": 8,
    "start_time": "2025-02-22T07:23:19.933Z"
   },
   {
    "duration": 8,
    "start_time": "2025-02-22T07:23:19.942Z"
   },
   {
    "duration": 9,
    "start_time": "2025-02-22T07:23:19.952Z"
   },
   {
    "duration": 10,
    "start_time": "2025-02-22T07:23:19.962Z"
   },
   {
    "duration": 12,
    "start_time": "2025-02-22T07:23:19.973Z"
   },
   {
    "duration": 27,
    "start_time": "2025-02-22T07:23:19.987Z"
   },
   {
    "duration": 13,
    "start_time": "2025-02-22T07:23:20.015Z"
   },
   {
    "duration": 282,
    "start_time": "2025-02-22T07:23:20.030Z"
   },
   {
    "duration": 12,
    "start_time": "2025-02-22T07:23:20.313Z"
   },
   {
    "duration": 251,
    "start_time": "2025-02-22T07:23:20.326Z"
   },
   {
    "duration": 6,
    "start_time": "2025-02-22T07:23:20.578Z"
   },
   {
    "duration": 28,
    "start_time": "2025-02-22T07:23:20.585Z"
   },
   {
    "duration": 10,
    "start_time": "2025-02-22T07:23:20.615Z"
   },
   {
    "duration": 7,
    "start_time": "2025-02-22T07:23:20.627Z"
   },
   {
    "duration": 15,
    "start_time": "2025-02-22T07:23:20.635Z"
   },
   {
    "duration": 5,
    "start_time": "2025-02-22T07:23:20.652Z"
   },
   {
    "duration": 3,
    "start_time": "2025-02-22T07:23:20.659Z"
   },
   {
    "duration": 22,
    "start_time": "2025-02-22T07:23:20.664Z"
   },
   {
    "duration": 27,
    "start_time": "2025-02-22T07:23:20.688Z"
   },
   {
    "duration": 169,
    "start_time": "2025-02-22T07:23:20.716Z"
   },
   {
    "duration": 7,
    "start_time": "2025-02-22T07:23:20.889Z"
   },
   {
    "duration": 114,
    "start_time": "2025-02-22T07:23:20.909Z"
   },
   {
    "duration": 7,
    "start_time": "2025-02-22T07:23:21.024Z"
   },
   {
    "duration": 12,
    "start_time": "2025-02-22T07:23:21.032Z"
   },
   {
    "duration": 13,
    "start_time": "2025-02-22T07:23:21.045Z"
   },
   {
    "duration": 302,
    "start_time": "2025-02-22T07:23:21.059Z"
   },
   {
    "duration": 216,
    "start_time": "2025-02-22T07:23:21.363Z"
   },
   {
    "duration": 312,
    "start_time": "2025-02-22T07:23:21.581Z"
   },
   {
    "duration": 233,
    "start_time": "2025-02-22T07:23:21.895Z"
   },
   {
    "duration": 337,
    "start_time": "2025-02-22T07:23:22.130Z"
   },
   {
    "duration": 7,
    "start_time": "2025-02-22T07:23:22.469Z"
   },
   {
    "duration": 24,
    "start_time": "2025-02-22T07:23:22.477Z"
   },
   {
    "duration": 215,
    "start_time": "2025-02-22T07:23:22.503Z"
   },
   {
    "duration": 4,
    "start_time": "2025-02-22T07:23:22.720Z"
   },
   {
    "duration": 151,
    "start_time": "2025-02-22T07:23:22.726Z"
   },
   {
    "duration": 4,
    "start_time": "2025-02-22T07:23:22.879Z"
   },
   {
    "duration": 103,
    "start_time": "2025-02-22T07:23:22.885Z"
   },
   {
    "duration": 148,
    "start_time": "2025-02-22T07:23:22.990Z"
   },
   {
    "duration": 29,
    "start_time": "2025-02-22T07:23:23.139Z"
   },
   {
    "duration": 146,
    "start_time": "2025-02-22T07:23:23.170Z"
   },
   {
    "duration": 4,
    "start_time": "2025-02-22T07:23:23.318Z"
   },
   {
    "duration": 10,
    "start_time": "2025-02-22T07:23:23.323Z"
   },
   {
    "duration": 5,
    "start_time": "2025-02-22T07:23:23.335Z"
   },
   {
    "duration": 4,
    "start_time": "2025-02-22T07:23:23.342Z"
   },
   {
    "duration": 28,
    "start_time": "2025-02-22T07:23:23.347Z"
   },
   {
    "duration": 36,
    "start_time": "2025-02-22T07:23:23.376Z"
   },
   {
    "duration": 10,
    "start_time": "2025-02-22T07:23:23.413Z"
   },
   {
    "duration": 8,
    "start_time": "2025-02-22T07:23:23.424Z"
   },
   {
    "duration": 4,
    "start_time": "2025-02-22T07:23:23.434Z"
   },
   {
    "duration": 30,
    "start_time": "2025-02-22T07:23:23.439Z"
   },
   {
    "duration": 38,
    "start_time": "2025-02-22T07:23:23.471Z"
   },
   {
    "duration": 1206,
    "start_time": "2025-03-21T16:35:33.625Z"
   },
   {
    "duration": 45,
    "start_time": "2025-03-21T16:35:34.832Z"
   },
   {
    "duration": 12,
    "start_time": "2025-03-21T16:35:34.878Z"
   },
   {
    "duration": 12,
    "start_time": "2025-03-21T16:35:34.892Z"
   },
   {
    "duration": 76,
    "start_time": "2025-03-21T16:35:34.906Z"
   },
   {
    "duration": 11,
    "start_time": "2025-03-21T16:35:34.984Z"
   },
   {
    "duration": 47,
    "start_time": "2025-03-21T16:35:34.997Z"
   },
   {
    "duration": 50,
    "start_time": "2025-03-21T16:35:35.045Z"
   },
   {
    "duration": 18,
    "start_time": "2025-03-21T16:35:35.097Z"
   },
   {
    "duration": 16,
    "start_time": "2025-03-21T16:35:35.118Z"
   },
   {
    "duration": 9,
    "start_time": "2025-03-21T16:35:35.136Z"
   },
   {
    "duration": 6,
    "start_time": "2025-03-21T16:35:35.147Z"
   },
   {
    "duration": 8,
    "start_time": "2025-03-21T16:35:35.155Z"
   },
   {
    "duration": 8,
    "start_time": "2025-03-21T16:35:35.165Z"
   },
   {
    "duration": 300,
    "start_time": "2025-03-21T16:35:35.175Z"
   },
   {
    "duration": 9,
    "start_time": "2025-03-21T16:35:35.477Z"
   },
   {
    "duration": 256,
    "start_time": "2025-03-21T16:35:35.487Z"
   },
   {
    "duration": 5,
    "start_time": "2025-03-21T16:35:35.745Z"
   },
   {
    "duration": 127,
    "start_time": "2025-03-21T16:35:35.751Z"
   },
   {
    "duration": 11,
    "start_time": "2025-03-21T16:35:35.880Z"
   },
   {
    "duration": 7,
    "start_time": "2025-03-21T16:35:35.892Z"
   },
   {
    "duration": 4,
    "start_time": "2025-03-21T16:35:35.900Z"
   },
   {
    "duration": 26,
    "start_time": "2025-03-21T16:35:35.906Z"
   },
   {
    "duration": 10,
    "start_time": "2025-03-21T16:35:35.934Z"
   },
   {
    "duration": 21,
    "start_time": "2025-03-21T16:35:35.945Z"
   },
   {
    "duration": 24,
    "start_time": "2025-03-21T16:35:35.968Z"
   },
   {
    "duration": 155,
    "start_time": "2025-03-21T16:35:35.993Z"
   },
   {
    "duration": 8,
    "start_time": "2025-03-21T16:35:36.151Z"
   },
   {
    "duration": 130,
    "start_time": "2025-03-21T16:35:36.161Z"
   },
   {
    "duration": 7,
    "start_time": "2025-03-21T16:35:36.293Z"
   },
   {
    "duration": 7,
    "start_time": "2025-03-21T16:35:36.301Z"
   },
   {
    "duration": 14,
    "start_time": "2025-03-21T16:35:36.309Z"
   },
   {
    "duration": 318,
    "start_time": "2025-03-21T16:35:36.335Z"
   },
   {
    "duration": 211,
    "start_time": "2025-03-21T16:35:36.654Z"
   },
   {
    "duration": 295,
    "start_time": "2025-03-21T16:35:36.867Z"
   },
   {
    "duration": 226,
    "start_time": "2025-03-21T16:35:37.164Z"
   },
   {
    "duration": 372,
    "start_time": "2025-03-21T16:35:37.392Z"
   },
   {
    "duration": 8,
    "start_time": "2025-03-21T16:35:37.766Z"
   },
   {
    "duration": 80,
    "start_time": "2025-03-21T16:35:37.775Z"
   },
   {
    "duration": 206,
    "start_time": "2025-03-21T16:35:37.857Z"
   },
   {
    "duration": 5,
    "start_time": "2025-03-21T16:35:38.065Z"
   },
   {
    "duration": 143,
    "start_time": "2025-03-21T16:35:38.072Z"
   },
   {
    "duration": 5,
    "start_time": "2025-03-21T16:35:38.217Z"
   },
   {
    "duration": 102,
    "start_time": "2025-03-21T16:35:38.235Z"
   },
   {
    "duration": 112,
    "start_time": "2025-03-21T16:35:38.338Z"
   },
   {
    "duration": 26,
    "start_time": "2025-03-21T16:35:38.451Z"
   },
   {
    "duration": 141,
    "start_time": "2025-03-21T16:35:38.478Z"
   },
   {
    "duration": 18,
    "start_time": "2025-03-21T16:35:38.620Z"
   },
   {
    "duration": 68,
    "start_time": "2025-03-21T16:35:38.639Z"
   },
   {
    "duration": 102,
    "start_time": "2025-03-21T16:35:38.709Z"
   },
   {
    "duration": 5,
    "start_time": "2025-03-21T16:35:38.812Z"
   },
   {
    "duration": 25,
    "start_time": "2025-03-21T16:35:38.818Z"
   },
   {
    "duration": 10,
    "start_time": "2025-03-21T16:35:38.845Z"
   },
   {
    "duration": 8,
    "start_time": "2025-03-21T16:35:38.857Z"
   },
   {
    "duration": 7,
    "start_time": "2025-03-21T16:35:38.867Z"
   },
   {
    "duration": 5,
    "start_time": "2025-03-21T16:35:38.875Z"
   },
   {
    "duration": 54,
    "start_time": "2025-03-21T16:35:38.881Z"
   },
   {
    "duration": 41,
    "start_time": "2025-03-21T16:35:38.937Z"
   },
   {
    "duration": 1210,
    "start_time": "2025-03-21T16:55:53.617Z"
   },
   {
    "duration": 66,
    "start_time": "2025-03-21T16:55:54.829Z"
   },
   {
    "duration": 11,
    "start_time": "2025-03-21T16:55:54.897Z"
   },
   {
    "duration": 11,
    "start_time": "2025-03-21T16:55:54.910Z"
   },
   {
    "duration": 8,
    "start_time": "2025-03-21T16:55:54.922Z"
   },
   {
    "duration": 7,
    "start_time": "2025-03-21T16:55:54.931Z"
   },
   {
    "duration": 12,
    "start_time": "2025-03-21T16:55:54.940Z"
   },
   {
    "duration": 66,
    "start_time": "2025-03-21T16:55:54.954Z"
   },
   {
    "duration": 36,
    "start_time": "2025-03-21T16:55:55.021Z"
   },
   {
    "duration": 10,
    "start_time": "2025-03-21T16:55:55.059Z"
   },
   {
    "duration": 9,
    "start_time": "2025-03-21T16:55:55.070Z"
   },
   {
    "duration": 67,
    "start_time": "2025-03-21T16:55:55.081Z"
   },
   {
    "duration": 13,
    "start_time": "2025-03-21T16:55:55.150Z"
   },
   {
    "duration": 24,
    "start_time": "2025-03-21T16:55:55.165Z"
   },
   {
    "duration": 259,
    "start_time": "2025-03-21T16:55:55.191Z"
   },
   {
    "duration": 9,
    "start_time": "2025-03-21T16:55:55.451Z"
   },
   {
    "duration": 248,
    "start_time": "2025-03-21T16:55:55.462Z"
   },
   {
    "duration": 5,
    "start_time": "2025-03-21T16:55:55.711Z"
   },
   {
    "duration": 18,
    "start_time": "2025-03-21T16:55:55.717Z"
   },
   {
    "duration": 3,
    "start_time": "2025-03-21T16:55:55.736Z"
   },
   {
    "duration": 5,
    "start_time": "2025-03-21T16:55:55.740Z"
   },
   {
    "duration": 4,
    "start_time": "2025-03-21T16:55:55.746Z"
   },
   {
    "duration": 4,
    "start_time": "2025-03-21T16:55:55.751Z"
   },
   {
    "duration": 4,
    "start_time": "2025-03-21T16:55:55.756Z"
   },
   {
    "duration": 21,
    "start_time": "2025-03-21T16:55:55.761Z"
   },
   {
    "duration": 6,
    "start_time": "2025-03-21T16:55:55.783Z"
   },
   {
    "duration": 195,
    "start_time": "2025-03-21T16:55:55.790Z"
   },
   {
    "duration": 7,
    "start_time": "2025-03-21T16:55:55.989Z"
   },
   {
    "duration": 137,
    "start_time": "2025-03-21T16:55:55.998Z"
   },
   {
    "duration": 7,
    "start_time": "2025-03-21T16:55:56.137Z"
   },
   {
    "duration": 6,
    "start_time": "2025-03-21T16:55:56.145Z"
   },
   {
    "duration": 8,
    "start_time": "2025-03-21T16:55:56.152Z"
   },
   {
    "duration": 293,
    "start_time": "2025-03-21T16:55:56.162Z"
   },
   {
    "duration": 215,
    "start_time": "2025-03-21T16:55:56.457Z"
   },
   {
    "duration": 323,
    "start_time": "2025-03-21T16:55:56.674Z"
   },
   {
    "duration": 226,
    "start_time": "2025-03-21T16:55:56.998Z"
   },
   {
    "duration": 340,
    "start_time": "2025-03-21T16:55:57.226Z"
   },
   {
    "duration": 6,
    "start_time": "2025-03-21T16:55:57.568Z"
   },
   {
    "duration": 6,
    "start_time": "2025-03-21T16:55:57.575Z"
   },
   {
    "duration": 231,
    "start_time": "2025-03-21T16:55:57.582Z"
   },
   {
    "duration": 4,
    "start_time": "2025-03-21T16:55:57.815Z"
   },
   {
    "duration": 182,
    "start_time": "2025-03-21T16:55:57.821Z"
   },
   {
    "duration": 4,
    "start_time": "2025-03-21T16:55:58.005Z"
   },
   {
    "duration": 100,
    "start_time": "2025-03-21T16:55:58.011Z"
   },
   {
    "duration": 116,
    "start_time": "2025-03-21T16:55:58.112Z"
   },
   {
    "duration": 28,
    "start_time": "2025-03-21T16:55:58.230Z"
   },
   {
    "duration": 131,
    "start_time": "2025-03-21T16:55:58.259Z"
   },
   {
    "duration": 4,
    "start_time": "2025-03-21T16:55:58.392Z"
   },
   {
    "duration": 4,
    "start_time": "2025-03-21T16:55:58.398Z"
   },
   {
    "duration": 18,
    "start_time": "2025-03-21T16:55:58.404Z"
   },
   {
    "duration": 12,
    "start_time": "2025-03-21T16:55:58.423Z"
   },
   {
    "duration": 24,
    "start_time": "2025-03-21T16:55:58.437Z"
   },
   {
    "duration": 11,
    "start_time": "2025-03-21T16:55:58.462Z"
   },
   {
    "duration": 9,
    "start_time": "2025-03-21T16:55:58.474Z"
   },
   {
    "duration": 7,
    "start_time": "2025-03-21T16:55:58.485Z"
   },
   {
    "duration": 8,
    "start_time": "2025-03-21T16:55:58.493Z"
   },
   {
    "duration": 53,
    "start_time": "2025-03-21T16:55:58.503Z"
   },
   {
    "duration": 13,
    "start_time": "2025-03-21T16:55:58.558Z"
   },
   {
    "duration": 1187,
    "start_time": "2025-04-05T09:04:07.263Z"
   },
   {
    "duration": 78,
    "start_time": "2025-04-05T09:04:08.452Z"
   },
   {
    "duration": 12,
    "start_time": "2025-04-05T09:04:08.531Z"
   },
   {
    "duration": 16,
    "start_time": "2025-04-05T09:04:08.545Z"
   },
   {
    "duration": 4,
    "start_time": "2025-04-05T09:04:08.562Z"
   },
   {
    "duration": 46,
    "start_time": "2025-04-05T09:04:08.567Z"
   },
   {
    "duration": 32,
    "start_time": "2025-04-05T09:04:08.614Z"
   },
   {
    "duration": 23,
    "start_time": "2025-04-05T09:04:08.648Z"
   },
   {
    "duration": 23,
    "start_time": "2025-04-05T09:04:08.673Z"
   },
   {
    "duration": 16,
    "start_time": "2025-04-05T09:04:08.699Z"
   },
   {
    "duration": 23,
    "start_time": "2025-04-05T09:04:08.717Z"
   },
   {
    "duration": 6,
    "start_time": "2025-04-05T09:04:08.742Z"
   },
   {
    "duration": 10,
    "start_time": "2025-04-05T09:04:08.750Z"
   },
   {
    "duration": 11,
    "start_time": "2025-04-05T09:04:08.762Z"
   },
   {
    "duration": 321,
    "start_time": "2025-04-05T09:04:08.774Z"
   },
   {
    "duration": 10,
    "start_time": "2025-04-05T09:04:09.104Z"
   },
   {
    "duration": 290,
    "start_time": "2025-04-05T09:04:09.115Z"
   },
   {
    "duration": 6,
    "start_time": "2025-04-05T09:04:09.407Z"
   },
   {
    "duration": 120,
    "start_time": "2025-04-05T09:04:09.415Z"
   },
   {
    "duration": 8,
    "start_time": "2025-04-05T09:04:09.537Z"
   },
   {
    "duration": 12,
    "start_time": "2025-04-05T09:04:09.546Z"
   },
   {
    "duration": 6,
    "start_time": "2025-04-05T09:04:09.559Z"
   },
   {
    "duration": 18,
    "start_time": "2025-04-05T09:04:09.567Z"
   },
   {
    "duration": 11,
    "start_time": "2025-04-05T09:04:09.587Z"
   },
   {
    "duration": 38,
    "start_time": "2025-04-05T09:04:09.600Z"
   },
   {
    "duration": 8,
    "start_time": "2025-04-05T09:04:09.639Z"
   },
   {
    "duration": 172,
    "start_time": "2025-04-05T09:04:09.648Z"
   },
   {
    "duration": 8,
    "start_time": "2025-04-05T09:04:09.824Z"
   },
   {
    "duration": 143,
    "start_time": "2025-04-05T09:04:09.834Z"
   },
   {
    "duration": 37,
    "start_time": "2025-04-05T09:04:09.979Z"
   },
   {
    "duration": 49,
    "start_time": "2025-04-05T09:04:10.018Z"
   },
   {
    "duration": 34,
    "start_time": "2025-04-05T09:04:10.068Z"
   },
   {
    "duration": 313,
    "start_time": "2025-04-05T09:04:10.104Z"
   },
   {
    "duration": 238,
    "start_time": "2025-04-05T09:04:10.418Z"
   },
   {
    "duration": 309,
    "start_time": "2025-04-05T09:04:10.657Z"
   },
   {
    "duration": 250,
    "start_time": "2025-04-05T09:04:10.968Z"
   },
   {
    "duration": 349,
    "start_time": "2025-04-05T09:04:11.220Z"
   },
   {
    "duration": 7,
    "start_time": "2025-04-05T09:04:11.571Z"
   },
   {
    "duration": 8,
    "start_time": "2025-04-05T09:04:11.580Z"
   },
   {
    "duration": 257,
    "start_time": "2025-04-05T09:04:11.589Z"
   },
   {
    "duration": 5,
    "start_time": "2025-04-05T09:04:11.849Z"
   },
   {
    "duration": 171,
    "start_time": "2025-04-05T09:04:11.856Z"
   },
   {
    "duration": 6,
    "start_time": "2025-04-05T09:04:12.029Z"
   },
   {
    "duration": 122,
    "start_time": "2025-04-05T09:04:12.037Z"
   },
   {
    "duration": 124,
    "start_time": "2025-04-05T09:04:12.161Z"
   },
   {
    "duration": 37,
    "start_time": "2025-04-05T09:04:12.287Z"
   },
   {
    "duration": 144,
    "start_time": "2025-04-05T09:04:12.326Z"
   },
   {
    "duration": 4,
    "start_time": "2025-04-05T09:04:12.472Z"
   },
   {
    "duration": 14,
    "start_time": "2025-04-05T09:04:12.478Z"
   },
   {
    "duration": 12,
    "start_time": "2025-04-05T09:04:12.493Z"
   },
   {
    "duration": 9,
    "start_time": "2025-04-05T09:04:12.507Z"
   },
   {
    "duration": 34,
    "start_time": "2025-04-05T09:04:12.517Z"
   },
   {
    "duration": 12,
    "start_time": "2025-04-05T09:04:12.552Z"
   },
   {
    "duration": 9,
    "start_time": "2025-04-05T09:04:12.565Z"
   },
   {
    "duration": 125,
    "start_time": "2025-04-05T09:04:12.576Z"
   },
   {
    "duration": 10,
    "start_time": "2025-04-05T09:04:12.703Z"
   },
   {
    "duration": 29,
    "start_time": "2025-04-05T09:04:12.715Z"
   },
   {
    "duration": 14,
    "start_time": "2025-04-05T09:04:12.746Z"
   }
  ],
  "kernelspec": {
   "display_name": "Python 3 (ipykernel)",
   "language": "python",
   "name": "python3"
  },
  "language_info": {
   "codemirror_mode": {
    "name": "ipython",
    "version": 3
   },
   "file_extension": ".py",
   "mimetype": "text/x-python",
   "name": "python",
   "nbconvert_exporter": "python",
   "pygments_lexer": "ipython3",
   "version": "3.12.4"
  },
  "toc": {
   "base_numbering": 1,
   "nav_menu": {},
   "number_sections": true,
   "sideBar": true,
   "skip_h1_title": true,
   "title_cell": "Table of Contents",
   "title_sidebar": "Contents",
   "toc_cell": false,
   "toc_position": {
    "height": "calc(100% - 180px)",
    "left": "10px",
    "top": "150px",
    "width": "580.438px"
   },
   "toc_section_display": true,
   "toc_window_display": true
  }
 },
 "nbformat": 4,
 "nbformat_minor": 4
}
