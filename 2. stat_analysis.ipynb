{
 "cells": [
  {
   "cell_type": "markdown",
   "id": "8bf4c0ae",
   "metadata": {},
   "source": [
    "<div style=\"border:solid green 3px; padding: 20px\">\n",
    "<b>🥇 Кирилл, спасибо за доработки, проект принят, молодец!</b>\n",
    "    \n",
    "Ты провел  хорошую работу над ошибками! Уверен, ты обязательно достигнешь своей цели! Успехов в дальнейшем обучении! 🙂\n",
    "    "
   ]
  },
  {
   "cell_type": "markdown",
   "id": "0a2f8c11",
   "metadata": {},
   "source": [
    "<div style=\"border:solid green 2px; padding: 20px\">\n",
    "Кирилл, привет! Меня зовут Ефимов Денис и сегодня я буду делать ревью твоего проекта!\n",
    "    \n",
    "В Практикуме принято общаться на \"ты\", однако если это неудобно - дай знать, и можем перейти на более официальное общение.\n",
    "\n",
    "Ниже ты найдешь мои комментарии - пожалуйста, не перемещай, не изменяй и не удаляй их. Я буду использовать цветовую разметку: \n",
    "\n",
    "<div class=\"alert alert-block alert-success\">\n",
    "<b>✅Комментарий ревьюера:</b> Если все сделано хорошо. </div>\n",
    "\n",
    "<div class=\"alert alert-block alert-warning\">\n",
    "<b>🔁Комментарий ревьюера:</b> Некритичное замечание, рекомендация.</div>\n",
    "\n",
    "<div class=\"alert alert-block alert-danger\">\n",
    "<b>❌Комментарий ревьюера:</b> Грубая ошибка, необходимо исправить, иначе проект не будет принят.\n",
    "</div>\n",
    "\n",
    "Давай работать над проектом в диалоге: если ты что-то меняешь в проекте или отвечаешь на мои комментарии — пиши об этом. Мне будет легче отследить изменения, если ты выделишь свои комментарии:\n",
    "Например так:\n",
    "<div class=\"alert alert-block alert-info\">\n",
    "<b>🔄Комментарий студента:</b> \n",
    "Hello World! ✔\n",
    "</div>\n",
    "\n",
    "Или можешь использовать эту галочку ✔ в моих комментариях, если писать особо нечего.\n",
    "\n",
    "<div class=\"alert alert-block alert-warning\">\n",
    "<b>Общее впечатление:</b> \n",
    "    \n",
    "- Ты проделал огромную работу :)\n",
    "- У меня есть несколько замечаний, исправив которые ты сделаешь проект лучше.\n",
    "- Пробегись по моим комментариям, исправь недочёты и всё будет отлично :)\n",
    "    \n",
    "</div>\n",
    "\n"
   ]
  },
  {
   "cell_type": "markdown",
   "id": "f036e12b",
   "metadata": {},
   "source": [
    "----------------------"
   ]
  },
  {
   "cell_type": "markdown",
   "id": "c81d930e",
   "metadata": {},
   "source": [
    "<div class=\"alert alert-block alert-danger\">\n",
    "<b>❌Комментарий ревьюера:</b> \n",
    "    \n",
    " Любому проекту нужно название и введение - так ты поясняешь читателю, что вообще тут происходит. Также стоит задуматься, как еще его можно дополнить, чтобы сделать более ценным для читателя. Все инструкции по оформлению проекта есть на платформе в разделе \"Полезные инструкции для учебы\"\n",
    "    \n",
    "Также советую тебе взглянуть на <a href=\"https://www.kaggle.com/code?sortBy=voteCount\">работы</a> профессиональных аналитиков, чтобы оценить, как другие люди оформляют и проводят исследования.   \n",
    "\n",
    "</div>"
   ]
  },
  {
   "cell_type": "markdown",
   "id": "91265898",
   "metadata": {},
   "source": [
    "# Проект \"Анализ данных приложения GoFast\""
   ]
  },
  {
   "cell_type": "markdown",
   "id": "025456c0",
   "metadata": {},
   "source": [
    "В данном проекте будут изучены данные пользователей приложения для аренды самокатов GoFast. Основной задачей анализа является проверка гипотез, которые помогут увеличить прибыль данного бизнеса."
   ]
  },
  {
   "cell_type": "markdown",
   "id": "daa6ace5",
   "metadata": {},
   "source": [
    "<div class=\"alert alert-block alert-warning\">\n",
    "<b>🔁Комментарий ревьюера 2:</b> \n",
    "    \n",
    "Можно добавить описание имеющихся данных и примерный план действий.\n",
    "</div>"
   ]
  },
  {
   "cell_type": "markdown",
   "id": "01a47874",
   "metadata": {},
   "source": [
    "<a id=\"ogl\"></a>\n",
    "### Оглавление\n",
    "\n",
    "* [Оглавление](#ogl)\n",
    "* [Загрузка данных](#load)\n",
    "    * [Изучение общей информации о каждом датафрейме](#load1)\n",
    "* [Предобработка данных](#analisys_data)\n",
    "    * [Приведение столбца date к типу даты pandas](#analisys_data1)\n",
    "    * [Создание нового столбца с номером месца на основе столбца date](#analisys_data2)\n",
    "    * [Проверка наличия пропущенных значений](#analisys_data3)\n",
    "    * [Поиск дубликатов](#analisys_data4)\n",
    "* [Исследовательский анализ данных](#develop_data)\n",
    "    * [Частота встречаемости городов](#develop_data1)\n",
    "    * [Соотношение пользователей с подпиской и без подписки](#develop_data2)\n",
    "    * [Возраст пользователей](#develop_data3)\n",
    "    * [Расстояние, которое пользователь преодолел за одну поездку](#develop_data4)\n",
    "    * [Продолжительность поездок](#develop_data5)\n",
    "* [Объединение данных](#data)\n",
    "    * [Объединение данных о пользователях, поездках и подписках в один датафрейм](#data1)\n",
    "    * [Создание еще двух датафреймов из датафрейма, созданного на этапе 5.1](#data2)\n",
    "    * [Визуализация информации о расстоянии и времени поездок для пользователей обеих категорий](#data3)\n",
    "* [Подсчет выручки](#revenue)\n",
    "    * [Создание датафрейма с агрегированными данными о поездках](#revenue1)\n",
    "* [Проверка гипотез](#hypot)\n",
    "    * [Гипотеза: пользователи с подпиской тратят больше времени на поездки](#hypot1)\n",
    "    * [Гипотеза: среднее расстояние, которое проезжают пользователи с подпиской за одну поездку, не превышает 3130 метров](#hypot2)\n",
    "    * [Гипотеза: помесячная выручка от пользователей с подпиской по месяцам выше, чем выручка от пользователей без подписки](#hypot3)\n",
    "* [Заключение](#vivod)"
   ]
  },
  {
   "cell_type": "code",
   "execution_count": 1,
   "id": "9c47730c",
   "metadata": {},
   "outputs": [],
   "source": [
    "import pandas as pd\n",
    "import seaborn as sns\n",
    "import numpy as np\n",
    "import matplotlib.pyplot as plt\n",
    "from scipy import stats as st\n",
    "from scipy.stats import binom\n",
    "from math import sqrt"
   ]
  },
  {
   "cell_type": "markdown",
   "id": "c2c9153b",
   "metadata": {},
   "source": [
    "<div class=\"alert alert-block alert-success\">\n",
    "<b>✅Комментарий ревьюера:</b> Правильно, что импортируешь все библиотеки в отдельной ячейке!  </div>"
   ]
  },
  {
   "cell_type": "markdown",
   "id": "342ab42d",
   "metadata": {},
   "source": [
    "<a id=\"load\"></a>\n",
    "### Загрузка данных"
   ]
  },
  {
   "cell_type": "code",
   "execution_count": 2,
   "id": "5d33436f",
   "metadata": {},
   "outputs": [],
   "source": [
    "users = pd.read_csv('/datasets/users_go.csv')\n",
    "rides = pd.read_csv('/datasets/rides_go.csv')\n",
    "subs_go = pd.read_csv('/datasets/subscriptions_go.csv')"
   ]
  },
  {
   "cell_type": "markdown",
   "id": "1a04a14a",
   "metadata": {},
   "source": [
    "<a id=\"load1\"></a>\n",
    "#### Изучение общей информации о каждом датафрейме"
   ]
  },
  {
   "cell_type": "code",
   "execution_count": 3,
   "id": "8e13a176",
   "metadata": {},
   "outputs": [
    {
     "data": {
      "text/html": [
       "<div>\n",
       "<style scoped>\n",
       "    .dataframe tbody tr th:only-of-type {\n",
       "        vertical-align: middle;\n",
       "    }\n",
       "\n",
       "    .dataframe tbody tr th {\n",
       "        vertical-align: top;\n",
       "    }\n",
       "\n",
       "    .dataframe thead th {\n",
       "        text-align: right;\n",
       "    }\n",
       "</style>\n",
       "<table border=\"1\" class=\"dataframe\">\n",
       "  <thead>\n",
       "    <tr style=\"text-align: right;\">\n",
       "      <th></th>\n",
       "      <th>user_id</th>\n",
       "      <th>name</th>\n",
       "      <th>age</th>\n",
       "      <th>city</th>\n",
       "      <th>subscription_type</th>\n",
       "    </tr>\n",
       "  </thead>\n",
       "  <tbody>\n",
       "    <tr>\n",
       "      <th>0</th>\n",
       "      <td>1</td>\n",
       "      <td>Кира</td>\n",
       "      <td>22</td>\n",
       "      <td>Тюмень</td>\n",
       "      <td>ultra</td>\n",
       "    </tr>\n",
       "    <tr>\n",
       "      <th>1</th>\n",
       "      <td>2</td>\n",
       "      <td>Станислав</td>\n",
       "      <td>31</td>\n",
       "      <td>Омск</td>\n",
       "      <td>ultra</td>\n",
       "    </tr>\n",
       "    <tr>\n",
       "      <th>2</th>\n",
       "      <td>3</td>\n",
       "      <td>Алексей</td>\n",
       "      <td>20</td>\n",
       "      <td>Москва</td>\n",
       "      <td>ultra</td>\n",
       "    </tr>\n",
       "    <tr>\n",
       "      <th>3</th>\n",
       "      <td>4</td>\n",
       "      <td>Константин</td>\n",
       "      <td>26</td>\n",
       "      <td>Ростов-на-Дону</td>\n",
       "      <td>ultra</td>\n",
       "    </tr>\n",
       "    <tr>\n",
       "      <th>4</th>\n",
       "      <td>5</td>\n",
       "      <td>Адель</td>\n",
       "      <td>28</td>\n",
       "      <td>Омск</td>\n",
       "      <td>ultra</td>\n",
       "    </tr>\n",
       "    <tr>\n",
       "      <th>5</th>\n",
       "      <td>6</td>\n",
       "      <td>Регина</td>\n",
       "      <td>25</td>\n",
       "      <td>Краснодар</td>\n",
       "      <td>ultra</td>\n",
       "    </tr>\n",
       "    <tr>\n",
       "      <th>6</th>\n",
       "      <td>7</td>\n",
       "      <td>Игорь</td>\n",
       "      <td>23</td>\n",
       "      <td>Омск</td>\n",
       "      <td>ultra</td>\n",
       "    </tr>\n",
       "    <tr>\n",
       "      <th>7</th>\n",
       "      <td>8</td>\n",
       "      <td>Юрий</td>\n",
       "      <td>23</td>\n",
       "      <td>Краснодар</td>\n",
       "      <td>ultra</td>\n",
       "    </tr>\n",
       "    <tr>\n",
       "      <th>8</th>\n",
       "      <td>9</td>\n",
       "      <td>Ян</td>\n",
       "      <td>21</td>\n",
       "      <td>Пятигорск</td>\n",
       "      <td>ultra</td>\n",
       "    </tr>\n",
       "    <tr>\n",
       "      <th>9</th>\n",
       "      <td>10</td>\n",
       "      <td>Валерий</td>\n",
       "      <td>18</td>\n",
       "      <td>Екатеринбург</td>\n",
       "      <td>ultra</td>\n",
       "    </tr>\n",
       "  </tbody>\n",
       "</table>\n",
       "</div>"
      ],
      "text/plain": [
       "   user_id        name  age            city subscription_type\n",
       "0        1        Кира   22          Тюмень             ultra\n",
       "1        2   Станислав   31            Омск             ultra\n",
       "2        3     Алексей   20          Москва             ultra\n",
       "3        4  Константин   26  Ростов-на-Дону             ultra\n",
       "4        5       Адель   28            Омск             ultra\n",
       "5        6      Регина   25       Краснодар             ultra\n",
       "6        7       Игорь   23            Омск             ultra\n",
       "7        8        Юрий   23       Краснодар             ultra\n",
       "8        9          Ян   21       Пятигорск             ultra\n",
       "9       10     Валерий   18    Екатеринбург             ultra"
      ]
     },
     "execution_count": 3,
     "metadata": {},
     "output_type": "execute_result"
    }
   ],
   "source": [
    "users.head(10)"
   ]
  },
  {
   "cell_type": "code",
   "execution_count": 4,
   "id": "e6ca9ad1",
   "metadata": {},
   "outputs": [
    {
     "name": "stdout",
     "output_type": "stream",
     "text": [
      "<class 'pandas.core.frame.DataFrame'>\n",
      "RangeIndex: 1565 entries, 0 to 1564\n",
      "Data columns (total 5 columns):\n",
      " #   Column             Non-Null Count  Dtype \n",
      "---  ------             --------------  ----- \n",
      " 0   user_id            1565 non-null   int64 \n",
      " 1   name               1565 non-null   object\n",
      " 2   age                1565 non-null   int64 \n",
      " 3   city               1565 non-null   object\n",
      " 4   subscription_type  1565 non-null   object\n",
      "dtypes: int64(2), object(3)\n",
      "memory usage: 61.3+ KB\n"
     ]
    }
   ],
   "source": [
    "users.info()"
   ]
  },
  {
   "cell_type": "code",
   "execution_count": 5,
   "id": "e82a1732",
   "metadata": {},
   "outputs": [
    {
     "data": {
      "text/html": [
       "<div>\n",
       "<style scoped>\n",
       "    .dataframe tbody tr th:only-of-type {\n",
       "        vertical-align: middle;\n",
       "    }\n",
       "\n",
       "    .dataframe tbody tr th {\n",
       "        vertical-align: top;\n",
       "    }\n",
       "\n",
       "    .dataframe thead th {\n",
       "        text-align: right;\n",
       "    }\n",
       "</style>\n",
       "<table border=\"1\" class=\"dataframe\">\n",
       "  <thead>\n",
       "    <tr style=\"text-align: right;\">\n",
       "      <th></th>\n",
       "      <th>user_id</th>\n",
       "      <th>distance</th>\n",
       "      <th>duration</th>\n",
       "      <th>date</th>\n",
       "    </tr>\n",
       "  </thead>\n",
       "  <tbody>\n",
       "    <tr>\n",
       "      <th>0</th>\n",
       "      <td>1</td>\n",
       "      <td>4409.919140</td>\n",
       "      <td>25.599769</td>\n",
       "      <td>2021-01-01</td>\n",
       "    </tr>\n",
       "    <tr>\n",
       "      <th>1</th>\n",
       "      <td>1</td>\n",
       "      <td>2617.592153</td>\n",
       "      <td>15.816871</td>\n",
       "      <td>2021-01-18</td>\n",
       "    </tr>\n",
       "    <tr>\n",
       "      <th>2</th>\n",
       "      <td>1</td>\n",
       "      <td>754.159807</td>\n",
       "      <td>6.232113</td>\n",
       "      <td>2021-04-20</td>\n",
       "    </tr>\n",
       "    <tr>\n",
       "      <th>3</th>\n",
       "      <td>1</td>\n",
       "      <td>2694.783254</td>\n",
       "      <td>18.511000</td>\n",
       "      <td>2021-08-11</td>\n",
       "    </tr>\n",
       "    <tr>\n",
       "      <th>4</th>\n",
       "      <td>1</td>\n",
       "      <td>4028.687306</td>\n",
       "      <td>26.265803</td>\n",
       "      <td>2021-08-28</td>\n",
       "    </tr>\n",
       "    <tr>\n",
       "      <th>5</th>\n",
       "      <td>1</td>\n",
       "      <td>2770.890808</td>\n",
       "      <td>16.650138</td>\n",
       "      <td>2021-10-09</td>\n",
       "    </tr>\n",
       "    <tr>\n",
       "      <th>6</th>\n",
       "      <td>1</td>\n",
       "      <td>3039.020292</td>\n",
       "      <td>14.927879</td>\n",
       "      <td>2021-10-19</td>\n",
       "    </tr>\n",
       "    <tr>\n",
       "      <th>7</th>\n",
       "      <td>1</td>\n",
       "      <td>2842.118050</td>\n",
       "      <td>23.117468</td>\n",
       "      <td>2021-11-06</td>\n",
       "    </tr>\n",
       "    <tr>\n",
       "      <th>8</th>\n",
       "      <td>1</td>\n",
       "      <td>3412.690668</td>\n",
       "      <td>15.238072</td>\n",
       "      <td>2021-11-14</td>\n",
       "    </tr>\n",
       "    <tr>\n",
       "      <th>9</th>\n",
       "      <td>1</td>\n",
       "      <td>748.690645</td>\n",
       "      <td>15.041884</td>\n",
       "      <td>2021-11-22</td>\n",
       "    </tr>\n",
       "  </tbody>\n",
       "</table>\n",
       "</div>"
      ],
      "text/plain": [
       "   user_id     distance   duration        date\n",
       "0        1  4409.919140  25.599769  2021-01-01\n",
       "1        1  2617.592153  15.816871  2021-01-18\n",
       "2        1   754.159807   6.232113  2021-04-20\n",
       "3        1  2694.783254  18.511000  2021-08-11\n",
       "4        1  4028.687306  26.265803  2021-08-28\n",
       "5        1  2770.890808  16.650138  2021-10-09\n",
       "6        1  3039.020292  14.927879  2021-10-19\n",
       "7        1  2842.118050  23.117468  2021-11-06\n",
       "8        1  3412.690668  15.238072  2021-11-14\n",
       "9        1   748.690645  15.041884  2021-11-22"
      ]
     },
     "execution_count": 5,
     "metadata": {},
     "output_type": "execute_result"
    }
   ],
   "source": [
    "rides.head(10)"
   ]
  },
  {
   "cell_type": "code",
   "execution_count": 6,
   "id": "5f874d73",
   "metadata": {},
   "outputs": [
    {
     "name": "stdout",
     "output_type": "stream",
     "text": [
      "<class 'pandas.core.frame.DataFrame'>\n",
      "RangeIndex: 18068 entries, 0 to 18067\n",
      "Data columns (total 4 columns):\n",
      " #   Column    Non-Null Count  Dtype  \n",
      "---  ------    --------------  -----  \n",
      " 0   user_id   18068 non-null  int64  \n",
      " 1   distance  18068 non-null  float64\n",
      " 2   duration  18068 non-null  float64\n",
      " 3   date      18068 non-null  object \n",
      "dtypes: float64(2), int64(1), object(1)\n",
      "memory usage: 564.8+ KB\n"
     ]
    }
   ],
   "source": [
    "rides.info()"
   ]
  },
  {
   "cell_type": "code",
   "execution_count": 7,
   "id": "b2af8fb9",
   "metadata": {},
   "outputs": [
    {
     "data": {
      "text/html": [
       "<div>\n",
       "<style scoped>\n",
       "    .dataframe tbody tr th:only-of-type {\n",
       "        vertical-align: middle;\n",
       "    }\n",
       "\n",
       "    .dataframe tbody tr th {\n",
       "        vertical-align: top;\n",
       "    }\n",
       "\n",
       "    .dataframe thead th {\n",
       "        text-align: right;\n",
       "    }\n",
       "</style>\n",
       "<table border=\"1\" class=\"dataframe\">\n",
       "  <thead>\n",
       "    <tr style=\"text-align: right;\">\n",
       "      <th></th>\n",
       "      <th>subscription_type</th>\n",
       "      <th>minute_price</th>\n",
       "      <th>start_ride_price</th>\n",
       "      <th>subscription_fee</th>\n",
       "    </tr>\n",
       "  </thead>\n",
       "  <tbody>\n",
       "    <tr>\n",
       "      <th>0</th>\n",
       "      <td>free</td>\n",
       "      <td>8</td>\n",
       "      <td>50</td>\n",
       "      <td>0</td>\n",
       "    </tr>\n",
       "    <tr>\n",
       "      <th>1</th>\n",
       "      <td>ultra</td>\n",
       "      <td>6</td>\n",
       "      <td>0</td>\n",
       "      <td>199</td>\n",
       "    </tr>\n",
       "  </tbody>\n",
       "</table>\n",
       "</div>"
      ],
      "text/plain": [
       "  subscription_type  minute_price  start_ride_price  subscription_fee\n",
       "0              free             8                50                 0\n",
       "1             ultra             6                 0               199"
      ]
     },
     "execution_count": 7,
     "metadata": {},
     "output_type": "execute_result"
    }
   ],
   "source": [
    "subs_go"
   ]
  },
  {
   "cell_type": "code",
   "execution_count": 8,
   "id": "bc13709b",
   "metadata": {},
   "outputs": [
    {
     "name": "stdout",
     "output_type": "stream",
     "text": [
      "<class 'pandas.core.frame.DataFrame'>\n",
      "RangeIndex: 2 entries, 0 to 1\n",
      "Data columns (total 4 columns):\n",
      " #   Column             Non-Null Count  Dtype \n",
      "---  ------             --------------  ----- \n",
      " 0   subscription_type  2 non-null      object\n",
      " 1   minute_price       2 non-null      int64 \n",
      " 2   start_ride_price   2 non-null      int64 \n",
      " 3   subscription_fee   2 non-null      int64 \n",
      "dtypes: int64(3), object(1)\n",
      "memory usage: 192.0+ bytes\n"
     ]
    }
   ],
   "source": [
    "subs_go.info()"
   ]
  },
  {
   "cell_type": "markdown",
   "id": "6a513f6a",
   "metadata": {},
   "source": [
    "Вывод: Выведены первые 10 строк для ознакомления с данными. Столбцы названы верно. Тип данных каждого столбца верный. Кроме столбца с датой, далее тип данных в этом столбце будет изменен на datetime64[ns] для удобства работы с датами. Из общей информации видно, что нулевые значения отсутствуют в таблицах, то есть данные полные."
   ]
  },
  {
   "cell_type": "markdown",
   "id": "045ea64e",
   "metadata": {},
   "source": [
    "<div class=\"alert alert-block alert-danger\">\n",
    "<b>❌Комментарий ревьюера:</b> \n",
    "    \n",
    "После каждого пункта нужно делать промежуточный вывод.\n",
    "    \n",
    "Что мы можем сказать о данных после первичного знакомства  с ними? Стоит отметить объем и полноту данных, корректность наименования столбцов и соответствие типов данных.\n",
    "\n",
    "</div>"
   ]
  },
  {
   "cell_type": "markdown",
   "id": "908c6a8a",
   "metadata": {},
   "source": [
    "<div class=\"alert alert-block alert-success\">\n",
    "<b>✅Комментарий ревьюера 2:</b> Отлично, исправлено!👍  </div>"
   ]
  },
  {
   "cell_type": "markdown",
   "id": "d8a48041",
   "metadata": {},
   "source": [
    "<div class=\"alert alert-block alert-info\">\n",
    "<b>🔄Комментарий студента:</b> \n",
    "Замечание устранено.\n",
    "</div>"
   ]
  },
  {
   "cell_type": "markdown",
   "id": "75f5c4bb",
   "metadata": {},
   "source": [
    "<a id=\"analisys_data\"></a>\n",
    "### Предобработка данных"
   ]
  },
  {
   "cell_type": "markdown",
   "id": "8dcd0013",
   "metadata": {},
   "source": [
    "<a id=\"analisys_data1\"></a>\n",
    "#### Приведение столбца date к типу даты pandas"
   ]
  },
  {
   "cell_type": "code",
   "execution_count": 9,
   "id": "dc14d664",
   "metadata": {},
   "outputs": [],
   "source": [
    "rides['date'] = pd.to_datetime(rides['date'], format='%Y-%m-%d')"
   ]
  },
  {
   "cell_type": "code",
   "execution_count": 10,
   "id": "f466d675",
   "metadata": {},
   "outputs": [
    {
     "name": "stdout",
     "output_type": "stream",
     "text": [
      "<class 'pandas.core.frame.DataFrame'>\n",
      "RangeIndex: 18068 entries, 0 to 18067\n",
      "Data columns (total 4 columns):\n",
      " #   Column    Non-Null Count  Dtype         \n",
      "---  ------    --------------  -----         \n",
      " 0   user_id   18068 non-null  int64         \n",
      " 1   distance  18068 non-null  float64       \n",
      " 2   duration  18068 non-null  float64       \n",
      " 3   date      18068 non-null  datetime64[ns]\n",
      "dtypes: datetime64[ns](1), float64(2), int64(1)\n",
      "memory usage: 564.8 KB\n"
     ]
    }
   ],
   "source": [
    "rides.info()"
   ]
  },
  {
   "cell_type": "markdown",
   "id": "fb40df4d",
   "metadata": {},
   "source": [
    "<a id=\"analisys_data2\"></a>\n",
    "#### Создание нового столбца с номером месяца на основе столбца date"
   ]
  },
  {
   "cell_type": "code",
   "execution_count": 11,
   "id": "fdffd8b5",
   "metadata": {},
   "outputs": [],
   "source": [
    "rides['month'] = rides['date'].dt.month"
   ]
  },
  {
   "cell_type": "markdown",
   "id": "6ae543e7",
   "metadata": {},
   "source": [
    "<div class=\"alert alert-block alert-warning\">\n",
    "<b>🔁Комментарий ревьюера:</b> \n",
    "\n",
    "Дополнительно лучше проверить данные за какой период у нас имеются, чтобы в дальнейшем не допустить ошибок при группировке по месяцам.</div>"
   ]
  },
  {
   "cell_type": "markdown",
   "id": "fec58b55",
   "metadata": {},
   "source": [
    "<div class=\"alert alert-block alert-success\">\n",
    "<b>✅Комментарий ревьюера 2:</b> Отлично, исправлено!👍  </div>"
   ]
  },
  {
   "cell_type": "code",
   "execution_count": 12,
   "id": "14a50c2e",
   "metadata": {},
   "outputs": [
    {
     "data": {
      "text/plain": [
       "Timestamp('2021-01-01 00:00:00')"
      ]
     },
     "execution_count": 12,
     "metadata": {},
     "output_type": "execute_result"
    }
   ],
   "source": [
    "rides['date'].min()"
   ]
  },
  {
   "cell_type": "code",
   "execution_count": 13,
   "id": "87f7326b",
   "metadata": {},
   "outputs": [
    {
     "data": {
      "text/plain": [
       "Timestamp('2021-12-30 00:00:00')"
      ]
     },
     "execution_count": 13,
     "metadata": {},
     "output_type": "execute_result"
    }
   ],
   "source": [
    "rides['date'].max()"
   ]
  },
  {
   "cell_type": "markdown",
   "id": "02556391",
   "metadata": {},
   "source": [
    "Мы располагаем данными за 2021 год."
   ]
  },
  {
   "cell_type": "markdown",
   "id": "c72575bc",
   "metadata": {},
   "source": [
    "<div class=\"alert alert-block alert-info\">\n",
    "<b>🔄Комментарий студента:</b> \n",
    "Замечание устранено.\n",
    "</div>"
   ]
  },
  {
   "cell_type": "markdown",
   "id": "d3534282",
   "metadata": {},
   "source": [
    "<a id=\"analisys_data3\"></a>\n",
    "#### Проверка наличия пропущенных значений"
   ]
  },
  {
   "cell_type": "code",
   "execution_count": 14,
   "id": "85b6a351",
   "metadata": {},
   "outputs": [
    {
     "data": {
      "text/plain": [
       "user_id              0\n",
       "name                 0\n",
       "age                  0\n",
       "city                 0\n",
       "subscription_type    0\n",
       "dtype: int64"
      ]
     },
     "execution_count": 14,
     "metadata": {},
     "output_type": "execute_result"
    }
   ],
   "source": [
    "users.isna().sum()"
   ]
  },
  {
   "cell_type": "code",
   "execution_count": 15,
   "id": "6f3e8d95",
   "metadata": {},
   "outputs": [
    {
     "data": {
      "text/plain": [
       "user_id     0\n",
       "distance    0\n",
       "duration    0\n",
       "date        0\n",
       "month       0\n",
       "dtype: int64"
      ]
     },
     "execution_count": 15,
     "metadata": {},
     "output_type": "execute_result"
    }
   ],
   "source": [
    "rides.isna().sum()"
   ]
  },
  {
   "cell_type": "code",
   "execution_count": 16,
   "id": "dc2b2e13",
   "metadata": {},
   "outputs": [
    {
     "data": {
      "text/plain": [
       "subscription_type    0\n",
       "minute_price         0\n",
       "start_ride_price     0\n",
       "subscription_fee     0\n",
       "dtype: int64"
      ]
     },
     "execution_count": 16,
     "metadata": {},
     "output_type": "execute_result"
    }
   ],
   "source": [
    "subs_go.isna().sum()"
   ]
  },
  {
   "cell_type": "markdown",
   "id": "99bbccf1",
   "metadata": {},
   "source": [
    "Вывод: пропущенные значения отсутствуют."
   ]
  },
  {
   "cell_type": "markdown",
   "id": "b45a407c",
   "metadata": {},
   "source": [
    "<a id=\"analisys_data4\"></a>\n",
    "#### Поиск дубликатов"
   ]
  },
  {
   "cell_type": "markdown",
   "id": "561452c0",
   "metadata": {},
   "source": [
    "Проверяем наличие дубликатов в столбце city."
   ]
  },
  {
   "cell_type": "code",
   "execution_count": 17,
   "id": "d40ee2e5",
   "metadata": {},
   "outputs": [
    {
     "data": {
      "text/plain": [
       "array(['Тюмень', 'Омск', 'Москва', 'Ростов-на-Дону', 'Краснодар',\n",
       "       'Пятигорск', 'Екатеринбург', 'Сочи'], dtype=object)"
      ]
     },
     "execution_count": 17,
     "metadata": {},
     "output_type": "execute_result"
    }
   ],
   "source": [
    "users['city'].unique()"
   ]
  },
  {
   "cell_type": "markdown",
   "id": "ef172476",
   "metadata": {},
   "source": [
    "Вывод: в столбце city неявные дубликаты отсутствуют."
   ]
  },
  {
   "cell_type": "markdown",
   "id": "bb76ae73",
   "metadata": {},
   "source": [
    "Проверяем количество дубликатов в столбце user_id."
   ]
  },
  {
   "cell_type": "code",
   "execution_count": 18,
   "id": "c0565279",
   "metadata": {},
   "outputs": [
    {
     "data": {
      "text/plain": [
       "31"
      ]
     },
     "execution_count": 18,
     "metadata": {},
     "output_type": "execute_result"
    }
   ],
   "source": [
    "users['user_id'].duplicated().sum()"
   ]
  },
  {
   "cell_type": "markdown",
   "id": "2e3c024a",
   "metadata": {},
   "source": [
    "Удаляем эти дубликаты."
   ]
  },
  {
   "cell_type": "code",
   "execution_count": 19,
   "id": "bb9c59b2",
   "metadata": {},
   "outputs": [],
   "source": [
    "users = users.drop_duplicates(subset=['user_id'], keep='first')"
   ]
  },
  {
   "cell_type": "code",
   "execution_count": 20,
   "id": "b706e2de",
   "metadata": {},
   "outputs": [
    {
     "data": {
      "text/plain": [
       "0"
      ]
     },
     "execution_count": 20,
     "metadata": {},
     "output_type": "execute_result"
    }
   ],
   "source": [
    "users['user_id'].duplicated().sum()"
   ]
  },
  {
   "cell_type": "markdown",
   "id": "82fdfa82",
   "metadata": {},
   "source": [
    "Вывод: дубликаты в столбце user_id удалены."
   ]
  },
  {
   "cell_type": "markdown",
   "id": "ae2a47aa",
   "metadata": {},
   "source": [
    "В остальных столбцах и других таблицах наличие дубликатов допускается."
   ]
  },
  {
   "cell_type": "markdown",
   "id": "9f7e709c",
   "metadata": {},
   "source": [
    "**Общий вывод: данные довольно качественные. Не пришлось прилагать много усилий в процессе предобработки даных. Пропущенные значения отсутствовали. Было обнаружено и удалено немного дубликатов в столбце user_id.**"
   ]
  },
  {
   "cell_type": "markdown",
   "id": "f3cdbe6e",
   "metadata": {
    "id": "5766e785"
   },
   "source": [
    "<div class=\"alert alert-block alert-danger\">\n",
    "<b>❌Комментарий ревьюера:</b> \n",
    "    \n",
    "После этапа предобработки также нужно сделать краткий резюмирующий вывод о проделанной работе.</div>"
   ]
  },
  {
   "cell_type": "markdown",
   "id": "398b7eb8",
   "metadata": {},
   "source": [
    "<div class=\"alert alert-block alert-success\">\n",
    "<b>✅Комментарий ревьюера 2:</b> Отлично, исправлено!👍  </div>"
   ]
  },
  {
   "cell_type": "markdown",
   "id": "91d24f01",
   "metadata": {},
   "source": [
    "<div class=\"alert alert-block alert-info\">\n",
    "<b>🔄Комментарий студента:</b> \n",
    "Замечание устранено.\n",
    "</div>"
   ]
  },
  {
   "cell_type": "markdown",
   "id": "f7006f15",
   "metadata": {},
   "source": [
    "<div class=\"alert alert-block alert-success\">\n",
    "<b>✅Комментарий ревьюера:</b> Предобработка данных проведена успешно! Можно приступать к исследованию)</div>"
   ]
  },
  {
   "cell_type": "markdown",
   "id": "a4ec515f",
   "metadata": {},
   "source": [
    "<a id=\"develop_data\"></a>\n",
    "### Исследовательский анализ данных"
   ]
  },
  {
   "cell_type": "markdown",
   "id": "a424c0c2",
   "metadata": {},
   "source": [
    "<a id=\"develop_data1\"></a>\n",
    "#### Частота встречаемости городов"
   ]
  },
  {
   "cell_type": "code",
   "execution_count": 21,
   "id": "000eaa0f",
   "metadata": {},
   "outputs": [
    {
     "data": {
      "text/html": [
       "<div>\n",
       "<style scoped>\n",
       "    .dataframe tbody tr th:only-of-type {\n",
       "        vertical-align: middle;\n",
       "    }\n",
       "\n",
       "    .dataframe tbody tr th {\n",
       "        vertical-align: top;\n",
       "    }\n",
       "\n",
       "    .dataframe thead th {\n",
       "        text-align: right;\n",
       "    }\n",
       "</style>\n",
       "<table border=\"1\" class=\"dataframe\">\n",
       "  <thead>\n",
       "    <tr style=\"text-align: right;\">\n",
       "      <th></th>\n",
       "      <th>user_id</th>\n",
       "      <th>name</th>\n",
       "      <th>age</th>\n",
       "      <th>city</th>\n",
       "      <th>subscription_type</th>\n",
       "    </tr>\n",
       "  </thead>\n",
       "  <tbody>\n",
       "    <tr>\n",
       "      <th>0</th>\n",
       "      <td>1</td>\n",
       "      <td>Кира</td>\n",
       "      <td>22</td>\n",
       "      <td>Тюмень</td>\n",
       "      <td>ultra</td>\n",
       "    </tr>\n",
       "    <tr>\n",
       "      <th>1</th>\n",
       "      <td>2</td>\n",
       "      <td>Станислав</td>\n",
       "      <td>31</td>\n",
       "      <td>Омск</td>\n",
       "      <td>ultra</td>\n",
       "    </tr>\n",
       "    <tr>\n",
       "      <th>2</th>\n",
       "      <td>3</td>\n",
       "      <td>Алексей</td>\n",
       "      <td>20</td>\n",
       "      <td>Москва</td>\n",
       "      <td>ultra</td>\n",
       "    </tr>\n",
       "    <tr>\n",
       "      <th>3</th>\n",
       "      <td>4</td>\n",
       "      <td>Константин</td>\n",
       "      <td>26</td>\n",
       "      <td>Ростов-на-Дону</td>\n",
       "      <td>ultra</td>\n",
       "    </tr>\n",
       "    <tr>\n",
       "      <th>4</th>\n",
       "      <td>5</td>\n",
       "      <td>Адель</td>\n",
       "      <td>28</td>\n",
       "      <td>Омск</td>\n",
       "      <td>ultra</td>\n",
       "    </tr>\n",
       "    <tr>\n",
       "      <th>...</th>\n",
       "      <td>...</td>\n",
       "      <td>...</td>\n",
       "      <td>...</td>\n",
       "      <td>...</td>\n",
       "      <td>...</td>\n",
       "    </tr>\n",
       "    <tr>\n",
       "      <th>1529</th>\n",
       "      <td>1530</td>\n",
       "      <td>Ростислав</td>\n",
       "      <td>29</td>\n",
       "      <td>Сочи</td>\n",
       "      <td>free</td>\n",
       "    </tr>\n",
       "    <tr>\n",
       "      <th>1530</th>\n",
       "      <td>1531</td>\n",
       "      <td>Никита</td>\n",
       "      <td>25</td>\n",
       "      <td>Пятигорск</td>\n",
       "      <td>free</td>\n",
       "    </tr>\n",
       "    <tr>\n",
       "      <th>1531</th>\n",
       "      <td>1532</td>\n",
       "      <td>Алексей</td>\n",
       "      <td>26</td>\n",
       "      <td>Тюмень</td>\n",
       "      <td>free</td>\n",
       "    </tr>\n",
       "    <tr>\n",
       "      <th>1532</th>\n",
       "      <td>1533</td>\n",
       "      <td>Степан</td>\n",
       "      <td>22</td>\n",
       "      <td>Краснодар</td>\n",
       "      <td>free</td>\n",
       "    </tr>\n",
       "    <tr>\n",
       "      <th>1533</th>\n",
       "      <td>1534</td>\n",
       "      <td>Альберт</td>\n",
       "      <td>25</td>\n",
       "      <td>Краснодар</td>\n",
       "      <td>free</td>\n",
       "    </tr>\n",
       "  </tbody>\n",
       "</table>\n",
       "<p>1534 rows × 5 columns</p>\n",
       "</div>"
      ],
      "text/plain": [
       "      user_id        name  age            city subscription_type\n",
       "0           1        Кира   22          Тюмень             ultra\n",
       "1           2   Станислав   31            Омск             ultra\n",
       "2           3     Алексей   20          Москва             ultra\n",
       "3           4  Константин   26  Ростов-на-Дону             ultra\n",
       "4           5       Адель   28            Омск             ultra\n",
       "...       ...         ...  ...             ...               ...\n",
       "1529     1530   Ростислав   29            Сочи              free\n",
       "1530     1531      Никита   25       Пятигорск              free\n",
       "1531     1532     Алексей   26          Тюмень              free\n",
       "1532     1533      Степан   22       Краснодар              free\n",
       "1533     1534     Альберт   25       Краснодар              free\n",
       "\n",
       "[1534 rows x 5 columns]"
      ]
     },
     "execution_count": 21,
     "metadata": {},
     "output_type": "execute_result"
    }
   ],
   "source": [
    "users"
   ]
  },
  {
   "cell_type": "code",
   "execution_count": 22,
   "id": "ee7c4a01",
   "metadata": {},
   "outputs": [
    {
     "data": {
      "text/html": [
       "<div>\n",
       "<style scoped>\n",
       "    .dataframe tbody tr th:only-of-type {\n",
       "        vertical-align: middle;\n",
       "    }\n",
       "\n",
       "    .dataframe tbody tr th {\n",
       "        vertical-align: top;\n",
       "    }\n",
       "\n",
       "    .dataframe thead th {\n",
       "        text-align: right;\n",
       "    }\n",
       "</style>\n",
       "<table border=\"1\" class=\"dataframe\">\n",
       "  <thead>\n",
       "    <tr style=\"text-align: right;\">\n",
       "      <th></th>\n",
       "      <th>Кол-во пользователей</th>\n",
       "    </tr>\n",
       "    <tr>\n",
       "      <th>city</th>\n",
       "      <th></th>\n",
       "    </tr>\n",
       "  </thead>\n",
       "  <tbody>\n",
       "    <tr>\n",
       "      <th>Пятигорск</th>\n",
       "      <td>219</td>\n",
       "    </tr>\n",
       "    <tr>\n",
       "      <th>Екатеринбург</th>\n",
       "      <td>204</td>\n",
       "    </tr>\n",
       "    <tr>\n",
       "      <th>Ростов-на-Дону</th>\n",
       "      <td>198</td>\n",
       "    </tr>\n",
       "    <tr>\n",
       "      <th>Краснодар</th>\n",
       "      <td>193</td>\n",
       "    </tr>\n",
       "    <tr>\n",
       "      <th>Сочи</th>\n",
       "      <td>189</td>\n",
       "    </tr>\n",
       "    <tr>\n",
       "      <th>Омск</th>\n",
       "      <td>183</td>\n",
       "    </tr>\n",
       "    <tr>\n",
       "      <th>Тюмень</th>\n",
       "      <td>180</td>\n",
       "    </tr>\n",
       "    <tr>\n",
       "      <th>Москва</th>\n",
       "      <td>168</td>\n",
       "    </tr>\n",
       "  </tbody>\n",
       "</table>\n",
       "</div>"
      ],
      "text/plain": [
       "                Кол-во пользователей\n",
       "city                                \n",
       "Пятигорск                        219\n",
       "Екатеринбург                     204\n",
       "Ростов-на-Дону                   198\n",
       "Краснодар                        193\n",
       "Сочи                             189\n",
       "Омск                             183\n",
       "Тюмень                           180\n",
       "Москва                           168"
      ]
     },
     "execution_count": 22,
     "metadata": {},
     "output_type": "execute_result"
    }
   ],
   "source": [
    "pivot_city = pd.pivot_table(users, index=['city'], values=['user_id'], aggfunc={'user_id':'count'})\n",
    "pivot_city.columns =[('Кол-во пользователей')]\n",
    "pivot_city=pivot_city.sort_values(by='Кол-во пользователей', ascending=False)\n",
    "pivot_city"
   ]
  },
  {
   "cell_type": "code",
   "execution_count": 23,
   "id": "ef30e4d3",
   "metadata": {},
   "outputs": [
    {
     "data": {
      "image/png": "[encoded data removed]",
      "text/plain": [
       "<Figure size 432x432 with 1 Axes>"
      ]
     },
     "metadata": {
      "needs_background": "light"
     },
     "output_type": "display_data"
    }
   ],
   "source": [
    "pivot_city.plot.bar(y='Кол-во пользователей',  grid=True, figsize=(6, 6))\n",
    "plt.xlabel(\"Город\")\n",
    "plt.ylabel(\"Кол-во пользователей\")\n",
    "plt.title(\"Анализ количества пользователей по городам\");"
   ]
  },
  {
   "cell_type": "markdown",
   "id": "ac7bbe94",
   "metadata": {},
   "source": [
    "<div class=\"alert alert-block alert-danger\">\n",
    "<b>❌Комментарий ревьюера:</b>\n",
    "    \n",
    "Необходимо подписывать каждый график и оси на нем. Есть [хорошая статья](https://devpractice.ru/matplotlib-lesson-3-3-text-elements/), которая подскажет как это правильно сделать). </div>"
   ]
  },
  {
   "cell_type": "markdown",
   "id": "27179407",
   "metadata": {},
   "source": [
    "<div class=\"alert alert-block alert-success\">\n",
    "<b>✅Комментарий ревьюера 2:</b> Отлично, исправлено!👍  </div>"
   ]
  },
  {
   "cell_type": "markdown",
   "id": "5fa2f51e",
   "metadata": {},
   "source": [
    "<div class=\"alert alert-block alert-warning\">\n",
    "<b>🔁Комментарий ревьюера:</b> \n",
    "\n",
    "Такой график не очень информативен. Для категориальных признаков гистограмма не подходит. Тут лучше построить горизонтальный барплот с сортировкой по убыванию. Данные для построения графика можно получить с помощью метода value_counts(). Также эти данные стоит отобразить и в табличном виде, чтобы была возможность сравнить значения количества пользователей в каждом городе.</div>"
   ]
  },
  {
   "cell_type": "markdown",
   "id": "fa65b22f",
   "metadata": {},
   "source": [
    "<div class=\"alert alert-block alert-success\">\n",
    "<b>✅Комментарий ревьюера 2:</b> Отлично, исправлено!👍  </div>"
   ]
  },
  {
   "cell_type": "markdown",
   "id": "76e107aa",
   "metadata": {},
   "source": [
    "<div class=\"alert alert-block alert-info\">\n",
    "<b>🔄Комментарий студента:</b> \n",
    "Замечания устранены.\n",
    "</div>"
   ]
  },
  {
   "cell_type": "markdown",
   "id": "6205e64a",
   "metadata": {},
   "source": [
    "Вывод: Пятигорск встречается чаще всего. Меньше всего пользователей почему-то в Москве."
   ]
  },
  {
   "cell_type": "markdown",
   "id": "e39a2719",
   "metadata": {},
   "source": [
    "<a id=\"develop_data2\"></a>\n",
    "#### Соотношение пользователей с подпиской и без подписки"
   ]
  },
  {
   "cell_type": "code",
   "execution_count": 24,
   "id": "5b8296e6",
   "metadata": {},
   "outputs": [
    {
     "data": {
      "text/plain": [
       "free     835\n",
       "ultra    699\n",
       "Name: subscription_type, dtype: int64"
      ]
     },
     "execution_count": 24,
     "metadata": {},
     "output_type": "execute_result"
    }
   ],
   "source": [
    "vals=users['subscription_type'].value_counts()\n",
    "vals"
   ]
  },
  {
   "cell_type": "code",
   "execution_count": 25,
   "id": "8103feb3",
   "metadata": {},
   "outputs": [
    {
     "data": {
      "image/png": "[encoded data removed]",
      "text/plain": [
       "<Figure size 432x288 with 1 Axes>"
      ]
     },
     "metadata": {},
     "output_type": "display_data"
    }
   ],
   "source": [
    "fig, ax = plt.subplots()\n",
    "ax.pie(vals, labels=[\"Без подписки\", \"С подпиской\"], autopct='%1.1f%%')\n",
    "plt.title(\"Соотношение пользователей с подпиской и без\");"
   ]
  },
  {
   "cell_type": "markdown",
   "id": "db10ffb8",
   "metadata": {},
   "source": [
    "<div class=\"alert alert-block alert-warning\">\n",
    "<b>🔁Комментарий ревьюера:</b>\n",
    "\n",
    "Тут отлично подошла бы круговая диаграмма с отображением на ней соотношения групп пользователей в %</div>"
   ]
  },
  {
   "cell_type": "markdown",
   "id": "e63dc1f7",
   "metadata": {},
   "source": [
    "<div class=\"alert alert-block alert-success\">\n",
    "<b>✅Комментарий ревьюера 2:</b> Отлично, исправлено!👍  </div>"
   ]
  },
  {
   "cell_type": "markdown",
   "id": "2aac6fb5",
   "metadata": {},
   "source": [
    "<div class=\"alert alert-block alert-info\">\n",
    "<b>🔄Комментарий студента:</b> \n",
    "Замечание устранено.\n",
    "</div>"
   ]
  },
  {
   "cell_type": "markdown",
   "id": "96b05e2b",
   "metadata": {},
   "source": [
    "Вывод: пользователей без подписки незначительно больше."
   ]
  },
  {
   "cell_type": "markdown",
   "id": "e73334f2",
   "metadata": {},
   "source": [
    "<a id=\"develop_data3\"></a>\n",
    "#### Возраст пользователей"
   ]
  },
  {
   "cell_type": "code",
   "execution_count": 26,
   "id": "c52010e9",
   "metadata": {},
   "outputs": [
    {
     "data": {
      "image/png": "[encoded data removed]",
      "text/plain": [
       "<Figure size 1080x360 with 1 Axes>"
      ]
     },
     "metadata": {
      "needs_background": "light"
     },
     "output_type": "display_data"
    }
   ],
   "source": [
    "fig, axs = plt.subplots(figsize=(15, 5))\n",
    "\n",
    "sns.histplot(data=users, x=\"age\", bins=27, binrange=(12, 40), color=\"green\")\n",
    "plt.xlabel(\"Возраст, лет\")\n",
    "plt.ylabel(\"Количество\")\n",
    "plt.title(\"Анализ возраста пользователей, пользующихся приложением\")\n",
    "plt.show()"
   ]
  },
  {
   "cell_type": "markdown",
   "id": "1422eebe",
   "metadata": {},
   "source": [
    "Вывод: самая большая группа пользователей - люди от 20 до 30 лет."
   ]
  },
  {
   "cell_type": "markdown",
   "id": "7b6ea869",
   "metadata": {},
   "source": [
    "<a id=\"develop_data4\"></a>\n",
    "#### Расстояние, которое пользователь преодолел за одну поездку"
   ]
  },
  {
   "cell_type": "code",
   "execution_count": 27,
   "id": "74fb53f1",
   "metadata": {},
   "outputs": [
    {
     "data": {
      "text/html": [
       "<div>\n",
       "<style scoped>\n",
       "    .dataframe tbody tr th:only-of-type {\n",
       "        vertical-align: middle;\n",
       "    }\n",
       "\n",
       "    .dataframe tbody tr th {\n",
       "        vertical-align: top;\n",
       "    }\n",
       "\n",
       "    .dataframe thead th {\n",
       "        text-align: right;\n",
       "    }\n",
       "</style>\n",
       "<table border=\"1\" class=\"dataframe\">\n",
       "  <thead>\n",
       "    <tr style=\"text-align: right;\">\n",
       "      <th></th>\n",
       "      <th>user_id</th>\n",
       "      <th>distance</th>\n",
       "      <th>duration</th>\n",
       "      <th>month</th>\n",
       "    </tr>\n",
       "  </thead>\n",
       "  <tbody>\n",
       "    <tr>\n",
       "      <th>count</th>\n",
       "      <td>18068.000000</td>\n",
       "      <td>18068.000000</td>\n",
       "      <td>18068.000000</td>\n",
       "      <td>18068.000000</td>\n",
       "    </tr>\n",
       "    <tr>\n",
       "      <th>mean</th>\n",
       "      <td>842.869936</td>\n",
       "      <td>3070.659976</td>\n",
       "      <td>17.805011</td>\n",
       "      <td>6.486772</td>\n",
       "    </tr>\n",
       "    <tr>\n",
       "      <th>std</th>\n",
       "      <td>434.734317</td>\n",
       "      <td>1116.831209</td>\n",
       "      <td>6.091051</td>\n",
       "      <td>3.437410</td>\n",
       "    </tr>\n",
       "    <tr>\n",
       "      <th>min</th>\n",
       "      <td>1.000000</td>\n",
       "      <td>0.855683</td>\n",
       "      <td>0.500000</td>\n",
       "      <td>1.000000</td>\n",
       "    </tr>\n",
       "    <tr>\n",
       "      <th>25%</th>\n",
       "      <td>487.000000</td>\n",
       "      <td>2543.226360</td>\n",
       "      <td>13.597563</td>\n",
       "      <td>4.000000</td>\n",
       "    </tr>\n",
       "    <tr>\n",
       "      <th>50%</th>\n",
       "      <td>889.000000</td>\n",
       "      <td>3133.609994</td>\n",
       "      <td>17.678395</td>\n",
       "      <td>6.000000</td>\n",
       "    </tr>\n",
       "    <tr>\n",
       "      <th>75%</th>\n",
       "      <td>1213.250000</td>\n",
       "      <td>3776.222735</td>\n",
       "      <td>21.724800</td>\n",
       "      <td>9.000000</td>\n",
       "    </tr>\n",
       "    <tr>\n",
       "      <th>max</th>\n",
       "      <td>1534.000000</td>\n",
       "      <td>7211.007745</td>\n",
       "      <td>40.823963</td>\n",
       "      <td>12.000000</td>\n",
       "    </tr>\n",
       "  </tbody>\n",
       "</table>\n",
       "</div>"
      ],
      "text/plain": [
       "            user_id      distance      duration         month\n",
       "count  18068.000000  18068.000000  18068.000000  18068.000000\n",
       "mean     842.869936   3070.659976     17.805011      6.486772\n",
       "std      434.734317   1116.831209      6.091051      3.437410\n",
       "min        1.000000      0.855683      0.500000      1.000000\n",
       "25%      487.000000   2543.226360     13.597563      4.000000\n",
       "50%      889.000000   3133.609994     17.678395      6.000000\n",
       "75%     1213.250000   3776.222735     21.724800      9.000000\n",
       "max     1534.000000   7211.007745     40.823963     12.000000"
      ]
     },
     "execution_count": 27,
     "metadata": {},
     "output_type": "execute_result"
    }
   ],
   "source": [
    "rides.describe()"
   ]
  },
  {
   "cell_type": "markdown",
   "id": "983ecb0b",
   "metadata": {},
   "source": [
    "<div class=\"alert alert-block alert-warning\">\n",
    "<b>🔁Комментарий ревьюера:</b>\n",
    "\n",
    "В качестве дополнительного инструмента для анализа можно использовать `describe()`</div>"
   ]
  },
  {
   "cell_type": "markdown",
   "id": "e9e7f788",
   "metadata": {},
   "source": [
    "<div class=\"alert alert-block alert-success\">\n",
    "<b>✅Комментарий ревьюера 2:</b> Отлично, исправлено!👍  </div>"
   ]
  },
  {
   "cell_type": "markdown",
   "id": "8dc297ab",
   "metadata": {},
   "source": [
    "<div class=\"alert alert-block alert-info\">\n",
    "<b>🔄Комментарий студента:</b> \n",
    "Замечание устранено.\n",
    "</div>"
   ]
  },
  {
   "cell_type": "code",
   "execution_count": 28,
   "id": "daeebb86",
   "metadata": {},
   "outputs": [
    {
     "data": {
      "image/png": "[encoded data removed]",
      "text/plain": [
       "<Figure size 1080x360 with 1 Axes>"
      ]
     },
     "metadata": {
      "needs_background": "light"
     },
     "output_type": "display_data"
    }
   ],
   "source": [
    "fig, axs = plt.subplots(figsize=(15, 5))\n",
    "\n",
    "sns.histplot(data=rides, x=\"distance\", bins=30, binrange=(0, 6200), color=\"red\")\n",
    "plt.xlabel(\"Расстояние, м\")\n",
    "plt.ylabel(\"Количество\")\n",
    "plt.title(\"Анализ расстояние, на которое чаще всего ездят пользователи\")\n",
    "plt.show()"
   ]
  },
  {
   "cell_type": "markdown",
   "id": "54b91035",
   "metadata": {},
   "source": [
    "Вывод: в основном пользователи ездят на расстояние от 2,5 до 4 км."
   ]
  },
  {
   "cell_type": "markdown",
   "id": "c497b118",
   "metadata": {},
   "source": [
    "<div class=\"alert alert-block alert-warning\">\n",
    "<b>🔁Комментарий ревьюера:</b>\n",
    "\n",
    "Как ты думаешь, чем можно объяснить два пиковых значения на распределении?</div>"
   ]
  },
  {
   "cell_type": "markdown",
   "id": "97e5abba",
   "metadata": {},
   "source": [
    "<div class=\"alert alert-block alert-info\">\n",
    "<b>🔄Комментарий студента:</b> \n",
    "У меня возникло лишь одно предположение. Заключается в том, что пользователи без подписки создают такой пик на 750 метров, так как не желают ездить на дальние расстояния из-за повышенной стоимости. Но такой же небольшой пик на 1000 метров есть у пользователей с подпиской. Значит есть еще какие-то факторы, создающие данный пик. \n",
    "</div>"
   ]
  },
  {
   "cell_type": "markdown",
   "id": "6fc02cdb",
   "metadata": {},
   "source": [
    "<div class=\"alert alert-block alert-success\">\n",
    "<b>✅Комментарий ревьюера 2:</b> Отлично, исправлено!👍 А еще короткими могут быть поездки до ближайшей станции метро или остановки общественного транспорта. </div>"
   ]
  },
  {
   "cell_type": "markdown",
   "id": "a30b2894",
   "metadata": {},
   "source": [
    "<a id=\"develop_data5\"></a>\n",
    "#### Продолжительность поездок"
   ]
  },
  {
   "cell_type": "code",
   "execution_count": 29,
   "id": "947a48b7",
   "metadata": {},
   "outputs": [
    {
     "data": {
      "image/png": "[encoded data removed]",
      "text/plain": [
       "<Figure size 1080x360 with 1 Axes>"
      ]
     },
     "metadata": {
      "needs_background": "light"
     },
     "output_type": "display_data"
    }
   ],
   "source": [
    "fig, axs = plt.subplots(figsize=(15, 5))\n",
    "\n",
    "sns.histplot(data=rides, x=\"duration\", bins=100, binrange=(0, 36), color=\"purple\")\n",
    "plt.xlabel(\"Длительность поездки, мин.\")\n",
    "plt.ylabel(\"Количество\")\n",
    "plt.title(\"Анализ длительности поездок\")\n",
    "plt.show()"
   ]
  },
  {
   "cell_type": "markdown",
   "id": "4e5896e7",
   "metadata": {},
   "source": [
    "Есть аномальные пики около 0. Удалим их."
   ]
  },
  {
   "cell_type": "code",
   "execution_count": 30,
   "id": "54a0d2ba",
   "metadata": {},
   "outputs": [
    {
     "data": {
      "text/html": [
       "<div>\n",
       "<style scoped>\n",
       "    .dataframe tbody tr th:only-of-type {\n",
       "        vertical-align: middle;\n",
       "    }\n",
       "\n",
       "    .dataframe tbody tr th {\n",
       "        vertical-align: top;\n",
       "    }\n",
       "\n",
       "    .dataframe thead th {\n",
       "        text-align: right;\n",
       "    }\n",
       "</style>\n",
       "<table border=\"1\" class=\"dataframe\">\n",
       "  <thead>\n",
       "    <tr style=\"text-align: right;\">\n",
       "      <th></th>\n",
       "      <th>user_id</th>\n",
       "      <th>distance</th>\n",
       "      <th>duration</th>\n",
       "      <th>date</th>\n",
       "      <th>month</th>\n",
       "    </tr>\n",
       "  </thead>\n",
       "  <tbody>\n",
       "    <tr>\n",
       "      <th>6531</th>\n",
       "      <td>701</td>\n",
       "      <td>4196.445201</td>\n",
       "      <td>0.5</td>\n",
       "      <td>2021-08-31</td>\n",
       "      <td>8</td>\n",
       "    </tr>\n",
       "    <tr>\n",
       "      <th>6570</th>\n",
       "      <td>704</td>\n",
       "      <td>4830.824371</td>\n",
       "      <td>0.5</td>\n",
       "      <td>2021-10-14</td>\n",
       "      <td>10</td>\n",
       "    </tr>\n",
       "    <tr>\n",
       "      <th>6680</th>\n",
       "      <td>712</td>\n",
       "      <td>4684.004397</td>\n",
       "      <td>0.5</td>\n",
       "      <td>2021-03-04</td>\n",
       "      <td>3</td>\n",
       "    </tr>\n",
       "    <tr>\n",
       "      <th>6695</th>\n",
       "      <td>713</td>\n",
       "      <td>5215.642710</td>\n",
       "      <td>0.5</td>\n",
       "      <td>2021-02-25</td>\n",
       "      <td>2</td>\n",
       "    </tr>\n",
       "    <tr>\n",
       "      <th>6768</th>\n",
       "      <td>718</td>\n",
       "      <td>5197.436649</td>\n",
       "      <td>0.5</td>\n",
       "      <td>2021-02-11</td>\n",
       "      <td>2</td>\n",
       "    </tr>\n",
       "    <tr>\n",
       "      <th>...</th>\n",
       "      <td>...</td>\n",
       "      <td>...</td>\n",
       "      <td>...</td>\n",
       "      <td>...</td>\n",
       "      <td>...</td>\n",
       "    </tr>\n",
       "    <tr>\n",
       "      <th>17004</th>\n",
       "      <td>1460</td>\n",
       "      <td>5531.335845</td>\n",
       "      <td>0.5</td>\n",
       "      <td>2021-01-19</td>\n",
       "      <td>1</td>\n",
       "    </tr>\n",
       "    <tr>\n",
       "      <th>17242</th>\n",
       "      <td>1477</td>\n",
       "      <td>6724.932981</td>\n",
       "      <td>0.5</td>\n",
       "      <td>2021-01-12</td>\n",
       "      <td>1</td>\n",
       "    </tr>\n",
       "    <tr>\n",
       "      <th>17314</th>\n",
       "      <td>1483</td>\n",
       "      <td>4445.481070</td>\n",
       "      <td>0.5</td>\n",
       "      <td>2021-03-06</td>\n",
       "      <td>3</td>\n",
       "    </tr>\n",
       "    <tr>\n",
       "      <th>17505</th>\n",
       "      <td>1496</td>\n",
       "      <td>5722.551787</td>\n",
       "      <td>0.5</td>\n",
       "      <td>2021-02-14</td>\n",
       "      <td>2</td>\n",
       "    </tr>\n",
       "    <tr>\n",
       "      <th>17909</th>\n",
       "      <td>1524</td>\n",
       "      <td>4103.998874</td>\n",
       "      <td>0.5</td>\n",
       "      <td>2021-06-18</td>\n",
       "      <td>6</td>\n",
       "    </tr>\n",
       "  </tbody>\n",
       "</table>\n",
       "<p>95 rows × 5 columns</p>\n",
       "</div>"
      ],
      "text/plain": [
       "       user_id     distance  duration       date  month\n",
       "6531       701  4196.445201       0.5 2021-08-31      8\n",
       "6570       704  4830.824371       0.5 2021-10-14     10\n",
       "6680       712  4684.004397       0.5 2021-03-04      3\n",
       "6695       713  5215.642710       0.5 2021-02-25      2\n",
       "6768       718  5197.436649       0.5 2021-02-11      2\n",
       "...        ...          ...       ...        ...    ...\n",
       "17004     1460  5531.335845       0.5 2021-01-19      1\n",
       "17242     1477  6724.932981       0.5 2021-01-12      1\n",
       "17314     1483  4445.481070       0.5 2021-03-06      3\n",
       "17505     1496  5722.551787       0.5 2021-02-14      2\n",
       "17909     1524  4103.998874       0.5 2021-06-18      6\n",
       "\n",
       "[95 rows x 5 columns]"
      ]
     },
     "execution_count": 30,
     "metadata": {},
     "output_type": "execute_result"
    }
   ],
   "source": [
    "rides0 = rides.loc[(rides['duration'] < 2)]\n",
    "rides0"
   ]
  },
  {
   "cell_type": "markdown",
   "id": "81386384",
   "metadata": {},
   "source": [
    "Как видно из таблицы длительность поездки составляла 0,5 минуты, хотя пользователи проехали от 4 до 6 км. Ошибка в данных. Эти строки можно удалять."
   ]
  },
  {
   "cell_type": "markdown",
   "id": "9dc0f741",
   "metadata": {},
   "source": [
    "<div class=\"alert alert-block alert-warning\">\n",
    "<b>🔁Комментарий ревьюера 2:</b> \n",
    "    \n",
    "\n",
    "\n",
    "Подобные моменты стоит утонять у коллег. Возможно таким образом была реализована какая-нибудь акция с бесплатными минутами и эти поездки нужно учитывать при расчете выручки.</div>"
   ]
  },
  {
   "cell_type": "code",
   "execution_count": 31,
   "id": "d47fe574",
   "metadata": {},
   "outputs": [
    {
     "data": {
      "image/png": "[encoded data removed]",
      "text/plain": [
       "<Figure size 1080x360 with 1 Axes>"
      ]
     },
     "metadata": {
      "needs_background": "light"
     },
     "output_type": "display_data"
    }
   ],
   "source": [
    "rides = rides.loc[(rides['duration'] > 2)]\n",
    "\n",
    "fig, axs = plt.subplots(figsize=(15, 5))\n",
    "\n",
    "sns.histplot(data=rides, x=\"duration\", bins=100, binrange=(0, 36), color=\"purple\")\n",
    "plt.xlabel(\"Длительность поездки, мин.\")\n",
    "plt.ylabel(\"Количество\")\n",
    "plt.title(\"Анализ длительности поездок\")\n",
    "plt.show()"
   ]
  },
  {
   "cell_type": "markdown",
   "id": "6e8e9135",
   "metadata": {
    "id": "5766e785"
   },
   "source": [
    "<div class=\"alert alert-block alert-danger\">\n",
    "<b>❌Комментарий ревьюера:</b> \n",
    "    \n",
    "Напомню, что каждый график в проекте и оси на нем должны быть подписаны</div>"
   ]
  },
  {
   "cell_type": "markdown",
   "id": "b8da7af9",
   "metadata": {},
   "source": [
    "<div class=\"alert alert-block alert-success\">\n",
    "<b>✅Комментарий ревьюера 2:</b> Отлично, исправлено!👍  </div>"
   ]
  },
  {
   "cell_type": "markdown",
   "id": "757304eb",
   "metadata": {},
   "source": [
    "<div class=\"alert alert-block alert-warning\">\n",
    "<b>🔁Комментарий ревьюера:</b>\n",
    "\n",
    "Давай немного увеличим значение параметра bins. Тогда мы сможем заметить странный пик около 0. Строки с этими поездками и их параметры стоит рассмотреть подробнее на предмет аномалий.</div>"
   ]
  },
  {
   "cell_type": "markdown",
   "id": "5bbf3560",
   "metadata": {},
   "source": [
    "<div class=\"alert alert-block alert-success\">\n",
    "<b>✅Комментарий ревьюера 2:</b> Отлично, исправлено!👍  </div>"
   ]
  },
  {
   "cell_type": "markdown",
   "id": "8bafe9da",
   "metadata": {},
   "source": [
    "<div class=\"alert alert-block alert-info\">\n",
    "<b>🔄Комментарий студента:</b> \n",
    "Замечания устранены.\n",
    "</div>"
   ]
  },
  {
   "cell_type": "markdown",
   "id": "1bf12c6b",
   "metadata": {},
   "source": [
    "Вывод: продолжительность поездки чаще всего составляет от 10 до 25 минут."
   ]
  },
  {
   "cell_type": "markdown",
   "id": "40f19cf5",
   "metadata": {},
   "source": [
    "<a id=\"data\"></a>\n",
    "### Объединение данных"
   ]
  },
  {
   "cell_type": "markdown",
   "id": "53b08080",
   "metadata": {},
   "source": [
    "<a id=\"data1\"></a>\n",
    "#### Объединение данных о пользователях, поездках и подписках в один датафрейм"
   ]
  },
  {
   "cell_type": "code",
   "execution_count": 32,
   "id": "d3313a60",
   "metadata": {},
   "outputs": [],
   "source": [
    "merged_data = users.merge(rides, on='user_id')"
   ]
  },
  {
   "cell_type": "code",
   "execution_count": 33,
   "id": "536f7def",
   "metadata": {},
   "outputs": [],
   "source": [
    "merged_data = merged_data.merge(subs_go, on='subscription_type')"
   ]
  },
  {
   "cell_type": "code",
   "execution_count": 34,
   "id": "174a9227",
   "metadata": {},
   "outputs": [
    {
     "data": {
      "text/html": [
       "<div>\n",
       "<style scoped>\n",
       "    .dataframe tbody tr th:only-of-type {\n",
       "        vertical-align: middle;\n",
       "    }\n",
       "\n",
       "    .dataframe tbody tr th {\n",
       "        vertical-align: top;\n",
       "    }\n",
       "\n",
       "    .dataframe thead th {\n",
       "        text-align: right;\n",
       "    }\n",
       "</style>\n",
       "<table border=\"1\" class=\"dataframe\">\n",
       "  <thead>\n",
       "    <tr style=\"text-align: right;\">\n",
       "      <th></th>\n",
       "      <th>user_id</th>\n",
       "      <th>name</th>\n",
       "      <th>age</th>\n",
       "      <th>city</th>\n",
       "      <th>subscription_type</th>\n",
       "      <th>distance</th>\n",
       "      <th>duration</th>\n",
       "      <th>date</th>\n",
       "      <th>month</th>\n",
       "      <th>minute_price</th>\n",
       "      <th>start_ride_price</th>\n",
       "      <th>subscription_fee</th>\n",
       "    </tr>\n",
       "  </thead>\n",
       "  <tbody>\n",
       "    <tr>\n",
       "      <th>0</th>\n",
       "      <td>1</td>\n",
       "      <td>Кира</td>\n",
       "      <td>22</td>\n",
       "      <td>Тюмень</td>\n",
       "      <td>ultra</td>\n",
       "      <td>4409.919140</td>\n",
       "      <td>25.599769</td>\n",
       "      <td>2021-01-01</td>\n",
       "      <td>1</td>\n",
       "      <td>6</td>\n",
       "      <td>0</td>\n",
       "      <td>199</td>\n",
       "    </tr>\n",
       "    <tr>\n",
       "      <th>1</th>\n",
       "      <td>1</td>\n",
       "      <td>Кира</td>\n",
       "      <td>22</td>\n",
       "      <td>Тюмень</td>\n",
       "      <td>ultra</td>\n",
       "      <td>2617.592153</td>\n",
       "      <td>15.816871</td>\n",
       "      <td>2021-01-18</td>\n",
       "      <td>1</td>\n",
       "      <td>6</td>\n",
       "      <td>0</td>\n",
       "      <td>199</td>\n",
       "    </tr>\n",
       "    <tr>\n",
       "      <th>2</th>\n",
       "      <td>1</td>\n",
       "      <td>Кира</td>\n",
       "      <td>22</td>\n",
       "      <td>Тюмень</td>\n",
       "      <td>ultra</td>\n",
       "      <td>754.159807</td>\n",
       "      <td>6.232113</td>\n",
       "      <td>2021-04-20</td>\n",
       "      <td>4</td>\n",
       "      <td>6</td>\n",
       "      <td>0</td>\n",
       "      <td>199</td>\n",
       "    </tr>\n",
       "    <tr>\n",
       "      <th>3</th>\n",
       "      <td>1</td>\n",
       "      <td>Кира</td>\n",
       "      <td>22</td>\n",
       "      <td>Тюмень</td>\n",
       "      <td>ultra</td>\n",
       "      <td>2694.783254</td>\n",
       "      <td>18.511000</td>\n",
       "      <td>2021-08-11</td>\n",
       "      <td>8</td>\n",
       "      <td>6</td>\n",
       "      <td>0</td>\n",
       "      <td>199</td>\n",
       "    </tr>\n",
       "    <tr>\n",
       "      <th>4</th>\n",
       "      <td>1</td>\n",
       "      <td>Кира</td>\n",
       "      <td>22</td>\n",
       "      <td>Тюмень</td>\n",
       "      <td>ultra</td>\n",
       "      <td>4028.687306</td>\n",
       "      <td>26.265803</td>\n",
       "      <td>2021-08-28</td>\n",
       "      <td>8</td>\n",
       "      <td>6</td>\n",
       "      <td>0</td>\n",
       "      <td>199</td>\n",
       "    </tr>\n",
       "    <tr>\n",
       "      <th>...</th>\n",
       "      <td>...</td>\n",
       "      <td>...</td>\n",
       "      <td>...</td>\n",
       "      <td>...</td>\n",
       "      <td>...</td>\n",
       "      <td>...</td>\n",
       "      <td>...</td>\n",
       "      <td>...</td>\n",
       "      <td>...</td>\n",
       "      <td>...</td>\n",
       "      <td>...</td>\n",
       "      <td>...</td>\n",
       "    </tr>\n",
       "    <tr>\n",
       "      <th>17968</th>\n",
       "      <td>1534</td>\n",
       "      <td>Альберт</td>\n",
       "      <td>25</td>\n",
       "      <td>Краснодар</td>\n",
       "      <td>free</td>\n",
       "      <td>3781.098080</td>\n",
       "      <td>19.822962</td>\n",
       "      <td>2021-11-04</td>\n",
       "      <td>11</td>\n",
       "      <td>8</td>\n",
       "      <td>50</td>\n",
       "      <td>0</td>\n",
       "    </tr>\n",
       "    <tr>\n",
       "      <th>17969</th>\n",
       "      <td>1534</td>\n",
       "      <td>Альберт</td>\n",
       "      <td>25</td>\n",
       "      <td>Краснодар</td>\n",
       "      <td>free</td>\n",
       "      <td>2840.423057</td>\n",
       "      <td>21.409799</td>\n",
       "      <td>2021-11-16</td>\n",
       "      <td>11</td>\n",
       "      <td>8</td>\n",
       "      <td>50</td>\n",
       "      <td>0</td>\n",
       "    </tr>\n",
       "    <tr>\n",
       "      <th>17970</th>\n",
       "      <td>1534</td>\n",
       "      <td>Альберт</td>\n",
       "      <td>25</td>\n",
       "      <td>Краснодар</td>\n",
       "      <td>free</td>\n",
       "      <td>3826.185507</td>\n",
       "      <td>18.435051</td>\n",
       "      <td>2021-11-18</td>\n",
       "      <td>11</td>\n",
       "      <td>8</td>\n",
       "      <td>50</td>\n",
       "      <td>0</td>\n",
       "    </tr>\n",
       "    <tr>\n",
       "      <th>17971</th>\n",
       "      <td>1534</td>\n",
       "      <td>Альберт</td>\n",
       "      <td>25</td>\n",
       "      <td>Краснодар</td>\n",
       "      <td>free</td>\n",
       "      <td>2902.308661</td>\n",
       "      <td>16.674362</td>\n",
       "      <td>2021-11-27</td>\n",
       "      <td>11</td>\n",
       "      <td>8</td>\n",
       "      <td>50</td>\n",
       "      <td>0</td>\n",
       "    </tr>\n",
       "    <tr>\n",
       "      <th>17972</th>\n",
       "      <td>1534</td>\n",
       "      <td>Альберт</td>\n",
       "      <td>25</td>\n",
       "      <td>Краснодар</td>\n",
       "      <td>free</td>\n",
       "      <td>2371.711192</td>\n",
       "      <td>15.893917</td>\n",
       "      <td>2021-12-29</td>\n",
       "      <td>12</td>\n",
       "      <td>8</td>\n",
       "      <td>50</td>\n",
       "      <td>0</td>\n",
       "    </tr>\n",
       "  </tbody>\n",
       "</table>\n",
       "<p>17973 rows × 12 columns</p>\n",
       "</div>"
      ],
      "text/plain": [
       "       user_id     name  age       city subscription_type     distance  \\\n",
       "0            1     Кира   22     Тюмень             ultra  4409.919140   \n",
       "1            1     Кира   22     Тюмень             ultra  2617.592153   \n",
       "2            1     Кира   22     Тюмень             ultra   754.159807   \n",
       "3            1     Кира   22     Тюмень             ultra  2694.783254   \n",
       "4            1     Кира   22     Тюмень             ultra  4028.687306   \n",
       "...        ...      ...  ...        ...               ...          ...   \n",
       "17968     1534  Альберт   25  Краснодар              free  3781.098080   \n",
       "17969     1534  Альберт   25  Краснодар              free  2840.423057   \n",
       "17970     1534  Альберт   25  Краснодар              free  3826.185507   \n",
       "17971     1534  Альберт   25  Краснодар              free  2902.308661   \n",
       "17972     1534  Альберт   25  Краснодар              free  2371.711192   \n",
       "\n",
       "        duration       date  month  minute_price  start_ride_price  \\\n",
       "0      25.599769 2021-01-01      1             6                 0   \n",
       "1      15.816871 2021-01-18      1             6                 0   \n",
       "2       6.232113 2021-04-20      4             6                 0   \n",
       "3      18.511000 2021-08-11      8             6                 0   \n",
       "4      26.265803 2021-08-28      8             6                 0   \n",
       "...          ...        ...    ...           ...               ...   \n",
       "17968  19.822962 2021-11-04     11             8                50   \n",
       "17969  21.409799 2021-11-16     11             8                50   \n",
       "17970  18.435051 2021-11-18     11             8                50   \n",
       "17971  16.674362 2021-11-27     11             8                50   \n",
       "17972  15.893917 2021-12-29     12             8                50   \n",
       "\n",
       "       subscription_fee  \n",
       "0                   199  \n",
       "1                   199  \n",
       "2                   199  \n",
       "3                   199  \n",
       "4                   199  \n",
       "...                 ...  \n",
       "17968                 0  \n",
       "17969                 0  \n",
       "17970                 0  \n",
       "17971                 0  \n",
       "17972                 0  \n",
       "\n",
       "[17973 rows x 12 columns]"
      ]
     },
     "execution_count": 34,
     "metadata": {},
     "output_type": "execute_result"
    }
   ],
   "source": [
    "merged_data"
   ]
  },
  {
   "cell_type": "markdown",
   "id": "74afb8ef",
   "metadata": {},
   "source": [
    "<div class=\"alert alert-block alert-warning\">\n",
    "<b>🔁Комментарий ревьюера:</b>\n",
    "\n",
    "Тут стоит проверить количество строк полученной таблицы и сравнить ее с количеством строк таблиц до объединения, чтобы убедиться что мы ничего не потеряли и не добавили лишнего. А также проверить, не появились ли пропуски в таблице.\n",
    "\n",
    "</div>"
   ]
  },
  {
   "cell_type": "markdown",
   "id": "e5db9462",
   "metadata": {},
   "source": [
    "<div class=\"alert alert-block alert-success\">\n",
    "<b>✅Комментарий ревьюера 2:</b> Отлично, исправлено!👍  </div>"
   ]
  },
  {
   "cell_type": "code",
   "execution_count": 35,
   "id": "ee82dd3b",
   "metadata": {},
   "outputs": [
    {
     "name": "stdout",
     "output_type": "stream",
     "text": [
      "Данные не потеряны\n"
     ]
    }
   ],
   "source": [
    "if len(merged_data)==len(rides):\n",
    "    print('Данные не потеряны')\n",
    "else:\n",
    "    print('Данные потеряны')"
   ]
  },
  {
   "cell_type": "code",
   "execution_count": 36,
   "id": "fc03c025",
   "metadata": {},
   "outputs": [
    {
     "data": {
      "text/plain": [
       "user_id              0\n",
       "name                 0\n",
       "age                  0\n",
       "city                 0\n",
       "subscription_type    0\n",
       "distance             0\n",
       "duration             0\n",
       "date                 0\n",
       "month                0\n",
       "minute_price         0\n",
       "start_ride_price     0\n",
       "subscription_fee     0\n",
       "dtype: int64"
      ]
     },
     "execution_count": 36,
     "metadata": {},
     "output_type": "execute_result"
    }
   ],
   "source": [
    "merged_data.isna().sum()"
   ]
  },
  {
   "cell_type": "markdown",
   "id": "0d74de4f",
   "metadata": {},
   "source": [
    "Пустые значения отсутствуют."
   ]
  },
  {
   "cell_type": "markdown",
   "id": "e81b5698",
   "metadata": {},
   "source": [
    "<div class=\"alert alert-block alert-info\">\n",
    "<b>🔄Комментарий студента:</b> \n",
    "Замечание устранено.\n",
    "</div>"
   ]
  },
  {
   "cell_type": "code",
   "execution_count": 37,
   "id": "ee6ebec7",
   "metadata": {},
   "outputs": [],
   "source": [
    "merged_data['distance'] = round(merged_data['distance'])\n",
    "merged_data['duration'] = np.ceil(merged_data['duration']) "
   ]
  },
  {
   "cell_type": "markdown",
   "id": "2e08b425",
   "metadata": {},
   "source": [
    "<a id=\"data2\"></a>\n",
    "#### Создание ещё двух датафреймов из датафрейма, созданного на этапе 5.1\n",
    "\n",
    "    c данными о пользователях без подписки;\n",
    "    с данными о пользователях с подпиской."
   ]
  },
  {
   "cell_type": "code",
   "execution_count": 38,
   "id": "f1f5d68c",
   "metadata": {},
   "outputs": [
    {
     "data": {
      "text/html": [
       "<div>\n",
       "<style scoped>\n",
       "    .dataframe tbody tr th:only-of-type {\n",
       "        vertical-align: middle;\n",
       "    }\n",
       "\n",
       "    .dataframe tbody tr th {\n",
       "        vertical-align: top;\n",
       "    }\n",
       "\n",
       "    .dataframe thead th {\n",
       "        text-align: right;\n",
       "    }\n",
       "</style>\n",
       "<table border=\"1\" class=\"dataframe\">\n",
       "  <thead>\n",
       "    <tr style=\"text-align: right;\">\n",
       "      <th></th>\n",
       "      <th>user_id</th>\n",
       "      <th>name</th>\n",
       "      <th>age</th>\n",
       "      <th>city</th>\n",
       "      <th>subscription_type</th>\n",
       "      <th>distance</th>\n",
       "      <th>duration</th>\n",
       "      <th>date</th>\n",
       "      <th>month</th>\n",
       "      <th>minute_price</th>\n",
       "      <th>start_ride_price</th>\n",
       "      <th>subscription_fee</th>\n",
       "    </tr>\n",
       "  </thead>\n",
       "  <tbody>\n",
       "    <tr>\n",
       "      <th>6500</th>\n",
       "      <td>700</td>\n",
       "      <td>Айдар</td>\n",
       "      <td>22</td>\n",
       "      <td>Омск</td>\n",
       "      <td>free</td>\n",
       "      <td>2516.0</td>\n",
       "      <td>15.0</td>\n",
       "      <td>2021-01-02</td>\n",
       "      <td>1</td>\n",
       "      <td>8</td>\n",
       "      <td>50</td>\n",
       "      <td>0</td>\n",
       "    </tr>\n",
       "    <tr>\n",
       "      <th>6501</th>\n",
       "      <td>700</td>\n",
       "      <td>Айдар</td>\n",
       "      <td>22</td>\n",
       "      <td>Омск</td>\n",
       "      <td>free</td>\n",
       "      <td>847.0</td>\n",
       "      <td>17.0</td>\n",
       "      <td>2021-02-01</td>\n",
       "      <td>2</td>\n",
       "      <td>8</td>\n",
       "      <td>50</td>\n",
       "      <td>0</td>\n",
       "    </tr>\n",
       "    <tr>\n",
       "      <th>6502</th>\n",
       "      <td>700</td>\n",
       "      <td>Айдар</td>\n",
       "      <td>22</td>\n",
       "      <td>Омск</td>\n",
       "      <td>free</td>\n",
       "      <td>4004.0</td>\n",
       "      <td>21.0</td>\n",
       "      <td>2021-02-04</td>\n",
       "      <td>2</td>\n",
       "      <td>8</td>\n",
       "      <td>50</td>\n",
       "      <td>0</td>\n",
       "    </tr>\n",
       "    <tr>\n",
       "      <th>6503</th>\n",
       "      <td>700</td>\n",
       "      <td>Айдар</td>\n",
       "      <td>22</td>\n",
       "      <td>Омск</td>\n",
       "      <td>free</td>\n",
       "      <td>1206.0</td>\n",
       "      <td>10.0</td>\n",
       "      <td>2021-02-10</td>\n",
       "      <td>2</td>\n",
       "      <td>8</td>\n",
       "      <td>50</td>\n",
       "      <td>0</td>\n",
       "    </tr>\n",
       "    <tr>\n",
       "      <th>6504</th>\n",
       "      <td>700</td>\n",
       "      <td>Айдар</td>\n",
       "      <td>22</td>\n",
       "      <td>Омск</td>\n",
       "      <td>free</td>\n",
       "      <td>3047.0</td>\n",
       "      <td>18.0</td>\n",
       "      <td>2021-02-14</td>\n",
       "      <td>2</td>\n",
       "      <td>8</td>\n",
       "      <td>50</td>\n",
       "      <td>0</td>\n",
       "    </tr>\n",
       "    <tr>\n",
       "      <th>...</th>\n",
       "      <td>...</td>\n",
       "      <td>...</td>\n",
       "      <td>...</td>\n",
       "      <td>...</td>\n",
       "      <td>...</td>\n",
       "      <td>...</td>\n",
       "      <td>...</td>\n",
       "      <td>...</td>\n",
       "      <td>...</td>\n",
       "      <td>...</td>\n",
       "      <td>...</td>\n",
       "      <td>...</td>\n",
       "    </tr>\n",
       "    <tr>\n",
       "      <th>17968</th>\n",
       "      <td>1534</td>\n",
       "      <td>Альберт</td>\n",
       "      <td>25</td>\n",
       "      <td>Краснодар</td>\n",
       "      <td>free</td>\n",
       "      <td>3781.0</td>\n",
       "      <td>20.0</td>\n",
       "      <td>2021-11-04</td>\n",
       "      <td>11</td>\n",
       "      <td>8</td>\n",
       "      <td>50</td>\n",
       "      <td>0</td>\n",
       "    </tr>\n",
       "    <tr>\n",
       "      <th>17969</th>\n",
       "      <td>1534</td>\n",
       "      <td>Альберт</td>\n",
       "      <td>25</td>\n",
       "      <td>Краснодар</td>\n",
       "      <td>free</td>\n",
       "      <td>2840.0</td>\n",
       "      <td>22.0</td>\n",
       "      <td>2021-11-16</td>\n",
       "      <td>11</td>\n",
       "      <td>8</td>\n",
       "      <td>50</td>\n",
       "      <td>0</td>\n",
       "    </tr>\n",
       "    <tr>\n",
       "      <th>17970</th>\n",
       "      <td>1534</td>\n",
       "      <td>Альберт</td>\n",
       "      <td>25</td>\n",
       "      <td>Краснодар</td>\n",
       "      <td>free</td>\n",
       "      <td>3826.0</td>\n",
       "      <td>19.0</td>\n",
       "      <td>2021-11-18</td>\n",
       "      <td>11</td>\n",
       "      <td>8</td>\n",
       "      <td>50</td>\n",
       "      <td>0</td>\n",
       "    </tr>\n",
       "    <tr>\n",
       "      <th>17971</th>\n",
       "      <td>1534</td>\n",
       "      <td>Альберт</td>\n",
       "      <td>25</td>\n",
       "      <td>Краснодар</td>\n",
       "      <td>free</td>\n",
       "      <td>2902.0</td>\n",
       "      <td>17.0</td>\n",
       "      <td>2021-11-27</td>\n",
       "      <td>11</td>\n",
       "      <td>8</td>\n",
       "      <td>50</td>\n",
       "      <td>0</td>\n",
       "    </tr>\n",
       "    <tr>\n",
       "      <th>17972</th>\n",
       "      <td>1534</td>\n",
       "      <td>Альберт</td>\n",
       "      <td>25</td>\n",
       "      <td>Краснодар</td>\n",
       "      <td>free</td>\n",
       "      <td>2372.0</td>\n",
       "      <td>16.0</td>\n",
       "      <td>2021-12-29</td>\n",
       "      <td>12</td>\n",
       "      <td>8</td>\n",
       "      <td>50</td>\n",
       "      <td>0</td>\n",
       "    </tr>\n",
       "  </tbody>\n",
       "</table>\n",
       "<p>11473 rows × 12 columns</p>\n",
       "</div>"
      ],
      "text/plain": [
       "       user_id     name  age       city subscription_type  distance  duration  \\\n",
       "6500       700    Айдар   22       Омск              free    2516.0      15.0   \n",
       "6501       700    Айдар   22       Омск              free     847.0      17.0   \n",
       "6502       700    Айдар   22       Омск              free    4004.0      21.0   \n",
       "6503       700    Айдар   22       Омск              free    1206.0      10.0   \n",
       "6504       700    Айдар   22       Омск              free    3047.0      18.0   \n",
       "...        ...      ...  ...        ...               ...       ...       ...   \n",
       "17968     1534  Альберт   25  Краснодар              free    3781.0      20.0   \n",
       "17969     1534  Альберт   25  Краснодар              free    2840.0      22.0   \n",
       "17970     1534  Альберт   25  Краснодар              free    3826.0      19.0   \n",
       "17971     1534  Альберт   25  Краснодар              free    2902.0      17.0   \n",
       "17972     1534  Альберт   25  Краснодар              free    2372.0      16.0   \n",
       "\n",
       "            date  month  minute_price  start_ride_price  subscription_fee  \n",
       "6500  2021-01-02      1             8                50                 0  \n",
       "6501  2021-02-01      2             8                50                 0  \n",
       "6502  2021-02-04      2             8                50                 0  \n",
       "6503  2021-02-10      2             8                50                 0  \n",
       "6504  2021-02-14      2             8                50                 0  \n",
       "...          ...    ...           ...               ...               ...  \n",
       "17968 2021-11-04     11             8                50                 0  \n",
       "17969 2021-11-16     11             8                50                 0  \n",
       "17970 2021-11-18     11             8                50                 0  \n",
       "17971 2021-11-27     11             8                50                 0  \n",
       "17972 2021-12-29     12             8                50                 0  \n",
       "\n",
       "[11473 rows x 12 columns]"
      ]
     },
     "execution_count": 38,
     "metadata": {},
     "output_type": "execute_result"
    }
   ],
   "source": [
    "merged_data_free = merged_data.query('subscription_type == \"free\"')\n",
    "merged_data_free"
   ]
  },
  {
   "cell_type": "code",
   "execution_count": 39,
   "id": "5c46b279",
   "metadata": {},
   "outputs": [
    {
     "data": {
      "text/html": [
       "<div>\n",
       "<style scoped>\n",
       "    .dataframe tbody tr th:only-of-type {\n",
       "        vertical-align: middle;\n",
       "    }\n",
       "\n",
       "    .dataframe tbody tr th {\n",
       "        vertical-align: top;\n",
       "    }\n",
       "\n",
       "    .dataframe thead th {\n",
       "        text-align: right;\n",
       "    }\n",
       "</style>\n",
       "<table border=\"1\" class=\"dataframe\">\n",
       "  <thead>\n",
       "    <tr style=\"text-align: right;\">\n",
       "      <th></th>\n",
       "      <th>user_id</th>\n",
       "      <th>name</th>\n",
       "      <th>age</th>\n",
       "      <th>city</th>\n",
       "      <th>subscription_type</th>\n",
       "      <th>distance</th>\n",
       "      <th>duration</th>\n",
       "      <th>date</th>\n",
       "      <th>month</th>\n",
       "      <th>minute_price</th>\n",
       "      <th>start_ride_price</th>\n",
       "      <th>subscription_fee</th>\n",
       "    </tr>\n",
       "  </thead>\n",
       "  <tbody>\n",
       "    <tr>\n",
       "      <th>0</th>\n",
       "      <td>1</td>\n",
       "      <td>Кира</td>\n",
       "      <td>22</td>\n",
       "      <td>Тюмень</td>\n",
       "      <td>ultra</td>\n",
       "      <td>4410.0</td>\n",
       "      <td>26.0</td>\n",
       "      <td>2021-01-01</td>\n",
       "      <td>1</td>\n",
       "      <td>6</td>\n",
       "      <td>0</td>\n",
       "      <td>199</td>\n",
       "    </tr>\n",
       "    <tr>\n",
       "      <th>1</th>\n",
       "      <td>1</td>\n",
       "      <td>Кира</td>\n",
       "      <td>22</td>\n",
       "      <td>Тюмень</td>\n",
       "      <td>ultra</td>\n",
       "      <td>2618.0</td>\n",
       "      <td>16.0</td>\n",
       "      <td>2021-01-18</td>\n",
       "      <td>1</td>\n",
       "      <td>6</td>\n",
       "      <td>0</td>\n",
       "      <td>199</td>\n",
       "    </tr>\n",
       "    <tr>\n",
       "      <th>2</th>\n",
       "      <td>1</td>\n",
       "      <td>Кира</td>\n",
       "      <td>22</td>\n",
       "      <td>Тюмень</td>\n",
       "      <td>ultra</td>\n",
       "      <td>754.0</td>\n",
       "      <td>7.0</td>\n",
       "      <td>2021-04-20</td>\n",
       "      <td>4</td>\n",
       "      <td>6</td>\n",
       "      <td>0</td>\n",
       "      <td>199</td>\n",
       "    </tr>\n",
       "    <tr>\n",
       "      <th>3</th>\n",
       "      <td>1</td>\n",
       "      <td>Кира</td>\n",
       "      <td>22</td>\n",
       "      <td>Тюмень</td>\n",
       "      <td>ultra</td>\n",
       "      <td>2695.0</td>\n",
       "      <td>19.0</td>\n",
       "      <td>2021-08-11</td>\n",
       "      <td>8</td>\n",
       "      <td>6</td>\n",
       "      <td>0</td>\n",
       "      <td>199</td>\n",
       "    </tr>\n",
       "    <tr>\n",
       "      <th>4</th>\n",
       "      <td>1</td>\n",
       "      <td>Кира</td>\n",
       "      <td>22</td>\n",
       "      <td>Тюмень</td>\n",
       "      <td>ultra</td>\n",
       "      <td>4029.0</td>\n",
       "      <td>27.0</td>\n",
       "      <td>2021-08-28</td>\n",
       "      <td>8</td>\n",
       "      <td>6</td>\n",
       "      <td>0</td>\n",
       "      <td>199</td>\n",
       "    </tr>\n",
       "    <tr>\n",
       "      <th>...</th>\n",
       "      <td>...</td>\n",
       "      <td>...</td>\n",
       "      <td>...</td>\n",
       "      <td>...</td>\n",
       "      <td>...</td>\n",
       "      <td>...</td>\n",
       "      <td>...</td>\n",
       "      <td>...</td>\n",
       "      <td>...</td>\n",
       "      <td>...</td>\n",
       "      <td>...</td>\n",
       "      <td>...</td>\n",
       "    </tr>\n",
       "    <tr>\n",
       "      <th>6495</th>\n",
       "      <td>699</td>\n",
       "      <td>Оксана</td>\n",
       "      <td>22</td>\n",
       "      <td>Москва</td>\n",
       "      <td>ultra</td>\n",
       "      <td>3973.0</td>\n",
       "      <td>25.0</td>\n",
       "      <td>2021-08-29</td>\n",
       "      <td>8</td>\n",
       "      <td>6</td>\n",
       "      <td>0</td>\n",
       "      <td>199</td>\n",
       "    </tr>\n",
       "    <tr>\n",
       "      <th>6496</th>\n",
       "      <td>699</td>\n",
       "      <td>Оксана</td>\n",
       "      <td>22</td>\n",
       "      <td>Москва</td>\n",
       "      <td>ultra</td>\n",
       "      <td>3289.0</td>\n",
       "      <td>16.0</td>\n",
       "      <td>2021-09-12</td>\n",
       "      <td>9</td>\n",
       "      <td>6</td>\n",
       "      <td>0</td>\n",
       "      <td>199</td>\n",
       "    </tr>\n",
       "    <tr>\n",
       "      <th>6497</th>\n",
       "      <td>699</td>\n",
       "      <td>Оксана</td>\n",
       "      <td>22</td>\n",
       "      <td>Москва</td>\n",
       "      <td>ultra</td>\n",
       "      <td>3076.0</td>\n",
       "      <td>15.0</td>\n",
       "      <td>2021-09-26</td>\n",
       "      <td>9</td>\n",
       "      <td>6</td>\n",
       "      <td>0</td>\n",
       "      <td>199</td>\n",
       "    </tr>\n",
       "    <tr>\n",
       "      <th>6498</th>\n",
       "      <td>699</td>\n",
       "      <td>Оксана</td>\n",
       "      <td>22</td>\n",
       "      <td>Москва</td>\n",
       "      <td>ultra</td>\n",
       "      <td>4708.0</td>\n",
       "      <td>16.0</td>\n",
       "      <td>2021-10-17</td>\n",
       "      <td>10</td>\n",
       "      <td>6</td>\n",
       "      <td>0</td>\n",
       "      <td>199</td>\n",
       "    </tr>\n",
       "    <tr>\n",
       "      <th>6499</th>\n",
       "      <td>699</td>\n",
       "      <td>Оксана</td>\n",
       "      <td>22</td>\n",
       "      <td>Москва</td>\n",
       "      <td>ultra</td>\n",
       "      <td>3203.0</td>\n",
       "      <td>26.0</td>\n",
       "      <td>2021-12-03</td>\n",
       "      <td>12</td>\n",
       "      <td>6</td>\n",
       "      <td>0</td>\n",
       "      <td>199</td>\n",
       "    </tr>\n",
       "  </tbody>\n",
       "</table>\n",
       "<p>6500 rows × 12 columns</p>\n",
       "</div>"
      ],
      "text/plain": [
       "      user_id    name  age    city subscription_type  distance  duration  \\\n",
       "0           1    Кира   22  Тюмень             ultra    4410.0      26.0   \n",
       "1           1    Кира   22  Тюмень             ultra    2618.0      16.0   \n",
       "2           1    Кира   22  Тюмень             ultra     754.0       7.0   \n",
       "3           1    Кира   22  Тюмень             ultra    2695.0      19.0   \n",
       "4           1    Кира   22  Тюмень             ultra    4029.0      27.0   \n",
       "...       ...     ...  ...     ...               ...       ...       ...   \n",
       "6495      699  Оксана   22  Москва             ultra    3973.0      25.0   \n",
       "6496      699  Оксана   22  Москва             ultra    3289.0      16.0   \n",
       "6497      699  Оксана   22  Москва             ultra    3076.0      15.0   \n",
       "6498      699  Оксана   22  Москва             ultra    4708.0      16.0   \n",
       "6499      699  Оксана   22  Москва             ultra    3203.0      26.0   \n",
       "\n",
       "           date  month  minute_price  start_ride_price  subscription_fee  \n",
       "0    2021-01-01      1             6                 0               199  \n",
       "1    2021-01-18      1             6                 0               199  \n",
       "2    2021-04-20      4             6                 0               199  \n",
       "3    2021-08-11      8             6                 0               199  \n",
       "4    2021-08-28      8             6                 0               199  \n",
       "...         ...    ...           ...               ...               ...  \n",
       "6495 2021-08-29      8             6                 0               199  \n",
       "6496 2021-09-12      9             6                 0               199  \n",
       "6497 2021-09-26      9             6                 0               199  \n",
       "6498 2021-10-17     10             6                 0               199  \n",
       "6499 2021-12-03     12             6                 0               199  \n",
       "\n",
       "[6500 rows x 12 columns]"
      ]
     },
     "execution_count": 39,
     "metadata": {},
     "output_type": "execute_result"
    }
   ],
   "source": [
    "merged_data_ultra = merged_data.query('subscription_type == \"ultra\"')\n",
    "merged_data_ultra"
   ]
  },
  {
   "cell_type": "markdown",
   "id": "2ddc88b4",
   "metadata": {},
   "source": [
    "Созданы следующие таблицы:\n",
    " - merged_data: объединенные таблицы users, rides и subs_go;\n",
    " - merged_data_free: пользователи без подписки;\n",
    " - merged_data_ultra: пользователи с подпиской."
   ]
  },
  {
   "cell_type": "markdown",
   "id": "874017b7",
   "metadata": {},
   "source": [
    "<div class=\"alert alert-block alert-success\">\n",
    "<b>✅Комментарий ревьюера:</b> Таблицы созданы верно!  </div>"
   ]
  },
  {
   "cell_type": "markdown",
   "id": "5420a680",
   "metadata": {},
   "source": [
    "<a id=\"data3\"></a>\n",
    "#### Визуализация информации о расстоянии и времени поездок"
   ]
  },
  {
   "cell_type": "code",
   "execution_count": 40,
   "id": "bbe5008c",
   "metadata": {},
   "outputs": [
    {
     "data": {
      "image/png": "[encoded data removed]",
      "text/plain": [
       "<Figure size 1080x360 with 1 Axes>"
      ]
     },
     "metadata": {
      "needs_background": "light"
     },
     "output_type": "display_data"
    }
   ],
   "source": [
    "fig, axs = plt.subplots(figsize=(15, 5))\n",
    "\n",
    "sns.histplot(data=merged_data_free, x=\"distance\", bins=30, binrange=(0, 6100), color=\"green\")\n",
    "sns.histplot(data=merged_data_ultra, x=\"distance\", bins=30, binrange=(0, 6100), color=\"orange\")\n",
    "plt.xlabel(\"Дальность, м.\")\n",
    "plt.ylabel(\"Количество\")\n",
    "plt.title(\"Анализ дальности поездок для пользователей с подпиской и без\")\n",
    "plt.legend (('Пользователи без подписки', 'Пользователи с подпиской'))\n",
    "plt.show()"
   ]
  },
  {
   "cell_type": "markdown",
   "id": "3e704c4c",
   "metadata": {},
   "source": [
    "Вывод: у пользователей с подпиской уже распределение. Много пользователей, которые ездят на расстояние 3 км. Видимо они это делают с определенной целью на постоянной основе. Например, на работу."
   ]
  },
  {
   "cell_type": "code",
   "execution_count": 41,
   "id": "10a77c48",
   "metadata": {},
   "outputs": [
    {
     "data": {
      "image/png": "[encoded data removed]",
      "text/plain": [
       "<Figure size 1080x360 with 1 Axes>"
      ]
     },
     "metadata": {
      "needs_background": "light"
     },
     "output_type": "display_data"
    }
   ],
   "source": [
    "fig, axs = plt.subplots(figsize=(15, 5))\n",
    "\n",
    "sns.histplot(data=merged_data_free, x=\"duration\", bins=30, binrange=(0, 36), color=\"purple\")\n",
    "sns.histplot(data=merged_data_ultra, x=\"duration\", bins=30, binrange=(0, 36), color=\"red\")\n",
    "plt.xlabel(\"Длительность поездки, мин.\")\n",
    "plt.ylabel(\"Количество\")\n",
    "plt.title(\"Анализ длительности поездок для пользователей с подпиской и без\")\n",
    "plt.legend (('Пользователи без подписки', 'Пользователи с подпиской'))\n",
    "plt.show()"
   ]
  },
  {
   "cell_type": "markdown",
   "id": "c72b60be",
   "metadata": {},
   "source": [
    "<div class=\"alert alert-block alert-success\">\n",
    "<b>✅Комментарий ревьюера:</b> \n",
    "    \n",
    "Здорово, что разместил распределения обеих групп пользователей на одном графике!  </div>"
   ]
  },
  {
   "cell_type": "markdown",
   "id": "0fc8ed40",
   "metadata": {
    "id": "5766e785"
   },
   "source": [
    "<div class=\"alert alert-block alert-danger\">\n",
    "<b>❌Комментарий ревьюера:</b>\n",
    "    \n",
    " - Необходимо добавить легенду на визуализации, чтобы было понятно какой цвет к какой группе пользователей относится.\n",
    " - Проверь, пожалуйста, чтобы у всех визуализаций были подписаны названия и оси.</div>"
   ]
  },
  {
   "cell_type": "markdown",
   "id": "8ed04e47",
   "metadata": {},
   "source": [
    "<div class=\"alert alert-block alert-success\">\n",
    "<b>✅Комментарий ревьюера 2:</b> Отлично, исправлено!👍  </div>"
   ]
  },
  {
   "cell_type": "markdown",
   "id": "d82e58c0",
   "metadata": {},
   "source": [
    "<div class=\"alert alert-block alert-info\">\n",
    "<b>🔄Комментарий студента:</b> \n",
    "Замечание устранено.\n",
    "</div>"
   ]
  },
  {
   "cell_type": "markdown",
   "id": "45ace095",
   "metadata": {},
   "source": [
    "Вывод: время поездки распределено одинаково."
   ]
  },
  {
   "cell_type": "markdown",
   "id": "3b7c784b",
   "metadata": {},
   "source": [
    "<a id=\"revenue\"></a>\n",
    "### Подсчёт выручки"
   ]
  },
  {
   "cell_type": "markdown",
   "id": "111e6eec",
   "metadata": {},
   "source": [
    "<a id=\"revenue1\"></a>\n",
    "#### Создание датафрейма с агрегированными данными о поездках"
   ]
  },
  {
   "cell_type": "markdown",
   "id": "959daa2a",
   "metadata": {
    "id": "5766e785"
   },
   "source": [
    "<div class=\"alert alert-block alert-danger\">\n",
    "<b>❌Комментарий ревьюера:</b>\n",
    "    \n",
    "А почему стоимость месячной подписки считается за каждую поездку? Сначала следует сформировать сводную таблицу, а потом считать выручку</div>"
   ]
  },
  {
   "cell_type": "markdown",
   "id": "91d7860a",
   "metadata": {},
   "source": [
    "<div class=\"alert alert-block alert-success\">\n",
    "<b>✅Комментарий ревьюера 2:</b> Отлично, исправлено!👍  </div>"
   ]
  },
  {
   "cell_type": "code",
   "execution_count": 42,
   "id": "5beaa71b",
   "metadata": {},
   "outputs": [],
   "source": [
    "# создадим датафрейм для расчета выручки\n",
    "df_income = (\n",
    "    merged_data.groupby(['user_id', 'month'])    # группируем по пользователю и месяцу\n",
    "                           .agg(    # агрегируем данные\n",
    "                               name=('name', 'first'),\n",
    "                               age=('age', 'first'),\n",
    "                               city=('city', 'first'),\n",
    "                               sum_dist=('distance', 'sum'),\n",
    "                               cnt_trips=('user_id', 'count'), \n",
    "                        all_time = ('duration', lambda x: np.ceil(x).sum()) ,\n",
    "                               subs_type=('subscription_type', 'first'))).reset_index()"
   ]
  },
  {
   "cell_type": "code",
   "execution_count": 43,
   "id": "022de838",
   "metadata": {},
   "outputs": [
    {
     "data": {
      "text/html": [
       "<div>\n",
       "<style scoped>\n",
       "    .dataframe tbody tr th:only-of-type {\n",
       "        vertical-align: middle;\n",
       "    }\n",
       "\n",
       "    .dataframe tbody tr th {\n",
       "        vertical-align: top;\n",
       "    }\n",
       "\n",
       "    .dataframe thead th {\n",
       "        text-align: right;\n",
       "    }\n",
       "</style>\n",
       "<table border=\"1\" class=\"dataframe\">\n",
       "  <thead>\n",
       "    <tr style=\"text-align: right;\">\n",
       "      <th></th>\n",
       "      <th>user_id</th>\n",
       "      <th>month</th>\n",
       "      <th>name</th>\n",
       "      <th>age</th>\n",
       "      <th>city</th>\n",
       "      <th>sum_dist</th>\n",
       "      <th>cnt_trips</th>\n",
       "      <th>all_time</th>\n",
       "      <th>subs_type</th>\n",
       "    </tr>\n",
       "  </thead>\n",
       "  <tbody>\n",
       "    <tr>\n",
       "      <th>0</th>\n",
       "      <td>1</td>\n",
       "      <td>1</td>\n",
       "      <td>Кира</td>\n",
       "      <td>22</td>\n",
       "      <td>Тюмень</td>\n",
       "      <td>7028.0</td>\n",
       "      <td>2</td>\n",
       "      <td>42.0</td>\n",
       "      <td>ultra</td>\n",
       "    </tr>\n",
       "    <tr>\n",
       "      <th>1</th>\n",
       "      <td>1</td>\n",
       "      <td>4</td>\n",
       "      <td>Кира</td>\n",
       "      <td>22</td>\n",
       "      <td>Тюмень</td>\n",
       "      <td>754.0</td>\n",
       "      <td>1</td>\n",
       "      <td>7.0</td>\n",
       "      <td>ultra</td>\n",
       "    </tr>\n",
       "    <tr>\n",
       "      <th>2</th>\n",
       "      <td>1</td>\n",
       "      <td>8</td>\n",
       "      <td>Кира</td>\n",
       "      <td>22</td>\n",
       "      <td>Тюмень</td>\n",
       "      <td>6724.0</td>\n",
       "      <td>2</td>\n",
       "      <td>46.0</td>\n",
       "      <td>ultra</td>\n",
       "    </tr>\n",
       "    <tr>\n",
       "      <th>3</th>\n",
       "      <td>1</td>\n",
       "      <td>10</td>\n",
       "      <td>Кира</td>\n",
       "      <td>22</td>\n",
       "      <td>Тюмень</td>\n",
       "      <td>5810.0</td>\n",
       "      <td>2</td>\n",
       "      <td>32.0</td>\n",
       "      <td>ultra</td>\n",
       "    </tr>\n",
       "    <tr>\n",
       "      <th>4</th>\n",
       "      <td>1</td>\n",
       "      <td>11</td>\n",
       "      <td>Кира</td>\n",
       "      <td>22</td>\n",
       "      <td>Тюмень</td>\n",
       "      <td>7004.0</td>\n",
       "      <td>3</td>\n",
       "      <td>56.0</td>\n",
       "      <td>ultra</td>\n",
       "    </tr>\n",
       "    <tr>\n",
       "      <th>...</th>\n",
       "      <td>...</td>\n",
       "      <td>...</td>\n",
       "      <td>...</td>\n",
       "      <td>...</td>\n",
       "      <td>...</td>\n",
       "      <td>...</td>\n",
       "      <td>...</td>\n",
       "      <td>...</td>\n",
       "      <td>...</td>\n",
       "    </tr>\n",
       "    <tr>\n",
       "      <th>11295</th>\n",
       "      <td>1534</td>\n",
       "      <td>6</td>\n",
       "      <td>Альберт</td>\n",
       "      <td>25</td>\n",
       "      <td>Краснодар</td>\n",
       "      <td>3409.0</td>\n",
       "      <td>2</td>\n",
       "      <td>26.0</td>\n",
       "      <td>free</td>\n",
       "    </tr>\n",
       "    <tr>\n",
       "      <th>11296</th>\n",
       "      <td>1534</td>\n",
       "      <td>8</td>\n",
       "      <td>Альберт</td>\n",
       "      <td>25</td>\n",
       "      <td>Краснодар</td>\n",
       "      <td>7623.0</td>\n",
       "      <td>2</td>\n",
       "      <td>48.0</td>\n",
       "      <td>free</td>\n",
       "    </tr>\n",
       "    <tr>\n",
       "      <th>11297</th>\n",
       "      <td>1534</td>\n",
       "      <td>9</td>\n",
       "      <td>Альберт</td>\n",
       "      <td>25</td>\n",
       "      <td>Краснодар</td>\n",
       "      <td>4928.0</td>\n",
       "      <td>1</td>\n",
       "      <td>23.0</td>\n",
       "      <td>free</td>\n",
       "    </tr>\n",
       "    <tr>\n",
       "      <th>11298</th>\n",
       "      <td>1534</td>\n",
       "      <td>11</td>\n",
       "      <td>Альберт</td>\n",
       "      <td>25</td>\n",
       "      <td>Краснодар</td>\n",
       "      <td>13349.0</td>\n",
       "      <td>4</td>\n",
       "      <td>78.0</td>\n",
       "      <td>free</td>\n",
       "    </tr>\n",
       "    <tr>\n",
       "      <th>11299</th>\n",
       "      <td>1534</td>\n",
       "      <td>12</td>\n",
       "      <td>Альберт</td>\n",
       "      <td>25</td>\n",
       "      <td>Краснодар</td>\n",
       "      <td>2372.0</td>\n",
       "      <td>1</td>\n",
       "      <td>16.0</td>\n",
       "      <td>free</td>\n",
       "    </tr>\n",
       "  </tbody>\n",
       "</table>\n",
       "<p>11300 rows × 9 columns</p>\n",
       "</div>"
      ],
      "text/plain": [
       "       user_id  month     name  age       city  sum_dist  cnt_trips  all_time  \\\n",
       "0            1      1     Кира   22     Тюмень    7028.0          2      42.0   \n",
       "1            1      4     Кира   22     Тюмень     754.0          1       7.0   \n",
       "2            1      8     Кира   22     Тюмень    6724.0          2      46.0   \n",
       "3            1     10     Кира   22     Тюмень    5810.0          2      32.0   \n",
       "4            1     11     Кира   22     Тюмень    7004.0          3      56.0   \n",
       "...        ...    ...      ...  ...        ...       ...        ...       ...   \n",
       "11295     1534      6  Альберт   25  Краснодар    3409.0          2      26.0   \n",
       "11296     1534      8  Альберт   25  Краснодар    7623.0          2      48.0   \n",
       "11297     1534      9  Альберт   25  Краснодар    4928.0          1      23.0   \n",
       "11298     1534     11  Альберт   25  Краснодар   13349.0          4      78.0   \n",
       "11299     1534     12  Альберт   25  Краснодар    2372.0          1      16.0   \n",
       "\n",
       "      subs_type  \n",
       "0         ultra  \n",
       "1         ultra  \n",
       "2         ultra  \n",
       "3         ultra  \n",
       "4         ultra  \n",
       "...         ...  \n",
       "11295      free  \n",
       "11296      free  \n",
       "11297      free  \n",
       "11298      free  \n",
       "11299      free  \n",
       "\n",
       "[11300 rows x 9 columns]"
      ]
     },
     "execution_count": 43,
     "metadata": {},
     "output_type": "execute_result"
    }
   ],
   "source": [
    "df_income"
   ]
  },
  {
   "cell_type": "code",
   "execution_count": 44,
   "id": "b3ea780e",
   "metadata": {},
   "outputs": [
    {
     "data": {
      "text/html": [
       "<div>\n",
       "<style scoped>\n",
       "    .dataframe tbody tr th:only-of-type {\n",
       "        vertical-align: middle;\n",
       "    }\n",
       "\n",
       "    .dataframe tbody tr th {\n",
       "        vertical-align: top;\n",
       "    }\n",
       "\n",
       "    .dataframe thead th {\n",
       "        text-align: right;\n",
       "    }\n",
       "</style>\n",
       "<table border=\"1\" class=\"dataframe\">\n",
       "  <thead>\n",
       "    <tr style=\"text-align: right;\">\n",
       "      <th></th>\n",
       "      <th>user_id</th>\n",
       "      <th>month</th>\n",
       "      <th>name</th>\n",
       "      <th>age</th>\n",
       "      <th>city</th>\n",
       "      <th>sum_dist</th>\n",
       "      <th>cnt_trips</th>\n",
       "      <th>all_time</th>\n",
       "      <th>subs_type</th>\n",
       "      <th>income</th>\n",
       "    </tr>\n",
       "  </thead>\n",
       "  <tbody>\n",
       "    <tr>\n",
       "      <th>0</th>\n",
       "      <td>1</td>\n",
       "      <td>1</td>\n",
       "      <td>Кира</td>\n",
       "      <td>22</td>\n",
       "      <td>Тюмень</td>\n",
       "      <td>7028.0</td>\n",
       "      <td>2</td>\n",
       "      <td>42.0</td>\n",
       "      <td>ultra</td>\n",
       "      <td>451.0</td>\n",
       "    </tr>\n",
       "    <tr>\n",
       "      <th>1</th>\n",
       "      <td>1</td>\n",
       "      <td>4</td>\n",
       "      <td>Кира</td>\n",
       "      <td>22</td>\n",
       "      <td>Тюмень</td>\n",
       "      <td>754.0</td>\n",
       "      <td>1</td>\n",
       "      <td>7.0</td>\n",
       "      <td>ultra</td>\n",
       "      <td>241.0</td>\n",
       "    </tr>\n",
       "    <tr>\n",
       "      <th>2</th>\n",
       "      <td>1</td>\n",
       "      <td>8</td>\n",
       "      <td>Кира</td>\n",
       "      <td>22</td>\n",
       "      <td>Тюмень</td>\n",
       "      <td>6724.0</td>\n",
       "      <td>2</td>\n",
       "      <td>46.0</td>\n",
       "      <td>ultra</td>\n",
       "      <td>475.0</td>\n",
       "    </tr>\n",
       "    <tr>\n",
       "      <th>3</th>\n",
       "      <td>1</td>\n",
       "      <td>10</td>\n",
       "      <td>Кира</td>\n",
       "      <td>22</td>\n",
       "      <td>Тюмень</td>\n",
       "      <td>5810.0</td>\n",
       "      <td>2</td>\n",
       "      <td>32.0</td>\n",
       "      <td>ultra</td>\n",
       "      <td>391.0</td>\n",
       "    </tr>\n",
       "    <tr>\n",
       "      <th>4</th>\n",
       "      <td>1</td>\n",
       "      <td>11</td>\n",
       "      <td>Кира</td>\n",
       "      <td>22</td>\n",
       "      <td>Тюмень</td>\n",
       "      <td>7004.0</td>\n",
       "      <td>3</td>\n",
       "      <td>56.0</td>\n",
       "      <td>ultra</td>\n",
       "      <td>535.0</td>\n",
       "    </tr>\n",
       "    <tr>\n",
       "      <th>...</th>\n",
       "      <td>...</td>\n",
       "      <td>...</td>\n",
       "      <td>...</td>\n",
       "      <td>...</td>\n",
       "      <td>...</td>\n",
       "      <td>...</td>\n",
       "      <td>...</td>\n",
       "      <td>...</td>\n",
       "      <td>...</td>\n",
       "      <td>...</td>\n",
       "    </tr>\n",
       "    <tr>\n",
       "      <th>11295</th>\n",
       "      <td>1534</td>\n",
       "      <td>6</td>\n",
       "      <td>Альберт</td>\n",
       "      <td>25</td>\n",
       "      <td>Краснодар</td>\n",
       "      <td>3409.0</td>\n",
       "      <td>2</td>\n",
       "      <td>26.0</td>\n",
       "      <td>free</td>\n",
       "      <td>308.0</td>\n",
       "    </tr>\n",
       "    <tr>\n",
       "      <th>11296</th>\n",
       "      <td>1534</td>\n",
       "      <td>8</td>\n",
       "      <td>Альберт</td>\n",
       "      <td>25</td>\n",
       "      <td>Краснодар</td>\n",
       "      <td>7623.0</td>\n",
       "      <td>2</td>\n",
       "      <td>48.0</td>\n",
       "      <td>free</td>\n",
       "      <td>484.0</td>\n",
       "    </tr>\n",
       "    <tr>\n",
       "      <th>11297</th>\n",
       "      <td>1534</td>\n",
       "      <td>9</td>\n",
       "      <td>Альберт</td>\n",
       "      <td>25</td>\n",
       "      <td>Краснодар</td>\n",
       "      <td>4928.0</td>\n",
       "      <td>1</td>\n",
       "      <td>23.0</td>\n",
       "      <td>free</td>\n",
       "      <td>234.0</td>\n",
       "    </tr>\n",
       "    <tr>\n",
       "      <th>11298</th>\n",
       "      <td>1534</td>\n",
       "      <td>11</td>\n",
       "      <td>Альберт</td>\n",
       "      <td>25</td>\n",
       "      <td>Краснодар</td>\n",
       "      <td>13349.0</td>\n",
       "      <td>4</td>\n",
       "      <td>78.0</td>\n",
       "      <td>free</td>\n",
       "      <td>824.0</td>\n",
       "    </tr>\n",
       "    <tr>\n",
       "      <th>11299</th>\n",
       "      <td>1534</td>\n",
       "      <td>12</td>\n",
       "      <td>Альберт</td>\n",
       "      <td>25</td>\n",
       "      <td>Краснодар</td>\n",
       "      <td>2372.0</td>\n",
       "      <td>1</td>\n",
       "      <td>16.0</td>\n",
       "      <td>free</td>\n",
       "      <td>178.0</td>\n",
       "    </tr>\n",
       "  </tbody>\n",
       "</table>\n",
       "<p>11300 rows × 10 columns</p>\n",
       "</div>"
      ],
      "text/plain": [
       "       user_id  month     name  age       city  sum_dist  cnt_trips  all_time  \\\n",
       "0            1      1     Кира   22     Тюмень    7028.0          2      42.0   \n",
       "1            1      4     Кира   22     Тюмень     754.0          1       7.0   \n",
       "2            1      8     Кира   22     Тюмень    6724.0          2      46.0   \n",
       "3            1     10     Кира   22     Тюмень    5810.0          2      32.0   \n",
       "4            1     11     Кира   22     Тюмень    7004.0          3      56.0   \n",
       "...        ...    ...      ...  ...        ...       ...        ...       ...   \n",
       "11295     1534      6  Альберт   25  Краснодар    3409.0          2      26.0   \n",
       "11296     1534      8  Альберт   25  Краснодар    7623.0          2      48.0   \n",
       "11297     1534      9  Альберт   25  Краснодар    4928.0          1      23.0   \n",
       "11298     1534     11  Альберт   25  Краснодар   13349.0          4      78.0   \n",
       "11299     1534     12  Альберт   25  Краснодар    2372.0          1      16.0   \n",
       "\n",
       "      subs_type  income  \n",
       "0         ultra   451.0  \n",
       "1         ultra   241.0  \n",
       "2         ultra   475.0  \n",
       "3         ultra   391.0  \n",
       "4         ultra   535.0  \n",
       "...         ...     ...  \n",
       "11295      free   308.0  \n",
       "11296      free   484.0  \n",
       "11297      free   234.0  \n",
       "11298      free   824.0  \n",
       "11299      free   178.0  \n",
       "\n",
       "[11300 rows x 10 columns]"
      ]
     },
     "execution_count": 44,
     "metadata": {},
     "output_type": "execute_result"
    }
   ],
   "source": [
    "df_income['income']= (np.where(df_income['subs_type'] == 'free',\n",
    "                        df_income['all_time'] * 8 + df_income['cnt_trips'] * 50,\n",
    "                        df_income['all_time'] * 6 + 199))\n",
    "df_income"
   ]
  },
  {
   "cell_type": "markdown",
   "id": "afb60484",
   "metadata": {},
   "source": [
    "<div class=\"alert alert-block alert-info\">\n",
    "<b>🔄Комментарий студента:</b> \n",
    "Замечание устранено.\n",
    "</div>"
   ]
  },
  {
   "cell_type": "markdown",
   "id": "cfde6e5f",
   "metadata": {},
   "source": [
    "<a id=\"hypot\"></a>\n",
    "### Проверка гипотез"
   ]
  },
  {
   "cell_type": "markdown",
   "id": "c7be56dc",
   "metadata": {},
   "source": [
    "<a id=\"hypot1\"></a>\n",
    "#### Гипотеза: пользователи с подпиской тратят больше времени на поездки"
   ]
  },
  {
   "cell_type": "markdown",
   "id": "0a9e9bc1",
   "metadata": {},
   "source": [
    "Проверяем гипотезу о равенстве среднего двух генеральных совокупностей с помощью метода scipy.stats.ttest_ind(array1, array2, equal_var, alternative).\n",
    "Выбран метод scipy.stats.ttest_ind, так как две генеральные совокупности не зависят дург от друга.\n",
    "Выборочные средние нормально распределены и дисперсии рассматриваемых генеральных совокупностей равны - это видно из п.4.3."
   ]
  },
  {
   "cell_type": "markdown",
   "id": "cd2d3c5a",
   "metadata": {},
   "source": [
    "С помощью метода scipy.stats.ttest_ind проверям:\n",
    "   - нулевая гипотеза - средние значения длительности поездки на самокате пользователей без подписки и с подпиской равны;\n",
    "   - альтернативная гипотеза - среднее значение длительности поездки выборки пользователей с подпиской больше среднего значения выборки пользователей без подписки."
   ]
  },
  {
   "cell_type": "markdown",
   "id": "04f26afd",
   "metadata": {},
   "source": [
    "<div class=\"alert alert-block alert-success\">\n",
    "<b>✅Комментарий ревьюера:</b> Здорово, что формулируешь гипотезы перед проверкой!</div>"
   ]
  },
  {
   "cell_type": "markdown",
   "id": "ce09802a",
   "metadata": {},
   "source": [
    "<div class=\"alert alert-block alert-warning\">\n",
    "<b>🔁Комментарий ревьюера:</b>\n",
    "\n",
    "Гипотезы необходимо формулировать максимально подробно и точно, чтобы не было разночтений. О каких средних значениях идет речь? Почему в нулевой гипотезе говорится о генеральной совокупности, а в альтернативной о выборках?</div>"
   ]
  },
  {
   "cell_type": "markdown",
   "id": "93079ab1",
   "metadata": {},
   "source": [
    "<div class=\"alert alert-block alert-success\">\n",
    "<b>✅Комментарий ревьюера 2:</b> Отлично, исправлено!👍  </div>"
   ]
  },
  {
   "cell_type": "markdown",
   "id": "982bc485",
   "metadata": {},
   "source": [
    "<div class=\"alert alert-block alert-info\">\n",
    "<b>🔄Комментарий студента:</b> \n",
    "Гипотезы переформулировал.\n",
    "</div>"
   ]
  },
  {
   "cell_type": "code",
   "execution_count": 45,
   "id": "e63efd95",
   "metadata": {},
   "outputs": [
    {
     "name": "stdout",
     "output_type": "stream",
     "text": [
      "p-значение: 8.577910347796266e-28\n",
      "Отвергаем нулевую гипотезу\n"
     ]
    }
   ],
   "source": [
    "alpha = 0.05 # уровень статистической значимости\n",
    "# если p-value окажется меньше него, отвергнем гипотезу\n",
    "\n",
    "results = st.ttest_ind(merged_data_ultra['duration'], merged_data_free['duration'], alternative='greater')\n",
    "\n",
    "print('p-значение:', results.pvalue)\n",
    "\n",
    "if results.pvalue < alpha:\n",
    "    print('Отвергаем нулевую гипотезу')\n",
    "else:\n",
    "    print('Не получилось отвергнуть нулевую гипотезу') "
   ]
  },
  {
   "cell_type": "markdown",
   "id": "226a52ff",
   "metadata": {},
   "source": [
    "Нулевая ипотеза не подтвердилась. Средние значения не равны.\n",
    "\n",
    "Значит средняя продолжительность поездки пользователей с подпиской больше, чем у пользователей без подпиской."
   ]
  },
  {
   "cell_type": "markdown",
   "id": "134cc24d",
   "metadata": {},
   "source": [
    "<a id=\"hypot2\"></a>\n",
    "#### Гипотеза: cреднее расстояние, которое проезжают пользователи с подпиской за одну поездку, не превышает 3130 метров"
   ]
  },
  {
   "cell_type": "markdown",
   "id": "4b3a08cb",
   "metadata": {},
   "source": [
    "Для проведения одностороннего теста применяем метод scipy.stats.ttest_1samp(). \n",
    "В качестве аргумента указываем alternative='greater' для правосторонней проверке гипотезы (> 3130 метров)."
   ]
  },
  {
   "cell_type": "markdown",
   "id": "2377e6cb",
   "metadata": {},
   "source": [
    "Нулевая гипотеза - среднее расстояние, которое проезжают пользователи с подпиской равно 3130 метров.\n",
    "\n",
    "Альтернативная гипотеза - среднее расстояние, которое проезжают пользователи с подпиской за одну поездку, больше 3130 метров."
   ]
  },
  {
   "cell_type": "markdown",
   "id": "f19ccef3",
   "metadata": {
    "id": "5766e785"
   },
   "source": [
    "<div class=\"alert alert-block alert-danger\">\n",
    "<b>❌Комментарий ревьюера:</b> \n",
    "    \n",
    "\"не превышает\" значит меньше или равно.\n",
    "Альтернативную гипотезу тут нужно сформулировать о том, что пользователи с подпиской за одну сессию проезжают больше 3130 метров, тогда при получении любого результата проверки гипотезы мы сможем ответить на поставленный в задании вопрос.\n",
    "\n",
    "\n",
    "P.S. Соответственно значение параметра alternative нужно будет изменить.</div>"
   ]
  },
  {
   "cell_type": "markdown",
   "id": "c91c2ac2",
   "metadata": {},
   "source": [
    "<div class=\"alert alert-block alert-success\">\n",
    "<b>✅Комментарий ревьюера 2:</b> Отлично, исправлено!👍  </div>"
   ]
  },
  {
   "cell_type": "code",
   "execution_count": 46,
   "id": "d0dd67bc",
   "metadata": {},
   "outputs": [
    {
     "name": "stdout",
     "output_type": "stream",
     "text": [
      "p-значение: 0.9195649894697724\n",
      "Не получилось отвергнуть нулевую гипотезу\n"
     ]
    }
   ],
   "source": [
    "interested_distance = 3130 # Расстояние одной поездки оптимальное с точки зрения износа самоката\n",
    "\n",
    "alpha = 0.05 # уровень статистической значимости\n",
    "\n",
    "results = st.ttest_1samp(\n",
    "    merged_data_ultra['distance'], \n",
    "    interested_distance,\n",
    "    alternative='greater')\n",
    "\n",
    "print('p-значение:', results.pvalue)\n",
    "\n",
    "if results.pvalue < alpha:\n",
    "    print('Отвергаем нулевую гипотезу')\n",
    "else:\n",
    "    print('Не получилось отвергнуть нулевую гипотезу')"
   ]
  },
  {
   "cell_type": "markdown",
   "id": "d3a5545c",
   "metadata": {},
   "source": [
    "Нулевая гипотеза подтвердилась. Среднее расстояние, которое пользователи с подпиской проезжают близко к 3130 м."
   ]
  },
  {
   "cell_type": "markdown",
   "id": "3fa5a6f3",
   "metadata": {},
   "source": [
    "<div class=\"alert alert-block alert-warning\">\n",
    "<b>🔁Комментарий ревьюера:</b>\n",
    "\n",
    "Важно понимать, что результаты проверки гипотезы не всегда являются окончательными и могут быть подвержены ошибкам. Поэтому **подтвердить** какую-либо гипотезу с полной уверенностью мы не можем. </div>"
   ]
  },
  {
   "cell_type": "markdown",
   "id": "d2d99073",
   "metadata": {},
   "source": [
    "<div class=\"alert alert-block alert-info\">\n",
    "<b>🔄Комментарий студента:</b> \n",
    "Замечание устранено. Гипотезы и вывод переформулировал.\n",
    "</div>"
   ]
  },
  {
   "cell_type": "markdown",
   "id": "5783a730",
   "metadata": {},
   "source": [
    "<a id=\"hypot3\"></a>\n",
    "#### Гипотеза: помесячная выручка от пользователей с подпиской по месяцам выше, чем выручка от пользователей без подписки"
   ]
  },
  {
   "cell_type": "markdown",
   "id": "07f6b4d5",
   "metadata": {},
   "source": [
    "Нулевая гипотеза: помесячная выручка от пользователей с подпиской и без равны.\n",
    "\n",
    "Альтернативная гипотеза: помесячная выручка от пользователей с подпиской больше чем от пользователей без подписки."
   ]
  },
  {
   "cell_type": "code",
   "execution_count": 47,
   "id": "a7bbd588",
   "metadata": {},
   "outputs": [
    {
     "name": "stdout",
     "output_type": "stream",
     "text": [
      "p-значение: 2.0314113674863288e-30\n",
      "Отвергаем нулевую гипотезу\n"
     ]
    }
   ],
   "source": [
    "alpha = 0.05 # уровень статистической значимости\n",
    "# если p-value окажется меньше него, отвергнем гипотезу\n",
    "\n",
    "results = st.ttest_ind(df_income.loc[df_income['subs_type'] == 'ultra', 'income'], \n",
    "                       df_income.loc[df_income['subs_type'] == 'free', 'income'], \n",
    "                       alternative='greater')\n",
    "\n",
    "print('p-значение:', results.pvalue)\n",
    "\n",
    "if results.pvalue < alpha:\n",
    "    print('Отвергаем нулевую гипотезу')\n",
    "else:\n",
    "    print('Не получилось отвергнуть нулевую гипотезу') "
   ]
  },
  {
   "cell_type": "markdown",
   "id": "a25137a9",
   "metadata": {},
   "source": [
    "<div class=\"alert alert-block alert-warning\">\n",
    "<b>🔁Комментарий ревьюера:</b>\n",
    "\n",
    "Если p-значение равно 0, значит что-то пошло не так)</div>"
   ]
  },
  {
   "cell_type": "markdown",
   "id": "a8b01655",
   "metadata": {},
   "source": [
    "<div class=\"alert alert-block alert-success\">\n",
    "<b>✅Комментарий ревьюера 2:</b> Отлично, исправлено!👍  </div>"
   ]
  },
  {
   "cell_type": "markdown",
   "id": "dd217bdf",
   "metadata": {},
   "source": [
    "Нулевая гипотеза не подтвердилась. Значит действительно выручка от пользователей с подпиской больше, чем от пользователей без подписки."
   ]
  },
  {
   "cell_type": "markdown",
   "id": "02db228d",
   "metadata": {},
   "source": [
    "<div class=\"alert alert-block alert-info\">\n",
    "<b>🔄Комментарий студента:</b> \n",
    "Замечание устранено.\n",
    "</div>"
   ]
  },
  {
   "cell_type": "markdown",
   "id": "1f59c489",
   "metadata": {},
   "source": [
    "#### Представьте такую ситуацию: техническая команда сервиса обновила сервера, с которыми взаимодействует мобильное приложение. \n",
    "Она надеется, что из-за этого количество обращений в техподдержку значимо снизилось. \n",
    "Некоторый файл содержит для каждого пользователя данные о количестве обращений до обновления и после него. \n",
    "Какой тест вам понадобился бы для проверки этой гипотезы?"
   ]
  },
  {
   "cell_type": "markdown",
   "id": "bf47b361",
   "metadata": {},
   "source": [
    "Так как мы имеем две зависимые выборки: до обновления приложения и после. Для проверки гипотез нам потребуется тест scipy.stats.ttest_rel()."
   ]
  },
  {
   "cell_type": "markdown",
   "id": "e20eee7a",
   "metadata": {},
   "source": [
    "<div class=\"alert alert-block alert-success\">\n",
    "<b>✅Комментарий ревьюера:</b> Метод выбран верно </div>"
   ]
  },
  {
   "cell_type": "markdown",
   "id": "d5d8b8fa",
   "metadata": {},
   "source": [
    "### Распределения"
   ]
  },
  {
   "cell_type": "markdown",
   "id": "093a53aa",
   "metadata": {},
   "source": [
    "#### Проведение акции с раздачей промокодов на один бесплатный месяц подписки в рамках которой как минимум 100 существующих клиентов должны продлить эту подписку. Выясните, какое минимальное количество промокодов нужно разослать, чтобы вероятность не выполнить план была примерно 5 %. "
   ]
  },
  {
   "cell_type": "markdown",
   "id": "2561593b",
   "metadata": {},
   "source": [
    "Попытался решить эту задачу, но не разобрался до конца. Нужна помощь."
   ]
  },
  {
   "cell_type": "markdown",
   "id": "1cbe13e9",
   "metadata": {},
   "source": [
    "<div class=\"alert alert-block alert-warning\">\n",
    "<b>🔁Комментарий ревьюера:</b>\n",
    "\n",
    "Все библиотеки лучше импортировать в самом начале проекта, в отдельной ячейке. Если в процессе работы появилась необходимость добавить библиотеку, то ее можно дописать в эту ячейку и исполнить.</div>"
   ]
  },
  {
   "cell_type": "markdown",
   "id": "2e63cccb",
   "metadata": {},
   "source": [
    "<div class=\"alert alert-block alert-success\">\n",
    "<b>✅Комментарий ревьюера 2:</b> Отлично, исправлено!👍  </div>"
   ]
  },
  {
   "cell_type": "code",
   "execution_count": 48,
   "id": "e4ea557e",
   "metadata": {},
   "outputs": [
    {
     "name": "stdout",
     "output_type": "stream",
     "text": [
      "Чтобы выполнить план на 95.0 %, необходимо раздать минимум 14744 промокодов\n"
     ]
    }
   ],
   "source": [
    "n = len(users['user_id'].value_counts()) # количество пользователей GoFast\n",
    "p = 0.1 # вероятность успеха\n",
    "binom_cdf = 0.95 # план необходимо выполнить на 95%\n",
    "\n",
    "for k in range(0, n + 1):\n",
    "    while binom_cdf < binom.cdf(k, n, p):\n",
    "        n += 1\n",
    "print(f'Чтобы выполнить план на {binom.cdf(k, n, p).round(2)*100} %, необходимо раздать минимум {n} промокодов')"
   ]
  },
  {
   "cell_type": "markdown",
   "id": "829e1f4e",
   "metadata": {},
   "source": [
    "<div class=\"alert alert-block alert-warning\">\n",
    "<b>🔁Комментарий ревьюера:</b> \n",
    "    \n",
    "\n",
    "Для решения этой задачи следует подбирать подходящее значение параметра n (количество промокодов) в цикле для заданного параметра p = 0.1 (вероятность успеха) с помощью метода `binom.cdf()` (вероятность не выполнить план)  и сравнивая результат с заданной вероятностью невыполнить план.</div>"
   ]
  },
  {
   "cell_type": "markdown",
   "id": "0b1bea63",
   "metadata": {},
   "source": [
    "<div class=\"alert alert-block alert-info\">\n",
    "<b>🔄Комментарий студента:</b> \n",
    "Наитие подсказывает, что задача решена неверно.\n",
    "</div>"
   ]
  },
  {
   "cell_type": "markdown",
   "id": "3aa4e90d",
   "metadata": {},
   "source": [
    "<div class=\"alert alert-block alert-warning\">\n",
    "<b>🔁Комментарий ревьюера 2:</b> \n",
    "    \n",
    "Да, слишком много промокодов) Ниже показал вариант решения данной задачи.</div>"
   ]
  },
  {
   "cell_type": "code",
   "execution_count": 49,
   "id": "543e2ab5",
   "metadata": {},
   "outputs": [
    {
     "name": "stdout",
     "output_type": "stream",
     "text": [
      "Минимальное количество промокодов: 1161\n",
      "Вероятность не выполнить план при таком количестве промокодов: 4.976%\n"
     ]
    }
   ],
   "source": [
    "# Код ревьюера\n",
    "\n",
    "target_clients = 100  # Целевое количество клиентов для продления подписки\n",
    "p_renewal = 0.1       # Вероятность продления подписки\n",
    "\n",
    "# Подбор значения параметра n\n",
    "n = 1\n",
    "while binom.cdf(target_clients - 1, n, p_renewal) > 0.05:\n",
    "    n += 1\n",
    "\n",
    "# Вывод \n",
    "print(f\"Минимальное количество промокодов: {n}\")\n",
    "print(f\"Вероятность не выполнить план при таком количестве промокодов: {binom.cdf(target_clients - 1, n, p_renewal):.3%}\")"
   ]
  },
  {
   "cell_type": "markdown",
   "id": "88a10749",
   "metadata": {},
   "source": [
    "<a id=\"vivod\"></a>\n",
    "### Заключение"
   ]
  },
  {
   "cell_type": "markdown",
   "id": "9e644444",
   "metadata": {},
   "source": [
    "В результате анализа статистики популярного сервиса GoFast из нескольких городов была проделана следующая работа.\n",
    "\n",
    "Предобработка данных:\n",
    "\n",
    " - пропуски не выявлены;\n",
    " - дубликаты в столбце user_id были удалены;\n",
    " - для удобства работы с данными были изменены типы данных в некоторых столбцах;\n",
    " - округлены значения в столбцах с расстояниями и временем поездки.\n",
    " \n",
    "Были созданы новые таблицы:\n",
    "- c данными о пользователях без подписки;\n",
    "- с данными о пользователях с подпиской.\n",
    "\n",
    "Подсчитана выручка сервиса GoFast для пользователей с подпиской и без.\n",
    "\n",
    "Выдвинуто и проверено несколько гипотез.\n",
    "1. Тратят ли пользователи с подпиской больше времени на поездки? \n",
    "Вывод: действительно пользователи с подпиской тратят больше времени на поездки.\n",
    "\n",
    "2. Можно ли сказать, что среднее расстояние, которое проезжают пользователи с подпиской за одну поездку, не превышает 3130 метров? \n",
    "Вывод: среднее расстояние, которое пользователи с подпиской проезжают равно или меньше 3130 м.\n",
    "\n",
    "3. Будет ли помесячная выручка от пользователей с подпиской по месяцам выше, чем выручка от пользователей без подписки?\n",
    "Вывод: выручка от пользователей с подпиской действительно больше, чем от пользователей без подписки.\n",
    "\n",
    "Анализ показал, что пользователи с подпиской выгодны для сервиса GoFast. Пользователи с подпиской тратят больше времени на поездки, чаще ездят на большие расстояние (в среднем 3 км.). В связи с чем пользователи с подпиской приносят больше выручки.\n",
    "Таким образом команде GoFast необходимо приложить больше усилий к тому, чтобы увеличить число пользователей с подпиской."
   ]
  },
  {
   "cell_type": "markdown",
   "id": "c503752b",
   "metadata": {
    "id": "5766e785"
   },
   "source": [
    "<div class=\"alert alert-block alert-danger\">\n",
    "<b>❌Комментарий ревьюера:</b> \n",
    "    \n",
    "Итоговый вывод должен быть подробнее и содержать краткую информацию о том, какая работа была проделана и **какие результаты** получены **по всем пунктам исследования**. Являются ли пользователи с подпиской более \"выгодными\" для компании? Можем ли мы дать какие-нибудь рекомендации?\n",
    "\n",
    "Человек, заинтересовавшийся твоим проектом, может сразу перейти к выводу, чтобы понять нужно ли ему углубляться в изучение исследования или нет.\n",
    "\n",
    "Хочу обратить твое внимание на то, что после исправления замечаний в некоторых пунктах исследования могут измениться результаты, поэтому нужно будет подкорректировать выводы.\n",
    "</div>"
   ]
  },
  {
   "cell_type": "markdown",
   "id": "ff44d99d",
   "metadata": {},
   "source": [
    "<div class=\"alert alert-block alert-success\">\n",
    "<b>✅Комментарий ревьюера 2:</b> Отлично, исправлено!👍  </div>"
   ]
  },
  {
   "cell_type": "markdown",
   "id": "754a5f73",
   "metadata": {},
   "source": [
    "<div class=\"alert alert-block alert-info\">\n",
    "<b>🔄Комментарий студента:</b> \n",
    "Выводы скорректированы.\n",
    "</div>"
   ]
  }
 ],
 "metadata": {
  "ExecuteTimeLog": [
   {
    "duration": 56,
    "start_time": "2024-09-28T15:15:29.502Z"
   },
   {
    "duration": 439,
    "start_time": "2024-09-28T15:15:35.082Z"
   },
   {
    "duration": 73,
    "start_time": "2024-09-28T15:15:36.414Z"
   },
   {
    "duration": 30,
    "start_time": "2024-09-28T15:15:47.522Z"
   },
   {
    "duration": 232,
    "start_time": "2024-09-28T15:16:45.714Z"
   },
   {
    "duration": 15,
    "start_time": "2024-09-28T15:19:12.094Z"
   },
   {
    "duration": 14,
    "start_time": "2024-09-28T15:19:50.433Z"
   },
   {
    "duration": 7,
    "start_time": "2024-09-28T15:20:13.644Z"
   },
   {
    "duration": 7,
    "start_time": "2024-09-28T15:20:24.174Z"
   },
   {
    "duration": 12,
    "start_time": "2024-09-28T15:21:16.774Z"
   },
   {
    "duration": 11,
    "start_time": "2024-09-28T15:21:29.253Z"
   },
   {
    "duration": 8,
    "start_time": "2024-09-28T15:21:31.194Z"
   },
   {
    "duration": 8,
    "start_time": "2024-09-28T15:21:48.138Z"
   },
   {
    "duration": 10,
    "start_time": "2024-09-28T15:21:51.222Z"
   },
   {
    "duration": 12,
    "start_time": "2024-09-28T15:22:03.362Z"
   },
   {
    "duration": 9,
    "start_time": "2024-09-28T15:22:05.614Z"
   },
   {
    "duration": 11,
    "start_time": "2024-09-28T15:22:14.042Z"
   },
   {
    "duration": 13,
    "start_time": "2024-09-28T15:25:50.732Z"
   },
   {
    "duration": 8,
    "start_time": "2024-09-28T15:26:18.101Z"
   },
   {
    "duration": 13,
    "start_time": "2024-09-28T15:26:20.172Z"
   },
   {
    "duration": 12,
    "start_time": "2024-09-28T15:26:35.764Z"
   },
   {
    "duration": 50,
    "start_time": "2024-09-28T15:26:49.864Z"
   },
   {
    "duration": 11,
    "start_time": "2024-09-28T15:26:51.424Z"
   },
   {
    "duration": 6,
    "start_time": "2024-09-28T15:27:40.519Z"
   },
   {
    "duration": 15,
    "start_time": "2024-09-28T15:27:44.444Z"
   },
   {
    "duration": 7,
    "start_time": "2024-09-28T15:29:28.125Z"
   },
   {
    "duration": 6,
    "start_time": "2024-09-28T15:29:33.185Z"
   },
   {
    "duration": 7,
    "start_time": "2024-09-28T15:29:44.183Z"
   },
   {
    "duration": 6,
    "start_time": "2024-09-28T15:31:57.668Z"
   },
   {
    "duration": 6,
    "start_time": "2024-09-28T15:31:59.876Z"
   },
   {
    "duration": 6,
    "start_time": "2024-09-28T15:32:02.304Z"
   },
   {
    "duration": 6,
    "start_time": "2024-09-28T15:36:19.969Z"
   },
   {
    "duration": 12,
    "start_time": "2024-09-28T15:36:31.368Z"
   },
   {
    "duration": 4,
    "start_time": "2024-09-28T15:37:04.425Z"
   },
   {
    "duration": 7,
    "start_time": "2024-09-28T15:37:12.296Z"
   },
   {
    "duration": 6,
    "start_time": "2024-09-28T15:37:17.064Z"
   },
   {
    "duration": 5,
    "start_time": "2024-09-28T15:37:36.683Z"
   },
   {
    "duration": 5,
    "start_time": "2024-09-28T15:40:51.490Z"
   },
   {
    "duration": 5,
    "start_time": "2024-09-28T15:40:58.050Z"
   },
   {
    "duration": 4,
    "start_time": "2024-09-28T15:41:16.084Z"
   },
   {
    "duration": 5,
    "start_time": "2024-09-28T15:41:52.640Z"
   },
   {
    "duration": 7,
    "start_time": "2024-09-28T15:46:46.604Z"
   },
   {
    "duration": 7,
    "start_time": "2024-09-28T15:47:53.508Z"
   },
   {
    "duration": 6,
    "start_time": "2024-09-28T15:49:03.858Z"
   },
   {
    "duration": 6,
    "start_time": "2024-09-28T15:49:08.268Z"
   },
   {
    "duration": 6,
    "start_time": "2024-09-28T15:49:15.015Z"
   },
   {
    "duration": 6,
    "start_time": "2024-09-28T15:49:22.092Z"
   },
   {
    "duration": 6,
    "start_time": "2024-09-28T15:58:07.772Z"
   },
   {
    "duration": 5,
    "start_time": "2024-09-28T15:58:10.543Z"
   },
   {
    "duration": 5,
    "start_time": "2024-09-28T15:58:14.635Z"
   },
   {
    "duration": 567,
    "start_time": "2024-09-28T16:07:19.081Z"
   },
   {
    "duration": 137,
    "start_time": "2024-09-28T16:07:28.322Z"
   },
   {
    "duration": 138,
    "start_time": "2024-09-28T16:07:46.528Z"
   },
   {
    "duration": 215,
    "start_time": "2024-09-28T16:07:50.427Z"
   },
   {
    "duration": 124,
    "start_time": "2024-09-28T16:07:55.998Z"
   },
   {
    "duration": 142,
    "start_time": "2024-09-28T16:08:15.115Z"
   },
   {
    "duration": 5,
    "start_time": "2024-09-28T16:08:26.404Z"
   },
   {
    "duration": 140,
    "start_time": "2024-09-28T16:08:51.888Z"
   },
   {
    "duration": 123,
    "start_time": "2024-09-28T16:09:00.273Z"
   },
   {
    "duration": 152,
    "start_time": "2024-09-28T16:09:05.324Z"
   },
   {
    "duration": 151,
    "start_time": "2024-09-28T16:09:17.237Z"
   },
   {
    "duration": 143,
    "start_time": "2024-09-28T16:09:23.292Z"
   },
   {
    "duration": 157,
    "start_time": "2024-09-28T16:09:28.539Z"
   },
   {
    "duration": 148,
    "start_time": "2024-09-28T16:09:32.569Z"
   },
   {
    "duration": 133,
    "start_time": "2024-09-28T16:09:36.688Z"
   },
   {
    "duration": 213,
    "start_time": "2024-09-28T16:09:43.860Z"
   },
   {
    "duration": 135,
    "start_time": "2024-09-28T16:09:47.490Z"
   },
   {
    "duration": 62,
    "start_time": "2024-09-28T16:09:51.191Z"
   },
   {
    "duration": 129,
    "start_time": "2024-09-28T16:09:53.987Z"
   },
   {
    "duration": 5,
    "start_time": "2024-09-28T16:10:59.527Z"
   },
   {
    "duration": 71,
    "start_time": "2024-09-28T16:11:02.107Z"
   },
   {
    "duration": 241,
    "start_time": "2024-09-28T16:12:33.483Z"
   },
   {
    "duration": 221,
    "start_time": "2024-09-28T16:12:43.864Z"
   },
   {
    "duration": 155,
    "start_time": "2024-09-28T16:19:14.794Z"
   },
   {
    "duration": 119,
    "start_time": "2024-09-28T16:19:34.714Z"
   },
   {
    "duration": 17,
    "start_time": "2024-09-28T16:20:40.997Z"
   },
   {
    "duration": 231,
    "start_time": "2024-09-28T16:22:03.038Z"
   },
   {
    "duration": 15,
    "start_time": "2024-09-28T16:22:16.762Z"
   },
   {
    "duration": 161,
    "start_time": "2024-09-28T16:23:33.724Z"
   },
   {
    "duration": 175,
    "start_time": "2024-09-28T16:23:47.066Z"
   },
   {
    "duration": 171,
    "start_time": "2024-09-28T16:24:09.961Z"
   },
   {
    "duration": 252,
    "start_time": "2024-09-28T16:24:22.257Z"
   },
   {
    "duration": 170,
    "start_time": "2024-09-28T16:24:26.945Z"
   },
   {
    "duration": 159,
    "start_time": "2024-09-28T16:24:33.147Z"
   },
   {
    "duration": 172,
    "start_time": "2024-09-28T16:24:37.921Z"
   },
   {
    "duration": 170,
    "start_time": "2024-09-28T16:24:44.600Z"
   },
   {
    "duration": 166,
    "start_time": "2024-09-28T16:24:51.592Z"
   },
   {
    "duration": 144,
    "start_time": "2024-09-28T16:26:56.511Z"
   },
   {
    "duration": 174,
    "start_time": "2024-09-28T16:27:00.218Z"
   },
   {
    "duration": 642,
    "start_time": "2024-09-28T16:27:12.560Z"
   },
   {
    "duration": 171,
    "start_time": "2024-09-28T16:28:20.606Z"
   },
   {
    "duration": 159,
    "start_time": "2024-09-28T16:28:35.590Z"
   },
   {
    "duration": 158,
    "start_time": "2024-09-28T16:28:47.131Z"
   },
   {
    "duration": 157,
    "start_time": "2024-09-28T16:29:11.689Z"
   },
   {
    "duration": 160,
    "start_time": "2024-09-28T16:29:15.950Z"
   },
   {
    "duration": 155,
    "start_time": "2024-09-28T16:29:19.381Z"
   },
   {
    "duration": 161,
    "start_time": "2024-09-28T16:29:23.389Z"
   },
   {
    "duration": 190,
    "start_time": "2024-09-28T16:32:36.569Z"
   },
   {
    "duration": 259,
    "start_time": "2024-09-28T16:32:41.402Z"
   },
   {
    "duration": 170,
    "start_time": "2024-09-28T16:32:49.002Z"
   },
   {
    "duration": 172,
    "start_time": "2024-09-28T16:33:02.212Z"
   },
   {
    "duration": 184,
    "start_time": "2024-09-28T16:33:17.083Z"
   },
   {
    "duration": 175,
    "start_time": "2024-09-28T16:33:22.904Z"
   },
   {
    "duration": 173,
    "start_time": "2024-09-28T16:33:26.061Z"
   },
   {
    "duration": 189,
    "start_time": "2024-09-28T16:33:28.755Z"
   },
   {
    "duration": 176,
    "start_time": "2024-09-28T16:33:32.964Z"
   },
   {
    "duration": 299,
    "start_time": "2024-09-28T16:33:37.638Z"
   },
   {
    "duration": 13,
    "start_time": "2024-09-28T16:35:00.527Z"
   },
   {
    "duration": 171,
    "start_time": "2024-09-28T16:35:48.004Z"
   },
   {
    "duration": 13,
    "start_time": "2024-09-28T16:36:39.996Z"
   },
   {
    "duration": 162,
    "start_time": "2024-09-28T16:36:59.872Z"
   },
   {
    "duration": 112,
    "start_time": "2024-09-28T16:37:05.703Z"
   },
   {
    "duration": 144,
    "start_time": "2024-09-28T16:37:08.772Z"
   },
   {
    "duration": 136,
    "start_time": "2024-09-28T16:37:11.203Z"
   },
   {
    "duration": 1346,
    "start_time": "2024-09-28T16:37:35.859Z"
   },
   {
    "duration": 188,
    "start_time": "2024-09-28T16:37:51.412Z"
   },
   {
    "duration": 209,
    "start_time": "2024-09-28T16:38:07.863Z"
   },
   {
    "duration": 163,
    "start_time": "2024-09-28T16:38:36.180Z"
   },
   {
    "duration": 170,
    "start_time": "2024-09-28T16:38:41.164Z"
   },
   {
    "duration": 1337,
    "start_time": "2024-09-28T16:38:48.604Z"
   },
   {
    "duration": 70,
    "start_time": "2024-09-28T16:38:49.944Z"
   },
   {
    "duration": 20,
    "start_time": "2024-09-28T16:38:50.016Z"
   },
   {
    "duration": 47,
    "start_time": "2024-09-28T16:38:50.039Z"
   },
   {
    "duration": 20,
    "start_time": "2024-09-28T16:38:50.088Z"
   },
   {
    "duration": 25,
    "start_time": "2024-09-28T16:38:50.110Z"
   },
   {
    "duration": 7,
    "start_time": "2024-09-28T16:38:50.137Z"
   },
   {
    "duration": 48,
    "start_time": "2024-09-28T16:38:50.145Z"
   },
   {
    "duration": 9,
    "start_time": "2024-09-28T16:38:50.195Z"
   },
   {
    "duration": 8,
    "start_time": "2024-09-28T16:38:50.207Z"
   },
   {
    "duration": 22,
    "start_time": "2024-09-28T16:38:50.216Z"
   },
   {
    "duration": 15,
    "start_time": "2024-09-28T16:38:50.239Z"
   },
   {
    "duration": 14,
    "start_time": "2024-09-28T16:38:50.256Z"
   },
   {
    "duration": 5,
    "start_time": "2024-09-28T16:38:50.272Z"
   },
   {
    "duration": 6,
    "start_time": "2024-09-28T16:38:50.278Z"
   },
   {
    "duration": 15,
    "start_time": "2024-09-28T16:38:50.286Z"
   },
   {
    "duration": 5,
    "start_time": "2024-09-28T16:38:50.302Z"
   },
   {
    "duration": 22,
    "start_time": "2024-09-28T16:38:50.308Z"
   },
   {
    "duration": 185,
    "start_time": "2024-09-28T16:38:50.333Z"
   },
   {
    "duration": 144,
    "start_time": "2024-09-28T16:38:50.530Z"
   },
   {
    "duration": 113,
    "start_time": "2024-09-28T16:38:50.676Z"
   },
   {
    "duration": 132,
    "start_time": "2024-09-28T16:39:06.685Z"
   },
   {
    "duration": 137,
    "start_time": "2024-09-28T16:39:35.252Z"
   },
   {
    "duration": 137,
    "start_time": "2024-09-28T16:39:41.454Z"
   },
   {
    "duration": 177,
    "start_time": "2024-09-28T16:39:50.118Z"
   },
   {
    "duration": 141,
    "start_time": "2024-09-28T16:39:52.829Z"
   },
   {
    "duration": 194,
    "start_time": "2024-09-28T16:39:55.461Z"
   },
   {
    "duration": 1316,
    "start_time": "2024-09-28T16:40:04.463Z"
   },
   {
    "duration": 78,
    "start_time": "2024-09-28T16:40:05.782Z"
   },
   {
    "duration": 16,
    "start_time": "2024-09-28T16:40:05.862Z"
   },
   {
    "duration": 65,
    "start_time": "2024-09-28T16:40:05.880Z"
   },
   {
    "duration": 12,
    "start_time": "2024-09-28T16:40:05.946Z"
   },
   {
    "duration": 48,
    "start_time": "2024-09-28T16:40:05.960Z"
   },
   {
    "duration": 8,
    "start_time": "2024-09-28T16:40:06.010Z"
   },
   {
    "duration": 100,
    "start_time": "2024-09-28T16:40:06.020Z"
   },
   {
    "duration": 29,
    "start_time": "2024-09-28T16:40:06.126Z"
   },
   {
    "duration": 24,
    "start_time": "2024-09-28T16:40:06.158Z"
   },
   {
    "duration": 17,
    "start_time": "2024-09-28T16:40:06.184Z"
   },
   {
    "duration": 31,
    "start_time": "2024-09-28T16:40:06.203Z"
   },
   {
    "duration": 33,
    "start_time": "2024-09-28T16:40:06.236Z"
   },
   {
    "duration": 13,
    "start_time": "2024-09-28T16:40:06.271Z"
   },
   {
    "duration": 13,
    "start_time": "2024-09-28T16:40:06.286Z"
   },
   {
    "duration": 18,
    "start_time": "2024-09-28T16:40:06.301Z"
   },
   {
    "duration": 31,
    "start_time": "2024-09-28T16:40:06.320Z"
   },
   {
    "duration": 34,
    "start_time": "2024-09-28T16:40:06.352Z"
   },
   {
    "duration": 190,
    "start_time": "2024-09-28T16:40:06.388Z"
   },
   {
    "duration": 156,
    "start_time": "2024-09-28T16:40:06.580Z"
   },
   {
    "duration": 121,
    "start_time": "2024-09-28T16:40:06.738Z"
   },
   {
    "duration": 130,
    "start_time": "2024-09-28T16:40:14.667Z"
   },
   {
    "duration": 142,
    "start_time": "2024-09-28T16:40:18.327Z"
   },
   {
    "duration": 165,
    "start_time": "2024-09-28T16:40:29.100Z"
   },
   {
    "duration": 174,
    "start_time": "2024-09-28T16:40:43.725Z"
   },
   {
    "duration": 166,
    "start_time": "2024-09-28T16:40:58.531Z"
   },
   {
    "duration": 1275,
    "start_time": "2024-09-28T16:41:03.288Z"
   },
   {
    "duration": 72,
    "start_time": "2024-09-28T16:41:04.565Z"
   },
   {
    "duration": 18,
    "start_time": "2024-09-28T16:41:04.639Z"
   },
   {
    "duration": 13,
    "start_time": "2024-09-28T16:41:04.660Z"
   },
   {
    "duration": 25,
    "start_time": "2024-09-28T16:41:04.675Z"
   },
   {
    "duration": 28,
    "start_time": "2024-09-28T16:41:04.702Z"
   },
   {
    "duration": 43,
    "start_time": "2024-09-28T16:41:04.740Z"
   },
   {
    "duration": 54,
    "start_time": "2024-09-28T16:41:04.785Z"
   },
   {
    "duration": 48,
    "start_time": "2024-09-28T16:41:04.841Z"
   },
   {
    "duration": 14,
    "start_time": "2024-09-28T16:41:04.892Z"
   },
   {
    "duration": 39,
    "start_time": "2024-09-28T16:41:04.908Z"
   },
   {
    "duration": 40,
    "start_time": "2024-09-28T16:41:04.949Z"
   },
   {
    "duration": 27,
    "start_time": "2024-09-28T16:41:04.990Z"
   },
   {
    "duration": 57,
    "start_time": "2024-09-28T16:41:05.018Z"
   },
   {
    "duration": 41,
    "start_time": "2024-09-28T16:41:05.077Z"
   },
   {
    "duration": 38,
    "start_time": "2024-09-28T16:41:05.121Z"
   },
   {
    "duration": 34,
    "start_time": "2024-09-28T16:41:05.161Z"
   },
   {
    "duration": 60,
    "start_time": "2024-09-28T16:41:05.198Z"
   },
   {
    "duration": 239,
    "start_time": "2024-09-28T16:41:05.261Z"
   },
   {
    "duration": 155,
    "start_time": "2024-09-28T16:41:05.502Z"
   },
   {
    "duration": 117,
    "start_time": "2024-09-28T16:41:05.659Z"
   },
   {
    "duration": 146,
    "start_time": "2024-09-28T16:41:36.953Z"
   },
   {
    "duration": 17,
    "start_time": "2024-09-28T16:41:49.119Z"
   },
   {
    "duration": 148,
    "start_time": "2024-09-28T16:44:38.918Z"
   },
   {
    "duration": 199,
    "start_time": "2024-09-28T16:46:51.031Z"
   },
   {
    "duration": 235,
    "start_time": "2024-09-28T16:46:55.652Z"
   },
   {
    "duration": 212,
    "start_time": "2024-09-28T16:47:21.204Z"
   },
   {
    "duration": 274,
    "start_time": "2024-09-28T16:48:10.691Z"
   },
   {
    "duration": 206,
    "start_time": "2024-09-28T16:49:10.772Z"
   },
   {
    "duration": 268,
    "start_time": "2024-09-28T16:50:39.781Z"
   },
   {
    "duration": 240,
    "start_time": "2024-09-28T16:50:49.912Z"
   },
   {
    "duration": 237,
    "start_time": "2024-09-28T16:50:57.704Z"
   },
   {
    "duration": 260,
    "start_time": "2024-09-28T16:51:05.340Z"
   },
   {
    "duration": 230,
    "start_time": "2024-09-28T16:51:09.135Z"
   },
   {
    "duration": 222,
    "start_time": "2024-09-28T16:51:17.040Z"
   },
   {
    "duration": 269,
    "start_time": "2024-09-28T16:51:21.612Z"
   },
   {
    "duration": 226,
    "start_time": "2024-09-28T16:51:39.872Z"
   },
   {
    "duration": 243,
    "start_time": "2024-09-28T16:52:23.316Z"
   },
   {
    "duration": 315,
    "start_time": "2024-09-28T16:52:29.032Z"
   },
   {
    "duration": 228,
    "start_time": "2024-09-28T16:52:34.612Z"
   },
   {
    "duration": 229,
    "start_time": "2024-09-28T16:52:39.653Z"
   },
   {
    "duration": 214,
    "start_time": "2024-09-28T16:52:58.552Z"
   },
   {
    "duration": 223,
    "start_time": "2024-09-28T16:53:02.057Z"
   },
   {
    "duration": 221,
    "start_time": "2024-09-28T16:53:07.531Z"
   },
   {
    "duration": 229,
    "start_time": "2024-09-28T16:53:11.172Z"
   },
   {
    "duration": 221,
    "start_time": "2024-09-28T16:53:19.400Z"
   },
   {
    "duration": 219,
    "start_time": "2024-09-28T16:53:26.321Z"
   },
   {
    "duration": 223,
    "start_time": "2024-09-28T16:53:33.861Z"
   },
   {
    "duration": 215,
    "start_time": "2024-09-28T16:53:39.213Z"
   },
   {
    "duration": 322,
    "start_time": "2024-09-28T16:53:44.583Z"
   },
   {
    "duration": 212,
    "start_time": "2024-09-28T16:53:49.108Z"
   },
   {
    "duration": 222,
    "start_time": "2024-09-28T16:53:53.745Z"
   },
   {
    "duration": 216,
    "start_time": "2024-09-28T16:53:59.314Z"
   },
   {
    "duration": 228,
    "start_time": "2024-09-28T16:54:03.008Z"
   },
   {
    "duration": 223,
    "start_time": "2024-09-28T16:54:06.743Z"
   },
   {
    "duration": 233,
    "start_time": "2024-09-28T16:54:11.443Z"
   },
   {
    "duration": 257,
    "start_time": "2024-09-28T16:54:17.800Z"
   },
   {
    "duration": 220,
    "start_time": "2024-09-28T16:54:22.164Z"
   },
   {
    "duration": 228,
    "start_time": "2024-09-28T16:54:26.564Z"
   },
   {
    "duration": 220,
    "start_time": "2024-09-28T16:54:30.324Z"
   },
   {
    "duration": 315,
    "start_time": "2024-09-28T16:54:34.045Z"
   },
   {
    "duration": 233,
    "start_time": "2024-09-28T16:54:39.439Z"
   },
   {
    "duration": 17,
    "start_time": "2024-09-28T16:56:50.428Z"
   },
   {
    "duration": 21,
    "start_time": "2024-09-28T16:58:23.666Z"
   },
   {
    "duration": 14,
    "start_time": "2024-09-28T17:00:19.310Z"
   },
   {
    "duration": 11,
    "start_time": "2024-09-28T17:00:47.363Z"
   },
   {
    "duration": 4,
    "start_time": "2024-09-28T17:01:01.704Z"
   },
   {
    "duration": 6,
    "start_time": "2024-09-28T17:01:06.523Z"
   },
   {
    "duration": 15,
    "start_time": "2024-09-28T17:01:09.095Z"
   },
   {
    "duration": 15,
    "start_time": "2024-09-28T17:01:17.248Z"
   },
   {
    "duration": 1279,
    "start_time": "2024-09-28T17:01:22.566Z"
   },
   {
    "duration": 69,
    "start_time": "2024-09-28T17:01:23.847Z"
   },
   {
    "duration": 21,
    "start_time": "2024-09-28T17:01:23.918Z"
   },
   {
    "duration": 47,
    "start_time": "2024-09-28T17:01:23.941Z"
   },
   {
    "duration": 16,
    "start_time": "2024-09-28T17:01:23.989Z"
   },
   {
    "duration": 23,
    "start_time": "2024-09-28T17:01:24.007Z"
   },
   {
    "duration": 9,
    "start_time": "2024-09-28T17:01:24.032Z"
   },
   {
    "duration": 11,
    "start_time": "2024-09-28T17:01:24.042Z"
   },
   {
    "duration": 18,
    "start_time": "2024-09-28T17:01:24.055Z"
   },
   {
    "duration": 14,
    "start_time": "2024-09-28T17:01:24.076Z"
   },
   {
    "duration": 16,
    "start_time": "2024-09-28T17:01:24.092Z"
   },
   {
    "duration": 70,
    "start_time": "2024-09-28T17:01:24.110Z"
   },
   {
    "duration": 8,
    "start_time": "2024-09-28T17:01:24.182Z"
   },
   {
    "duration": 10,
    "start_time": "2024-09-28T17:01:24.192Z"
   },
   {
    "duration": 20,
    "start_time": "2024-09-28T17:01:24.204Z"
   },
   {
    "duration": 24,
    "start_time": "2024-09-28T17:01:24.233Z"
   },
   {
    "duration": 10,
    "start_time": "2024-09-28T17:01:24.259Z"
   },
   {
    "duration": 221,
    "start_time": "2024-09-28T17:01:24.271Z"
   },
   {
    "duration": 155,
    "start_time": "2024-09-28T17:01:24.494Z"
   },
   {
    "duration": 253,
    "start_time": "2024-09-28T17:01:24.651Z"
   },
   {
    "duration": 31,
    "start_time": "2024-09-28T17:01:24.906Z"
   },
   {
    "duration": 14,
    "start_time": "2024-09-28T17:01:24.940Z"
   },
   {
    "duration": 20,
    "start_time": "2024-09-28T17:01:24.955Z"
   },
   {
    "duration": 4,
    "start_time": "2024-09-28T17:01:33.695Z"
   },
   {
    "duration": 23,
    "start_time": "2024-09-28T17:01:35.424Z"
   },
   {
    "duration": 107,
    "start_time": "2024-09-28T17:03:26.998Z"
   },
   {
    "duration": 5,
    "start_time": "2024-09-28T17:03:33.231Z"
   },
   {
    "duration": 23,
    "start_time": "2024-09-28T17:03:36.412Z"
   },
   {
    "duration": 1326,
    "start_time": "2024-09-28T17:03:44.405Z"
   },
   {
    "duration": 72,
    "start_time": "2024-09-28T17:03:45.736Z"
   },
   {
    "duration": 24,
    "start_time": "2024-09-28T17:03:45.810Z"
   },
   {
    "duration": 16,
    "start_time": "2024-09-28T17:03:45.837Z"
   },
   {
    "duration": 28,
    "start_time": "2024-09-28T17:03:45.855Z"
   },
   {
    "duration": 20,
    "start_time": "2024-09-28T17:03:45.885Z"
   },
   {
    "duration": 7,
    "start_time": "2024-09-28T17:03:45.906Z"
   },
   {
    "duration": 61,
    "start_time": "2024-09-28T17:03:45.915Z"
   },
   {
    "duration": 11,
    "start_time": "2024-09-28T17:03:45.978Z"
   },
   {
    "duration": 10,
    "start_time": "2024-09-28T17:03:45.992Z"
   },
   {
    "duration": 16,
    "start_time": "2024-09-28T17:03:46.003Z"
   },
   {
    "duration": 17,
    "start_time": "2024-09-28T17:03:46.021Z"
   },
   {
    "duration": 17,
    "start_time": "2024-09-28T17:03:46.040Z"
   },
   {
    "duration": 12,
    "start_time": "2024-09-28T17:03:46.059Z"
   },
   {
    "duration": 7,
    "start_time": "2024-09-28T17:03:46.072Z"
   },
   {
    "duration": 5,
    "start_time": "2024-09-28T17:03:46.080Z"
   },
   {
    "duration": 5,
    "start_time": "2024-09-28T17:03:46.086Z"
   },
   {
    "duration": 227,
    "start_time": "2024-09-28T17:03:46.092Z"
   },
   {
    "duration": 160,
    "start_time": "2024-09-28T17:03:46.321Z"
   },
   {
    "duration": 255,
    "start_time": "2024-09-28T17:03:46.482Z"
   },
   {
    "duration": 17,
    "start_time": "2024-09-28T17:03:46.739Z"
   },
   {
    "duration": 4,
    "start_time": "2024-09-28T17:03:46.758Z"
   },
   {
    "duration": 32,
    "start_time": "2024-09-28T17:03:46.763Z"
   },
   {
    "duration": 249,
    "start_time": "2024-09-28T17:04:21.727Z"
   },
   {
    "duration": 254,
    "start_time": "2024-09-28T17:04:37.774Z"
   },
   {
    "duration": 246,
    "start_time": "2024-09-28T17:04:52.169Z"
   },
   {
    "duration": 297,
    "start_time": "2024-09-28T17:05:11.427Z"
   },
   {
    "duration": 378,
    "start_time": "2024-09-28T17:05:17.618Z"
   },
   {
    "duration": 8,
    "start_time": "2024-09-28T17:07:26.961Z"
   },
   {
    "duration": 10,
    "start_time": "2024-09-28T17:07:31.647Z"
   },
   {
    "duration": 13,
    "start_time": "2024-09-28T17:07:46.496Z"
   },
   {
    "duration": 16,
    "start_time": "2024-09-28T17:08:17.095Z"
   },
   {
    "duration": 11,
    "start_time": "2024-09-28T17:08:27.600Z"
   },
   {
    "duration": 13,
    "start_time": "2024-09-28T17:08:32.982Z"
   },
   {
    "duration": 5,
    "start_time": "2024-09-28T17:09:55.167Z"
   },
   {
    "duration": 107,
    "start_time": "2024-09-28T17:16:42.231Z"
   },
   {
    "duration": 12,
    "start_time": "2024-09-28T17:16:48.765Z"
   },
   {
    "duration": 12,
    "start_time": "2024-09-28T17:16:55.181Z"
   },
   {
    "duration": 12,
    "start_time": "2024-09-28T17:17:00.677Z"
   },
   {
    "duration": 22,
    "start_time": "2024-09-28T17:17:09.818Z"
   },
   {
    "duration": 232,
    "start_time": "2024-09-28T17:20:18.489Z"
   },
   {
    "duration": 236,
    "start_time": "2024-09-28T17:20:36.108Z"
   },
   {
    "duration": 242,
    "start_time": "2024-09-28T17:22:23.120Z"
   },
   {
    "duration": 263,
    "start_time": "2024-09-28T17:22:30.821Z"
   },
   {
    "duration": 256,
    "start_time": "2024-09-28T17:22:35.242Z"
   },
   {
    "duration": 255,
    "start_time": "2024-09-28T17:22:41.700Z"
   },
   {
    "duration": 236,
    "start_time": "2024-09-28T17:22:50.821Z"
   },
   {
    "duration": 268,
    "start_time": "2024-09-28T17:23:06.457Z"
   },
   {
    "duration": 251,
    "start_time": "2024-09-28T17:28:49.609Z"
   },
   {
    "duration": 251,
    "start_time": "2024-09-28T17:28:55.970Z"
   },
   {
    "duration": 250,
    "start_time": "2024-09-28T17:29:01.882Z"
   },
   {
    "duration": 355,
    "start_time": "2024-09-28T17:31:45.621Z"
   },
   {
    "duration": 261,
    "start_time": "2024-09-28T17:31:51.149Z"
   },
   {
    "duration": 241,
    "start_time": "2024-09-28T17:32:45.268Z"
   },
   {
    "duration": 245,
    "start_time": "2024-09-28T17:32:49.558Z"
   },
   {
    "duration": 220,
    "start_time": "2024-09-28T17:32:56.678Z"
   },
   {
    "duration": 256,
    "start_time": "2024-09-28T17:33:00.409Z"
   },
   {
    "duration": 5,
    "start_time": "2024-09-28T17:40:10.629Z"
   },
   {
    "duration": 5,
    "start_time": "2024-09-28T17:40:12.291Z"
   },
   {
    "duration": 1010,
    "start_time": "2024-09-28T17:40:14.347Z"
   },
   {
    "duration": 7,
    "start_time": "2024-09-28T17:40:31.919Z"
   },
   {
    "duration": 25,
    "start_time": "2024-09-28T17:41:32.127Z"
   },
   {
    "duration": 12,
    "start_time": "2024-09-28T17:42:05.772Z"
   },
   {
    "duration": 25,
    "start_time": "2024-09-28T17:42:09.179Z"
   },
   {
    "duration": 14,
    "start_time": "2024-09-28T17:42:13.998Z"
   },
   {
    "duration": 15,
    "start_time": "2024-09-28T17:42:20.376Z"
   },
   {
    "duration": 7,
    "start_time": "2024-09-28T17:43:02.699Z"
   },
   {
    "duration": 10,
    "start_time": "2024-09-28T17:43:15.478Z"
   },
   {
    "duration": 28,
    "start_time": "2024-09-28T17:43:20.519Z"
   },
   {
    "duration": 10,
    "start_time": "2024-09-28T17:45:40.801Z"
   },
   {
    "duration": 31,
    "start_time": "2024-09-28T17:45:45.091Z"
   },
   {
    "duration": 21,
    "start_time": "2024-09-28T17:46:17.008Z"
   },
   {
    "duration": 255,
    "start_time": "2024-09-28T17:51:43.208Z"
   },
   {
    "duration": 225,
    "start_time": "2024-09-28T17:51:45.871Z"
   },
   {
    "duration": 223,
    "start_time": "2024-09-28T17:52:00.540Z"
   },
   {
    "duration": 215,
    "start_time": "2024-09-28T17:52:05.219Z"
   },
   {
    "duration": 218,
    "start_time": "2024-09-28T17:52:08.800Z"
   },
   {
    "duration": 297,
    "start_time": "2024-09-28T17:52:42.579Z"
   },
   {
    "duration": 229,
    "start_time": "2024-09-28T17:52:45.691Z"
   },
   {
    "duration": 222,
    "start_time": "2024-09-28T17:52:52.759Z"
   },
   {
    "duration": 227,
    "start_time": "2024-09-28T17:53:03.691Z"
   },
   {
    "duration": 217,
    "start_time": "2024-09-28T17:53:08.710Z"
   },
   {
    "duration": 219,
    "start_time": "2024-09-28T17:53:12.639Z"
   },
   {
    "duration": 210,
    "start_time": "2024-09-28T17:53:31.440Z"
   },
   {
    "duration": 261,
    "start_time": "2024-09-28T17:53:37.591Z"
   },
   {
    "duration": 318,
    "start_time": "2024-09-28T17:56:02.395Z"
   },
   {
    "duration": 391,
    "start_time": "2024-09-28T17:57:02.149Z"
   },
   {
    "duration": 321,
    "start_time": "2024-09-28T17:57:14.419Z"
   },
   {
    "duration": 278,
    "start_time": "2024-09-28T17:57:21.311Z"
   },
   {
    "duration": 269,
    "start_time": "2024-09-28T17:57:34.151Z"
   },
   {
    "duration": 254,
    "start_time": "2024-09-28T17:58:47.404Z"
   },
   {
    "duration": 308,
    "start_time": "2024-09-28T17:59:08.044Z"
   },
   {
    "duration": 375,
    "start_time": "2024-09-28T17:59:14.840Z"
   },
   {
    "duration": 265,
    "start_time": "2024-09-28T18:03:23.405Z"
   },
   {
    "duration": 276,
    "start_time": "2024-09-28T18:03:26.717Z"
   },
   {
    "duration": 1156,
    "start_time": "2024-09-28T18:33:59.144Z"
   },
   {
    "duration": 69,
    "start_time": "2024-09-28T18:34:00.302Z"
   },
   {
    "duration": 70,
    "start_time": "2024-09-28T18:34:00.373Z"
   },
   {
    "duration": 38,
    "start_time": "2024-09-28T18:34:00.445Z"
   },
   {
    "duration": 31,
    "start_time": "2024-09-28T18:34:00.485Z"
   },
   {
    "duration": 27,
    "start_time": "2024-09-28T18:34:00.518Z"
   },
   {
    "duration": 29,
    "start_time": "2024-09-28T18:34:00.546Z"
   },
   {
    "duration": 17,
    "start_time": "2024-09-28T18:34:00.576Z"
   },
   {
    "duration": 24,
    "start_time": "2024-09-28T18:34:00.595Z"
   },
   {
    "duration": 11,
    "start_time": "2024-09-28T18:34:00.622Z"
   },
   {
    "duration": 13,
    "start_time": "2024-09-28T18:34:00.634Z"
   },
   {
    "duration": 6,
    "start_time": "2024-09-28T18:34:00.649Z"
   },
   {
    "duration": 28,
    "start_time": "2024-09-28T18:34:00.656Z"
   },
   {
    "duration": 4,
    "start_time": "2024-09-28T18:34:00.686Z"
   },
   {
    "duration": 28,
    "start_time": "2024-09-28T18:34:00.692Z"
   },
   {
    "duration": 15,
    "start_time": "2024-09-28T18:34:00.722Z"
   },
   {
    "duration": 28,
    "start_time": "2024-09-28T18:34:00.739Z"
   },
   {
    "duration": 206,
    "start_time": "2024-09-28T18:34:00.769Z"
   },
   {
    "duration": 146,
    "start_time": "2024-09-28T18:34:00.976Z"
   },
   {
    "duration": 227,
    "start_time": "2024-09-28T18:34:01.124Z"
   },
   {
    "duration": 14,
    "start_time": "2024-09-28T18:34:01.353Z"
   },
   {
    "duration": 244,
    "start_time": "2024-09-28T18:34:01.369Z"
   },
   {
    "duration": 234,
    "start_time": "2024-09-28T18:34:01.620Z"
   },
   {
    "duration": 10,
    "start_time": "2024-09-28T18:34:01.856Z"
   },
   {
    "duration": 24,
    "start_time": "2024-09-28T18:34:01.868Z"
   },
   {
    "duration": 38,
    "start_time": "2024-09-28T18:34:01.894Z"
   },
   {
    "duration": 43,
    "start_time": "2024-09-28T18:34:01.934Z"
   },
   {
    "duration": 26,
    "start_time": "2024-09-28T18:34:01.981Z"
   },
   {
    "duration": 308,
    "start_time": "2024-09-28T18:34:02.009Z"
   },
   {
    "duration": 308,
    "start_time": "2024-09-28T18:34:02.319Z"
   },
   {
    "duration": 19,
    "start_time": "2024-09-28T18:34:02.628Z"
   },
   {
    "duration": 36,
    "start_time": "2024-09-28T18:37:13.997Z"
   },
   {
    "duration": 27,
    "start_time": "2024-09-28T18:37:51.317Z"
   },
   {
    "duration": 18,
    "start_time": "2024-09-28T18:38:13.051Z"
   },
   {
    "duration": 27,
    "start_time": "2024-09-28T18:38:17.637Z"
   },
   {
    "duration": 23,
    "start_time": "2024-09-28T18:39:20.837Z"
   },
   {
    "duration": 79,
    "start_time": "2024-09-28T18:40:33.078Z"
   },
   {
    "duration": 22,
    "start_time": "2024-09-28T18:40:38.799Z"
   },
   {
    "duration": 11,
    "start_time": "2024-09-28T18:43:25.484Z"
   },
   {
    "duration": 22,
    "start_time": "2024-09-28T18:43:32.396Z"
   },
   {
    "duration": 23,
    "start_time": "2024-09-28T18:43:39.801Z"
   },
   {
    "duration": 71,
    "start_time": "2024-09-28T18:44:41.045Z"
   },
   {
    "duration": 18,
    "start_time": "2024-09-28T18:44:47.243Z"
   },
   {
    "duration": 15,
    "start_time": "2024-09-28T18:45:03.250Z"
   },
   {
    "duration": 25,
    "start_time": "2024-09-28T18:45:37.867Z"
   },
   {
    "duration": 23,
    "start_time": "2024-09-28T18:46:48.044Z"
   },
   {
    "duration": 25,
    "start_time": "2024-09-28T18:46:53.519Z"
   },
   {
    "duration": 33,
    "start_time": "2024-09-28T18:49:52.516Z"
   },
   {
    "duration": 5,
    "start_time": "2024-09-28T18:50:30.815Z"
   },
   {
    "duration": 24,
    "start_time": "2024-09-28T18:50:33.411Z"
   },
   {
    "duration": 28,
    "start_time": "2024-09-28T18:53:56.210Z"
   },
   {
    "duration": 18,
    "start_time": "2024-09-28T18:53:58.994Z"
   },
   {
    "duration": 29,
    "start_time": "2024-09-28T18:54:16.593Z"
   },
   {
    "duration": 5,
    "start_time": "2024-09-28T18:54:19.398Z"
   },
   {
    "duration": 263,
    "start_time": "2024-09-28T18:54:39.330Z"
   },
   {
    "duration": 24,
    "start_time": "2024-09-28T18:54:43.370Z"
   },
   {
    "duration": 23,
    "start_time": "2024-09-28T19:00:03.788Z"
   },
   {
    "duration": 20,
    "start_time": "2024-09-28T19:00:26.728Z"
   },
   {
    "duration": 5,
    "start_time": "2024-09-28T19:00:29.876Z"
   },
   {
    "duration": 13,
    "start_time": "2024-09-28T19:00:39.732Z"
   },
   {
    "duration": 16,
    "start_time": "2024-09-28T19:01:11.293Z"
   },
   {
    "duration": 14,
    "start_time": "2024-09-28T19:01:15.770Z"
   },
   {
    "duration": 16,
    "start_time": "2024-09-28T19:01:43.604Z"
   },
   {
    "duration": 13,
    "start_time": "2024-09-28T19:01:46.282Z"
   },
   {
    "duration": 5,
    "start_time": "2024-09-28T19:01:55.956Z"
   },
   {
    "duration": 32,
    "start_time": "2024-09-28T19:02:05.683Z"
   },
   {
    "duration": 275,
    "start_time": "2024-09-28T19:02:39.530Z"
   },
   {
    "duration": 24,
    "start_time": "2024-09-28T19:02:51.011Z"
   },
   {
    "duration": 19,
    "start_time": "2024-09-28T19:03:08.355Z"
   },
   {
    "duration": 25,
    "start_time": "2024-09-28T19:03:24.530Z"
   },
   {
    "duration": 25,
    "start_time": "2024-09-28T19:06:09.041Z"
   },
   {
    "duration": 25,
    "start_time": "2024-09-28T19:06:53.731Z"
   },
   {
    "duration": 23,
    "start_time": "2024-09-28T19:14:52.272Z"
   },
   {
    "duration": 5,
    "start_time": "2024-09-28T19:15:49.650Z"
   },
   {
    "duration": 23,
    "start_time": "2024-09-28T19:15:54.112Z"
   },
   {
    "duration": 5,
    "start_time": "2024-09-28T19:16:04.113Z"
   },
   {
    "duration": 25,
    "start_time": "2024-09-28T19:17:14.749Z"
   },
   {
    "duration": 5,
    "start_time": "2024-09-28T19:17:48.344Z"
   },
   {
    "duration": 26,
    "start_time": "2024-09-28T19:17:50.936Z"
   },
   {
    "duration": 1216,
    "start_time": "2024-09-28T19:18:00.088Z"
   },
   {
    "duration": 71,
    "start_time": "2024-09-28T19:18:01.306Z"
   },
   {
    "duration": 12,
    "start_time": "2024-09-28T19:18:01.379Z"
   },
   {
    "duration": 66,
    "start_time": "2024-09-28T19:18:01.393Z"
   },
   {
    "duration": 75,
    "start_time": "2024-09-28T19:18:01.461Z"
   },
   {
    "duration": 93,
    "start_time": "2024-09-28T19:18:01.538Z"
   },
   {
    "duration": 40,
    "start_time": "2024-09-28T19:18:01.633Z"
   },
   {
    "duration": 77,
    "start_time": "2024-09-28T19:18:01.675Z"
   },
   {
    "duration": 44,
    "start_time": "2024-09-28T19:18:01.754Z"
   },
   {
    "duration": 53,
    "start_time": "2024-09-28T19:18:01.801Z"
   },
   {
    "duration": 44,
    "start_time": "2024-09-28T19:18:01.856Z"
   },
   {
    "duration": 46,
    "start_time": "2024-09-28T19:18:01.902Z"
   },
   {
    "duration": 29,
    "start_time": "2024-09-28T19:18:01.950Z"
   },
   {
    "duration": 33,
    "start_time": "2024-09-28T19:18:01.982Z"
   },
   {
    "duration": 27,
    "start_time": "2024-09-28T19:18:02.017Z"
   },
   {
    "duration": 58,
    "start_time": "2024-09-28T19:18:02.045Z"
   },
   {
    "duration": 34,
    "start_time": "2024-09-28T19:18:02.104Z"
   },
   {
    "duration": 243,
    "start_time": "2024-09-28T19:18:02.139Z"
   },
   {
    "duration": 152,
    "start_time": "2024-09-28T19:18:02.384Z"
   },
   {
    "duration": 228,
    "start_time": "2024-09-28T19:18:02.538Z"
   },
   {
    "duration": 14,
    "start_time": "2024-09-28T19:18:02.767Z"
   },
   {
    "duration": 291,
    "start_time": "2024-09-28T19:18:02.783Z"
   },
   {
    "duration": 251,
    "start_time": "2024-09-28T19:18:03.076Z"
   },
   {
    "duration": 15,
    "start_time": "2024-09-28T19:18:03.328Z"
   },
   {
    "duration": 11,
    "start_time": "2024-09-28T19:18:03.345Z"
   },
   {
    "duration": 44,
    "start_time": "2024-09-28T19:18:03.357Z"
   },
   {
    "duration": 36,
    "start_time": "2024-09-28T19:18:03.403Z"
   },
   {
    "duration": 20,
    "start_time": "2024-09-28T19:18:03.443Z"
   },
   {
    "duration": 328,
    "start_time": "2024-09-28T19:18:03.465Z"
   },
   {
    "duration": 296,
    "start_time": "2024-09-28T19:18:03.795Z"
   },
   {
    "duration": 19,
    "start_time": "2024-09-28T19:18:04.093Z"
   },
   {
    "duration": 12,
    "start_time": "2024-09-28T19:18:04.122Z"
   },
   {
    "duration": 26,
    "start_time": "2024-09-28T19:18:04.136Z"
   },
   {
    "duration": 35,
    "start_time": "2024-09-28T19:18:04.163Z"
   },
   {
    "duration": 6,
    "start_time": "2024-09-28T19:19:55.442Z"
   },
   {
    "duration": 29,
    "start_time": "2024-09-28T19:19:56.809Z"
   },
   {
    "duration": 1211,
    "start_time": "2024-09-28T19:20:03.196Z"
   },
   {
    "duration": 76,
    "start_time": "2024-09-28T19:20:04.409Z"
   },
   {
    "duration": 13,
    "start_time": "2024-09-28T19:20:04.487Z"
   },
   {
    "duration": 59,
    "start_time": "2024-09-28T19:20:04.502Z"
   },
   {
    "duration": 48,
    "start_time": "2024-09-28T19:20:04.563Z"
   },
   {
    "duration": 42,
    "start_time": "2024-09-28T19:20:04.612Z"
   },
   {
    "duration": 12,
    "start_time": "2024-09-28T19:20:04.655Z"
   },
   {
    "duration": 71,
    "start_time": "2024-09-28T19:20:04.668Z"
   },
   {
    "duration": 13,
    "start_time": "2024-09-28T19:20:04.741Z"
   },
   {
    "duration": 32,
    "start_time": "2024-09-28T19:20:04.757Z"
   },
   {
    "duration": 35,
    "start_time": "2024-09-28T19:20:04.791Z"
   },
   {
    "duration": 12,
    "start_time": "2024-09-28T19:20:04.832Z"
   },
   {
    "duration": 15,
    "start_time": "2024-09-28T19:20:04.849Z"
   },
   {
    "duration": 38,
    "start_time": "2024-09-28T19:20:04.865Z"
   },
   {
    "duration": 34,
    "start_time": "2024-09-28T19:20:04.905Z"
   },
   {
    "duration": 13,
    "start_time": "2024-09-28T19:20:04.941Z"
   },
   {
    "duration": 30,
    "start_time": "2024-09-28T19:20:04.956Z"
   },
   {
    "duration": 303,
    "start_time": "2024-09-28T19:20:04.987Z"
   },
   {
    "duration": 148,
    "start_time": "2024-09-28T19:20:05.292Z"
   },
   {
    "duration": 236,
    "start_time": "2024-09-28T19:20:05.441Z"
   },
   {
    "duration": 21,
    "start_time": "2024-09-28T19:20:05.679Z"
   },
   {
    "duration": 297,
    "start_time": "2024-09-28T19:20:05.702Z"
   },
   {
    "duration": 254,
    "start_time": "2024-09-28T19:20:06.001Z"
   },
   {
    "duration": 10,
    "start_time": "2024-09-28T19:20:06.256Z"
   },
   {
    "duration": 30,
    "start_time": "2024-09-28T19:20:06.268Z"
   },
   {
    "duration": 30,
    "start_time": "2024-09-28T19:20:06.299Z"
   },
   {
    "duration": 26,
    "start_time": "2024-09-28T19:20:06.331Z"
   },
   {
    "duration": 21,
    "start_time": "2024-09-28T19:20:06.361Z"
   },
   {
    "duration": 353,
    "start_time": "2024-09-28T19:20:06.384Z"
   },
   {
    "duration": 298,
    "start_time": "2024-09-28T19:20:06.739Z"
   },
   {
    "duration": 20,
    "start_time": "2024-09-28T19:20:07.039Z"
   },
   {
    "duration": 33,
    "start_time": "2024-09-28T19:20:07.060Z"
   },
   {
    "duration": 45,
    "start_time": "2024-09-28T19:20:07.095Z"
   },
   {
    "duration": 29,
    "start_time": "2024-09-28T19:20:07.141Z"
   },
   {
    "duration": 30,
    "start_time": "2024-09-28T19:20:40.576Z"
   },
   {
    "duration": 5,
    "start_time": "2024-09-28T19:20:55.440Z"
   },
   {
    "duration": 27,
    "start_time": "2024-09-28T19:24:00.253Z"
   },
   {
    "duration": 974,
    "start_time": "2024-09-28T19:24:57.961Z"
   },
   {
    "duration": 887,
    "start_time": "2024-09-28T19:25:03.235Z"
   },
   {
    "duration": 75,
    "start_time": "2024-09-28T19:25:58.875Z"
   },
   {
    "duration": 63,
    "start_time": "2024-09-28T19:26:21.642Z"
   },
   {
    "duration": 69,
    "start_time": "2024-09-28T19:26:23.992Z"
   },
   {
    "duration": 86,
    "start_time": "2024-09-28T19:26:34.777Z"
   },
   {
    "duration": 337,
    "start_time": "2024-09-28T19:26:43.414Z"
   },
   {
    "duration": 21,
    "start_time": "2024-09-28T19:26:51.965Z"
   },
   {
    "duration": 20,
    "start_time": "2024-09-28T19:28:23.560Z"
   },
   {
    "duration": 42,
    "start_time": "2024-09-28T19:29:20.328Z"
   },
   {
    "duration": 4,
    "start_time": "2024-09-28T19:30:46.639Z"
   },
   {
    "duration": 32,
    "start_time": "2024-09-28T19:31:44.480Z"
   },
   {
    "duration": 31,
    "start_time": "2024-09-28T19:34:21.186Z"
   },
   {
    "duration": 47,
    "start_time": "2024-09-29T10:09:29.649Z"
   },
   {
    "duration": 1386,
    "start_time": "2024-09-29T10:09:34.487Z"
   },
   {
    "duration": 342,
    "start_time": "2024-09-29T10:09:35.875Z"
   },
   {
    "duration": 13,
    "start_time": "2024-09-29T10:09:36.218Z"
   },
   {
    "duration": 26,
    "start_time": "2024-09-29T10:09:36.233Z"
   },
   {
    "duration": 33,
    "start_time": "2024-09-29T10:09:36.260Z"
   },
   {
    "duration": 25,
    "start_time": "2024-09-29T10:09:36.295Z"
   },
   {
    "duration": 28,
    "start_time": "2024-09-29T10:09:36.321Z"
   },
   {
    "duration": 25,
    "start_time": "2024-09-29T10:09:36.351Z"
   },
   {
    "duration": 22,
    "start_time": "2024-09-29T10:09:36.378Z"
   },
   {
    "duration": 5,
    "start_time": "2024-09-29T10:09:36.403Z"
   },
   {
    "duration": 17,
    "start_time": "2024-09-29T10:09:36.410Z"
   },
   {
    "duration": 28,
    "start_time": "2024-09-29T10:09:36.429Z"
   },
   {
    "duration": 6,
    "start_time": "2024-09-29T10:09:36.458Z"
   },
   {
    "duration": 4,
    "start_time": "2024-09-29T10:09:36.465Z"
   },
   {
    "duration": 12,
    "start_time": "2024-09-29T10:09:36.471Z"
   },
   {
    "duration": 7,
    "start_time": "2024-09-29T10:09:36.484Z"
   },
   {
    "duration": 4,
    "start_time": "2024-09-29T10:09:36.493Z"
   },
   {
    "duration": 175,
    "start_time": "2024-09-29T10:09:36.499Z"
   },
   {
    "duration": 128,
    "start_time": "2024-09-29T10:09:36.675Z"
   },
   {
    "duration": 224,
    "start_time": "2024-09-29T10:09:36.804Z"
   },
   {
    "duration": 13,
    "start_time": "2024-09-29T10:09:37.030Z"
   },
   {
    "duration": 251,
    "start_time": "2024-09-29T10:09:37.045Z"
   },
   {
    "duration": 246,
    "start_time": "2024-09-29T10:09:37.299Z"
   },
   {
    "duration": 10,
    "start_time": "2024-09-29T10:09:37.547Z"
   },
   {
    "duration": 32,
    "start_time": "2024-09-29T10:09:37.558Z"
   },
   {
    "duration": 18,
    "start_time": "2024-09-29T10:09:37.592Z"
   },
   {
    "duration": 23,
    "start_time": "2024-09-29T10:09:37.612Z"
   },
   {
    "duration": 20,
    "start_time": "2024-09-29T10:09:37.638Z"
   },
   {
    "duration": 291,
    "start_time": "2024-09-29T10:09:37.659Z"
   },
   {
    "duration": 274,
    "start_time": "2024-09-29T10:09:37.951Z"
   },
   {
    "duration": 20,
    "start_time": "2024-09-29T10:09:38.226Z"
   },
   {
    "duration": 5,
    "start_time": "2024-09-29T10:09:38.247Z"
   },
   {
    "duration": 31,
    "start_time": "2024-09-29T10:09:38.253Z"
   },
   {
    "duration": 48,
    "start_time": "2024-09-29T10:09:38.286Z"
   },
   {
    "duration": 4,
    "start_time": "2024-09-29T10:09:38.335Z"
   },
   {
    "duration": 36,
    "start_time": "2024-09-29T10:09:38.341Z"
   },
   {
    "duration": 18,
    "start_time": "2024-09-29T10:09:47.515Z"
   },
   {
    "duration": 106,
    "start_time": "2024-09-29T10:22:28.587Z"
   },
   {
    "duration": 3,
    "start_time": "2024-09-29T10:22:43.438Z"
   },
   {
    "duration": 216,
    "start_time": "2024-09-29T10:22:49.417Z"
   },
   {
    "duration": 6,
    "start_time": "2024-09-29T10:24:06.960Z"
   },
   {
    "duration": 6,
    "start_time": "2024-09-29T10:24:26.563Z"
   },
   {
    "duration": 5,
    "start_time": "2024-09-29T10:29:59.897Z"
   },
   {
    "duration": 5,
    "start_time": "2024-09-29T10:30:15.885Z"
   },
   {
    "duration": 5,
    "start_time": "2024-09-29T10:30:47.927Z"
   },
   {
    "duration": 6,
    "start_time": "2024-09-29T10:34:26.621Z"
   },
   {
    "duration": 34,
    "start_time": "2024-09-29T10:45:23.115Z"
   },
   {
    "duration": 6,
    "start_time": "2024-09-29T10:45:38.341Z"
   },
   {
    "duration": 67,
    "start_time": "2024-09-29T10:47:01.065Z"
   },
   {
    "duration": 6,
    "start_time": "2024-09-29T10:47:08.580Z"
   },
   {
    "duration": 48,
    "start_time": "2024-09-29T10:54:23.083Z"
   },
   {
    "duration": 50,
    "start_time": "2024-09-29T10:55:30.108Z"
   },
   {
    "duration": 43,
    "start_time": "2024-09-29T10:55:47.084Z"
   },
   {
    "duration": 20,
    "start_time": "2024-09-29T10:59:06.881Z"
   },
   {
    "duration": 13,
    "start_time": "2024-09-29T11:01:19.825Z"
   },
   {
    "duration": 30,
    "start_time": "2024-09-29T11:01:28.036Z"
   },
   {
    "duration": 21,
    "start_time": "2024-09-29T11:02:29.448Z"
   },
   {
    "duration": 14,
    "start_time": "2024-09-29T11:03:20.635Z"
   },
   {
    "duration": 22,
    "start_time": "2024-09-29T11:03:23.372Z"
   },
   {
    "duration": 28,
    "start_time": "2024-09-29T11:03:26.797Z"
   },
   {
    "duration": 3,
    "start_time": "2024-09-29T11:04:18.348Z"
   },
   {
    "duration": 22,
    "start_time": "2024-09-29T11:04:20.272Z"
   },
   {
    "duration": 1299,
    "start_time": "2024-09-29T11:04:27.639Z"
   },
   {
    "duration": 87,
    "start_time": "2024-09-29T11:04:28.947Z"
   },
   {
    "duration": 15,
    "start_time": "2024-09-29T11:04:29.036Z"
   },
   {
    "duration": 13,
    "start_time": "2024-09-29T11:04:29.053Z"
   },
   {
    "duration": 12,
    "start_time": "2024-09-29T11:04:29.068Z"
   },
   {
    "duration": 12,
    "start_time": "2024-09-29T11:04:29.081Z"
   },
   {
    "duration": 43,
    "start_time": "2024-09-29T11:04:29.096Z"
   },
   {
    "duration": 11,
    "start_time": "2024-09-29T11:04:29.147Z"
   },
   {
    "duration": 12,
    "start_time": "2024-09-29T11:04:29.160Z"
   },
   {
    "duration": 5,
    "start_time": "2024-09-29T11:04:29.175Z"
   },
   {
    "duration": 7,
    "start_time": "2024-09-29T11:04:29.182Z"
   },
   {
    "duration": 7,
    "start_time": "2024-09-29T11:04:29.191Z"
   },
   {
    "duration": 6,
    "start_time": "2024-09-29T11:04:29.200Z"
   },
   {
    "duration": 6,
    "start_time": "2024-09-29T11:04:29.222Z"
   },
   {
    "duration": 9,
    "start_time": "2024-09-29T11:04:29.233Z"
   },
   {
    "duration": 9,
    "start_time": "2024-09-29T11:04:29.244Z"
   },
   {
    "duration": 5,
    "start_time": "2024-09-29T11:04:29.254Z"
   },
   {
    "duration": 233,
    "start_time": "2024-09-29T11:04:29.261Z"
   },
   {
    "duration": 163,
    "start_time": "2024-09-29T11:04:29.496Z"
   },
   {
    "duration": 247,
    "start_time": "2024-09-29T11:04:29.661Z"
   },
   {
    "duration": 36,
    "start_time": "2024-09-29T11:04:29.910Z"
   },
   {
    "duration": 258,
    "start_time": "2024-09-29T11:04:29.948Z"
   },
   {
    "duration": 262,
    "start_time": "2024-09-29T11:04:30.207Z"
   },
   {
    "duration": 10,
    "start_time": "2024-09-29T11:04:30.471Z"
   },
   {
    "duration": 16,
    "start_time": "2024-09-29T11:04:30.482Z"
   },
   {
    "duration": 42,
    "start_time": "2024-09-29T11:04:30.500Z"
   },
   {
    "duration": 25,
    "start_time": "2024-09-29T11:04:30.544Z"
   },
   {
    "duration": 20,
    "start_time": "2024-09-29T11:04:30.572Z"
   },
   {
    "duration": 348,
    "start_time": "2024-09-29T11:04:30.594Z"
   },
   {
    "duration": 308,
    "start_time": "2024-09-29T11:04:30.944Z"
   },
   {
    "duration": 20,
    "start_time": "2024-09-29T11:04:31.253Z"
   },
   {
    "duration": 6,
    "start_time": "2024-09-29T11:04:31.275Z"
   },
   {
    "duration": 55,
    "start_time": "2024-09-29T11:04:31.283Z"
   },
   {
    "duration": 40,
    "start_time": "2024-09-29T11:04:31.339Z"
   },
   {
    "duration": 5,
    "start_time": "2024-09-29T11:04:31.381Z"
   },
   {
    "duration": 11,
    "start_time": "2024-09-29T11:04:31.387Z"
   },
   {
    "duration": 26,
    "start_time": "2024-09-29T11:04:31.399Z"
   },
   {
    "duration": 6,
    "start_time": "2024-09-29T11:04:31.429Z"
   },
   {
    "duration": 20,
    "start_time": "2024-09-29T11:04:31.556Z"
   },
   {
    "duration": 28,
    "start_time": "2024-09-29T11:04:31.578Z"
   },
   {
    "duration": 19,
    "start_time": "2024-09-29T11:04:40.450Z"
   },
   {
    "duration": 24,
    "start_time": "2024-09-29T11:10:50.616Z"
   },
   {
    "duration": 20,
    "start_time": "2024-09-29T11:11:33.796Z"
   },
   {
    "duration": 7,
    "start_time": "2024-09-29T11:12:44.593Z"
   },
   {
    "duration": 20,
    "start_time": "2024-09-29T11:13:32.591Z"
   },
   {
    "duration": 11,
    "start_time": "2024-09-29T11:14:08.214Z"
   },
   {
    "duration": 28,
    "start_time": "2024-09-29T11:14:25.132Z"
   },
   {
    "duration": 25,
    "start_time": "2024-09-29T11:14:28.537Z"
   },
   {
    "duration": 16,
    "start_time": "2024-09-29T11:14:40.516Z"
   },
   {
    "duration": 31,
    "start_time": "2024-09-29T11:15:26.915Z"
   },
   {
    "duration": 29,
    "start_time": "2024-09-29T11:15:29.903Z"
   },
   {
    "duration": 6,
    "start_time": "2024-09-29T11:15:35.164Z"
   },
   {
    "duration": 291,
    "start_time": "2024-09-29T11:16:12.180Z"
   },
   {
    "duration": 324,
    "start_time": "2024-09-29T11:16:47.739Z"
   },
   {
    "duration": 15,
    "start_time": "2024-09-29T11:17:53.824Z"
   },
   {
    "duration": 9,
    "start_time": "2024-09-29T11:18:03.084Z"
   },
   {
    "duration": 44,
    "start_time": "2024-09-29T11:29:15.102Z"
   },
   {
    "duration": 22,
    "start_time": "2024-09-29T12:02:08.239Z"
   },
   {
    "duration": 9,
    "start_time": "2024-09-29T12:06:19.582Z"
   },
   {
    "duration": 8,
    "start_time": "2024-09-29T12:06:40.939Z"
   },
   {
    "duration": 7,
    "start_time": "2024-09-29T12:07:18.728Z"
   },
   {
    "duration": 6,
    "start_time": "2024-09-29T12:09:34.418Z"
   },
   {
    "duration": 5,
    "start_time": "2024-09-29T12:09:38.946Z"
   },
   {
    "duration": 30,
    "start_time": "2024-09-29T13:16:03.896Z"
   },
   {
    "duration": 6,
    "start_time": "2024-09-29T13:21:43.912Z"
   },
   {
    "duration": 1148,
    "start_time": "2024-09-29T13:21:49.025Z"
   },
   {
    "duration": 70,
    "start_time": "2024-09-29T13:21:50.175Z"
   },
   {
    "duration": 14,
    "start_time": "2024-09-29T13:21:50.249Z"
   },
   {
    "duration": 16,
    "start_time": "2024-09-29T13:21:50.266Z"
   },
   {
    "duration": 10,
    "start_time": "2024-09-29T13:21:50.284Z"
   },
   {
    "duration": 21,
    "start_time": "2024-09-29T13:21:50.296Z"
   },
   {
    "duration": 23,
    "start_time": "2024-09-29T13:21:50.319Z"
   },
   {
    "duration": 14,
    "start_time": "2024-09-29T13:21:50.344Z"
   },
   {
    "duration": 11,
    "start_time": "2024-09-29T13:21:50.361Z"
   },
   {
    "duration": 10,
    "start_time": "2024-09-29T13:21:50.374Z"
   },
   {
    "duration": 9,
    "start_time": "2024-09-29T13:21:50.386Z"
   },
   {
    "duration": 6,
    "start_time": "2024-09-29T13:21:50.416Z"
   },
   {
    "duration": 10,
    "start_time": "2024-09-29T13:21:50.425Z"
   },
   {
    "duration": 4,
    "start_time": "2024-09-29T13:21:50.437Z"
   },
   {
    "duration": 5,
    "start_time": "2024-09-29T13:21:50.442Z"
   },
   {
    "duration": 12,
    "start_time": "2024-09-29T13:21:50.449Z"
   },
   {
    "duration": 6,
    "start_time": "2024-09-29T13:21:50.462Z"
   },
   {
    "duration": 219,
    "start_time": "2024-09-29T13:21:50.470Z"
   },
   {
    "duration": 138,
    "start_time": "2024-09-29T13:21:50.691Z"
   },
   {
    "duration": 211,
    "start_time": "2024-09-29T13:21:50.831Z"
   },
   {
    "duration": 15,
    "start_time": "2024-09-29T13:21:51.043Z"
   },
   {
    "duration": 244,
    "start_time": "2024-09-29T13:21:51.059Z"
   },
   {
    "duration": 234,
    "start_time": "2024-09-29T13:21:51.305Z"
   },
   {
    "duration": 11,
    "start_time": "2024-09-29T13:21:51.541Z"
   },
   {
    "duration": 9,
    "start_time": "2024-09-29T13:21:51.554Z"
   },
   {
    "duration": 42,
    "start_time": "2024-09-29T13:21:51.565Z"
   },
   {
    "duration": 27,
    "start_time": "2024-09-29T13:21:51.609Z"
   },
   {
    "duration": 24,
    "start_time": "2024-09-29T13:21:51.638Z"
   },
   {
    "duration": 23,
    "start_time": "2024-09-29T13:21:51.664Z"
   },
   {
    "duration": 285,
    "start_time": "2024-09-29T13:21:51.689Z"
   },
   {
    "duration": 283,
    "start_time": "2024-09-29T13:21:51.976Z"
   },
   {
    "duration": 6,
    "start_time": "2024-09-29T13:21:52.261Z"
   },
   {
    "duration": 46,
    "start_time": "2024-09-29T13:21:52.269Z"
   },
   {
    "duration": 41,
    "start_time": "2024-09-29T13:21:52.317Z"
   },
   {
    "duration": 135,
    "start_time": "2024-09-29T13:21:52.359Z"
   },
   {
    "duration": 6,
    "start_time": "2024-09-29T13:21:52.496Z"
   },
   {
    "duration": 15,
    "start_time": "2024-09-29T13:21:52.503Z"
   },
   {
    "duration": 23,
    "start_time": "2024-09-29T13:21:52.519Z"
   },
   {
    "duration": 1000,
    "start_time": "2024-09-29T13:21:52.544Z"
   },
   {
    "duration": 0,
    "start_time": "2024-09-29T13:21:53.547Z"
   },
   {
    "duration": 0,
    "start_time": "2024-09-29T13:21:53.548Z"
   },
   {
    "duration": 0,
    "start_time": "2024-09-29T13:21:53.550Z"
   },
   {
    "duration": 0,
    "start_time": "2024-09-29T13:21:53.552Z"
   },
   {
    "duration": 0,
    "start_time": "2024-09-29T13:21:53.553Z"
   },
   {
    "duration": 0,
    "start_time": "2024-09-29T13:21:53.555Z"
   },
   {
    "duration": 0,
    "start_time": "2024-09-29T13:21:53.556Z"
   },
   {
    "duration": 0,
    "start_time": "2024-09-29T13:21:53.558Z"
   },
   {
    "duration": 0,
    "start_time": "2024-09-29T13:21:53.559Z"
   },
   {
    "duration": 20,
    "start_time": "2024-09-29T13:23:18.143Z"
   },
   {
    "duration": 57,
    "start_time": "2024-09-29T13:25:20.657Z"
   },
   {
    "duration": 62,
    "start_time": "2024-09-29T13:25:30.262Z"
   },
   {
    "duration": 7,
    "start_time": "2024-09-29T13:26:24.283Z"
   },
   {
    "duration": 7,
    "start_time": "2024-09-29T13:26:37.499Z"
   },
   {
    "duration": 8,
    "start_time": "2024-09-29T13:35:21.875Z"
   },
   {
    "duration": 21,
    "start_time": "2024-09-29T13:48:45.517Z"
   },
   {
    "duration": 4,
    "start_time": "2024-09-29T13:49:03.936Z"
   },
   {
    "duration": 22,
    "start_time": "2024-09-29T13:49:14.457Z"
   },
   {
    "duration": 4,
    "start_time": "2024-09-29T13:50:34.714Z"
   },
   {
    "duration": 4,
    "start_time": "2024-09-29T13:51:08.996Z"
   },
   {
    "duration": 4,
    "start_time": "2024-09-29T13:51:52.264Z"
   },
   {
    "duration": 5,
    "start_time": "2024-09-29T13:51:57.732Z"
   },
   {
    "duration": 54,
    "start_time": "2024-09-29T13:53:17.575Z"
   },
   {
    "duration": 278,
    "start_time": "2024-09-29T13:54:37.768Z"
   },
   {
    "duration": 794,
    "start_time": "2024-09-29T13:54:46.923Z"
   },
   {
    "duration": 506,
    "start_time": "2024-09-29T13:54:55.493Z"
   },
   {
    "duration": 269,
    "start_time": "2024-09-29T13:55:18.085Z"
   },
   {
    "duration": 212,
    "start_time": "2024-09-29T13:55:25.124Z"
   },
   {
    "duration": 12,
    "start_time": "2024-09-29T14:06:39.345Z"
   },
   {
    "duration": 10,
    "start_time": "2024-09-29T14:07:14.603Z"
   },
   {
    "duration": 11,
    "start_time": "2024-09-29T14:07:28.124Z"
   },
   {
    "duration": 211,
    "start_time": "2024-09-29T14:07:40.369Z"
   },
   {
    "duration": 222,
    "start_time": "2024-09-29T14:07:53.467Z"
   },
   {
    "duration": 211,
    "start_time": "2024-09-29T14:08:06.951Z"
   },
   {
    "duration": 154,
    "start_time": "2024-09-29T14:08:14.859Z"
   },
   {
    "duration": 169,
    "start_time": "2024-09-29T14:08:27.663Z"
   },
   {
    "duration": 153,
    "start_time": "2024-09-29T14:09:41.973Z"
   },
   {
    "duration": 297,
    "start_time": "2024-09-29T14:09:47.369Z"
   },
   {
    "duration": 153,
    "start_time": "2024-09-29T14:10:31.579Z"
   },
   {
    "duration": 161,
    "start_time": "2024-09-29T14:10:43.926Z"
   },
   {
    "duration": 154,
    "start_time": "2024-09-29T14:11:41.772Z"
   },
   {
    "duration": 160,
    "start_time": "2024-09-29T14:12:16.636Z"
   },
   {
    "duration": 174,
    "start_time": "2024-09-29T14:12:52.707Z"
   },
   {
    "duration": 168,
    "start_time": "2024-09-29T14:13:19.913Z"
   },
   {
    "duration": 148,
    "start_time": "2024-09-29T14:14:11.262Z"
   },
   {
    "duration": 160,
    "start_time": "2024-09-29T14:14:15.849Z"
   },
   {
    "duration": 153,
    "start_time": "2024-09-29T14:16:45.526Z"
   },
   {
    "duration": 9,
    "start_time": "2024-09-29T14:17:37.779Z"
   },
   {
    "duration": 5,
    "start_time": "2024-09-29T14:17:48.715Z"
   },
   {
    "duration": 6,
    "start_time": "2024-09-29T14:17:54.207Z"
   },
   {
    "duration": 5,
    "start_time": "2024-09-29T14:17:58.919Z"
   },
   {
    "duration": 154,
    "start_time": "2024-09-29T14:18:53.768Z"
   },
   {
    "duration": 166,
    "start_time": "2024-09-29T14:19:05.433Z"
   },
   {
    "duration": 155,
    "start_time": "2024-09-29T14:19:11.234Z"
   },
   {
    "duration": 150,
    "start_time": "2024-09-29T14:19:26.619Z"
   },
   {
    "duration": 165,
    "start_time": "2024-09-29T14:19:40.669Z"
   },
   {
    "duration": 148,
    "start_time": "2024-09-29T14:19:56.022Z"
   },
   {
    "duration": 269,
    "start_time": "2024-09-29T15:17:19.235Z"
   },
   {
    "duration": 419,
    "start_time": "2024-09-29T15:17:22.299Z"
   },
   {
    "duration": 1175,
    "start_time": "2024-09-29T15:17:40.511Z"
   },
   {
    "duration": 72,
    "start_time": "2024-09-29T15:17:41.688Z"
   },
   {
    "duration": 13,
    "start_time": "2024-09-29T15:17:41.761Z"
   },
   {
    "duration": 12,
    "start_time": "2024-09-29T15:17:41.776Z"
   },
   {
    "duration": 9,
    "start_time": "2024-09-29T15:17:41.790Z"
   },
   {
    "duration": 18,
    "start_time": "2024-09-29T15:17:41.801Z"
   },
   {
    "duration": 7,
    "start_time": "2024-09-29T15:17:41.821Z"
   },
   {
    "duration": 9,
    "start_time": "2024-09-29T15:17:41.830Z"
   },
   {
    "duration": 31,
    "start_time": "2024-09-29T15:17:41.841Z"
   },
   {
    "duration": 5,
    "start_time": "2024-09-29T15:17:41.875Z"
   },
   {
    "duration": 6,
    "start_time": "2024-09-29T15:17:41.881Z"
   },
   {
    "duration": 8,
    "start_time": "2024-09-29T15:17:41.889Z"
   },
   {
    "duration": 20,
    "start_time": "2024-09-29T15:17:41.899Z"
   },
   {
    "duration": 5,
    "start_time": "2024-09-29T15:17:41.921Z"
   },
   {
    "duration": 10,
    "start_time": "2024-09-29T15:17:41.928Z"
   },
   {
    "duration": 10,
    "start_time": "2024-09-29T15:17:41.940Z"
   },
   {
    "duration": 6,
    "start_time": "2024-09-29T15:17:41.952Z"
   },
   {
    "duration": 210,
    "start_time": "2024-09-29T15:17:41.959Z"
   },
   {
    "duration": 138,
    "start_time": "2024-09-29T15:17:42.171Z"
   },
   {
    "duration": 217,
    "start_time": "2024-09-29T15:17:42.310Z"
   },
   {
    "duration": 14,
    "start_time": "2024-09-29T15:17:42.528Z"
   },
   {
    "duration": 236,
    "start_time": "2024-09-29T15:17:42.544Z"
   },
   {
    "duration": 245,
    "start_time": "2024-09-29T15:17:42.781Z"
   },
   {
    "duration": 9,
    "start_time": "2024-09-29T15:17:43.028Z"
   },
   {
    "duration": 27,
    "start_time": "2024-09-29T15:17:43.038Z"
   },
   {
    "duration": 25,
    "start_time": "2024-09-29T15:17:43.067Z"
   },
   {
    "duration": 4,
    "start_time": "2024-09-29T15:17:43.093Z"
   },
   {
    "duration": 51,
    "start_time": "2024-09-29T15:17:43.100Z"
   },
   {
    "duration": 22,
    "start_time": "2024-09-29T15:17:43.152Z"
   },
   {
    "duration": 272,
    "start_time": "2024-09-29T15:17:43.175Z"
   },
   {
    "duration": 296,
    "start_time": "2024-09-29T15:17:43.449Z"
   },
   {
    "duration": 5,
    "start_time": "2024-09-29T15:17:43.747Z"
   },
   {
    "duration": 24,
    "start_time": "2024-09-29T15:17:43.753Z"
   },
   {
    "duration": 55,
    "start_time": "2024-09-29T15:17:43.779Z"
   },
   {
    "duration": 122,
    "start_time": "2024-09-29T15:17:43.835Z"
   },
   {
    "duration": 6,
    "start_time": "2024-09-29T15:17:43.959Z"
   },
   {
    "duration": 5,
    "start_time": "2024-09-29T15:17:43.967Z"
   },
   {
    "duration": 10,
    "start_time": "2024-09-29T15:17:43.973Z"
   },
   {
    "duration": 4,
    "start_time": "2024-09-29T15:17:43.985Z"
   },
   {
    "duration": 155,
    "start_time": "2024-09-29T15:17:44.015Z"
   },
   {
    "duration": 6,
    "start_time": "2024-09-29T15:17:44.171Z"
   },
   {
    "duration": 40,
    "start_time": "2024-09-29T15:17:44.179Z"
   },
   {
    "duration": 278,
    "start_time": "2024-09-29T15:18:07.351Z"
   },
   {
    "duration": 280,
    "start_time": "2024-09-29T15:18:11.496Z"
   },
   {
    "duration": 263,
    "start_time": "2024-09-29T15:18:14.893Z"
   },
   {
    "duration": 245,
    "start_time": "2024-09-29T15:18:18.466Z"
   },
   {
    "duration": 267,
    "start_time": "2024-09-29T15:18:26.495Z"
   },
   {
    "duration": 373,
    "start_time": "2024-09-29T15:18:34.744Z"
   },
   {
    "duration": 5,
    "start_time": "2024-09-29T15:19:25.548Z"
   },
   {
    "duration": 51,
    "start_time": "2024-09-29T15:20:42.737Z"
   },
   {
    "duration": 0,
    "start_time": "2024-09-29T15:20:42.789Z"
   },
   {
    "duration": 0,
    "start_time": "2024-09-29T15:20:42.791Z"
   },
   {
    "duration": 1165,
    "start_time": "2024-09-29T15:20:42.831Z"
   },
   {
    "duration": 72,
    "start_time": "2024-09-29T15:20:43.998Z"
   },
   {
    "duration": 13,
    "start_time": "2024-09-29T15:20:44.072Z"
   },
   {
    "duration": 12,
    "start_time": "2024-09-29T15:20:44.086Z"
   },
   {
    "duration": 9,
    "start_time": "2024-09-29T15:20:44.101Z"
   },
   {
    "duration": 12,
    "start_time": "2024-09-29T15:20:44.111Z"
   },
   {
    "duration": 17,
    "start_time": "2024-09-29T15:20:44.124Z"
   },
   {
    "duration": 10,
    "start_time": "2024-09-29T15:20:44.142Z"
   },
   {
    "duration": 9,
    "start_time": "2024-09-29T15:20:44.153Z"
   },
   {
    "duration": 5,
    "start_time": "2024-09-29T15:20:44.163Z"
   },
   {
    "duration": 5,
    "start_time": "2024-09-29T15:20:44.170Z"
   },
   {
    "duration": 8,
    "start_time": "2024-09-29T15:20:44.177Z"
   },
   {
    "duration": 34,
    "start_time": "2024-09-29T15:20:44.186Z"
   },
   {
    "duration": 3,
    "start_time": "2024-09-29T15:20:44.223Z"
   },
   {
    "duration": 4,
    "start_time": "2024-09-29T15:20:44.228Z"
   },
   {
    "duration": 4,
    "start_time": "2024-09-29T15:20:44.233Z"
   },
   {
    "duration": 4,
    "start_time": "2024-09-29T15:20:44.239Z"
   },
   {
    "duration": 212,
    "start_time": "2024-09-29T15:20:44.244Z"
   },
   {
    "duration": 136,
    "start_time": "2024-09-29T15:20:44.458Z"
   },
   {
    "duration": 252,
    "start_time": "2024-09-29T15:20:44.595Z"
   },
   {
    "duration": 13,
    "start_time": "2024-09-29T15:20:44.849Z"
   },
   {
    "duration": 240,
    "start_time": "2024-09-29T15:20:44.864Z"
   },
   {
    "duration": 237,
    "start_time": "2024-09-29T15:20:45.106Z"
   },
   {
    "duration": 9,
    "start_time": "2024-09-29T15:20:45.345Z"
   },
   {
    "duration": 8,
    "start_time": "2024-09-29T15:20:45.356Z"
   },
   {
    "duration": 30,
    "start_time": "2024-09-29T15:20:45.366Z"
   },
   {
    "duration": 18,
    "start_time": "2024-09-29T15:20:45.397Z"
   },
   {
    "duration": 24,
    "start_time": "2024-09-29T15:20:45.417Z"
   },
   {
    "duration": 20,
    "start_time": "2024-09-29T15:20:45.442Z"
   },
   {
    "duration": 289,
    "start_time": "2024-09-29T15:20:45.463Z"
   },
   {
    "duration": 283,
    "start_time": "2024-09-29T15:20:45.754Z"
   },
   {
    "duration": 5,
    "start_time": "2024-09-29T15:20:46.038Z"
   },
   {
    "duration": 22,
    "start_time": "2024-09-29T15:20:46.045Z"
   },
   {
    "duration": 57,
    "start_time": "2024-09-29T15:20:46.069Z"
   },
   {
    "duration": 125,
    "start_time": "2024-09-29T15:20:46.128Z"
   },
   {
    "duration": 6,
    "start_time": "2024-09-29T15:20:46.254Z"
   },
   {
    "duration": 5,
    "start_time": "2024-09-29T15:20:46.262Z"
   },
   {
    "duration": 13,
    "start_time": "2024-09-29T15:20:46.268Z"
   },
   {
    "duration": 20,
    "start_time": "2024-09-29T15:20:46.283Z"
   },
   {
    "duration": 158,
    "start_time": "2024-09-29T15:20:46.305Z"
   },
   {
    "duration": 4,
    "start_time": "2024-09-29T15:20:46.467Z"
   },
   {
    "duration": 23,
    "start_time": "2024-09-29T15:20:46.473Z"
   },
   {
    "duration": 289,
    "start_time": "2024-09-29T15:20:58.118Z"
   },
   {
    "duration": 278,
    "start_time": "2024-09-29T15:21:36.010Z"
   },
   {
    "duration": 1148,
    "start_time": "2024-09-29T15:21:41.329Z"
   },
   {
    "duration": 70,
    "start_time": "2024-09-29T15:21:42.479Z"
   },
   {
    "duration": 13,
    "start_time": "2024-09-29T15:21:42.551Z"
   },
   {
    "duration": 11,
    "start_time": "2024-09-29T15:21:42.566Z"
   },
   {
    "duration": 12,
    "start_time": "2024-09-29T15:21:42.578Z"
   },
   {
    "duration": 10,
    "start_time": "2024-09-29T15:21:42.591Z"
   },
   {
    "duration": 15,
    "start_time": "2024-09-29T15:21:42.603Z"
   },
   {
    "duration": 17,
    "start_time": "2024-09-29T15:21:42.619Z"
   },
   {
    "duration": 15,
    "start_time": "2024-09-29T15:21:42.637Z"
   },
   {
    "duration": 5,
    "start_time": "2024-09-29T15:21:42.654Z"
   },
   {
    "duration": 6,
    "start_time": "2024-09-29T15:21:42.660Z"
   },
   {
    "duration": 12,
    "start_time": "2024-09-29T15:21:42.667Z"
   },
   {
    "duration": 8,
    "start_time": "2024-09-29T15:21:42.680Z"
   },
   {
    "duration": 5,
    "start_time": "2024-09-29T15:21:42.689Z"
   },
   {
    "duration": 21,
    "start_time": "2024-09-29T15:21:42.695Z"
   },
   {
    "duration": 7,
    "start_time": "2024-09-29T15:21:42.718Z"
   },
   {
    "duration": 5,
    "start_time": "2024-09-29T15:21:42.726Z"
   },
   {
    "duration": 225,
    "start_time": "2024-09-29T15:21:42.732Z"
   },
   {
    "duration": 132,
    "start_time": "2024-09-29T15:21:42.959Z"
   },
   {
    "duration": 214,
    "start_time": "2024-09-29T15:21:43.092Z"
   },
   {
    "duration": 18,
    "start_time": "2024-09-29T15:21:43.308Z"
   },
   {
    "duration": 229,
    "start_time": "2024-09-29T15:21:43.328Z"
   },
   {
    "duration": 220,
    "start_time": "2024-09-29T15:21:43.558Z"
   },
   {
    "duration": 10,
    "start_time": "2024-09-29T15:21:43.780Z"
   },
   {
    "duration": 25,
    "start_time": "2024-09-29T15:21:43.791Z"
   },
   {
    "duration": 38,
    "start_time": "2024-09-29T15:21:43.817Z"
   },
   {
    "duration": 56,
    "start_time": "2024-09-29T15:21:43.856Z"
   },
   {
    "duration": 47,
    "start_time": "2024-09-29T15:21:43.915Z"
   },
   {
    "duration": 20,
    "start_time": "2024-09-29T15:21:43.964Z"
   },
   {
    "duration": 274,
    "start_time": "2024-09-29T15:21:43.986Z"
   },
   {
    "duration": 285,
    "start_time": "2024-09-29T15:21:44.262Z"
   },
   {
    "duration": 5,
    "start_time": "2024-09-29T15:21:44.549Z"
   },
   {
    "duration": 21,
    "start_time": "2024-09-29T15:21:44.556Z"
   },
   {
    "duration": 62,
    "start_time": "2024-09-29T15:21:44.578Z"
   },
   {
    "duration": 120,
    "start_time": "2024-09-29T15:21:44.641Z"
   },
   {
    "duration": 6,
    "start_time": "2024-09-29T15:21:44.763Z"
   },
   {
    "duration": 6,
    "start_time": "2024-09-29T15:21:44.771Z"
   },
   {
    "duration": 6,
    "start_time": "2024-09-29T15:21:44.779Z"
   },
   {
    "duration": 29,
    "start_time": "2024-09-29T15:21:44.787Z"
   },
   {
    "duration": 154,
    "start_time": "2024-09-29T15:21:44.817Z"
   },
   {
    "duration": 4,
    "start_time": "2024-09-29T15:21:44.973Z"
   },
   {
    "duration": 20,
    "start_time": "2024-09-29T15:21:44.979Z"
   },
   {
    "duration": 5,
    "start_time": "2024-09-29T15:22:07.872Z"
   },
   {
    "duration": 264,
    "start_time": "2024-09-29T15:22:12.107Z"
   },
   {
    "duration": 266,
    "start_time": "2024-09-29T15:22:15.256Z"
   },
   {
    "duration": 269,
    "start_time": "2024-09-29T15:22:17.903Z"
   },
   {
    "duration": 4,
    "start_time": "2024-09-29T15:22:24.551Z"
   },
   {
    "duration": 258,
    "start_time": "2024-09-29T15:22:29.770Z"
   },
   {
    "duration": 24,
    "start_time": "2024-09-29T15:22:34.854Z"
   },
   {
    "duration": 22,
    "start_time": "2024-09-29T15:22:37.552Z"
   },
   {
    "duration": 268,
    "start_time": "2024-09-29T15:22:41.382Z"
   },
   {
    "duration": 1437,
    "start_time": "2024-10-01T17:18:40.506Z"
   },
   {
    "duration": 286,
    "start_time": "2024-10-01T17:18:41.945Z"
   },
   {
    "duration": 16,
    "start_time": "2024-10-01T17:18:42.236Z"
   },
   {
    "duration": 12,
    "start_time": "2024-10-01T17:18:42.254Z"
   },
   {
    "duration": 10,
    "start_time": "2024-10-01T17:18:42.268Z"
   },
   {
    "duration": 12,
    "start_time": "2024-10-01T17:18:42.280Z"
   },
   {
    "duration": 7,
    "start_time": "2024-10-01T17:18:42.293Z"
   },
   {
    "duration": 54,
    "start_time": "2024-10-01T17:18:42.302Z"
   },
   {
    "duration": 16,
    "start_time": "2024-10-01T17:18:42.359Z"
   },
   {
    "duration": 8,
    "start_time": "2024-10-01T17:18:42.377Z"
   },
   {
    "duration": 8,
    "start_time": "2024-10-01T17:18:42.388Z"
   },
   {
    "duration": 9,
    "start_time": "2024-10-01T17:18:42.398Z"
   },
   {
    "duration": 7,
    "start_time": "2024-10-01T17:18:42.409Z"
   },
   {
    "duration": 38,
    "start_time": "2024-10-01T17:18:42.418Z"
   },
   {
    "duration": 6,
    "start_time": "2024-10-01T17:18:42.459Z"
   },
   {
    "duration": 7,
    "start_time": "2024-10-01T17:18:42.467Z"
   },
   {
    "duration": 16,
    "start_time": "2024-10-01T17:18:42.476Z"
   },
   {
    "duration": 219,
    "start_time": "2024-10-01T17:18:42.494Z"
   },
   {
    "duration": 155,
    "start_time": "2024-10-01T17:18:42.714Z"
   },
   {
    "duration": 234,
    "start_time": "2024-10-01T17:18:42.870Z"
   },
   {
    "duration": 16,
    "start_time": "2024-10-01T17:18:43.106Z"
   },
   {
    "duration": 318,
    "start_time": "2024-10-01T17:18:43.124Z"
   },
   {
    "duration": 239,
    "start_time": "2024-10-01T17:18:43.443Z"
   },
   {
    "duration": 10,
    "start_time": "2024-10-01T17:18:43.684Z"
   },
   {
    "duration": 30,
    "start_time": "2024-10-01T17:18:43.696Z"
   },
   {
    "duration": 20,
    "start_time": "2024-10-01T17:18:43.727Z"
   },
   {
    "duration": 5,
    "start_time": "2024-10-01T17:18:43.755Z"
   },
   {
    "duration": 35,
    "start_time": "2024-10-01T17:18:43.761Z"
   },
   {
    "duration": 22,
    "start_time": "2024-10-01T17:18:43.798Z"
   },
   {
    "duration": 307,
    "start_time": "2024-10-01T17:18:43.822Z"
   },
   {
    "duration": 322,
    "start_time": "2024-10-01T17:18:44.131Z"
   },
   {
    "duration": 6,
    "start_time": "2024-10-01T17:18:44.455Z"
   },
   {
    "duration": 25,
    "start_time": "2024-10-01T17:18:44.462Z"
   },
   {
    "duration": 41,
    "start_time": "2024-10-01T17:18:44.488Z"
   },
   {
    "duration": 146,
    "start_time": "2024-10-01T17:18:44.530Z"
   },
   {
    "duration": 6,
    "start_time": "2024-10-01T17:18:44.678Z"
   },
   {
    "duration": 11,
    "start_time": "2024-10-01T17:18:44.685Z"
   },
   {
    "duration": 7,
    "start_time": "2024-10-01T17:18:44.698Z"
   },
   {
    "duration": 9,
    "start_time": "2024-10-01T17:18:44.707Z"
   },
   {
    "duration": 183,
    "start_time": "2024-10-01T17:18:44.717Z"
   },
   {
    "duration": 6,
    "start_time": "2024-10-01T17:18:44.901Z"
   },
   {
    "duration": 30,
    "start_time": "2024-10-01T17:18:44.908Z"
   },
   {
    "duration": 173,
    "start_time": "2024-10-01T17:19:06.670Z"
   },
   {
    "duration": 24,
    "start_time": "2024-10-01T17:23:03.101Z"
   },
   {
    "duration": 6,
    "start_time": "2024-10-01T17:28:27.840Z"
   },
   {
    "duration": 181,
    "start_time": "2024-10-01T17:28:45.695Z"
   },
   {
    "duration": 263,
    "start_time": "2024-10-01T17:28:52.335Z"
   },
   {
    "duration": 7,
    "start_time": "2024-10-01T17:29:05.211Z"
   },
   {
    "duration": 5,
    "start_time": "2024-10-01T17:29:08.837Z"
   },
   {
    "duration": 1246,
    "start_time": "2024-10-02T07:13:38.266Z"
   },
   {
    "duration": 278,
    "start_time": "2024-10-02T07:13:39.513Z"
   },
   {
    "duration": 13,
    "start_time": "2024-10-02T07:13:39.793Z"
   },
   {
    "duration": 11,
    "start_time": "2024-10-02T07:13:39.809Z"
   },
   {
    "duration": 23,
    "start_time": "2024-10-02T07:13:39.822Z"
   },
   {
    "duration": 11,
    "start_time": "2024-10-02T07:13:39.847Z"
   },
   {
    "duration": 7,
    "start_time": "2024-10-02T07:13:39.860Z"
   },
   {
    "duration": 9,
    "start_time": "2024-10-02T07:13:39.869Z"
   },
   {
    "duration": 79,
    "start_time": "2024-10-02T07:13:39.880Z"
   },
   {
    "duration": 3,
    "start_time": "2024-10-02T07:13:39.962Z"
   },
   {
    "duration": 8,
    "start_time": "2024-10-02T07:13:39.967Z"
   },
   {
    "duration": 7,
    "start_time": "2024-10-02T07:13:39.977Z"
   },
   {
    "duration": 6,
    "start_time": "2024-10-02T07:13:39.985Z"
   },
   {
    "duration": 8,
    "start_time": "2024-10-02T07:13:39.993Z"
   },
   {
    "duration": 33,
    "start_time": "2024-10-02T07:13:40.002Z"
   },
   {
    "duration": 24,
    "start_time": "2024-10-02T07:13:40.037Z"
   },
   {
    "duration": 11,
    "start_time": "2024-10-02T07:13:40.062Z"
   },
   {
    "duration": 174,
    "start_time": "2024-10-02T07:13:40.075Z"
   },
   {
    "duration": 117,
    "start_time": "2024-10-02T07:13:40.251Z"
   },
   {
    "duration": 206,
    "start_time": "2024-10-02T07:13:40.370Z"
   },
   {
    "duration": 13,
    "start_time": "2024-10-02T07:13:40.577Z"
   },
   {
    "duration": 353,
    "start_time": "2024-10-02T07:13:40.591Z"
   },
   {
    "duration": 204,
    "start_time": "2024-10-02T07:13:40.946Z"
   },
   {
    "duration": 11,
    "start_time": "2024-10-02T07:13:41.151Z"
   },
   {
    "duration": 19,
    "start_time": "2024-10-02T07:13:41.163Z"
   },
   {
    "duration": 17,
    "start_time": "2024-10-02T07:13:41.183Z"
   },
   {
    "duration": 6,
    "start_time": "2024-10-02T07:13:41.207Z"
   },
   {
    "duration": 30,
    "start_time": "2024-10-02T07:13:41.216Z"
   },
   {
    "duration": 24,
    "start_time": "2024-10-02T07:13:41.247Z"
   },
   {
    "duration": 252,
    "start_time": "2024-10-02T07:13:41.273Z"
   },
   {
    "duration": 292,
    "start_time": "2024-10-02T07:13:41.526Z"
   },
   {
    "duration": 4,
    "start_time": "2024-10-02T07:13:41.820Z"
   },
   {
    "duration": 37,
    "start_time": "2024-10-02T07:13:41.825Z"
   },
   {
    "duration": 41,
    "start_time": "2024-10-02T07:13:41.863Z"
   },
   {
    "duration": 153,
    "start_time": "2024-10-02T07:13:41.905Z"
   },
   {
    "duration": 6,
    "start_time": "2024-10-02T07:13:42.059Z"
   },
   {
    "duration": 15,
    "start_time": "2024-10-02T07:13:42.067Z"
   },
   {
    "duration": 24,
    "start_time": "2024-10-02T07:13:42.084Z"
   },
   {
    "duration": 233,
    "start_time": "2024-10-02T07:13:42.109Z"
   },
   {
    "duration": 6,
    "start_time": "2024-10-02T07:13:42.343Z"
   },
   {
    "duration": 213,
    "start_time": "2024-10-02T07:15:56.652Z"
   },
   {
    "duration": 185,
    "start_time": "2024-10-02T07:15:59.379Z"
   },
   {
    "duration": 1056,
    "start_time": "2024-10-02T07:24:45.138Z"
   },
   {
    "duration": 64,
    "start_time": "2024-10-02T07:24:46.195Z"
   },
   {
    "duration": 10,
    "start_time": "2024-10-02T07:24:46.260Z"
   },
   {
    "duration": 10,
    "start_time": "2024-10-02T07:24:46.272Z"
   },
   {
    "duration": 16,
    "start_time": "2024-10-02T07:24:46.283Z"
   },
   {
    "duration": 10,
    "start_time": "2024-10-02T07:24:46.300Z"
   },
   {
    "duration": 7,
    "start_time": "2024-10-02T07:24:46.311Z"
   },
   {
    "duration": 14,
    "start_time": "2024-10-02T07:24:46.320Z"
   },
   {
    "duration": 35,
    "start_time": "2024-10-02T07:24:46.335Z"
   },
   {
    "duration": 3,
    "start_time": "2024-10-02T07:24:46.373Z"
   },
   {
    "duration": 30,
    "start_time": "2024-10-02T07:24:46.378Z"
   },
   {
    "duration": 19,
    "start_time": "2024-10-02T07:24:46.409Z"
   },
   {
    "duration": 7,
    "start_time": "2024-10-02T07:24:46.429Z"
   },
   {
    "duration": 10,
    "start_time": "2024-10-02T07:24:46.437Z"
   },
   {
    "duration": 21,
    "start_time": "2024-10-02T07:24:46.448Z"
   },
   {
    "duration": 28,
    "start_time": "2024-10-02T07:24:46.470Z"
   },
   {
    "duration": 15,
    "start_time": "2024-10-02T07:24:46.499Z"
   },
   {
    "duration": 163,
    "start_time": "2024-10-02T07:24:46.515Z"
   },
   {
    "duration": 120,
    "start_time": "2024-10-02T07:24:46.679Z"
   },
   {
    "duration": 181,
    "start_time": "2024-10-02T07:24:46.800Z"
   },
   {
    "duration": 13,
    "start_time": "2024-10-02T07:24:46.982Z"
   },
   {
    "duration": 199,
    "start_time": "2024-10-02T07:24:46.996Z"
   },
   {
    "duration": 212,
    "start_time": "2024-10-02T07:24:47.197Z"
   },
   {
    "duration": 9,
    "start_time": "2024-10-02T07:24:47.410Z"
   },
   {
    "duration": 8,
    "start_time": "2024-10-02T07:24:47.420Z"
   },
   {
    "duration": 16,
    "start_time": "2024-10-02T07:24:47.429Z"
   },
   {
    "duration": 4,
    "start_time": "2024-10-02T07:24:47.446Z"
   },
   {
    "duration": 41,
    "start_time": "2024-10-02T07:24:47.453Z"
   },
   {
    "duration": 24,
    "start_time": "2024-10-02T07:24:47.495Z"
   },
   {
    "duration": 226,
    "start_time": "2024-10-02T07:24:47.521Z"
   },
   {
    "duration": 236,
    "start_time": "2024-10-02T07:24:47.749Z"
   },
   {
    "duration": 5,
    "start_time": "2024-10-02T07:24:47.987Z"
   },
   {
    "duration": 37,
    "start_time": "2024-10-02T07:24:47.993Z"
   },
   {
    "duration": 32,
    "start_time": "2024-10-02T07:24:48.032Z"
   },
   {
    "duration": 97,
    "start_time": "2024-10-02T07:24:48.066Z"
   },
   {
    "duration": 5,
    "start_time": "2024-10-02T07:24:48.165Z"
   },
   {
    "duration": 68,
    "start_time": "2024-10-02T07:24:48.172Z"
   },
   {
    "duration": 17,
    "start_time": "2024-10-02T07:24:48.241Z"
   },
   {
    "duration": 216,
    "start_time": "2024-10-02T07:24:48.260Z"
   },
   {
    "duration": 5,
    "start_time": "2024-10-02T07:24:48.477Z"
   },
   {
    "duration": 1137,
    "start_time": "2024-10-02T07:25:07.473Z"
   },
   {
    "duration": 63,
    "start_time": "2024-10-02T07:25:08.612Z"
   },
   {
    "duration": 130,
    "start_time": "2024-10-02T07:25:08.677Z"
   },
   {
    "duration": 20,
    "start_time": "2024-10-02T07:25:08.809Z"
   },
   {
    "duration": 30,
    "start_time": "2024-10-02T07:25:08.830Z"
   },
   {
    "duration": 38,
    "start_time": "2024-10-02T07:25:08.861Z"
   },
   {
    "duration": 19,
    "start_time": "2024-10-02T07:25:08.900Z"
   },
   {
    "duration": 11,
    "start_time": "2024-10-02T07:25:08.920Z"
   },
   {
    "duration": 14,
    "start_time": "2024-10-02T07:25:08.932Z"
   },
   {
    "duration": 6,
    "start_time": "2024-10-02T07:25:08.948Z"
   },
   {
    "duration": 19,
    "start_time": "2024-10-02T07:25:08.955Z"
   },
   {
    "duration": 9,
    "start_time": "2024-10-02T07:25:08.975Z"
   },
   {
    "duration": 41,
    "start_time": "2024-10-02T07:25:08.985Z"
   },
   {
    "duration": 12,
    "start_time": "2024-10-02T07:25:09.027Z"
   },
   {
    "duration": 5,
    "start_time": "2024-10-02T07:25:09.040Z"
   },
   {
    "duration": 7,
    "start_time": "2024-10-02T07:25:09.046Z"
   },
   {
    "duration": 5,
    "start_time": "2024-10-02T07:25:09.054Z"
   },
   {
    "duration": 169,
    "start_time": "2024-10-02T07:25:09.060Z"
   },
   {
    "duration": 112,
    "start_time": "2024-10-02T07:25:09.230Z"
   },
   {
    "duration": 179,
    "start_time": "2024-10-02T07:25:09.343Z"
   },
   {
    "duration": 12,
    "start_time": "2024-10-02T07:25:09.523Z"
   },
   {
    "duration": 203,
    "start_time": "2024-10-02T07:25:09.536Z"
   },
   {
    "duration": 197,
    "start_time": "2024-10-02T07:25:09.741Z"
   },
   {
    "duration": 9,
    "start_time": "2024-10-02T07:25:09.939Z"
   },
   {
    "duration": 40,
    "start_time": "2024-10-02T07:25:09.950Z"
   },
   {
    "duration": 16,
    "start_time": "2024-10-02T07:25:09.992Z"
   },
   {
    "duration": 4,
    "start_time": "2024-10-02T07:25:10.009Z"
   },
   {
    "duration": 28,
    "start_time": "2024-10-02T07:25:10.016Z"
   },
   {
    "duration": 18,
    "start_time": "2024-10-02T07:25:10.046Z"
   },
   {
    "duration": 265,
    "start_time": "2024-10-02T07:25:10.065Z"
   },
   {
    "duration": 230,
    "start_time": "2024-10-02T07:25:10.331Z"
   },
   {
    "duration": 4,
    "start_time": "2024-10-02T07:25:10.562Z"
   },
   {
    "duration": 17,
    "start_time": "2024-10-02T07:25:10.567Z"
   },
   {
    "duration": 43,
    "start_time": "2024-10-02T07:25:10.586Z"
   },
   {
    "duration": 92,
    "start_time": "2024-10-02T07:25:10.630Z"
   },
   {
    "duration": 81,
    "start_time": "2024-10-02T07:25:10.723Z"
   },
   {
    "duration": 10,
    "start_time": "2024-10-02T07:25:10.805Z"
   },
   {
    "duration": 14,
    "start_time": "2024-10-02T07:25:10.816Z"
   },
   {
    "duration": 207,
    "start_time": "2024-10-02T07:25:10.831Z"
   },
   {
    "duration": 4,
    "start_time": "2024-10-02T07:25:11.039Z"
   },
   {
    "duration": 1461,
    "start_time": "2024-10-02T11:54:02.253Z"
   },
   {
    "duration": 272,
    "start_time": "2024-10-02T11:54:03.717Z"
   },
   {
    "duration": 14,
    "start_time": "2024-10-02T11:54:03.990Z"
   },
   {
    "duration": 48,
    "start_time": "2024-10-02T11:54:04.006Z"
   },
   {
    "duration": 44,
    "start_time": "2024-10-02T11:54:04.055Z"
   },
   {
    "duration": 26,
    "start_time": "2024-10-02T11:54:04.100Z"
   },
   {
    "duration": 7,
    "start_time": "2024-10-02T11:54:04.128Z"
   },
   {
    "duration": 68,
    "start_time": "2024-10-02T11:54:04.137Z"
   },
   {
    "duration": 54,
    "start_time": "2024-10-02T11:54:04.207Z"
   },
   {
    "duration": 26,
    "start_time": "2024-10-02T11:54:04.264Z"
   },
   {
    "duration": 10,
    "start_time": "2024-10-02T11:54:04.291Z"
   },
   {
    "duration": 6,
    "start_time": "2024-10-02T11:54:04.302Z"
   },
   {
    "duration": 8,
    "start_time": "2024-10-02T11:54:04.310Z"
   },
   {
    "duration": 19,
    "start_time": "2024-10-02T11:54:04.320Z"
   },
   {
    "duration": 28,
    "start_time": "2024-10-02T11:54:04.340Z"
   },
   {
    "duration": 13,
    "start_time": "2024-10-02T11:54:04.369Z"
   },
   {
    "duration": 19,
    "start_time": "2024-10-02T11:54:04.383Z"
   },
   {
    "duration": 255,
    "start_time": "2024-10-02T11:54:04.403Z"
   },
   {
    "duration": 0,
    "start_time": "2024-10-02T11:54:04.660Z"
   },
   {
    "duration": 0,
    "start_time": "2024-10-02T11:54:04.661Z"
   },
   {
    "duration": 0,
    "start_time": "2024-10-02T11:54:04.663Z"
   },
   {
    "duration": 0,
    "start_time": "2024-10-02T11:54:04.664Z"
   },
   {
    "duration": 0,
    "start_time": "2024-10-02T11:54:04.665Z"
   },
   {
    "duration": 1,
    "start_time": "2024-10-02T11:54:04.666Z"
   },
   {
    "duration": 0,
    "start_time": "2024-10-02T11:54:04.668Z"
   },
   {
    "duration": 0,
    "start_time": "2024-10-02T11:54:04.669Z"
   },
   {
    "duration": 0,
    "start_time": "2024-10-02T11:54:04.670Z"
   },
   {
    "duration": 0,
    "start_time": "2024-10-02T11:54:04.671Z"
   },
   {
    "duration": 0,
    "start_time": "2024-10-02T11:54:04.672Z"
   },
   {
    "duration": 0,
    "start_time": "2024-10-02T11:54:04.673Z"
   },
   {
    "duration": 0,
    "start_time": "2024-10-02T11:54:04.674Z"
   },
   {
    "duration": 0,
    "start_time": "2024-10-02T11:54:04.676Z"
   },
   {
    "duration": 0,
    "start_time": "2024-10-02T11:54:04.677Z"
   },
   {
    "duration": 0,
    "start_time": "2024-10-02T11:54:04.678Z"
   },
   {
    "duration": 0,
    "start_time": "2024-10-02T11:54:04.679Z"
   },
   {
    "duration": 0,
    "start_time": "2024-10-02T11:54:04.680Z"
   },
   {
    "duration": 0,
    "start_time": "2024-10-02T11:54:04.681Z"
   },
   {
    "duration": 0,
    "start_time": "2024-10-02T11:54:04.682Z"
   },
   {
    "duration": 0,
    "start_time": "2024-10-02T11:54:04.683Z"
   },
   {
    "duration": 0,
    "start_time": "2024-10-02T11:54:04.684Z"
   },
   {
    "duration": 13,
    "start_time": "2024-10-02T11:54:21.219Z"
   },
   {
    "duration": 149,
    "start_time": "2024-10-02T11:54:27.855Z"
   },
   {
    "duration": 180,
    "start_time": "2024-10-02T11:54:48.863Z"
   },
   {
    "duration": 169,
    "start_time": "2024-10-02T11:55:17.697Z"
   },
   {
    "duration": 166,
    "start_time": "2024-10-02T11:55:28.217Z"
   },
   {
    "duration": 168,
    "start_time": "2024-10-02T11:55:38.351Z"
   },
   {
    "duration": 12,
    "start_time": "2024-10-02T11:58:06.378Z"
   },
   {
    "duration": 16,
    "start_time": "2024-10-02T11:59:13.497Z"
   },
   {
    "duration": 5,
    "start_time": "2024-10-02T11:59:57.200Z"
   },
   {
    "duration": 957,
    "start_time": "2024-10-02T12:00:06.319Z"
   },
   {
    "duration": 5,
    "start_time": "2024-10-02T12:00:10.115Z"
   },
   {
    "duration": 13,
    "start_time": "2024-10-02T12:00:30.203Z"
   },
   {
    "duration": 15,
    "start_time": "2024-10-02T12:01:07.161Z"
   },
   {
    "duration": 13,
    "start_time": "2024-10-02T12:01:15.530Z"
   },
   {
    "duration": 11,
    "start_time": "2024-10-02T12:01:22.987Z"
   },
   {
    "duration": 7,
    "start_time": "2024-10-02T12:12:48.064Z"
   },
   {
    "duration": 7,
    "start_time": "2024-10-02T12:12:56.188Z"
   },
   {
    "duration": 14,
    "start_time": "2024-10-02T12:13:47.310Z"
   },
   {
    "duration": 174,
    "start_time": "2024-10-02T12:15:56.038Z"
   },
   {
    "duration": 13,
    "start_time": "2024-10-02T12:16:16.847Z"
   },
   {
    "duration": 13,
    "start_time": "2024-10-02T12:16:22.961Z"
   },
   {
    "duration": 166,
    "start_time": "2024-10-02T12:16:25.310Z"
   },
   {
    "duration": 258,
    "start_time": "2024-10-02T12:16:46.711Z"
   },
   {
    "duration": 178,
    "start_time": "2024-10-02T12:17:03.918Z"
   },
   {
    "duration": 202,
    "start_time": "2024-10-02T12:17:35.711Z"
   },
   {
    "duration": 195,
    "start_time": "2024-10-02T12:17:54.465Z"
   },
   {
    "duration": 124,
    "start_time": "2024-10-02T12:21:03.744Z"
   },
   {
    "duration": 148,
    "start_time": "2024-10-02T12:21:27.680Z"
   },
   {
    "duration": 267,
    "start_time": "2024-10-02T12:21:49.513Z"
   },
   {
    "duration": 256,
    "start_time": "2024-10-02T12:22:00.361Z"
   },
   {
    "duration": 14,
    "start_time": "2024-10-02T12:23:34.330Z"
   },
   {
    "duration": 255,
    "start_time": "2024-10-02T12:23:51.122Z"
   },
   {
    "duration": 12,
    "start_time": "2024-10-02T12:25:06.411Z"
   },
   {
    "duration": 5,
    "start_time": "2024-10-02T12:25:13.986Z"
   },
   {
    "duration": 273,
    "start_time": "2024-10-02T12:25:31.754Z"
   },
   {
    "duration": 4,
    "start_time": "2024-10-02T12:25:36.145Z"
   },
   {
    "duration": 263,
    "start_time": "2024-10-02T12:25:38.536Z"
   },
   {
    "duration": 6,
    "start_time": "2024-10-02T12:25:50.810Z"
   },
   {
    "duration": 10,
    "start_time": "2024-10-02T12:27:00.195Z"
   },
   {
    "duration": 5,
    "start_time": "2024-10-02T12:27:06.299Z"
   },
   {
    "duration": 5,
    "start_time": "2024-10-02T12:27:17.818Z"
   },
   {
    "duration": 265,
    "start_time": "2024-10-02T12:28:03.443Z"
   },
   {
    "duration": 132,
    "start_time": "2024-10-02T12:28:09.618Z"
   },
   {
    "duration": 181,
    "start_time": "2024-10-02T12:28:16.891Z"
   },
   {
    "duration": 62,
    "start_time": "2024-10-02T12:28:19.978Z"
   },
   {
    "duration": 67,
    "start_time": "2024-10-02T12:28:43.850Z"
   },
   {
    "duration": 70,
    "start_time": "2024-10-02T12:29:02.914Z"
   },
   {
    "duration": 68,
    "start_time": "2024-10-02T12:29:20.380Z"
   },
   {
    "duration": 77,
    "start_time": "2024-10-02T12:30:13.308Z"
   },
   {
    "duration": 14,
    "start_time": "2024-10-02T12:38:51.773Z"
   },
   {
    "duration": 24,
    "start_time": "2024-10-02T12:39:05.684Z"
   },
   {
    "duration": 262,
    "start_time": "2024-10-02T12:39:23.543Z"
   },
   {
    "duration": 242,
    "start_time": "2024-10-02T12:39:37.647Z"
   },
   {
    "duration": 219,
    "start_time": "2024-10-02T12:39:41.765Z"
   },
   {
    "duration": 11,
    "start_time": "2024-10-02T12:40:29.351Z"
   },
   {
    "duration": 12,
    "start_time": "2024-10-02T12:40:34.783Z"
   },
   {
    "duration": 14,
    "start_time": "2024-10-02T12:43:05.133Z"
   },
   {
    "duration": 13,
    "start_time": "2024-10-02T12:43:14.655Z"
   },
   {
    "duration": 11,
    "start_time": "2024-10-02T12:43:32.280Z"
   },
   {
    "duration": 13,
    "start_time": "2024-10-02T12:43:45.597Z"
   },
   {
    "duration": 14,
    "start_time": "2024-10-02T12:44:19.537Z"
   },
   {
    "duration": 14,
    "start_time": "2024-10-02T12:44:37.278Z"
   },
   {
    "duration": 4,
    "start_time": "2024-10-02T12:44:47.254Z"
   },
   {
    "duration": 4,
    "start_time": "2024-10-02T12:44:49.592Z"
   },
   {
    "duration": 237,
    "start_time": "2024-10-02T12:45:04.647Z"
   },
   {
    "duration": 356,
    "start_time": "2024-10-02T12:45:11.167Z"
   },
   {
    "duration": 15,
    "start_time": "2024-10-02T12:45:45.895Z"
   },
   {
    "duration": 11,
    "start_time": "2024-10-02T12:46:02.862Z"
   },
   {
    "duration": 1166,
    "start_time": "2024-10-02T12:46:08.590Z"
   },
   {
    "duration": 70,
    "start_time": "2024-10-02T12:46:09.758Z"
   },
   {
    "duration": 14,
    "start_time": "2024-10-02T12:46:09.830Z"
   },
   {
    "duration": 11,
    "start_time": "2024-10-02T12:46:09.847Z"
   },
   {
    "duration": 13,
    "start_time": "2024-10-02T12:46:09.860Z"
   },
   {
    "duration": 16,
    "start_time": "2024-10-02T12:46:09.875Z"
   },
   {
    "duration": 8,
    "start_time": "2024-10-02T12:46:09.893Z"
   },
   {
    "duration": 39,
    "start_time": "2024-10-02T12:46:09.903Z"
   },
   {
    "duration": 9,
    "start_time": "2024-10-02T12:46:09.945Z"
   },
   {
    "duration": 133,
    "start_time": "2024-10-02T12:46:09.957Z"
   },
   {
    "duration": 6,
    "start_time": "2024-10-02T12:46:10.092Z"
   },
   {
    "duration": 29,
    "start_time": "2024-10-02T12:46:10.099Z"
   },
   {
    "duration": 6,
    "start_time": "2024-10-02T12:46:10.129Z"
   },
   {
    "duration": 5,
    "start_time": "2024-10-02T12:46:10.137Z"
   },
   {
    "duration": 5,
    "start_time": "2024-10-02T12:46:10.143Z"
   },
   {
    "duration": 4,
    "start_time": "2024-10-02T12:46:10.150Z"
   },
   {
    "duration": 4,
    "start_time": "2024-10-02T12:46:10.156Z"
   },
   {
    "duration": 13,
    "start_time": "2024-10-02T12:46:10.162Z"
   },
   {
    "duration": 14,
    "start_time": "2024-10-02T12:46:10.177Z"
   },
   {
    "duration": 254,
    "start_time": "2024-10-02T12:46:10.192Z"
   },
   {
    "duration": 6,
    "start_time": "2024-10-02T12:46:10.448Z"
   },
   {
    "duration": 96,
    "start_time": "2024-10-02T12:46:10.455Z"
   },
   {
    "duration": 195,
    "start_time": "2024-10-02T12:46:10.552Z"
   },
   {
    "duration": 29,
    "start_time": "2024-10-02T12:46:10.750Z"
   },
   {
    "duration": 237,
    "start_time": "2024-10-02T12:46:10.782Z"
   },
   {
    "duration": 14,
    "start_time": "2024-10-02T12:46:11.021Z"
   },
   {
    "duration": 199,
    "start_time": "2024-10-02T12:46:11.043Z"
   },
   {
    "duration": 189,
    "start_time": "2024-10-02T12:46:11.246Z"
   },
   {
    "duration": 10,
    "start_time": "2024-10-02T12:46:11.436Z"
   },
   {
    "duration": 9,
    "start_time": "2024-10-02T12:46:11.448Z"
   },
   {
    "duration": 18,
    "start_time": "2024-10-02T12:46:11.459Z"
   },
   {
    "duration": 4,
    "start_time": "2024-10-02T12:46:11.479Z"
   },
   {
    "duration": 25,
    "start_time": "2024-10-02T12:46:11.484Z"
   },
   {
    "duration": 49,
    "start_time": "2024-10-02T12:46:11.511Z"
   },
   {
    "duration": 241,
    "start_time": "2024-10-02T12:46:11.562Z"
   },
   {
    "duration": 360,
    "start_time": "2024-10-02T12:46:11.804Z"
   },
   {
    "duration": 5,
    "start_time": "2024-10-02T12:46:12.166Z"
   },
   {
    "duration": 27,
    "start_time": "2024-10-02T12:46:12.172Z"
   },
   {
    "duration": 100,
    "start_time": "2024-10-02T12:46:12.201Z"
   },
   {
    "duration": 37,
    "start_time": "2024-10-02T12:46:12.303Z"
   },
   {
    "duration": 6,
    "start_time": "2024-10-02T12:46:12.342Z"
   },
   {
    "duration": 77,
    "start_time": "2024-10-02T12:46:12.349Z"
   },
   {
    "duration": 7,
    "start_time": "2024-10-02T12:46:12.428Z"
   },
   {
    "duration": 241,
    "start_time": "2024-10-02T12:46:12.437Z"
   },
   {
    "duration": 5,
    "start_time": "2024-10-02T12:46:12.679Z"
   },
   {
    "duration": 22,
    "start_time": "2024-10-02T12:46:52.089Z"
   },
   {
    "duration": 6,
    "start_time": "2024-10-02T12:48:42.506Z"
   },
   {
    "duration": 101,
    "start_time": "2024-10-02T12:50:21.160Z"
   },
   {
    "duration": 22,
    "start_time": "2024-10-02T12:51:24.234Z"
   },
   {
    "duration": 8,
    "start_time": "2024-10-02T12:51:43.266Z"
   },
   {
    "duration": 29,
    "start_time": "2024-10-02T12:51:49.004Z"
   },
   {
    "duration": 6,
    "start_time": "2024-10-02T12:51:52.090Z"
   },
   {
    "duration": 6,
    "start_time": "2024-10-02T12:52:10.434Z"
   },
   {
    "duration": 81,
    "start_time": "2024-10-02T12:55:04.020Z"
   },
   {
    "duration": 8,
    "start_time": "2024-10-02T12:57:34.004Z"
   },
   {
    "duration": 85,
    "start_time": "2024-10-02T12:58:15.683Z"
   },
   {
    "duration": 118,
    "start_time": "2024-10-02T12:59:01.041Z"
   },
   {
    "duration": 115,
    "start_time": "2024-10-02T12:59:19.770Z"
   },
   {
    "duration": 81,
    "start_time": "2024-10-02T12:59:23.621Z"
   },
   {
    "duration": 6,
    "start_time": "2024-10-02T12:59:35.123Z"
   },
   {
    "duration": 117,
    "start_time": "2024-10-02T12:59:50.236Z"
   },
   {
    "duration": 84,
    "start_time": "2024-10-02T13:00:05.620Z"
   },
   {
    "duration": 84,
    "start_time": "2024-10-02T13:01:00.605Z"
   },
   {
    "duration": 15,
    "start_time": "2024-10-02T13:02:52.348Z"
   },
   {
    "duration": 198,
    "start_time": "2024-10-02T13:03:39.966Z"
   },
   {
    "duration": 254,
    "start_time": "2024-10-02T13:03:53.469Z"
   },
   {
    "duration": 198,
    "start_time": "2024-10-02T13:04:02.517Z"
   },
   {
    "duration": 238,
    "start_time": "2024-10-02T13:21:47.353Z"
   },
   {
    "duration": 197,
    "start_time": "2024-10-02T13:27:24.932Z"
   },
   {
    "duration": 232,
    "start_time": "2024-10-02T13:28:02.365Z"
   },
   {
    "duration": 193,
    "start_time": "2024-10-02T13:29:45.317Z"
   },
   {
    "duration": 194,
    "start_time": "2024-10-02T13:29:49.517Z"
   },
   {
    "duration": 209,
    "start_time": "2024-10-02T13:30:50.654Z"
   },
   {
    "duration": 194,
    "start_time": "2024-10-02T13:30:57.293Z"
   },
   {
    "duration": 917,
    "start_time": "2024-10-02T13:31:23.562Z"
   },
   {
    "duration": 242,
    "start_time": "2024-10-02T13:31:39.767Z"
   },
   {
    "duration": 290,
    "start_time": "2024-10-02T13:31:44.390Z"
   },
   {
    "duration": 4,
    "start_time": "2024-10-02T13:34:06.381Z"
   },
   {
    "duration": 275,
    "start_time": "2024-10-02T13:34:23.018Z"
   },
   {
    "duration": 4,
    "start_time": "2024-10-02T13:36:03.312Z"
   },
   {
    "duration": 8,
    "start_time": "2024-10-02T13:36:07.887Z"
   },
   {
    "duration": 1222,
    "start_time": "2024-10-02T13:36:17.638Z"
   },
   {
    "duration": 68,
    "start_time": "2024-10-02T13:36:18.863Z"
   },
   {
    "duration": 12,
    "start_time": "2024-10-02T13:36:18.933Z"
   },
   {
    "duration": 22,
    "start_time": "2024-10-02T13:36:18.948Z"
   },
   {
    "duration": 17,
    "start_time": "2024-10-02T13:36:18.972Z"
   },
   {
    "duration": 13,
    "start_time": "2024-10-02T13:36:18.991Z"
   },
   {
    "duration": 12,
    "start_time": "2024-10-02T13:36:19.006Z"
   },
   {
    "duration": 9,
    "start_time": "2024-10-02T13:36:19.020Z"
   },
   {
    "duration": 19,
    "start_time": "2024-10-02T13:36:19.031Z"
   },
   {
    "duration": 7,
    "start_time": "2024-10-02T13:36:19.053Z"
   },
   {
    "duration": 14,
    "start_time": "2024-10-02T13:36:19.062Z"
   },
   {
    "duration": 6,
    "start_time": "2024-10-02T13:36:19.078Z"
   },
   {
    "duration": 6,
    "start_time": "2024-10-02T13:36:19.086Z"
   },
   {
    "duration": 7,
    "start_time": "2024-10-02T13:36:19.093Z"
   },
   {
    "duration": 5,
    "start_time": "2024-10-02T13:36:19.101Z"
   },
   {
    "duration": 19,
    "start_time": "2024-10-02T13:36:19.108Z"
   },
   {
    "duration": 8,
    "start_time": "2024-10-02T13:36:19.129Z"
   },
   {
    "duration": 19,
    "start_time": "2024-10-02T13:36:19.143Z"
   },
   {
    "duration": 38,
    "start_time": "2024-10-02T13:36:19.164Z"
   },
   {
    "duration": 269,
    "start_time": "2024-10-02T13:36:19.204Z"
   },
   {
    "duration": 6,
    "start_time": "2024-10-02T13:36:19.475Z"
   },
   {
    "duration": 103,
    "start_time": "2024-10-02T13:36:19.483Z"
   },
   {
    "duration": 203,
    "start_time": "2024-10-02T13:36:19.587Z"
   },
   {
    "duration": 33,
    "start_time": "2024-10-02T13:36:19.792Z"
   },
   {
    "duration": 260,
    "start_time": "2024-10-02T13:36:19.828Z"
   },
   {
    "duration": 220,
    "start_time": "2024-10-02T13:36:20.089Z"
   },
   {
    "duration": 0,
    "start_time": "2024-10-02T13:36:20.311Z"
   },
   {
    "duration": 0,
    "start_time": "2024-10-02T13:36:20.312Z"
   },
   {
    "duration": 0,
    "start_time": "2024-10-02T13:36:20.313Z"
   },
   {
    "duration": 0,
    "start_time": "2024-10-02T13:36:20.314Z"
   },
   {
    "duration": 0,
    "start_time": "2024-10-02T13:36:20.316Z"
   },
   {
    "duration": 0,
    "start_time": "2024-10-02T13:36:20.317Z"
   },
   {
    "duration": 0,
    "start_time": "2024-10-02T13:36:20.318Z"
   },
   {
    "duration": 0,
    "start_time": "2024-10-02T13:36:20.318Z"
   },
   {
    "duration": 0,
    "start_time": "2024-10-02T13:36:20.319Z"
   },
   {
    "duration": 0,
    "start_time": "2024-10-02T13:36:20.320Z"
   },
   {
    "duration": 0,
    "start_time": "2024-10-02T13:36:20.321Z"
   },
   {
    "duration": 0,
    "start_time": "2024-10-02T13:36:20.322Z"
   },
   {
    "duration": 0,
    "start_time": "2024-10-02T13:36:20.323Z"
   },
   {
    "duration": 0,
    "start_time": "2024-10-02T13:36:20.324Z"
   },
   {
    "duration": 0,
    "start_time": "2024-10-02T13:36:20.324Z"
   },
   {
    "duration": 0,
    "start_time": "2024-10-02T13:36:20.344Z"
   },
   {
    "duration": 0,
    "start_time": "2024-10-02T13:36:20.344Z"
   },
   {
    "duration": 0,
    "start_time": "2024-10-02T13:36:20.345Z"
   },
   {
    "duration": 0,
    "start_time": "2024-10-02T13:36:20.346Z"
   },
   {
    "duration": 0,
    "start_time": "2024-10-02T13:36:20.347Z"
   },
   {
    "duration": 125,
    "start_time": "2024-10-02T13:38:36.792Z"
   },
   {
    "duration": 295,
    "start_time": "2024-10-02T13:38:40.799Z"
   },
   {
    "duration": 9,
    "start_time": "2024-10-02T13:38:52.447Z"
   },
   {
    "duration": 1139,
    "start_time": "2024-10-02T13:38:57.753Z"
   },
   {
    "duration": 67,
    "start_time": "2024-10-02T13:38:58.894Z"
   },
   {
    "duration": 12,
    "start_time": "2024-10-02T13:38:58.963Z"
   },
   {
    "duration": 11,
    "start_time": "2024-10-02T13:38:58.976Z"
   },
   {
    "duration": 17,
    "start_time": "2024-10-02T13:38:58.989Z"
   },
   {
    "duration": 16,
    "start_time": "2024-10-02T13:38:59.008Z"
   },
   {
    "duration": 7,
    "start_time": "2024-10-02T13:38:59.026Z"
   },
   {
    "duration": 10,
    "start_time": "2024-10-02T13:38:59.034Z"
   },
   {
    "duration": 7,
    "start_time": "2024-10-02T13:38:59.046Z"
   },
   {
    "duration": 4,
    "start_time": "2024-10-02T13:38:59.056Z"
   },
   {
    "duration": 5,
    "start_time": "2024-10-02T13:38:59.062Z"
   },
   {
    "duration": 6,
    "start_time": "2024-10-02T13:38:59.069Z"
   },
   {
    "duration": 6,
    "start_time": "2024-10-02T13:38:59.076Z"
   },
   {
    "duration": 13,
    "start_time": "2024-10-02T13:38:59.083Z"
   },
   {
    "duration": 5,
    "start_time": "2024-10-02T13:38:59.098Z"
   },
   {
    "duration": 39,
    "start_time": "2024-10-02T13:38:59.104Z"
   },
   {
    "duration": 8,
    "start_time": "2024-10-02T13:38:59.145Z"
   },
   {
    "duration": 13,
    "start_time": "2024-10-02T13:38:59.154Z"
   },
   {
    "duration": 16,
    "start_time": "2024-10-02T13:38:59.169Z"
   },
   {
    "duration": 221,
    "start_time": "2024-10-02T13:38:59.186Z"
   },
   {
    "duration": 6,
    "start_time": "2024-10-02T13:38:59.409Z"
   },
   {
    "duration": 93,
    "start_time": "2024-10-02T13:38:59.417Z"
   },
   {
    "duration": 215,
    "start_time": "2024-10-02T13:38:59.511Z"
   },
   {
    "duration": 27,
    "start_time": "2024-10-02T13:38:59.728Z"
   },
   {
    "duration": 254,
    "start_time": "2024-10-02T13:38:59.758Z"
   },
   {
    "duration": 230,
    "start_time": "2024-10-02T13:39:00.014Z"
   },
   {
    "duration": 0,
    "start_time": "2024-10-02T13:39:00.247Z"
   },
   {
    "duration": 0,
    "start_time": "2024-10-02T13:39:00.248Z"
   },
   {
    "duration": 0,
    "start_time": "2024-10-02T13:39:00.250Z"
   },
   {
    "duration": 0,
    "start_time": "2024-10-02T13:39:00.251Z"
   },
   {
    "duration": 0,
    "start_time": "2024-10-02T13:39:00.253Z"
   },
   {
    "duration": 0,
    "start_time": "2024-10-02T13:39:00.254Z"
   },
   {
    "duration": 0,
    "start_time": "2024-10-02T13:39:00.256Z"
   },
   {
    "duration": 0,
    "start_time": "2024-10-02T13:39:00.257Z"
   },
   {
    "duration": 0,
    "start_time": "2024-10-02T13:39:00.259Z"
   },
   {
    "duration": 0,
    "start_time": "2024-10-02T13:39:00.260Z"
   },
   {
    "duration": 0,
    "start_time": "2024-10-02T13:39:00.262Z"
   },
   {
    "duration": 0,
    "start_time": "2024-10-02T13:39:00.263Z"
   },
   {
    "duration": 0,
    "start_time": "2024-10-02T13:39:00.265Z"
   },
   {
    "duration": 0,
    "start_time": "2024-10-02T13:39:00.266Z"
   },
   {
    "duration": 0,
    "start_time": "2024-10-02T13:39:00.268Z"
   },
   {
    "duration": 0,
    "start_time": "2024-10-02T13:39:00.269Z"
   },
   {
    "duration": 0,
    "start_time": "2024-10-02T13:39:00.270Z"
   },
   {
    "duration": 0,
    "start_time": "2024-10-02T13:39:00.272Z"
   },
   {
    "duration": 0,
    "start_time": "2024-10-02T13:39:00.273Z"
   },
   {
    "duration": 0,
    "start_time": "2024-10-02T13:39:00.274Z"
   },
   {
    "duration": 293,
    "start_time": "2024-10-02T13:39:26.000Z"
   },
   {
    "duration": 1147,
    "start_time": "2024-10-02T13:39:33.366Z"
   },
   {
    "duration": 69,
    "start_time": "2024-10-02T13:39:34.515Z"
   },
   {
    "duration": 28,
    "start_time": "2024-10-02T13:39:34.586Z"
   },
   {
    "duration": 24,
    "start_time": "2024-10-02T13:39:34.616Z"
   },
   {
    "duration": 27,
    "start_time": "2024-10-02T13:39:34.642Z"
   },
   {
    "duration": 29,
    "start_time": "2024-10-02T13:39:34.671Z"
   },
   {
    "duration": 6,
    "start_time": "2024-10-02T13:39:34.702Z"
   },
   {
    "duration": 18,
    "start_time": "2024-10-02T13:39:34.710Z"
   },
   {
    "duration": 18,
    "start_time": "2024-10-02T13:39:34.730Z"
   },
   {
    "duration": 6,
    "start_time": "2024-10-02T13:39:34.751Z"
   },
   {
    "duration": 13,
    "start_time": "2024-10-02T13:39:34.759Z"
   },
   {
    "duration": 19,
    "start_time": "2024-10-02T13:39:34.773Z"
   },
   {
    "duration": 8,
    "start_time": "2024-10-02T13:39:34.793Z"
   },
   {
    "duration": 5,
    "start_time": "2024-10-02T13:39:34.803Z"
   },
   {
    "duration": 9,
    "start_time": "2024-10-02T13:39:34.810Z"
   },
   {
    "duration": 9,
    "start_time": "2024-10-02T13:39:34.821Z"
   },
   {
    "duration": 14,
    "start_time": "2024-10-02T13:39:34.831Z"
   },
   {
    "duration": 25,
    "start_time": "2024-10-02T13:39:34.847Z"
   },
   {
    "duration": 25,
    "start_time": "2024-10-02T13:39:34.874Z"
   },
   {
    "duration": 209,
    "start_time": "2024-10-02T13:39:34.901Z"
   },
   {
    "duration": 6,
    "start_time": "2024-10-02T13:39:35.111Z"
   },
   {
    "duration": 96,
    "start_time": "2024-10-02T13:39:35.119Z"
   },
   {
    "duration": 226,
    "start_time": "2024-10-02T13:39:35.217Z"
   },
   {
    "duration": 23,
    "start_time": "2024-10-02T13:39:35.444Z"
   },
   {
    "duration": 229,
    "start_time": "2024-10-02T13:39:35.468Z"
   },
   {
    "duration": 227,
    "start_time": "2024-10-02T13:39:35.699Z"
   },
   {
    "duration": 0,
    "start_time": "2024-10-02T13:39:35.928Z"
   },
   {
    "duration": 0,
    "start_time": "2024-10-02T13:39:35.929Z"
   },
   {
    "duration": 0,
    "start_time": "2024-10-02T13:39:35.930Z"
   },
   {
    "duration": 0,
    "start_time": "2024-10-02T13:39:35.942Z"
   },
   {
    "duration": 0,
    "start_time": "2024-10-02T13:39:35.943Z"
   },
   {
    "duration": 0,
    "start_time": "2024-10-02T13:39:35.944Z"
   },
   {
    "duration": 0,
    "start_time": "2024-10-02T13:39:35.945Z"
   },
   {
    "duration": 0,
    "start_time": "2024-10-02T13:39:35.946Z"
   },
   {
    "duration": 0,
    "start_time": "2024-10-02T13:39:35.947Z"
   },
   {
    "duration": 0,
    "start_time": "2024-10-02T13:39:35.948Z"
   },
   {
    "duration": 1,
    "start_time": "2024-10-02T13:39:35.948Z"
   },
   {
    "duration": 0,
    "start_time": "2024-10-02T13:39:35.950Z"
   },
   {
    "duration": 0,
    "start_time": "2024-10-02T13:39:35.951Z"
   },
   {
    "duration": 0,
    "start_time": "2024-10-02T13:39:35.952Z"
   },
   {
    "duration": 0,
    "start_time": "2024-10-02T13:39:35.953Z"
   },
   {
    "duration": 0,
    "start_time": "2024-10-02T13:39:35.954Z"
   },
   {
    "duration": 0,
    "start_time": "2024-10-02T13:39:35.955Z"
   },
   {
    "duration": 0,
    "start_time": "2024-10-02T13:39:35.955Z"
   },
   {
    "duration": 0,
    "start_time": "2024-10-02T13:39:35.956Z"
   },
   {
    "duration": 0,
    "start_time": "2024-10-02T13:39:35.958Z"
   },
   {
    "duration": 9,
    "start_time": "2024-10-02T13:39:40.838Z"
   },
   {
    "duration": 228,
    "start_time": "2024-10-02T13:39:42.998Z"
   },
   {
    "duration": 3,
    "start_time": "2024-10-02T13:39:47.760Z"
   },
   {
    "duration": 307,
    "start_time": "2024-10-02T13:40:11.929Z"
   },
   {
    "duration": 8,
    "start_time": "2024-10-02T13:40:15.024Z"
   },
   {
    "duration": 364,
    "start_time": "2024-10-02T13:40:16.720Z"
   },
   {
    "duration": 8,
    "start_time": "2024-10-02T13:40:36.928Z"
   },
   {
    "duration": 8,
    "start_time": "2024-10-02T13:40:40.736Z"
   },
   {
    "duration": 8,
    "start_time": "2024-10-02T13:40:47.710Z"
   },
   {
    "duration": 1181,
    "start_time": "2024-10-02T13:40:56.806Z"
   },
   {
    "duration": 68,
    "start_time": "2024-10-02T13:40:57.989Z"
   },
   {
    "duration": 12,
    "start_time": "2024-10-02T13:40:58.059Z"
   },
   {
    "duration": 14,
    "start_time": "2024-10-02T13:40:58.073Z"
   },
   {
    "duration": 10,
    "start_time": "2024-10-02T13:40:58.089Z"
   },
   {
    "duration": 12,
    "start_time": "2024-10-02T13:40:58.100Z"
   },
   {
    "duration": 6,
    "start_time": "2024-10-02T13:40:58.114Z"
   },
   {
    "duration": 29,
    "start_time": "2024-10-02T13:40:58.122Z"
   },
   {
    "duration": 83,
    "start_time": "2024-10-02T13:40:58.152Z"
   },
   {
    "duration": 5,
    "start_time": "2024-10-02T13:40:58.237Z"
   },
   {
    "duration": 7,
    "start_time": "2024-10-02T13:40:58.244Z"
   },
   {
    "duration": 9,
    "start_time": "2024-10-02T13:40:58.253Z"
   },
   {
    "duration": 5,
    "start_time": "2024-10-02T13:40:58.264Z"
   },
   {
    "duration": 4,
    "start_time": "2024-10-02T13:40:58.272Z"
   },
   {
    "duration": 16,
    "start_time": "2024-10-02T13:40:58.278Z"
   },
   {
    "duration": 96,
    "start_time": "2024-10-02T13:40:58.296Z"
   },
   {
    "duration": 13,
    "start_time": "2024-10-02T13:40:58.394Z"
   },
   {
    "duration": 22,
    "start_time": "2024-10-02T13:40:58.409Z"
   },
   {
    "duration": 82,
    "start_time": "2024-10-02T13:40:58.433Z"
   },
   {
    "duration": 256,
    "start_time": "2024-10-02T13:40:58.517Z"
   },
   {
    "duration": 6,
    "start_time": "2024-10-02T13:40:58.775Z"
   },
   {
    "duration": 96,
    "start_time": "2024-10-02T13:40:58.783Z"
   },
   {
    "duration": 205,
    "start_time": "2024-10-02T13:40:58.881Z"
   },
   {
    "duration": 23,
    "start_time": "2024-10-02T13:40:59.088Z"
   },
   {
    "duration": 244,
    "start_time": "2024-10-02T13:40:59.112Z"
   },
   {
    "duration": 227,
    "start_time": "2024-10-02T13:40:59.358Z"
   },
   {
    "duration": 0,
    "start_time": "2024-10-02T13:40:59.587Z"
   },
   {
    "duration": 0,
    "start_time": "2024-10-02T13:40:59.589Z"
   },
   {
    "duration": 0,
    "start_time": "2024-10-02T13:40:59.590Z"
   },
   {
    "duration": 0,
    "start_time": "2024-10-02T13:40:59.591Z"
   },
   {
    "duration": 0,
    "start_time": "2024-10-02T13:40:59.592Z"
   },
   {
    "duration": 0,
    "start_time": "2024-10-02T13:40:59.593Z"
   },
   {
    "duration": 0,
    "start_time": "2024-10-02T13:40:59.594Z"
   },
   {
    "duration": 0,
    "start_time": "2024-10-02T13:40:59.595Z"
   },
   {
    "duration": 0,
    "start_time": "2024-10-02T13:40:59.596Z"
   },
   {
    "duration": 0,
    "start_time": "2024-10-02T13:40:59.597Z"
   },
   {
    "duration": 0,
    "start_time": "2024-10-02T13:40:59.598Z"
   },
   {
    "duration": 0,
    "start_time": "2024-10-02T13:40:59.599Z"
   },
   {
    "duration": 0,
    "start_time": "2024-10-02T13:40:59.600Z"
   },
   {
    "duration": 0,
    "start_time": "2024-10-02T13:40:59.601Z"
   },
   {
    "duration": 0,
    "start_time": "2024-10-02T13:40:59.602Z"
   },
   {
    "duration": 0,
    "start_time": "2024-10-02T13:40:59.603Z"
   },
   {
    "duration": 0,
    "start_time": "2024-10-02T13:40:59.604Z"
   },
   {
    "duration": 0,
    "start_time": "2024-10-02T13:40:59.605Z"
   },
   {
    "duration": 0,
    "start_time": "2024-10-02T13:40:59.606Z"
   },
   {
    "duration": 0,
    "start_time": "2024-10-02T13:40:59.643Z"
   },
   {
    "duration": 14,
    "start_time": "2024-10-02T13:41:09.711Z"
   },
   {
    "duration": 291,
    "start_time": "2024-10-02T13:41:12.041Z"
   },
   {
    "duration": 127,
    "start_time": "2024-10-02T13:41:14.912Z"
   },
   {
    "duration": 360,
    "start_time": "2024-10-02T13:42:41.586Z"
   },
   {
    "duration": 9,
    "start_time": "2024-10-02T13:42:52.248Z"
   },
   {
    "duration": 9,
    "start_time": "2024-10-02T13:42:53.794Z"
   },
   {
    "duration": 21,
    "start_time": "2024-10-02T13:42:56.488Z"
   },
   {
    "duration": 5,
    "start_time": "2024-10-02T13:42:58.881Z"
   },
   {
    "duration": 24,
    "start_time": "2024-10-02T13:43:00.760Z"
   },
   {
    "duration": 202,
    "start_time": "2024-10-02T13:43:05.970Z"
   },
   {
    "duration": 20,
    "start_time": "2024-10-02T13:43:15.465Z"
   },
   {
    "duration": 245,
    "start_time": "2024-10-02T13:43:31.312Z"
   },
   {
    "duration": 243,
    "start_time": "2024-10-02T13:43:46.410Z"
   },
   {
    "duration": 214,
    "start_time": "2024-10-02T13:43:52.767Z"
   },
   {
    "duration": 187,
    "start_time": "2024-10-02T13:44:01.272Z"
   },
   {
    "duration": 6,
    "start_time": "2024-10-02T13:45:08.801Z"
   },
   {
    "duration": 8,
    "start_time": "2024-10-02T13:45:31.082Z"
   },
   {
    "duration": 3,
    "start_time": "2024-10-02T13:45:36.993Z"
   },
   {
    "duration": 65,
    "start_time": "2024-10-02T13:46:24.762Z"
   },
   {
    "duration": 59,
    "start_time": "2024-10-02T13:46:30.354Z"
   },
   {
    "duration": 3,
    "start_time": "2024-10-02T13:46:53.602Z"
   },
   {
    "duration": 3,
    "start_time": "2024-10-02T13:46:57.408Z"
   },
   {
    "duration": 236,
    "start_time": "2024-10-02T13:48:32.795Z"
   },
   {
    "duration": 337,
    "start_time": "2024-10-02T13:48:35.233Z"
   },
   {
    "duration": 10,
    "start_time": "2024-10-02T13:48:50.452Z"
   },
   {
    "duration": 245,
    "start_time": "2024-10-02T13:49:56.347Z"
   },
   {
    "duration": 264,
    "start_time": "2024-10-02T13:50:28.899Z"
   },
   {
    "duration": 300,
    "start_time": "2024-10-02T13:52:16.675Z"
   },
   {
    "duration": 251,
    "start_time": "2024-10-02T13:52:24.765Z"
   },
   {
    "duration": 273,
    "start_time": "2024-10-02T13:53:10.546Z"
   },
   {
    "duration": 342,
    "start_time": "2024-10-02T13:53:20.179Z"
   },
   {
    "duration": 271,
    "start_time": "2024-10-02T13:53:28.692Z"
   },
   {
    "duration": 285,
    "start_time": "2024-10-02T13:54:10.989Z"
   },
   {
    "duration": 289,
    "start_time": "2024-10-02T13:54:43.083Z"
   },
   {
    "duration": 303,
    "start_time": "2024-10-02T13:54:52.285Z"
   },
   {
    "duration": 384,
    "start_time": "2024-10-02T13:55:00.675Z"
   },
   {
    "duration": 291,
    "start_time": "2024-10-02T13:55:10.389Z"
   },
   {
    "duration": 300,
    "start_time": "2024-10-02T13:55:14.123Z"
   },
   {
    "duration": 5,
    "start_time": "2024-10-02T13:56:06.187Z"
   },
   {
    "duration": 23,
    "start_time": "2024-10-02T13:56:08.244Z"
   },
   {
    "duration": 39,
    "start_time": "2024-10-02T13:56:10.868Z"
   },
   {
    "duration": 39,
    "start_time": "2024-10-02T13:56:16.142Z"
   },
   {
    "duration": 6,
    "start_time": "2024-10-02T13:57:03.551Z"
   },
   {
    "duration": 8,
    "start_time": "2024-10-02T13:57:07.189Z"
   },
   {
    "duration": 1126,
    "start_time": "2024-10-02T13:57:43.179Z"
   },
   {
    "duration": 67,
    "start_time": "2024-10-02T13:57:44.307Z"
   },
   {
    "duration": 12,
    "start_time": "2024-10-02T13:57:44.376Z"
   },
   {
    "duration": 93,
    "start_time": "2024-10-02T13:57:44.390Z"
   },
   {
    "duration": 74,
    "start_time": "2024-10-02T13:57:44.484Z"
   },
   {
    "duration": 74,
    "start_time": "2024-10-02T13:57:44.559Z"
   },
   {
    "duration": 42,
    "start_time": "2024-10-02T13:57:44.635Z"
   },
   {
    "duration": 26,
    "start_time": "2024-10-02T13:57:44.679Z"
   },
   {
    "duration": 30,
    "start_time": "2024-10-02T13:57:44.707Z"
   },
   {
    "duration": 32,
    "start_time": "2024-10-02T13:57:44.740Z"
   },
   {
    "duration": 17,
    "start_time": "2024-10-02T13:57:44.774Z"
   },
   {
    "duration": 34,
    "start_time": "2024-10-02T13:57:44.793Z"
   },
   {
    "duration": 33,
    "start_time": "2024-10-02T13:57:44.828Z"
   },
   {
    "duration": 27,
    "start_time": "2024-10-02T13:57:44.863Z"
   },
   {
    "duration": 29,
    "start_time": "2024-10-02T13:57:44.892Z"
   },
   {
    "duration": 24,
    "start_time": "2024-10-02T13:57:44.923Z"
   },
   {
    "duration": 26,
    "start_time": "2024-10-02T13:57:44.949Z"
   },
   {
    "duration": 44,
    "start_time": "2024-10-02T13:57:44.977Z"
   },
   {
    "duration": 63,
    "start_time": "2024-10-02T13:57:45.023Z"
   },
   {
    "duration": 207,
    "start_time": "2024-10-02T13:57:45.088Z"
   },
   {
    "duration": 6,
    "start_time": "2024-10-02T13:57:45.297Z"
   },
   {
    "duration": 176,
    "start_time": "2024-10-02T13:57:45.305Z"
   },
   {
    "duration": 220,
    "start_time": "2024-10-02T13:57:45.483Z"
   },
   {
    "duration": 22,
    "start_time": "2024-10-02T13:57:45.704Z"
   },
   {
    "duration": 220,
    "start_time": "2024-10-02T13:57:45.728Z"
   },
   {
    "duration": 226,
    "start_time": "2024-10-02T13:57:45.950Z"
   },
   {
    "duration": 0,
    "start_time": "2024-10-02T13:57:46.178Z"
   },
   {
    "duration": 0,
    "start_time": "2024-10-02T13:57:46.179Z"
   },
   {
    "duration": 0,
    "start_time": "2024-10-02T13:57:46.180Z"
   },
   {
    "duration": 0,
    "start_time": "2024-10-02T13:57:46.181Z"
   },
   {
    "duration": 0,
    "start_time": "2024-10-02T13:57:46.182Z"
   },
   {
    "duration": 0,
    "start_time": "2024-10-02T13:57:46.183Z"
   },
   {
    "duration": 0,
    "start_time": "2024-10-02T13:57:46.184Z"
   },
   {
    "duration": 0,
    "start_time": "2024-10-02T13:57:46.185Z"
   },
   {
    "duration": 0,
    "start_time": "2024-10-02T13:57:46.186Z"
   },
   {
    "duration": 0,
    "start_time": "2024-10-02T13:57:46.187Z"
   },
   {
    "duration": 0,
    "start_time": "2024-10-02T13:57:46.188Z"
   },
   {
    "duration": 0,
    "start_time": "2024-10-02T13:57:46.189Z"
   },
   {
    "duration": 0,
    "start_time": "2024-10-02T13:57:46.190Z"
   },
   {
    "duration": 0,
    "start_time": "2024-10-02T13:57:46.190Z"
   },
   {
    "duration": 0,
    "start_time": "2024-10-02T13:57:46.191Z"
   },
   {
    "duration": 0,
    "start_time": "2024-10-02T13:57:46.192Z"
   },
   {
    "duration": 0,
    "start_time": "2024-10-02T13:57:46.193Z"
   },
   {
    "duration": 0,
    "start_time": "2024-10-02T13:57:46.194Z"
   },
   {
    "duration": 0,
    "start_time": "2024-10-02T13:57:46.195Z"
   },
   {
    "duration": 0,
    "start_time": "2024-10-02T13:57:46.196Z"
   },
   {
    "duration": 0,
    "start_time": "2024-10-02T13:57:46.197Z"
   },
   {
    "duration": 0,
    "start_time": "2024-10-02T13:57:46.198Z"
   },
   {
    "duration": 10,
    "start_time": "2024-10-02T13:57:52.127Z"
   },
   {
    "duration": 3,
    "start_time": "2024-10-02T13:58:03.301Z"
   },
   {
    "duration": 67,
    "start_time": "2024-10-02T13:58:05.982Z"
   },
   {
    "duration": 133,
    "start_time": "2024-10-02T13:58:18.989Z"
   },
   {
    "duration": 1288,
    "start_time": "2024-10-02T17:24:45.196Z"
   },
   {
    "duration": 354,
    "start_time": "2024-10-02T17:24:46.486Z"
   },
   {
    "duration": 14,
    "start_time": "2024-10-02T17:24:46.841Z"
   },
   {
    "duration": 11,
    "start_time": "2024-10-02T17:24:46.857Z"
   },
   {
    "duration": 9,
    "start_time": "2024-10-02T17:24:46.869Z"
   },
   {
    "duration": 11,
    "start_time": "2024-10-02T17:24:46.879Z"
   },
   {
    "duration": 7,
    "start_time": "2024-10-02T17:24:46.891Z"
   },
   {
    "duration": 10,
    "start_time": "2024-10-02T17:24:46.899Z"
   },
   {
    "duration": 6,
    "start_time": "2024-10-02T17:24:46.911Z"
   },
   {
    "duration": 6,
    "start_time": "2024-10-02T17:24:46.952Z"
   },
   {
    "duration": 5,
    "start_time": "2024-10-02T17:24:46.959Z"
   },
   {
    "duration": 6,
    "start_time": "2024-10-02T17:24:46.965Z"
   },
   {
    "duration": 8,
    "start_time": "2024-10-02T17:24:46.973Z"
   },
   {
    "duration": 4,
    "start_time": "2024-10-02T17:24:46.982Z"
   },
   {
    "duration": 4,
    "start_time": "2024-10-02T17:24:46.988Z"
   },
   {
    "duration": 4,
    "start_time": "2024-10-02T17:24:46.994Z"
   },
   {
    "duration": 21,
    "start_time": "2024-10-02T17:24:46.999Z"
   },
   {
    "duration": 34,
    "start_time": "2024-10-02T17:24:47.022Z"
   },
   {
    "duration": 14,
    "start_time": "2024-10-02T17:24:47.057Z"
   },
   {
    "duration": 200,
    "start_time": "2024-10-02T17:24:47.072Z"
   },
   {
    "duration": 5,
    "start_time": "2024-10-02T17:24:47.274Z"
   },
   {
    "duration": 102,
    "start_time": "2024-10-02T17:24:47.280Z"
   },
   {
    "duration": 185,
    "start_time": "2024-10-02T17:24:47.383Z"
   },
   {
    "duration": 20,
    "start_time": "2024-10-02T17:24:47.569Z"
   },
   {
    "duration": 211,
    "start_time": "2024-10-02T17:24:47.591Z"
   },
   {
    "duration": 228,
    "start_time": "2024-10-02T17:24:47.804Z"
   },
   {
    "duration": 0,
    "start_time": "2024-10-02T17:24:48.034Z"
   },
   {
    "duration": 0,
    "start_time": "2024-10-02T17:24:48.035Z"
   },
   {
    "duration": 0,
    "start_time": "2024-10-02T17:24:48.036Z"
   },
   {
    "duration": 0,
    "start_time": "2024-10-02T17:24:48.037Z"
   },
   {
    "duration": 0,
    "start_time": "2024-10-02T17:24:48.038Z"
   },
   {
    "duration": 0,
    "start_time": "2024-10-02T17:24:48.039Z"
   },
   {
    "duration": 0,
    "start_time": "2024-10-02T17:24:48.052Z"
   },
   {
    "duration": 0,
    "start_time": "2024-10-02T17:24:48.052Z"
   },
   {
    "duration": 0,
    "start_time": "2024-10-02T17:24:48.053Z"
   },
   {
    "duration": 0,
    "start_time": "2024-10-02T17:24:48.054Z"
   },
   {
    "duration": 0,
    "start_time": "2024-10-02T17:24:48.055Z"
   },
   {
    "duration": 0,
    "start_time": "2024-10-02T17:24:48.057Z"
   },
   {
    "duration": 0,
    "start_time": "2024-10-02T17:24:48.057Z"
   },
   {
    "duration": 0,
    "start_time": "2024-10-02T17:24:48.059Z"
   },
   {
    "duration": 0,
    "start_time": "2024-10-02T17:24:48.060Z"
   },
   {
    "duration": 0,
    "start_time": "2024-10-02T17:24:48.061Z"
   },
   {
    "duration": 0,
    "start_time": "2024-10-02T17:24:48.062Z"
   },
   {
    "duration": 0,
    "start_time": "2024-10-02T17:24:48.063Z"
   },
   {
    "duration": 0,
    "start_time": "2024-10-02T17:24:48.064Z"
   },
   {
    "duration": 0,
    "start_time": "2024-10-02T17:24:48.065Z"
   },
   {
    "duration": 0,
    "start_time": "2024-10-02T17:24:48.066Z"
   },
   {
    "duration": 0,
    "start_time": "2024-10-02T17:24:48.067Z"
   },
   {
    "duration": 276,
    "start_time": "2024-10-02T17:25:03.621Z"
   },
   {
    "duration": 13,
    "start_time": "2024-10-02T17:25:08.037Z"
   },
   {
    "duration": 188,
    "start_time": "2024-10-02T17:25:14.217Z"
   },
   {
    "duration": 116,
    "start_time": "2024-10-02T17:25:17.485Z"
   },
   {
    "duration": 337,
    "start_time": "2024-10-02T17:25:40.903Z"
   },
   {
    "duration": 8,
    "start_time": "2024-10-02T17:25:53.303Z"
   },
   {
    "duration": 8,
    "start_time": "2024-10-02T17:25:54.853Z"
   },
   {
    "duration": 18,
    "start_time": "2024-10-02T17:25:56.113Z"
   },
   {
    "duration": 113,
    "start_time": "2024-10-02T17:26:02.815Z"
   },
   {
    "duration": 3,
    "start_time": "2024-10-02T17:26:15.705Z"
   },
   {
    "duration": 9,
    "start_time": "2024-10-02T17:26:17.717Z"
   },
   {
    "duration": 4,
    "start_time": "2024-10-02T17:26:22.093Z"
   },
   {
    "duration": 22,
    "start_time": "2024-10-02T17:26:56.029Z"
   },
   {
    "duration": 20,
    "start_time": "2024-10-02T17:26:58.869Z"
   },
   {
    "duration": 266,
    "start_time": "2024-10-02T17:27:14.839Z"
   },
   {
    "duration": 279,
    "start_time": "2024-10-02T17:27:18.147Z"
   },
   {
    "duration": 5,
    "start_time": "2024-10-02T17:27:25.761Z"
   },
   {
    "duration": 23,
    "start_time": "2024-10-02T17:27:51.077Z"
   },
   {
    "duration": 1124,
    "start_time": "2024-10-02T17:28:03.669Z"
   },
   {
    "duration": 70,
    "start_time": "2024-10-02T17:28:04.795Z"
   },
   {
    "duration": 12,
    "start_time": "2024-10-02T17:28:04.866Z"
   },
   {
    "duration": 10,
    "start_time": "2024-10-02T17:28:04.879Z"
   },
   {
    "duration": 21,
    "start_time": "2024-10-02T17:28:04.891Z"
   },
   {
    "duration": 28,
    "start_time": "2024-10-02T17:28:04.913Z"
   },
   {
    "duration": 8,
    "start_time": "2024-10-02T17:28:04.942Z"
   },
   {
    "duration": 9,
    "start_time": "2024-10-02T17:28:04.952Z"
   },
   {
    "duration": 7,
    "start_time": "2024-10-02T17:28:04.963Z"
   },
   {
    "duration": 5,
    "start_time": "2024-10-02T17:28:04.971Z"
   },
   {
    "duration": 5,
    "start_time": "2024-10-02T17:28:04.977Z"
   },
   {
    "duration": 23,
    "start_time": "2024-10-02T17:28:04.984Z"
   },
   {
    "duration": 6,
    "start_time": "2024-10-02T17:28:05.008Z"
   },
   {
    "duration": 9,
    "start_time": "2024-10-02T17:28:05.017Z"
   },
   {
    "duration": 12,
    "start_time": "2024-10-02T17:28:05.027Z"
   },
   {
    "duration": 16,
    "start_time": "2024-10-02T17:28:05.040Z"
   },
   {
    "duration": 6,
    "start_time": "2024-10-02T17:28:05.057Z"
   },
   {
    "duration": 18,
    "start_time": "2024-10-02T17:28:05.064Z"
   },
   {
    "duration": 44,
    "start_time": "2024-10-02T17:28:05.083Z"
   },
   {
    "duration": 197,
    "start_time": "2024-10-02T17:28:05.129Z"
   },
   {
    "duration": 5,
    "start_time": "2024-10-02T17:28:05.328Z"
   },
   {
    "duration": 104,
    "start_time": "2024-10-02T17:28:05.335Z"
   },
   {
    "duration": 181,
    "start_time": "2024-10-02T17:28:05.440Z"
   },
   {
    "duration": 19,
    "start_time": "2024-10-02T17:28:05.623Z"
   },
   {
    "duration": 208,
    "start_time": "2024-10-02T17:28:05.644Z"
   },
   {
    "duration": 212,
    "start_time": "2024-10-02T17:28:05.853Z"
   },
   {
    "duration": 0,
    "start_time": "2024-10-02T17:28:06.067Z"
   },
   {
    "duration": 0,
    "start_time": "2024-10-02T17:28:06.069Z"
   },
   {
    "duration": 0,
    "start_time": "2024-10-02T17:28:06.070Z"
   },
   {
    "duration": 0,
    "start_time": "2024-10-02T17:28:06.071Z"
   },
   {
    "duration": 0,
    "start_time": "2024-10-02T17:28:06.073Z"
   },
   {
    "duration": 0,
    "start_time": "2024-10-02T17:28:06.075Z"
   },
   {
    "duration": 0,
    "start_time": "2024-10-02T17:28:06.076Z"
   },
   {
    "duration": 0,
    "start_time": "2024-10-02T17:28:06.077Z"
   },
   {
    "duration": 0,
    "start_time": "2024-10-02T17:28:06.078Z"
   },
   {
    "duration": 0,
    "start_time": "2024-10-02T17:28:06.079Z"
   },
   {
    "duration": 0,
    "start_time": "2024-10-02T17:28:06.080Z"
   },
   {
    "duration": 0,
    "start_time": "2024-10-02T17:28:06.081Z"
   },
   {
    "duration": 0,
    "start_time": "2024-10-02T17:28:06.082Z"
   },
   {
    "duration": 0,
    "start_time": "2024-10-02T17:28:06.083Z"
   },
   {
    "duration": 0,
    "start_time": "2024-10-02T17:28:06.084Z"
   },
   {
    "duration": 0,
    "start_time": "2024-10-02T17:28:06.085Z"
   },
   {
    "duration": 0,
    "start_time": "2024-10-02T17:28:06.086Z"
   },
   {
    "duration": 0,
    "start_time": "2024-10-02T17:28:06.087Z"
   },
   {
    "duration": 0,
    "start_time": "2024-10-02T17:28:06.088Z"
   },
   {
    "duration": 0,
    "start_time": "2024-10-02T17:28:06.089Z"
   },
   {
    "duration": 0,
    "start_time": "2024-10-02T17:28:06.090Z"
   },
   {
    "duration": 0,
    "start_time": "2024-10-02T17:28:06.091Z"
   },
   {
    "duration": 1086,
    "start_time": "2024-10-02T17:29:00.805Z"
   },
   {
    "duration": 70,
    "start_time": "2024-10-02T17:29:01.893Z"
   },
   {
    "duration": 14,
    "start_time": "2024-10-02T17:29:01.964Z"
   },
   {
    "duration": 11,
    "start_time": "2024-10-02T17:29:01.980Z"
   },
   {
    "duration": 24,
    "start_time": "2024-10-02T17:29:01.993Z"
   },
   {
    "duration": 18,
    "start_time": "2024-10-02T17:29:02.019Z"
   },
   {
    "duration": 7,
    "start_time": "2024-10-02T17:29:02.039Z"
   },
   {
    "duration": 9,
    "start_time": "2024-10-02T17:29:02.051Z"
   },
   {
    "duration": 8,
    "start_time": "2024-10-02T17:29:02.062Z"
   },
   {
    "duration": 7,
    "start_time": "2024-10-02T17:29:02.073Z"
   },
   {
    "duration": 20,
    "start_time": "2024-10-02T17:29:02.081Z"
   },
   {
    "duration": 12,
    "start_time": "2024-10-02T17:29:02.102Z"
   },
   {
    "duration": 30,
    "start_time": "2024-10-02T17:29:02.115Z"
   },
   {
    "duration": 13,
    "start_time": "2024-10-02T17:29:02.146Z"
   },
   {
    "duration": 6,
    "start_time": "2024-10-02T17:29:02.161Z"
   },
   {
    "duration": 4,
    "start_time": "2024-10-02T17:29:02.168Z"
   },
   {
    "duration": 4,
    "start_time": "2024-10-02T17:29:02.174Z"
   },
   {
    "duration": 35,
    "start_time": "2024-10-02T17:29:02.179Z"
   },
   {
    "duration": 20,
    "start_time": "2024-10-02T17:29:02.215Z"
   },
   {
    "duration": 249,
    "start_time": "2024-10-02T17:29:02.237Z"
   },
   {
    "duration": 5,
    "start_time": "2024-10-02T17:29:02.488Z"
   },
   {
    "duration": 146,
    "start_time": "2024-10-02T17:29:02.495Z"
   },
   {
    "duration": 184,
    "start_time": "2024-10-02T17:29:02.643Z"
   },
   {
    "duration": 28,
    "start_time": "2024-10-02T17:29:02.829Z"
   },
   {
    "duration": 197,
    "start_time": "2024-10-02T17:29:02.859Z"
   },
   {
    "duration": 267,
    "start_time": "2024-10-02T17:29:03.058Z"
   },
   {
    "duration": 27,
    "start_time": "2024-10-02T17:29:03.326Z"
   },
   {
    "duration": 274,
    "start_time": "2024-10-02T17:29:03.356Z"
   },
   {
    "duration": 8,
    "start_time": "2024-10-02T17:29:03.631Z"
   },
   {
    "duration": 19,
    "start_time": "2024-10-02T17:29:03.641Z"
   },
   {
    "duration": 22,
    "start_time": "2024-10-02T17:29:03.662Z"
   },
   {
    "duration": 4,
    "start_time": "2024-10-02T17:29:03.685Z"
   },
   {
    "duration": 28,
    "start_time": "2024-10-02T17:29:03.690Z"
   },
   {
    "duration": 3,
    "start_time": "2024-10-02T17:29:03.720Z"
   },
   {
    "duration": 28,
    "start_time": "2024-10-02T17:29:03.725Z"
   },
   {
    "duration": 22,
    "start_time": "2024-10-02T17:29:03.754Z"
   },
   {
    "duration": 403,
    "start_time": "2024-10-02T17:29:03.777Z"
   },
   {
    "duration": 295,
    "start_time": "2024-10-02T17:29:04.182Z"
   },
   {
    "duration": 2,
    "start_time": "2024-10-02T17:29:04.479Z"
   },
   {
    "duration": 96,
    "start_time": "2024-10-02T17:29:04.482Z"
   },
   {
    "duration": 107,
    "start_time": "2024-10-02T17:29:04.579Z"
   },
   {
    "duration": 0,
    "start_time": "2024-10-02T17:29:04.688Z"
   },
   {
    "duration": 0,
    "start_time": "2024-10-02T17:29:04.689Z"
   },
   {
    "duration": 0,
    "start_time": "2024-10-02T17:29:04.690Z"
   },
   {
    "duration": 0,
    "start_time": "2024-10-02T17:29:04.691Z"
   },
   {
    "duration": 0,
    "start_time": "2024-10-02T17:29:04.692Z"
   },
   {
    "duration": 0,
    "start_time": "2024-10-02T17:29:04.693Z"
   },
   {
    "duration": 311,
    "start_time": "2024-10-02T17:30:56.419Z"
   },
   {
    "duration": 32,
    "start_time": "2024-10-02T17:31:12.055Z"
   },
   {
    "duration": 11,
    "start_time": "2024-10-02T17:32:25.656Z"
   },
   {
    "duration": 13,
    "start_time": "2024-10-02T17:32:56.877Z"
   },
   {
    "duration": 11,
    "start_time": "2024-10-02T17:33:26.939Z"
   },
   {
    "duration": 18,
    "start_time": "2024-10-02T17:33:36.770Z"
   },
   {
    "duration": 19,
    "start_time": "2024-10-02T17:34:09.296Z"
   },
   {
    "duration": 34,
    "start_time": "2024-10-02T17:47:20.769Z"
   },
   {
    "duration": 31,
    "start_time": "2024-10-02T17:47:52.846Z"
   },
   {
    "duration": 30,
    "start_time": "2024-10-02T17:48:08.669Z"
   },
   {
    "duration": 1714,
    "start_time": "2024-10-02T17:48:29.314Z"
   },
   {
    "duration": 1757,
    "start_time": "2024-10-02T17:48:57.600Z"
   },
   {
    "duration": 14,
    "start_time": "2024-10-02T17:50:47.578Z"
   },
   {
    "duration": 33,
    "start_time": "2024-10-02T17:51:03.806Z"
   },
   {
    "duration": 33,
    "start_time": "2024-10-02T17:51:08.148Z"
   },
   {
    "duration": 3,
    "start_time": "2024-10-02T17:51:14.897Z"
   },
   {
    "duration": 923,
    "start_time": "2024-10-02T17:53:18.945Z"
   },
   {
    "duration": 4,
    "start_time": "2024-10-02T17:53:40.570Z"
   },
   {
    "duration": 4,
    "start_time": "2024-10-02T17:54:01.111Z"
   },
   {
    "duration": 1795,
    "start_time": "2024-10-02T17:55:48.131Z"
   },
   {
    "duration": 19,
    "start_time": "2024-10-02T17:55:52.971Z"
   },
   {
    "duration": 3,
    "start_time": "2024-10-02T17:56:01.009Z"
   },
   {
    "duration": 5,
    "start_time": "2024-10-02T17:56:40.746Z"
   },
   {
    "duration": 21,
    "start_time": "2024-10-02T17:56:46.953Z"
   },
   {
    "duration": 4,
    "start_time": "2024-10-02T17:57:05.190Z"
   },
   {
    "duration": 19,
    "start_time": "2024-10-02T17:57:07.038Z"
   },
   {
    "duration": 1738,
    "start_time": "2024-10-02T17:57:52.045Z"
   },
   {
    "duration": 4,
    "start_time": "2024-10-02T17:57:54.244Z"
   },
   {
    "duration": 22,
    "start_time": "2024-10-02T17:57:56.300Z"
   },
   {
    "duration": 15,
    "start_time": "2024-10-02T17:58:52.628Z"
   },
   {
    "duration": 1721,
    "start_time": "2024-10-02T17:59:37.643Z"
   },
   {
    "duration": 17,
    "start_time": "2024-10-02T17:59:44.704Z"
   },
   {
    "duration": 5,
    "start_time": "2024-10-02T18:03:59.154Z"
   },
   {
    "duration": 5,
    "start_time": "2024-10-02T18:04:06.630Z"
   },
   {
    "duration": 5,
    "start_time": "2024-10-02T18:07:19.257Z"
   },
   {
    "duration": 24,
    "start_time": "2024-10-02T18:07:23.951Z"
   },
   {
    "duration": 14,
    "start_time": "2024-10-02T18:08:45.620Z"
   },
   {
    "duration": 28,
    "start_time": "2024-10-02T18:09:22.090Z"
   },
   {
    "duration": 1026,
    "start_time": "2024-10-02T18:09:26.482Z"
   },
   {
    "duration": 980,
    "start_time": "2024-10-02T18:10:02.618Z"
   },
   {
    "duration": 1726,
    "start_time": "2024-10-02T18:10:11.460Z"
   },
   {
    "duration": 3,
    "start_time": "2024-10-02T18:10:13.784Z"
   },
   {
    "duration": 7,
    "start_time": "2024-10-02T18:10:15.194Z"
   },
   {
    "duration": 23,
    "start_time": "2024-10-02T18:10:21.574Z"
   },
   {
    "duration": 11,
    "start_time": "2024-10-02T18:10:52.810Z"
   },
   {
    "duration": 30,
    "start_time": "2024-10-02T18:11:25.250Z"
   },
   {
    "duration": 22,
    "start_time": "2024-10-02T18:11:29.687Z"
   },
   {
    "duration": 31,
    "start_time": "2024-10-02T18:12:02.602Z"
   },
   {
    "duration": 23,
    "start_time": "2024-10-02T18:12:07.476Z"
   },
   {
    "duration": 1816,
    "start_time": "2024-10-02T18:12:12.368Z"
   },
   {
    "duration": 23,
    "start_time": "2024-10-02T18:12:15.606Z"
   },
   {
    "duration": 1777,
    "start_time": "2024-10-02T18:13:07.831Z"
   },
   {
    "duration": 22,
    "start_time": "2024-10-02T18:13:10.404Z"
   },
   {
    "duration": 1763,
    "start_time": "2024-10-02T18:15:47.302Z"
   },
   {
    "duration": 32,
    "start_time": "2024-10-02T18:15:53.874Z"
   },
   {
    "duration": 23,
    "start_time": "2024-10-02T18:16:16.796Z"
   },
   {
    "duration": 1066,
    "start_time": "2024-10-02T18:16:24.503Z"
   },
   {
    "duration": 68,
    "start_time": "2024-10-02T18:16:25.570Z"
   },
   {
    "duration": 11,
    "start_time": "2024-10-02T18:16:25.642Z"
   },
   {
    "duration": 11,
    "start_time": "2024-10-02T18:16:25.654Z"
   },
   {
    "duration": 8,
    "start_time": "2024-10-02T18:16:25.667Z"
   },
   {
    "duration": 17,
    "start_time": "2024-10-02T18:16:25.676Z"
   },
   {
    "duration": 7,
    "start_time": "2024-10-02T18:16:25.695Z"
   },
   {
    "duration": 18,
    "start_time": "2024-10-02T18:16:25.703Z"
   },
   {
    "duration": 29,
    "start_time": "2024-10-02T18:16:25.723Z"
   },
   {
    "duration": 5,
    "start_time": "2024-10-02T18:16:25.753Z"
   },
   {
    "duration": 6,
    "start_time": "2024-10-02T18:16:25.759Z"
   },
   {
    "duration": 13,
    "start_time": "2024-10-02T18:16:25.766Z"
   },
   {
    "duration": 6,
    "start_time": "2024-10-02T18:16:25.780Z"
   },
   {
    "duration": 8,
    "start_time": "2024-10-02T18:16:25.787Z"
   },
   {
    "duration": 6,
    "start_time": "2024-10-02T18:16:25.796Z"
   },
   {
    "duration": 16,
    "start_time": "2024-10-02T18:16:25.803Z"
   },
   {
    "duration": 4,
    "start_time": "2024-10-02T18:16:25.821Z"
   },
   {
    "duration": 27,
    "start_time": "2024-10-02T18:16:25.826Z"
   },
   {
    "duration": 14,
    "start_time": "2024-10-02T18:16:25.854Z"
   },
   {
    "duration": 190,
    "start_time": "2024-10-02T18:16:25.869Z"
   },
   {
    "duration": 5,
    "start_time": "2024-10-02T18:16:26.060Z"
   },
   {
    "duration": 93,
    "start_time": "2024-10-02T18:16:26.067Z"
   },
   {
    "duration": 200,
    "start_time": "2024-10-02T18:16:26.163Z"
   },
   {
    "duration": 21,
    "start_time": "2024-10-02T18:16:26.365Z"
   },
   {
    "duration": 215,
    "start_time": "2024-10-02T18:16:26.388Z"
   },
   {
    "duration": 279,
    "start_time": "2024-10-02T18:16:26.605Z"
   },
   {
    "duration": 14,
    "start_time": "2024-10-02T18:16:26.888Z"
   },
   {
    "duration": 270,
    "start_time": "2024-10-02T18:16:26.903Z"
   },
   {
    "duration": 9,
    "start_time": "2024-10-02T18:16:27.175Z"
   },
   {
    "duration": 8,
    "start_time": "2024-10-02T18:16:27.186Z"
   },
   {
    "duration": 18,
    "start_time": "2024-10-02T18:16:27.195Z"
   },
   {
    "duration": 4,
    "start_time": "2024-10-02T18:16:27.216Z"
   },
   {
    "duration": 38,
    "start_time": "2024-10-02T18:16:27.222Z"
   },
   {
    "duration": 5,
    "start_time": "2024-10-02T18:16:27.262Z"
   },
   {
    "duration": 22,
    "start_time": "2024-10-02T18:16:27.269Z"
   },
   {
    "duration": 20,
    "start_time": "2024-10-02T18:16:27.292Z"
   },
   {
    "duration": 381,
    "start_time": "2024-10-02T18:16:27.313Z"
   },
   {
    "duration": 292,
    "start_time": "2024-10-02T18:16:27.696Z"
   },
   {
    "duration": 1681,
    "start_time": "2024-10-02T18:16:27.990Z"
   },
   {
    "duration": 104,
    "start_time": "2024-10-02T18:16:29.673Z"
   },
   {
    "duration": 0,
    "start_time": "2024-10-02T18:16:29.779Z"
   },
   {
    "duration": 0,
    "start_time": "2024-10-02T18:16:29.780Z"
   },
   {
    "duration": 0,
    "start_time": "2024-10-02T18:16:29.782Z"
   },
   {
    "duration": 0,
    "start_time": "2024-10-02T18:16:29.784Z"
   },
   {
    "duration": 0,
    "start_time": "2024-10-02T18:16:29.785Z"
   },
   {
    "duration": 0,
    "start_time": "2024-10-02T18:16:29.786Z"
   },
   {
    "duration": 0,
    "start_time": "2024-10-02T18:16:29.787Z"
   },
   {
    "duration": 23,
    "start_time": "2024-10-02T18:17:01.772Z"
   },
   {
    "duration": 14,
    "start_time": "2024-10-02T18:18:02.659Z"
   },
   {
    "duration": 8,
    "start_time": "2024-10-02T18:19:34.675Z"
   },
   {
    "duration": 2,
    "start_time": "2024-10-02T18:21:14.646Z"
   },
   {
    "duration": 3,
    "start_time": "2024-10-02T18:21:36.016Z"
   },
   {
    "duration": 2,
    "start_time": "2024-10-02T18:21:48.618Z"
   },
   {
    "duration": 245,
    "start_time": "2024-10-02T18:21:54.758Z"
   },
   {
    "duration": 5,
    "start_time": "2024-10-02T18:21:57.262Z"
   },
   {
    "duration": 53,
    "start_time": "2024-10-03T07:00:42.028Z"
   },
   {
    "duration": 1596,
    "start_time": "2024-10-03T07:00:48.030Z"
   },
   {
    "duration": 311,
    "start_time": "2024-10-03T07:00:49.628Z"
   },
   {
    "duration": 12,
    "start_time": "2024-10-03T07:00:49.940Z"
   },
   {
    "duration": 15,
    "start_time": "2024-10-03T07:00:49.954Z"
   },
   {
    "duration": 15,
    "start_time": "2024-10-03T07:00:49.971Z"
   },
   {
    "duration": 18,
    "start_time": "2024-10-03T07:00:49.987Z"
   },
   {
    "duration": 7,
    "start_time": "2024-10-03T07:00:50.006Z"
   },
   {
    "duration": 14,
    "start_time": "2024-10-03T07:00:50.015Z"
   },
   {
    "duration": 8,
    "start_time": "2024-10-03T07:00:50.030Z"
   },
   {
    "duration": 16,
    "start_time": "2024-10-03T07:00:50.041Z"
   },
   {
    "duration": 17,
    "start_time": "2024-10-03T07:00:50.059Z"
   },
   {
    "duration": 6,
    "start_time": "2024-10-03T07:00:50.077Z"
   },
   {
    "duration": 5,
    "start_time": "2024-10-03T07:00:50.085Z"
   },
   {
    "duration": 5,
    "start_time": "2024-10-03T07:00:50.091Z"
   },
   {
    "duration": 6,
    "start_time": "2024-10-03T07:00:50.097Z"
   },
   {
    "duration": 4,
    "start_time": "2024-10-03T07:00:50.104Z"
   },
   {
    "duration": 5,
    "start_time": "2024-10-03T07:00:50.110Z"
   },
   {
    "duration": 20,
    "start_time": "2024-10-03T07:00:50.116Z"
   },
   {
    "duration": 41,
    "start_time": "2024-10-03T07:00:50.138Z"
   },
   {
    "duration": 27,
    "start_time": "2024-10-03T07:00:50.181Z"
   },
   {
    "duration": 195,
    "start_time": "2024-10-03T07:00:50.210Z"
   },
   {
    "duration": 7,
    "start_time": "2024-10-03T07:00:50.407Z"
   },
   {
    "duration": 130,
    "start_time": "2024-10-03T07:00:50.416Z"
   },
   {
    "duration": 235,
    "start_time": "2024-10-03T07:00:50.547Z"
   },
   {
    "duration": 21,
    "start_time": "2024-10-03T07:00:50.784Z"
   },
   {
    "duration": 226,
    "start_time": "2024-10-03T07:00:50.807Z"
   },
   {
    "duration": 320,
    "start_time": "2024-10-03T07:00:51.035Z"
   },
   {
    "duration": 28,
    "start_time": "2024-10-03T07:00:51.360Z"
   },
   {
    "duration": 306,
    "start_time": "2024-10-03T07:00:51.390Z"
   },
   {
    "duration": 11,
    "start_time": "2024-10-03T07:00:51.697Z"
   },
   {
    "duration": 14,
    "start_time": "2024-10-03T07:00:51.709Z"
   },
   {
    "duration": 20,
    "start_time": "2024-10-03T07:00:51.724Z"
   },
   {
    "duration": 3,
    "start_time": "2024-10-03T07:00:51.746Z"
   },
   {
    "duration": 32,
    "start_time": "2024-10-03T07:00:51.751Z"
   },
   {
    "duration": 6,
    "start_time": "2024-10-03T07:00:51.785Z"
   },
   {
    "duration": 28,
    "start_time": "2024-10-03T07:00:51.792Z"
   },
   {
    "duration": 21,
    "start_time": "2024-10-03T07:00:51.822Z"
   },
   {
    "duration": 404,
    "start_time": "2024-10-03T07:00:51.845Z"
   },
   {
    "duration": 306,
    "start_time": "2024-10-03T07:00:52.251Z"
   },
   {
    "duration": 1877,
    "start_time": "2024-10-03T07:00:52.560Z"
   },
   {
    "duration": 22,
    "start_time": "2024-10-03T07:00:54.438Z"
   },
   {
    "duration": 18,
    "start_time": "2024-10-03T07:00:54.462Z"
   },
   {
    "duration": 10,
    "start_time": "2024-10-03T07:00:54.481Z"
   },
   {
    "duration": 17,
    "start_time": "2024-10-03T07:00:54.493Z"
   },
   {
    "duration": 222,
    "start_time": "2024-10-03T07:00:54.511Z"
   },
   {
    "duration": 5,
    "start_time": "2024-10-03T07:00:54.734Z"
   },
   {
    "duration": 11,
    "start_time": "2024-10-03T07:01:12.128Z"
   },
   {
    "duration": 3,
    "start_time": "2024-10-03T07:07:37.122Z"
   },
   {
    "duration": 12,
    "start_time": "2024-10-03T07:07:47.719Z"
   },
   {
    "duration": 10,
    "start_time": "2024-10-03T07:07:49.323Z"
   },
   {
    "duration": 5,
    "start_time": "2024-10-03T07:07:58.782Z"
   },
   {
    "duration": 4,
    "start_time": "2024-10-03T07:08:23.960Z"
   },
   {
    "duration": 4,
    "start_time": "2024-10-03T07:08:35.264Z"
   },
   {
    "duration": 4,
    "start_time": "2024-10-03T07:08:44.832Z"
   },
   {
    "duration": 94,
    "start_time": "2024-10-03T07:08:53.968Z"
   },
   {
    "duration": 5,
    "start_time": "2024-10-03T07:08:58.209Z"
   },
   {
    "duration": 5,
    "start_time": "2024-10-03T07:21:12.018Z"
   },
   {
    "duration": 5,
    "start_time": "2024-10-03T07:21:18.357Z"
   },
   {
    "duration": 5,
    "start_time": "2024-10-03T07:21:25.621Z"
   },
   {
    "duration": 5,
    "start_time": "2024-10-03T07:21:29.341Z"
   },
   {
    "duration": 210,
    "start_time": "2024-10-03T07:21:33.191Z"
   },
   {
    "duration": 5,
    "start_time": "2024-10-03T07:21:35.707Z"
   },
   {
    "duration": 1195,
    "start_time": "2024-10-03T07:21:51.907Z"
   },
   {
    "duration": 5,
    "start_time": "2024-10-03T07:21:55.476Z"
   },
   {
    "duration": 5,
    "start_time": "2024-10-03T07:22:03.181Z"
   },
   {
    "duration": 338,
    "start_time": "2024-10-03T07:31:18.640Z"
   },
   {
    "duration": 245,
    "start_time": "2024-10-03T07:33:50.896Z"
   },
   {
    "duration": 6,
    "start_time": "2024-10-03T07:33:54.375Z"
   },
   {
    "duration": 10,
    "start_time": "2024-10-03T07:34:15.375Z"
   },
   {
    "duration": 4,
    "start_time": "2024-10-03T07:34:38.713Z"
   },
   {
    "duration": 4,
    "start_time": "2024-10-03T07:34:48.146Z"
   },
   {
    "duration": 64,
    "start_time": "2024-10-03T07:47:50.098Z"
   },
   {
    "duration": 64,
    "start_time": "2024-10-03T07:48:11.134Z"
   },
   {
    "duration": 64,
    "start_time": "2024-10-03T07:48:27.565Z"
   },
   {
    "duration": 1139,
    "start_time": "2024-10-03T07:49:36.478Z"
   },
   {
    "duration": 68,
    "start_time": "2024-10-03T07:49:37.619Z"
   },
   {
    "duration": 13,
    "start_time": "2024-10-03T07:49:37.689Z"
   },
   {
    "duration": 11,
    "start_time": "2024-10-03T07:49:37.704Z"
   },
   {
    "duration": 10,
    "start_time": "2024-10-03T07:49:37.716Z"
   },
   {
    "duration": 13,
    "start_time": "2024-10-03T07:49:37.728Z"
   },
   {
    "duration": 7,
    "start_time": "2024-10-03T07:49:37.742Z"
   },
   {
    "duration": 30,
    "start_time": "2024-10-03T07:49:37.751Z"
   },
   {
    "duration": 8,
    "start_time": "2024-10-03T07:49:37.783Z"
   },
   {
    "duration": 10,
    "start_time": "2024-10-03T07:49:37.794Z"
   },
   {
    "duration": 5,
    "start_time": "2024-10-03T07:49:37.806Z"
   },
   {
    "duration": 5,
    "start_time": "2024-10-03T07:49:37.812Z"
   },
   {
    "duration": 5,
    "start_time": "2024-10-03T07:49:37.818Z"
   },
   {
    "duration": 5,
    "start_time": "2024-10-03T07:49:37.825Z"
   },
   {
    "duration": 7,
    "start_time": "2024-10-03T07:49:37.875Z"
   },
   {
    "duration": 5,
    "start_time": "2024-10-03T07:49:37.883Z"
   },
   {
    "duration": 5,
    "start_time": "2024-10-03T07:49:37.889Z"
   },
   {
    "duration": 4,
    "start_time": "2024-10-03T07:49:37.895Z"
   },
   {
    "duration": 5,
    "start_time": "2024-10-03T07:49:37.900Z"
   },
   {
    "duration": 4,
    "start_time": "2024-10-03T07:49:37.907Z"
   },
   {
    "duration": 12,
    "start_time": "2024-10-03T07:49:37.912Z"
   },
   {
    "duration": 57,
    "start_time": "2024-10-03T07:49:37.926Z"
   },
   {
    "duration": 198,
    "start_time": "2024-10-03T07:49:37.985Z"
   },
   {
    "duration": 8,
    "start_time": "2024-10-03T07:49:38.185Z"
   },
   {
    "duration": 109,
    "start_time": "2024-10-03T07:49:38.195Z"
   },
   {
    "duration": 193,
    "start_time": "2024-10-03T07:49:38.306Z"
   },
   {
    "duration": 21,
    "start_time": "2024-10-03T07:49:38.501Z"
   },
   {
    "duration": 215,
    "start_time": "2024-10-03T07:49:38.526Z"
   },
   {
    "duration": 285,
    "start_time": "2024-10-03T07:49:38.742Z"
   },
   {
    "duration": 14,
    "start_time": "2024-10-03T07:49:39.029Z"
   },
   {
    "duration": 295,
    "start_time": "2024-10-03T07:49:39.044Z"
   },
   {
    "duration": 11,
    "start_time": "2024-10-03T07:49:39.340Z"
   },
   {
    "duration": 9,
    "start_time": "2024-10-03T07:49:39.352Z"
   },
   {
    "duration": 93,
    "start_time": "2024-10-03T07:49:39.362Z"
   },
   {
    "duration": 3,
    "start_time": "2024-10-03T07:49:39.457Z"
   },
   {
    "duration": 11,
    "start_time": "2024-10-03T07:49:39.461Z"
   },
   {
    "duration": 14,
    "start_time": "2024-10-03T07:49:39.473Z"
   },
   {
    "duration": 24,
    "start_time": "2024-10-03T07:49:39.488Z"
   },
   {
    "duration": 22,
    "start_time": "2024-10-03T07:49:39.514Z"
   },
   {
    "duration": 385,
    "start_time": "2024-10-03T07:49:39.537Z"
   },
   {
    "duration": 300,
    "start_time": "2024-10-03T07:49:39.924Z"
   },
   {
    "duration": 1816,
    "start_time": "2024-10-03T07:49:40.225Z"
   },
   {
    "duration": 23,
    "start_time": "2024-10-03T07:49:42.042Z"
   },
   {
    "duration": 35,
    "start_time": "2024-10-03T07:49:42.066Z"
   },
   {
    "duration": 15,
    "start_time": "2024-10-03T07:49:42.103Z"
   },
   {
    "duration": 8,
    "start_time": "2024-10-03T07:49:42.121Z"
   },
   {
    "duration": 251,
    "start_time": "2024-10-03T07:49:42.132Z"
   },
   {
    "duration": 1243,
    "start_time": "2024-10-03T07:49:42.385Z"
   },
   {
    "duration": 6,
    "start_time": "2024-10-03T07:49:43.629Z"
   },
   {
    "duration": 290,
    "start_time": "2024-10-03T07:49:43.636Z"
   },
   {
    "duration": 1111,
    "start_time": "2024-10-03T07:49:57.919Z"
   },
   {
    "duration": 1103,
    "start_time": "2024-10-03T07:50:20.517Z"
   },
   {
    "duration": 68,
    "start_time": "2024-10-03T07:50:21.622Z"
   },
   {
    "duration": 12,
    "start_time": "2024-10-03T07:50:21.691Z"
   },
   {
    "duration": 31,
    "start_time": "2024-10-03T07:50:21.705Z"
   },
   {
    "duration": 13,
    "start_time": "2024-10-03T07:50:21.737Z"
   },
   {
    "duration": 12,
    "start_time": "2024-10-03T07:50:21.751Z"
   },
   {
    "duration": 6,
    "start_time": "2024-10-03T07:50:21.764Z"
   },
   {
    "duration": 14,
    "start_time": "2024-10-03T07:50:21.772Z"
   },
   {
    "duration": 8,
    "start_time": "2024-10-03T07:50:21.787Z"
   },
   {
    "duration": 9,
    "start_time": "2024-10-03T07:50:21.796Z"
   },
   {
    "duration": 13,
    "start_time": "2024-10-03T07:50:21.807Z"
   },
   {
    "duration": 9,
    "start_time": "2024-10-03T07:50:21.821Z"
   },
   {
    "duration": 7,
    "start_time": "2024-10-03T07:50:21.831Z"
   },
   {
    "duration": 5,
    "start_time": "2024-10-03T07:50:21.841Z"
   },
   {
    "duration": 7,
    "start_time": "2024-10-03T07:50:21.847Z"
   },
   {
    "duration": 22,
    "start_time": "2024-10-03T07:50:21.855Z"
   },
   {
    "duration": 4,
    "start_time": "2024-10-03T07:50:21.878Z"
   },
   {
    "duration": 20,
    "start_time": "2024-10-03T07:50:21.883Z"
   },
   {
    "duration": 9,
    "start_time": "2024-10-03T07:50:21.905Z"
   },
   {
    "duration": 5,
    "start_time": "2024-10-03T07:50:21.916Z"
   },
   {
    "duration": 25,
    "start_time": "2024-10-03T07:50:21.922Z"
   },
   {
    "duration": 77,
    "start_time": "2024-10-03T07:50:21.949Z"
   },
   {
    "duration": 177,
    "start_time": "2024-10-03T07:50:22.028Z"
   },
   {
    "duration": 5,
    "start_time": "2024-10-03T07:50:22.207Z"
   },
   {
    "duration": 83,
    "start_time": "2024-10-03T07:50:22.213Z"
   },
   {
    "duration": 191,
    "start_time": "2024-10-03T07:50:22.297Z"
   },
   {
    "duration": 20,
    "start_time": "2024-10-03T07:50:22.490Z"
   },
   {
    "duration": 204,
    "start_time": "2024-10-03T07:50:22.512Z"
   },
   {
    "duration": 283,
    "start_time": "2024-10-03T07:50:22.717Z"
   },
   {
    "duration": 15,
    "start_time": "2024-10-03T07:50:23.001Z"
   },
   {
    "duration": 281,
    "start_time": "2024-10-03T07:50:23.017Z"
   },
   {
    "duration": 8,
    "start_time": "2024-10-03T07:50:23.299Z"
   },
   {
    "duration": 8,
    "start_time": "2024-10-03T07:50:23.309Z"
   },
   {
    "duration": 27,
    "start_time": "2024-10-03T07:50:23.318Z"
   },
   {
    "duration": 4,
    "start_time": "2024-10-03T07:50:23.346Z"
   },
   {
    "duration": 31,
    "start_time": "2024-10-03T07:50:23.351Z"
   },
   {
    "duration": 58,
    "start_time": "2024-10-03T07:50:23.384Z"
   },
   {
    "duration": 23,
    "start_time": "2024-10-03T07:50:23.444Z"
   },
   {
    "duration": 23,
    "start_time": "2024-10-03T07:50:23.468Z"
   },
   {
    "duration": 369,
    "start_time": "2024-10-03T07:50:23.492Z"
   },
   {
    "duration": 288,
    "start_time": "2024-10-03T07:50:23.865Z"
   },
   {
    "duration": 1806,
    "start_time": "2024-10-03T07:50:24.155Z"
   },
   {
    "duration": 25,
    "start_time": "2024-10-03T07:50:25.963Z"
   },
   {
    "duration": 20,
    "start_time": "2024-10-03T07:50:25.990Z"
   },
   {
    "duration": 6,
    "start_time": "2024-10-03T07:50:26.011Z"
   },
   {
    "duration": 9,
    "start_time": "2024-10-03T07:50:26.018Z"
   },
   {
    "duration": 251,
    "start_time": "2024-10-03T07:50:26.028Z"
   },
   {
    "duration": 1012,
    "start_time": "2024-10-03T07:50:26.280Z"
   },
   {
    "duration": 5,
    "start_time": "2024-10-03T07:50:27.293Z"
   },
   {
    "duration": 264,
    "start_time": "2024-10-03T07:50:27.299Z"
   },
   {
    "duration": 1132,
    "start_time": "2024-10-03T07:50:44.685Z"
   },
   {
    "duration": 1060,
    "start_time": "2024-10-03T07:50:59.591Z"
   },
   {
    "duration": 1051,
    "start_time": "2024-10-03T07:51:39.825Z"
   },
   {
    "duration": 1041,
    "start_time": "2024-10-03T07:56:04.018Z"
   },
   {
    "duration": 1029,
    "start_time": "2024-10-03T07:56:46.818Z"
   },
   {
    "duration": 1059,
    "start_time": "2024-10-03T07:57:19.537Z"
   },
   {
    "duration": 104,
    "start_time": "2024-10-03T07:57:34.746Z"
   },
   {
    "duration": 1044,
    "start_time": "2024-10-03T07:57:41.968Z"
   },
   {
    "duration": 10983,
    "start_time": "2024-10-03T07:57:45.804Z"
   },
   {
    "duration": 4,
    "start_time": "2024-10-03T07:59:42.346Z"
   },
   {
    "duration": 16,
    "start_time": "2024-10-03T07:59:50.586Z"
   },
   {
    "duration": 98,
    "start_time": "2024-10-03T08:00:00.898Z"
   },
   {
    "duration": 4,
    "start_time": "2024-10-03T08:00:08.740Z"
   },
   {
    "duration": 12,
    "start_time": "2024-10-03T08:00:18.185Z"
   },
   {
    "duration": 9,
    "start_time": "2024-10-03T08:00:51.773Z"
   },
   {
    "duration": 5,
    "start_time": "2024-10-03T08:00:57.154Z"
   },
   {
    "duration": 5,
    "start_time": "2024-10-03T08:01:39.755Z"
   },
   {
    "duration": 12,
    "start_time": "2024-10-03T08:02:00.089Z"
   },
   {
    "duration": 917,
    "start_time": "2024-10-03T08:02:06.089Z"
   },
   {
    "duration": 6,
    "start_time": "2024-10-03T08:02:12.425Z"
   },
   {
    "duration": 6,
    "start_time": "2024-10-03T08:02:30.124Z"
   },
   {
    "duration": 5,
    "start_time": "2024-10-03T08:02:43.145Z"
   },
   {
    "duration": 1579,
    "start_time": "2024-10-03T08:03:04.573Z"
   },
   {
    "duration": 86,
    "start_time": "2024-10-03T08:04:00.472Z"
   },
   {
    "duration": 1424,
    "start_time": "2024-10-03T08:04:03.396Z"
   },
   {
    "duration": 1588,
    "start_time": "2024-10-03T08:04:09.556Z"
   },
   {
    "duration": 1686,
    "start_time": "2024-10-03T08:04:43.659Z"
   },
   {
    "duration": 1642,
    "start_time": "2024-10-03T08:04:48.155Z"
   },
   {
    "duration": 1550,
    "start_time": "2024-10-03T08:05:25.099Z"
   },
   {
    "duration": 65,
    "start_time": "2024-10-03T08:05:54.269Z"
   },
   {
    "duration": 1560,
    "start_time": "2024-10-03T08:19:20.224Z"
   },
   {
    "duration": 1496,
    "start_time": "2024-10-03T08:19:25.432Z"
   },
   {
    "duration": 6,
    "start_time": "2024-10-03T08:19:41.625Z"
   },
   {
    "duration": 6,
    "start_time": "2024-10-03T08:19:50.528Z"
   },
   {
    "duration": 1709,
    "start_time": "2024-10-03T08:20:03.857Z"
   },
   {
    "duration": 1635,
    "start_time": "2024-10-03T08:20:17.681Z"
   },
   {
    "duration": 1662,
    "start_time": "2024-10-03T08:21:36.682Z"
   },
   {
    "duration": 1123,
    "start_time": "2024-10-03T13:18:32.484Z"
   },
   {
    "duration": 70,
    "start_time": "2024-10-03T13:18:33.608Z"
   },
   {
    "duration": 11,
    "start_time": "2024-10-03T13:18:33.680Z"
   },
   {
    "duration": 34,
    "start_time": "2024-10-03T13:18:33.693Z"
   },
   {
    "duration": 67,
    "start_time": "2024-10-03T13:18:33.729Z"
   },
   {
    "duration": 18,
    "start_time": "2024-10-03T13:18:33.797Z"
   },
   {
    "duration": 58,
    "start_time": "2024-10-03T13:18:33.817Z"
   },
   {
    "duration": 30,
    "start_time": "2024-10-03T13:18:33.876Z"
   },
   {
    "duration": 30,
    "start_time": "2024-10-03T13:18:33.908Z"
   },
   {
    "duration": 35,
    "start_time": "2024-10-03T13:18:33.941Z"
   },
   {
    "duration": 22,
    "start_time": "2024-10-03T13:18:33.977Z"
   },
   {
    "duration": 26,
    "start_time": "2024-10-03T13:18:34.001Z"
   },
   {
    "duration": 18,
    "start_time": "2024-10-03T13:18:34.028Z"
   },
   {
    "duration": 20,
    "start_time": "2024-10-03T13:18:34.047Z"
   },
   {
    "duration": 39,
    "start_time": "2024-10-03T13:18:34.068Z"
   },
   {
    "duration": 20,
    "start_time": "2024-10-03T13:18:34.108Z"
   },
   {
    "duration": 34,
    "start_time": "2024-10-03T13:18:34.129Z"
   },
   {
    "duration": 31,
    "start_time": "2024-10-03T13:18:34.165Z"
   },
   {
    "duration": 35,
    "start_time": "2024-10-03T13:18:34.197Z"
   },
   {
    "duration": 22,
    "start_time": "2024-10-03T13:18:34.234Z"
   },
   {
    "duration": 34,
    "start_time": "2024-10-03T13:18:34.257Z"
   },
   {
    "duration": 21,
    "start_time": "2024-10-03T13:18:34.293Z"
   },
   {
    "duration": 186,
    "start_time": "2024-10-03T13:18:34.316Z"
   },
   {
    "duration": 6,
    "start_time": "2024-10-03T13:18:34.503Z"
   },
   {
    "duration": 109,
    "start_time": "2024-10-03T13:18:34.511Z"
   },
   {
    "duration": 225,
    "start_time": "2024-10-03T13:18:34.622Z"
   },
   {
    "duration": 21,
    "start_time": "2024-10-03T13:18:34.849Z"
   },
   {
    "duration": 217,
    "start_time": "2024-10-03T13:18:34.874Z"
   },
   {
    "duration": 280,
    "start_time": "2024-10-03T13:18:35.093Z"
   },
   {
    "duration": 15,
    "start_time": "2024-10-03T13:18:35.374Z"
   },
   {
    "duration": 339,
    "start_time": "2024-10-03T13:18:35.390Z"
   },
   {
    "duration": 17,
    "start_time": "2024-10-03T13:18:35.730Z"
   },
   {
    "duration": 23,
    "start_time": "2024-10-03T13:18:35.748Z"
   },
   {
    "duration": 46,
    "start_time": "2024-10-03T13:18:35.772Z"
   },
   {
    "duration": 4,
    "start_time": "2024-10-03T13:18:35.820Z"
   },
   {
    "duration": 14,
    "start_time": "2024-10-03T13:18:35.825Z"
   },
   {
    "duration": 6,
    "start_time": "2024-10-03T13:18:35.841Z"
   },
   {
    "duration": 68,
    "start_time": "2024-10-03T13:18:35.849Z"
   },
   {
    "duration": 64,
    "start_time": "2024-10-03T13:18:35.919Z"
   },
   {
    "duration": 412,
    "start_time": "2024-10-03T13:18:35.985Z"
   },
   {
    "duration": 306,
    "start_time": "2024-10-03T13:18:36.399Z"
   },
   {
    "duration": 1814,
    "start_time": "2024-10-03T13:18:36.706Z"
   },
   {
    "duration": 26,
    "start_time": "2024-10-03T13:18:38.522Z"
   },
   {
    "duration": 5,
    "start_time": "2024-10-03T13:18:38.549Z"
   },
   {
    "duration": 8,
    "start_time": "2024-10-03T13:18:38.555Z"
   },
   {
    "duration": 10,
    "start_time": "2024-10-03T13:18:38.565Z"
   },
   {
    "duration": 1712,
    "start_time": "2024-10-03T13:18:38.576Z"
   },
   {
    "duration": 106,
    "start_time": "2024-10-03T13:20:04.857Z"
   },
   {
    "duration": 6,
    "start_time": "2024-10-03T13:20:10.498Z"
   },
   {
    "duration": 138,
    "start_time": "2024-10-03T13:21:47.935Z"
   },
   {
    "duration": 49,
    "start_time": "2024-10-11T11:38:30.533Z"
   },
   {
    "duration": 1133,
    "start_time": "2024-10-11T11:38:40.991Z"
   },
   {
    "duration": 303,
    "start_time": "2024-10-11T11:38:42.126Z"
   },
   {
    "duration": 13,
    "start_time": "2024-10-11T11:38:42.431Z"
   },
   {
    "duration": 20,
    "start_time": "2024-10-11T11:38:42.445Z"
   },
   {
    "duration": 22,
    "start_time": "2024-10-11T11:38:42.467Z"
   },
   {
    "duration": 19,
    "start_time": "2024-10-11T11:38:42.490Z"
   },
   {
    "duration": 7,
    "start_time": "2024-10-11T11:38:42.510Z"
   },
   {
    "duration": 10,
    "start_time": "2024-10-11T11:38:42.519Z"
   },
   {
    "duration": 14,
    "start_time": "2024-10-11T11:38:42.531Z"
   },
   {
    "duration": 21,
    "start_time": "2024-10-11T11:38:42.549Z"
   },
   {
    "duration": 5,
    "start_time": "2024-10-11T11:38:42.572Z"
   },
   {
    "duration": 20,
    "start_time": "2024-10-11T11:38:42.578Z"
   },
   {
    "duration": 49,
    "start_time": "2024-10-11T11:38:42.600Z"
   },
   {
    "duration": 6,
    "start_time": "2024-10-11T11:38:42.651Z"
   },
   {
    "duration": 30,
    "start_time": "2024-10-11T11:38:42.659Z"
   },
   {
    "duration": 6,
    "start_time": "2024-10-11T11:38:42.691Z"
   },
   {
    "duration": 9,
    "start_time": "2024-10-11T11:38:42.698Z"
   },
   {
    "duration": 11,
    "start_time": "2024-10-11T11:38:42.708Z"
   },
   {
    "duration": 8,
    "start_time": "2024-10-11T11:38:42.721Z"
   },
   {
    "duration": 36,
    "start_time": "2024-10-11T11:38:42.731Z"
   },
   {
    "duration": 32,
    "start_time": "2024-10-11T11:38:42.768Z"
   },
   {
    "duration": 19,
    "start_time": "2024-10-11T11:38:42.802Z"
   },
   {
    "duration": 191,
    "start_time": "2024-10-11T11:38:42.823Z"
   },
   {
    "duration": 6,
    "start_time": "2024-10-11T11:38:43.016Z"
   },
   {
    "duration": 103,
    "start_time": "2024-10-11T11:38:43.023Z"
   },
   {
    "duration": 211,
    "start_time": "2024-10-11T11:38:43.128Z"
   },
   {
    "duration": 34,
    "start_time": "2024-10-11T11:38:43.341Z"
   },
   {
    "duration": 206,
    "start_time": "2024-10-11T11:38:43.379Z"
   },
   {
    "duration": 301,
    "start_time": "2024-10-11T11:38:43.587Z"
   },
   {
    "duration": 15,
    "start_time": "2024-10-11T11:38:43.890Z"
   },
   {
    "duration": 286,
    "start_time": "2024-10-11T11:38:43.907Z"
   },
   {
    "duration": 11,
    "start_time": "2024-10-11T11:38:44.195Z"
   },
   {
    "duration": 9,
    "start_time": "2024-10-11T11:38:44.207Z"
   },
   {
    "duration": 18,
    "start_time": "2024-10-11T11:38:44.218Z"
   },
   {
    "duration": 29,
    "start_time": "2024-10-11T11:38:44.238Z"
   },
   {
    "duration": 11,
    "start_time": "2024-10-11T11:38:44.269Z"
   },
   {
    "duration": 7,
    "start_time": "2024-10-11T11:38:44.281Z"
   },
   {
    "duration": 24,
    "start_time": "2024-10-11T11:38:44.289Z"
   },
   {
    "duration": 20,
    "start_time": "2024-10-11T11:38:44.315Z"
   },
   {
    "duration": 402,
    "start_time": "2024-10-11T11:38:44.336Z"
   },
   {
    "duration": 314,
    "start_time": "2024-10-11T11:38:44.739Z"
   },
   {
    "duration": 1925,
    "start_time": "2024-10-11T11:38:45.054Z"
   },
   {
    "duration": 23,
    "start_time": "2024-10-11T11:38:46.980Z"
   },
   {
    "duration": 6,
    "start_time": "2024-10-11T11:38:47.005Z"
   },
   {
    "duration": 11,
    "start_time": "2024-10-11T11:38:47.012Z"
   },
   {
    "duration": 8,
    "start_time": "2024-10-11T11:38:47.024Z"
   },
   {
    "duration": 1681,
    "start_time": "2024-10-11T11:38:47.033Z"
   },
   {
    "duration": 146,
    "start_time": "2024-10-11T11:38:48.716Z"
   },
   {
    "duration": 27,
    "start_time": "2024-10-11T11:39:04.974Z"
   },
   {
    "duration": 1310,
    "start_time": "2025-02-21T14:00:57.827Z"
   },
   {
    "duration": 61,
    "start_time": "2025-02-21T14:00:59.139Z"
   },
   {
    "duration": 14,
    "start_time": "2025-02-21T14:00:59.202Z"
   },
   {
    "duration": 16,
    "start_time": "2025-02-21T14:00:59.218Z"
   },
   {
    "duration": 15,
    "start_time": "2025-02-21T14:00:59.236Z"
   },
   {
    "duration": 17,
    "start_time": "2025-02-21T14:00:59.253Z"
   },
   {
    "duration": 9,
    "start_time": "2025-02-21T14:00:59.272Z"
   },
   {
    "duration": 13,
    "start_time": "2025-02-21T14:00:59.283Z"
   },
   {
    "duration": 38,
    "start_time": "2025-02-21T14:00:59.298Z"
   },
   {
    "duration": 15,
    "start_time": "2025-02-21T14:00:59.340Z"
   },
   {
    "duration": 6,
    "start_time": "2025-02-21T14:00:59.357Z"
   },
   {
    "duration": 25,
    "start_time": "2025-02-21T14:00:59.365Z"
   },
   {
    "duration": 13,
    "start_time": "2025-02-21T14:00:59.392Z"
   },
   {
    "duration": 6,
    "start_time": "2025-02-21T14:00:59.407Z"
   },
   {
    "duration": 22,
    "start_time": "2025-02-21T14:00:59.415Z"
   },
   {
    "duration": 7,
    "start_time": "2025-02-21T14:00:59.438Z"
   },
   {
    "duration": 7,
    "start_time": "2025-02-21T14:00:59.447Z"
   },
   {
    "duration": 10,
    "start_time": "2025-02-21T14:00:59.456Z"
   },
   {
    "duration": 8,
    "start_time": "2025-02-21T14:00:59.468Z"
   },
   {
    "duration": 17,
    "start_time": "2025-02-21T14:00:59.478Z"
   },
   {
    "duration": 37,
    "start_time": "2025-02-21T14:00:59.497Z"
   },
   {
    "duration": 23,
    "start_time": "2025-02-21T14:00:59.536Z"
   },
   {
    "duration": 219,
    "start_time": "2025-02-21T14:00:59.561Z"
   },
   {
    "duration": 7,
    "start_time": "2025-02-21T14:00:59.782Z"
   },
   {
    "duration": 116,
    "start_time": "2025-02-21T14:00:59.791Z"
   },
   {
    "duration": 230,
    "start_time": "2025-02-21T14:00:59.909Z"
   },
   {
    "duration": 24,
    "start_time": "2025-02-21T14:01:00.141Z"
   },
   {
    "duration": 243,
    "start_time": "2025-02-21T14:01:00.168Z"
   },
   {
    "duration": 314,
    "start_time": "2025-02-21T14:01:00.413Z"
   },
   {
    "duration": 16,
    "start_time": "2025-02-21T14:01:00.734Z"
   },
   {
    "duration": 329,
    "start_time": "2025-02-21T14:01:00.752Z"
   },
   {
    "duration": 10,
    "start_time": "2025-02-21T14:01:01.083Z"
   },
   {
    "duration": 22,
    "start_time": "2025-02-21T14:01:01.094Z"
   },
   {
    "duration": 28,
    "start_time": "2025-02-21T14:01:01.118Z"
   },
   {
    "duration": 20,
    "start_time": "2025-02-21T14:01:01.148Z"
   },
   {
    "duration": 16,
    "start_time": "2025-02-21T14:01:01.170Z"
   },
   {
    "duration": 6,
    "start_time": "2025-02-21T14:01:01.187Z"
   },
   {
    "duration": 36,
    "start_time": "2025-02-21T14:01:01.194Z"
   },
   {
    "duration": 24,
    "start_time": "2025-02-21T14:01:01.232Z"
   },
   {
    "duration": 430,
    "start_time": "2025-02-21T14:01:01.258Z"
   },
   {
    "duration": 341,
    "start_time": "2025-02-21T14:01:01.690Z"
   },
   {
    "duration": 2023,
    "start_time": "2025-02-21T14:01:02.033Z"
   },
   {
    "duration": 22,
    "start_time": "2025-02-21T14:01:04.058Z"
   },
   {
    "duration": 38,
    "start_time": "2025-02-21T14:01:04.082Z"
   },
   {
    "duration": 14,
    "start_time": "2025-02-21T14:01:04.122Z"
   },
   {
    "duration": 22,
    "start_time": "2025-02-21T14:01:04.138Z"
   },
   {
    "duration": 15,
    "start_time": "2025-02-21T14:01:04.162Z"
   },
   {
    "duration": 2390,
    "start_time": "2025-02-21T14:01:04.179Z"
   },
   {
    "duration": 374,
    "start_time": "2025-02-21T14:01:06.571Z"
   },
   {
    "duration": 1140,
    "start_time": "2025-03-14T16:31:02.345Z"
   },
   {
    "duration": 57,
    "start_time": "2025-03-14T16:31:03.487Z"
   },
   {
    "duration": 13,
    "start_time": "2025-03-14T16:31:03.545Z"
   },
   {
    "duration": 14,
    "start_time": "2025-03-14T16:31:03.559Z"
   },
   {
    "duration": 25,
    "start_time": "2025-03-14T16:31:03.576Z"
   },
   {
    "duration": 12,
    "start_time": "2025-03-14T16:31:03.603Z"
   },
   {
    "duration": 7,
    "start_time": "2025-03-14T16:31:03.617Z"
   },
   {
    "duration": 13,
    "start_time": "2025-03-14T16:31:03.625Z"
   },
   {
    "duration": 7,
    "start_time": "2025-03-14T16:31:03.639Z"
   },
   {
    "duration": 10,
    "start_time": "2025-03-14T16:31:03.649Z"
   },
   {
    "duration": 5,
    "start_time": "2025-03-14T16:31:03.660Z"
   },
   {
    "duration": 15,
    "start_time": "2025-03-14T16:31:03.666Z"
   },
   {
    "duration": 9,
    "start_time": "2025-03-14T16:31:03.682Z"
   },
   {
    "duration": 19,
    "start_time": "2025-03-14T16:31:03.692Z"
   },
   {
    "duration": 22,
    "start_time": "2025-03-14T16:31:03.712Z"
   },
   {
    "duration": 5,
    "start_time": "2025-03-14T16:31:03.736Z"
   },
   {
    "duration": 6,
    "start_time": "2025-03-14T16:31:03.742Z"
   },
   {
    "duration": 4,
    "start_time": "2025-03-14T16:31:03.750Z"
   },
   {
    "duration": 12,
    "start_time": "2025-03-14T16:31:03.756Z"
   },
   {
    "duration": 20,
    "start_time": "2025-03-14T16:31:03.769Z"
   },
   {
    "duration": 14,
    "start_time": "2025-03-14T16:31:03.790Z"
   },
   {
    "duration": 30,
    "start_time": "2025-03-14T16:31:03.805Z"
   },
   {
    "duration": 224,
    "start_time": "2025-03-14T16:31:03.837Z"
   },
   {
    "duration": 5,
    "start_time": "2025-03-14T16:31:04.063Z"
   },
   {
    "duration": 140,
    "start_time": "2025-03-14T16:31:04.069Z"
   },
   {
    "duration": 186,
    "start_time": "2025-03-14T16:31:04.211Z"
   },
   {
    "duration": 33,
    "start_time": "2025-03-14T16:31:04.398Z"
   },
   {
    "duration": 198,
    "start_time": "2025-03-14T16:31:04.434Z"
   },
   {
    "duration": 276,
    "start_time": "2025-03-14T16:31:04.634Z"
   },
   {
    "duration": 19,
    "start_time": "2025-03-14T16:31:04.912Z"
   },
   {
    "duration": 290,
    "start_time": "2025-03-14T16:31:04.933Z"
   },
   {
    "duration": 15,
    "start_time": "2025-03-14T16:31:05.225Z"
   },
   {
    "duration": 10,
    "start_time": "2025-03-14T16:31:05.242Z"
   },
   {
    "duration": 19,
    "start_time": "2025-03-14T16:31:05.253Z"
   },
   {
    "duration": 5,
    "start_time": "2025-03-14T16:31:05.273Z"
   },
   {
    "duration": 21,
    "start_time": "2025-03-14T16:31:05.279Z"
   },
   {
    "duration": 28,
    "start_time": "2025-03-14T16:31:05.302Z"
   },
   {
    "duration": 24,
    "start_time": "2025-03-14T16:31:05.332Z"
   },
   {
    "duration": 20,
    "start_time": "2025-03-14T16:31:05.359Z"
   },
   {
    "duration": 384,
    "start_time": "2025-03-14T16:31:05.381Z"
   },
   {
    "duration": 300,
    "start_time": "2025-03-14T16:31:05.767Z"
   },
   {
    "duration": 1785,
    "start_time": "2025-03-14T16:31:06.069Z"
   },
   {
    "duration": 18,
    "start_time": "2025-03-14T16:31:07.856Z"
   },
   {
    "duration": 27,
    "start_time": "2025-03-14T16:31:07.876Z"
   },
   {
    "duration": 25,
    "start_time": "2025-03-14T16:31:07.905Z"
   },
   {
    "duration": 6,
    "start_time": "2025-03-14T16:31:07.932Z"
   },
   {
    "duration": 9,
    "start_time": "2025-03-14T16:31:07.940Z"
   },
   {
    "duration": 1580,
    "start_time": "2025-03-14T16:31:07.950Z"
   },
   {
    "duration": 130,
    "start_time": "2025-03-14T16:31:09.531Z"
   },
   {
    "duration": 1133,
    "start_time": "2025-03-14T16:39:00.379Z"
   },
   {
    "duration": 60,
    "start_time": "2025-03-14T16:39:01.514Z"
   },
   {
    "duration": 12,
    "start_time": "2025-03-14T16:39:01.575Z"
   },
   {
    "duration": 13,
    "start_time": "2025-03-14T16:39:01.589Z"
   },
   {
    "duration": 8,
    "start_time": "2025-03-14T16:39:01.604Z"
   },
   {
    "duration": 19,
    "start_time": "2025-03-14T16:39:01.614Z"
   },
   {
    "duration": 7,
    "start_time": "2025-03-14T16:39:01.635Z"
   },
   {
    "duration": 18,
    "start_time": "2025-03-14T16:39:01.643Z"
   },
   {
    "duration": 11,
    "start_time": "2025-03-14T16:39:01.663Z"
   },
   {
    "duration": 14,
    "start_time": "2025-03-14T16:39:01.676Z"
   },
   {
    "duration": 16,
    "start_time": "2025-03-14T16:39:01.691Z"
   },
   {
    "duration": 10,
    "start_time": "2025-03-14T16:39:01.708Z"
   },
   {
    "duration": 15,
    "start_time": "2025-03-14T16:39:01.720Z"
   },
   {
    "duration": 14,
    "start_time": "2025-03-14T16:39:01.737Z"
   },
   {
    "duration": 41,
    "start_time": "2025-03-14T16:39:01.753Z"
   },
   {
    "duration": 43,
    "start_time": "2025-03-14T16:39:01.796Z"
   },
   {
    "duration": 34,
    "start_time": "2025-03-14T16:39:01.841Z"
   },
   {
    "duration": 13,
    "start_time": "2025-03-14T16:39:01.877Z"
   },
   {
    "duration": 11,
    "start_time": "2025-03-14T16:39:01.892Z"
   },
   {
    "duration": 32,
    "start_time": "2025-03-14T16:39:01.905Z"
   },
   {
    "duration": 15,
    "start_time": "2025-03-14T16:39:01.939Z"
   },
   {
    "duration": 23,
    "start_time": "2025-03-14T16:39:01.956Z"
   },
   {
    "duration": 204,
    "start_time": "2025-03-14T16:39:01.982Z"
   },
   {
    "duration": 7,
    "start_time": "2025-03-14T16:39:02.188Z"
   },
   {
    "duration": 112,
    "start_time": "2025-03-14T16:39:02.197Z"
   },
   {
    "duration": 194,
    "start_time": "2025-03-14T16:39:02.310Z"
   },
   {
    "duration": 29,
    "start_time": "2025-03-14T16:39:02.505Z"
   },
   {
    "duration": 209,
    "start_time": "2025-03-14T16:39:02.537Z"
   },
   {
    "duration": 276,
    "start_time": "2025-03-14T16:39:02.748Z"
   },
   {
    "duration": 15,
    "start_time": "2025-03-14T16:39:03.029Z"
   },
   {
    "duration": 286,
    "start_time": "2025-03-14T16:39:03.046Z"
   },
   {
    "duration": 9,
    "start_time": "2025-03-14T16:39:03.333Z"
   },
   {
    "duration": 12,
    "start_time": "2025-03-14T16:39:03.344Z"
   },
   {
    "duration": 18,
    "start_time": "2025-03-14T16:39:03.357Z"
   },
   {
    "duration": 15,
    "start_time": "2025-03-14T16:39:03.376Z"
   },
   {
    "duration": 26,
    "start_time": "2025-03-14T16:39:03.393Z"
   },
   {
    "duration": 12,
    "start_time": "2025-03-14T16:39:03.421Z"
   },
   {
    "duration": 29,
    "start_time": "2025-03-14T16:39:03.435Z"
   },
   {
    "duration": 20,
    "start_time": "2025-03-14T16:39:03.466Z"
   },
   {
    "duration": 387,
    "start_time": "2025-03-14T16:39:03.488Z"
   },
   {
    "duration": 327,
    "start_time": "2025-03-14T16:39:03.877Z"
   },
   {
    "duration": 1769,
    "start_time": "2025-03-14T16:39:04.206Z"
   },
   {
    "duration": 18,
    "start_time": "2025-03-14T16:39:05.977Z"
   },
   {
    "duration": 44,
    "start_time": "2025-03-14T16:39:05.997Z"
   },
   {
    "duration": 5,
    "start_time": "2025-03-14T16:39:06.043Z"
   },
   {
    "duration": 97,
    "start_time": "2025-03-14T16:39:06.049Z"
   },
   {
    "duration": 16,
    "start_time": "2025-03-14T16:39:06.148Z"
   },
   {
    "duration": 1531,
    "start_time": "2025-03-14T16:39:06.166Z"
   },
   {
    "duration": 132,
    "start_time": "2025-03-14T16:39:07.698Z"
   },
   {
    "duration": 46,
    "start_time": "2025-03-20T02:24:34.167Z"
   },
   {
    "duration": 1291,
    "start_time": "2025-03-20T02:24:38.878Z"
   },
   {
    "duration": 71,
    "start_time": "2025-03-20T02:24:40.171Z"
   },
   {
    "duration": 12,
    "start_time": "2025-03-20T02:24:40.243Z"
   },
   {
    "duration": 24,
    "start_time": "2025-03-20T02:24:40.257Z"
   },
   {
    "duration": 15,
    "start_time": "2025-03-20T02:24:40.283Z"
   },
   {
    "duration": 16,
    "start_time": "2025-03-20T02:24:40.299Z"
   },
   {
    "duration": 6,
    "start_time": "2025-03-20T02:24:40.318Z"
   },
   {
    "duration": 10,
    "start_time": "2025-03-20T02:24:40.325Z"
   },
   {
    "duration": 11,
    "start_time": "2025-03-20T02:24:40.337Z"
   },
   {
    "duration": 27,
    "start_time": "2025-03-20T02:24:40.350Z"
   },
   {
    "duration": 5,
    "start_time": "2025-03-20T02:24:40.378Z"
   },
   {
    "duration": 6,
    "start_time": "2025-03-20T02:24:40.384Z"
   },
   {
    "duration": 5,
    "start_time": "2025-03-20T02:24:40.391Z"
   },
   {
    "duration": 7,
    "start_time": "2025-03-20T02:24:40.397Z"
   },
   {
    "duration": 6,
    "start_time": "2025-03-20T02:24:40.405Z"
   },
   {
    "duration": 4,
    "start_time": "2025-03-20T02:24:40.412Z"
   },
   {
    "duration": 6,
    "start_time": "2025-03-20T02:24:40.418Z"
   },
   {
    "duration": 5,
    "start_time": "2025-03-20T02:24:40.426Z"
   },
   {
    "duration": 41,
    "start_time": "2025-03-20T02:24:40.433Z"
   },
   {
    "duration": 8,
    "start_time": "2025-03-20T02:24:40.477Z"
   },
   {
    "duration": 15,
    "start_time": "2025-03-20T02:24:40.487Z"
   },
   {
    "duration": 13,
    "start_time": "2025-03-20T02:24:40.504Z"
   },
   {
    "duration": 201,
    "start_time": "2025-03-20T02:24:40.518Z"
   },
   {
    "duration": 5,
    "start_time": "2025-03-20T02:24:40.721Z"
   },
   {
    "duration": 88,
    "start_time": "2025-03-20T02:24:40.727Z"
   },
   {
    "duration": 202,
    "start_time": "2025-03-20T02:24:40.817Z"
   },
   {
    "duration": 21,
    "start_time": "2025-03-20T02:24:41.021Z"
   },
   {
    "duration": 217,
    "start_time": "2025-03-20T02:24:41.045Z"
   },
   {
    "duration": 285,
    "start_time": "2025-03-20T02:24:41.263Z"
   },
   {
    "duration": 24,
    "start_time": "2025-03-20T02:24:41.550Z"
   },
   {
    "duration": 297,
    "start_time": "2025-03-20T02:24:41.576Z"
   },
   {
    "duration": 8,
    "start_time": "2025-03-20T02:24:41.875Z"
   },
   {
    "duration": 16,
    "start_time": "2025-03-20T02:24:41.885Z"
   },
   {
    "duration": 29,
    "start_time": "2025-03-20T02:24:41.903Z"
   },
   {
    "duration": 3,
    "start_time": "2025-03-20T02:24:41.933Z"
   },
   {
    "duration": 15,
    "start_time": "2025-03-20T02:24:41.937Z"
   },
   {
    "duration": 18,
    "start_time": "2025-03-20T02:24:41.953Z"
   },
   {
    "duration": 29,
    "start_time": "2025-03-20T02:24:41.972Z"
   },
   {
    "duration": 20,
    "start_time": "2025-03-20T02:24:42.002Z"
   },
   {
    "duration": 371,
    "start_time": "2025-03-20T02:24:42.024Z"
   },
   {
    "duration": 306,
    "start_time": "2025-03-20T02:24:42.397Z"
   },
   {
    "duration": 1825,
    "start_time": "2025-03-20T02:24:42.705Z"
   },
   {
    "duration": 17,
    "start_time": "2025-03-20T02:24:44.531Z"
   },
   {
    "duration": 36,
    "start_time": "2025-03-20T02:24:44.549Z"
   },
   {
    "duration": 5,
    "start_time": "2025-03-20T02:24:44.586Z"
   },
   {
    "duration": 5,
    "start_time": "2025-03-20T02:24:44.593Z"
   },
   {
    "duration": 7,
    "start_time": "2025-03-20T02:24:44.600Z"
   },
   {
    "duration": 1604,
    "start_time": "2025-03-20T02:24:44.608Z"
   },
   {
    "duration": 135,
    "start_time": "2025-03-20T02:24:46.214Z"
   },
   {
    "duration": 160,
    "start_time": "2025-03-20T02:24:58.827Z"
   },
   {
    "duration": 1322,
    "start_time": "2025-03-26T02:14:23.834Z"
   },
   {
    "duration": 77,
    "start_time": "2025-03-26T02:14:25.158Z"
   },
   {
    "duration": 12,
    "start_time": "2025-03-26T02:14:25.238Z"
   },
   {
    "duration": 13,
    "start_time": "2025-03-26T02:14:25.251Z"
   },
   {
    "duration": 8,
    "start_time": "2025-03-26T02:14:25.266Z"
   },
   {
    "duration": 15,
    "start_time": "2025-03-26T02:14:25.275Z"
   },
   {
    "duration": 5,
    "start_time": "2025-03-26T02:14:25.292Z"
   },
   {
    "duration": 9,
    "start_time": "2025-03-26T02:14:25.298Z"
   },
   {
    "duration": 6,
    "start_time": "2025-03-26T02:14:25.309Z"
   },
   {
    "duration": 8,
    "start_time": "2025-03-26T02:14:25.317Z"
   },
   {
    "duration": 4,
    "start_time": "2025-03-26T02:14:25.326Z"
   },
   {
    "duration": 5,
    "start_time": "2025-03-26T02:14:25.332Z"
   },
   {
    "duration": 4,
    "start_time": "2025-03-26T02:14:25.367Z"
   },
   {
    "duration": 5,
    "start_time": "2025-03-26T02:14:25.372Z"
   },
   {
    "duration": 6,
    "start_time": "2025-03-26T02:14:25.378Z"
   },
   {
    "duration": 5,
    "start_time": "2025-03-26T02:14:25.385Z"
   },
   {
    "duration": 5,
    "start_time": "2025-03-26T02:14:25.391Z"
   },
   {
    "duration": 5,
    "start_time": "2025-03-26T02:14:25.398Z"
   },
   {
    "duration": 5,
    "start_time": "2025-03-26T02:14:25.405Z"
   },
   {
    "duration": 9,
    "start_time": "2025-03-26T02:14:25.411Z"
   },
   {
    "duration": 53,
    "start_time": "2025-03-26T02:14:25.422Z"
   },
   {
    "duration": 18,
    "start_time": "2025-03-26T02:14:25.477Z"
   },
   {
    "duration": 183,
    "start_time": "2025-03-26T02:14:25.497Z"
   },
   {
    "duration": 6,
    "start_time": "2025-03-26T02:14:25.682Z"
   },
   {
    "duration": 91,
    "start_time": "2025-03-26T02:14:25.690Z"
   },
   {
    "duration": 184,
    "start_time": "2025-03-26T02:14:25.783Z"
   },
   {
    "duration": 20,
    "start_time": "2025-03-26T02:14:25.972Z"
   },
   {
    "duration": 198,
    "start_time": "2025-03-26T02:14:25.994Z"
   },
   {
    "duration": 265,
    "start_time": "2025-03-26T02:14:26.194Z"
   },
   {
    "duration": 17,
    "start_time": "2025-03-26T02:14:26.461Z"
   },
   {
    "duration": 292,
    "start_time": "2025-03-26T02:14:26.480Z"
   },
   {
    "duration": 9,
    "start_time": "2025-03-26T02:14:26.774Z"
   },
   {
    "duration": 8,
    "start_time": "2025-03-26T02:14:26.785Z"
   },
   {
    "duration": 19,
    "start_time": "2025-03-26T02:14:26.794Z"
   },
   {
    "duration": 2,
    "start_time": "2025-03-26T02:14:26.815Z"
   },
   {
    "duration": 9,
    "start_time": "2025-03-26T02:14:26.819Z"
   },
   {
    "duration": 37,
    "start_time": "2025-03-26T02:14:26.830Z"
   },
   {
    "duration": 24,
    "start_time": "2025-03-26T02:14:26.869Z"
   },
   {
    "duration": 20,
    "start_time": "2025-03-26T02:14:26.895Z"
   },
   {
    "duration": 378,
    "start_time": "2025-03-26T02:14:26.917Z"
   },
   {
    "duration": 295,
    "start_time": "2025-03-26T02:14:27.297Z"
   },
   {
    "duration": 1719,
    "start_time": "2025-03-26T02:14:27.593Z"
   },
   {
    "duration": 17,
    "start_time": "2025-03-26T02:14:29.314Z"
   },
   {
    "duration": 35,
    "start_time": "2025-03-26T02:14:29.333Z"
   },
   {
    "duration": 5,
    "start_time": "2025-03-26T02:14:29.370Z"
   },
   {
    "duration": 6,
    "start_time": "2025-03-26T02:14:29.376Z"
   },
   {
    "duration": 7,
    "start_time": "2025-03-26T02:14:29.384Z"
   },
   {
    "duration": 1505,
    "start_time": "2025-03-26T02:14:29.393Z"
   },
   {
    "duration": 132,
    "start_time": "2025-03-26T02:14:30.899Z"
   },
   {
    "duration": 1090,
    "start_time": "2025-03-26T02:44:44.898Z"
   },
   {
    "duration": 64,
    "start_time": "2025-03-26T02:44:45.990Z"
   },
   {
    "duration": 11,
    "start_time": "2025-03-26T02:44:46.056Z"
   },
   {
    "duration": 10,
    "start_time": "2025-03-26T02:44:46.069Z"
   },
   {
    "duration": 8,
    "start_time": "2025-03-26T02:44:46.080Z"
   },
   {
    "duration": 11,
    "start_time": "2025-03-26T02:44:46.089Z"
   },
   {
    "duration": 6,
    "start_time": "2025-03-26T02:44:46.101Z"
   },
   {
    "duration": 9,
    "start_time": "2025-03-26T02:44:46.108Z"
   },
   {
    "duration": 6,
    "start_time": "2025-03-26T02:44:46.119Z"
   },
   {
    "duration": 41,
    "start_time": "2025-03-26T02:44:46.128Z"
   },
   {
    "duration": 4,
    "start_time": "2025-03-26T02:44:46.170Z"
   },
   {
    "duration": 4,
    "start_time": "2025-03-26T02:44:46.176Z"
   },
   {
    "duration": 4,
    "start_time": "2025-03-26T02:44:46.181Z"
   },
   {
    "duration": 5,
    "start_time": "2025-03-26T02:44:46.187Z"
   },
   {
    "duration": 7,
    "start_time": "2025-03-26T02:44:46.193Z"
   },
   {
    "duration": 4,
    "start_time": "2025-03-26T02:44:46.202Z"
   },
   {
    "duration": 3,
    "start_time": "2025-03-26T02:44:46.208Z"
   },
   {
    "duration": 4,
    "start_time": "2025-03-26T02:44:46.212Z"
   },
   {
    "duration": 8,
    "start_time": "2025-03-26T02:44:46.217Z"
   },
   {
    "duration": 5,
    "start_time": "2025-03-26T02:44:46.267Z"
   },
   {
    "duration": 17,
    "start_time": "2025-03-26T02:44:46.273Z"
   },
   {
    "duration": 12,
    "start_time": "2025-03-26T02:44:46.292Z"
   },
   {
    "duration": 185,
    "start_time": "2025-03-26T02:44:46.306Z"
   },
   {
    "duration": 6,
    "start_time": "2025-03-26T02:44:46.492Z"
   },
   {
    "duration": 91,
    "start_time": "2025-03-26T02:44:46.499Z"
   },
   {
    "duration": 202,
    "start_time": "2025-03-26T02:44:46.592Z"
   },
   {
    "duration": 24,
    "start_time": "2025-03-26T02:44:46.796Z"
   },
   {
    "duration": 215,
    "start_time": "2025-03-26T02:44:46.824Z"
   },
   {
    "duration": 279,
    "start_time": "2025-03-26T02:44:47.040Z"
   },
   {
    "duration": 15,
    "start_time": "2025-03-26T02:44:47.321Z"
   },
   {
    "duration": 282,
    "start_time": "2025-03-26T02:44:47.338Z"
   },
   {
    "duration": 12,
    "start_time": "2025-03-26T02:44:47.622Z"
   },
   {
    "duration": 14,
    "start_time": "2025-03-26T02:44:47.635Z"
   },
   {
    "duration": 34,
    "start_time": "2025-03-26T02:44:47.650Z"
   },
   {
    "duration": 4,
    "start_time": "2025-03-26T02:44:47.685Z"
   },
   {
    "duration": 10,
    "start_time": "2025-03-26T02:44:47.691Z"
   },
   {
    "duration": 28,
    "start_time": "2025-03-26T02:44:47.703Z"
   },
   {
    "duration": 60,
    "start_time": "2025-03-26T02:44:47.732Z"
   },
   {
    "duration": 20,
    "start_time": "2025-03-26T02:44:47.794Z"
   },
   {
    "duration": 362,
    "start_time": "2025-03-26T02:44:47.816Z"
   },
   {
    "duration": 294,
    "start_time": "2025-03-26T02:44:48.180Z"
   },
   {
    "duration": 1821,
    "start_time": "2025-03-26T02:44:48.476Z"
   },
   {
    "duration": 17,
    "start_time": "2025-03-26T02:44:50.298Z"
   },
   {
    "duration": 23,
    "start_time": "2025-03-26T02:44:50.317Z"
   },
   {
    "duration": 26,
    "start_time": "2025-03-26T02:44:50.341Z"
   },
   {
    "duration": 5,
    "start_time": "2025-03-26T02:44:50.369Z"
   },
   {
    "duration": 8,
    "start_time": "2025-03-26T02:44:50.375Z"
   },
   {
    "duration": 1517,
    "start_time": "2025-03-26T02:44:50.384Z"
   },
   {
    "duration": 142,
    "start_time": "2025-03-26T02:44:51.903Z"
   },
   {
    "duration": 1082,
    "start_time": "2025-03-26T02:45:14.309Z"
   },
   {
    "duration": 54,
    "start_time": "2025-03-26T02:45:15.393Z"
   },
   {
    "duration": 11,
    "start_time": "2025-03-26T02:45:15.448Z"
   },
   {
    "duration": 20,
    "start_time": "2025-03-26T02:45:15.461Z"
   },
   {
    "duration": 9,
    "start_time": "2025-03-26T02:45:15.483Z"
   },
   {
    "duration": 11,
    "start_time": "2025-03-26T02:45:15.493Z"
   },
   {
    "duration": 6,
    "start_time": "2025-03-26T02:45:15.506Z"
   },
   {
    "duration": 10,
    "start_time": "2025-03-26T02:45:15.514Z"
   },
   {
    "duration": 7,
    "start_time": "2025-03-26T02:45:15.526Z"
   },
   {
    "duration": 39,
    "start_time": "2025-03-26T02:45:15.536Z"
   },
   {
    "duration": 5,
    "start_time": "2025-03-26T02:45:15.576Z"
   },
   {
    "duration": 4,
    "start_time": "2025-03-26T02:45:15.582Z"
   },
   {
    "duration": 4,
    "start_time": "2025-03-26T02:45:15.587Z"
   },
   {
    "duration": 6,
    "start_time": "2025-03-26T02:45:15.592Z"
   },
   {
    "duration": 5,
    "start_time": "2025-03-26T02:45:15.599Z"
   },
   {
    "duration": 4,
    "start_time": "2025-03-26T02:45:15.606Z"
   },
   {
    "duration": 8,
    "start_time": "2025-03-26T02:45:15.612Z"
   },
   {
    "duration": 9,
    "start_time": "2025-03-26T02:45:15.622Z"
   },
   {
    "duration": 38,
    "start_time": "2025-03-26T02:45:15.633Z"
   },
   {
    "duration": 9,
    "start_time": "2025-03-26T02:45:15.672Z"
   },
   {
    "duration": 12,
    "start_time": "2025-03-26T02:45:15.683Z"
   },
   {
    "duration": 13,
    "start_time": "2025-03-26T02:45:15.697Z"
   },
   {
    "duration": 195,
    "start_time": "2025-03-26T02:45:15.712Z"
   },
   {
    "duration": 6,
    "start_time": "2025-03-26T02:45:15.909Z"
   },
   {
    "duration": 122,
    "start_time": "2025-03-26T02:45:15.917Z"
   },
   {
    "duration": 185,
    "start_time": "2025-03-26T02:45:16.041Z"
   },
   {
    "duration": 41,
    "start_time": "2025-03-26T02:45:16.228Z"
   },
   {
    "duration": 202,
    "start_time": "2025-03-26T02:45:16.273Z"
   },
   {
    "duration": 280,
    "start_time": "2025-03-26T02:45:16.477Z"
   },
   {
    "duration": 21,
    "start_time": "2025-03-26T02:45:16.758Z"
   },
   {
    "duration": 265,
    "start_time": "2025-03-26T02:45:16.781Z"
   },
   {
    "duration": 19,
    "start_time": "2025-03-26T02:45:17.048Z"
   },
   {
    "duration": 8,
    "start_time": "2025-03-26T02:45:17.069Z"
   },
   {
    "duration": 23,
    "start_time": "2025-03-26T02:45:17.078Z"
   },
   {
    "duration": 3,
    "start_time": "2025-03-26T02:45:17.102Z"
   },
   {
    "duration": 10,
    "start_time": "2025-03-26T02:45:17.106Z"
   },
   {
    "duration": 8,
    "start_time": "2025-03-26T02:45:17.117Z"
   },
   {
    "duration": 44,
    "start_time": "2025-03-26T02:45:17.126Z"
   },
   {
    "duration": 19,
    "start_time": "2025-03-26T02:45:17.171Z"
   },
   {
    "duration": 349,
    "start_time": "2025-03-26T02:45:17.191Z"
   },
   {
    "duration": 282,
    "start_time": "2025-03-26T02:45:17.542Z"
   },
   {
    "duration": 1717,
    "start_time": "2025-03-26T02:45:17.826Z"
   },
   {
    "duration": 27,
    "start_time": "2025-03-26T02:45:19.545Z"
   },
   {
    "duration": 21,
    "start_time": "2025-03-26T02:45:19.574Z"
   },
   {
    "duration": 4,
    "start_time": "2025-03-26T02:45:19.597Z"
   },
   {
    "duration": 12,
    "start_time": "2025-03-26T02:45:19.603Z"
   },
   {
    "duration": 7,
    "start_time": "2025-03-26T02:45:19.617Z"
   },
   {
    "duration": 1462,
    "start_time": "2025-03-26T02:45:19.626Z"
   },
   {
    "duration": 124,
    "start_time": "2025-03-26T02:45:21.090Z"
   },
   {
    "duration": 1076,
    "start_time": "2025-03-26T03:03:23.012Z"
   },
   {
    "duration": 54,
    "start_time": "2025-03-26T03:03:24.090Z"
   },
   {
    "duration": 13,
    "start_time": "2025-03-26T03:03:24.145Z"
   },
   {
    "duration": 10,
    "start_time": "2025-03-26T03:03:24.159Z"
   },
   {
    "duration": 9,
    "start_time": "2025-03-26T03:03:24.171Z"
   },
   {
    "duration": 13,
    "start_time": "2025-03-26T03:03:24.182Z"
   },
   {
    "duration": 7,
    "start_time": "2025-03-26T03:03:24.196Z"
   },
   {
    "duration": 9,
    "start_time": "2025-03-26T03:03:24.205Z"
   },
   {
    "duration": 6,
    "start_time": "2025-03-26T03:03:24.215Z"
   },
   {
    "duration": 8,
    "start_time": "2025-03-26T03:03:24.224Z"
   },
   {
    "duration": 4,
    "start_time": "2025-03-26T03:03:24.233Z"
   },
   {
    "duration": 29,
    "start_time": "2025-03-26T03:03:24.239Z"
   },
   {
    "duration": 15,
    "start_time": "2025-03-26T03:03:24.269Z"
   },
   {
    "duration": 6,
    "start_time": "2025-03-26T03:03:24.285Z"
   },
   {
    "duration": 15,
    "start_time": "2025-03-26T03:03:24.292Z"
   },
   {
    "duration": 6,
    "start_time": "2025-03-26T03:03:24.308Z"
   },
   {
    "duration": 13,
    "start_time": "2025-03-26T03:03:24.315Z"
   },
   {
    "duration": 17,
    "start_time": "2025-03-26T03:03:24.329Z"
   },
   {
    "duration": 15,
    "start_time": "2025-03-26T03:03:24.348Z"
   },
   {
    "duration": 12,
    "start_time": "2025-03-26T03:03:24.364Z"
   },
   {
    "duration": 14,
    "start_time": "2025-03-26T03:03:24.377Z"
   },
   {
    "duration": 13,
    "start_time": "2025-03-26T03:03:24.392Z"
   },
   {
    "duration": 170,
    "start_time": "2025-03-26T03:03:24.406Z"
   },
   {
    "duration": 5,
    "start_time": "2025-03-26T03:03:24.578Z"
   },
   {
    "duration": 70,
    "start_time": "2025-03-26T03:03:24.584Z"
   },
   {
    "duration": 183,
    "start_time": "2025-03-26T03:03:24.666Z"
   },
   {
    "duration": 25,
    "start_time": "2025-03-26T03:03:24.850Z"
   },
   {
    "duration": 199,
    "start_time": "2025-03-26T03:03:24.878Z"
   },
   {
    "duration": 261,
    "start_time": "2025-03-26T03:03:25.079Z"
   },
   {
    "duration": 13,
    "start_time": "2025-03-26T03:03:25.342Z"
   },
   {
    "duration": 260,
    "start_time": "2025-03-26T03:03:25.367Z"
   },
   {
    "duration": 10,
    "start_time": "2025-03-26T03:03:25.628Z"
   },
   {
    "duration": 8,
    "start_time": "2025-03-26T03:03:25.639Z"
   },
   {
    "duration": 31,
    "start_time": "2025-03-26T03:03:25.649Z"
   },
   {
    "duration": 3,
    "start_time": "2025-03-26T03:03:25.682Z"
   },
   {
    "duration": 23,
    "start_time": "2025-03-26T03:03:25.686Z"
   },
   {
    "duration": 3,
    "start_time": "2025-03-26T03:03:25.711Z"
   },
   {
    "duration": 24,
    "start_time": "2025-03-26T03:03:25.715Z"
   },
   {
    "duration": 31,
    "start_time": "2025-03-26T03:03:25.741Z"
   },
   {
    "duration": 340,
    "start_time": "2025-03-26T03:03:25.774Z"
   },
   {
    "duration": 272,
    "start_time": "2025-03-26T03:03:26.115Z"
   },
   {
    "duration": 1681,
    "start_time": "2025-03-26T03:03:26.389Z"
   },
   {
    "duration": 16,
    "start_time": "2025-03-26T03:03:28.072Z"
   },
   {
    "duration": 20,
    "start_time": "2025-03-26T03:03:28.090Z"
   },
   {
    "duration": 5,
    "start_time": "2025-03-26T03:03:28.111Z"
   },
   {
    "duration": 12,
    "start_time": "2025-03-26T03:03:28.117Z"
   },
   {
    "duration": 9,
    "start_time": "2025-03-26T03:03:28.131Z"
   },
   {
    "duration": 1510,
    "start_time": "2025-03-26T03:03:28.141Z"
   },
   {
    "duration": 131,
    "start_time": "2025-03-26T03:03:29.653Z"
   }
  ],
  "kernelspec": {
   "display_name": "Python 3 (ipykernel)",
   "language": "python",
   "name": "python3"
  },
  "language_info": {
   "codemirror_mode": {
    "name": "ipython",
    "version": 3
   },
   "file_extension": ".py",
   "mimetype": "text/x-python",
   "name": "python",
   "nbconvert_exporter": "python",
   "pygments_lexer": "ipython3",
   "version": "3.9.5"
  },
  "toc": {
   "base_numbering": 1,
   "nav_menu": {},
   "number_sections": true,
   "sideBar": true,
   "skip_h1_title": true,
   "title_cell": "Table of Contents",
   "title_sidebar": "Contents",
   "toc_cell": false,
   "toc_position": {
    "height": "calc(100% - 180px)",
    "left": "10px",
    "top": "150px",
    "width": "713.391px"
   },
   "toc_section_display": true,
   "toc_window_display": true
  }
 },
 "nbformat": 4,
 "nbformat_minor": 5
}
